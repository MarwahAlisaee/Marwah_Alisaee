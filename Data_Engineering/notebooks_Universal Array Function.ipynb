{
  "metadata": {
    "language_info": {
      "codemirror_mode": {
        "name": "python",
        "version": 3
      },
      "file_extension": ".py",
      "mimetype": "text/x-python",
      "name": "python",
      "nbconvert_exporter": "python",
      "pygments_lexer": "ipython3",
      "version": "3.8"
    },
    "kernelspec": {
      "name": "python",
      "display_name": "Python (Pyodide)",
      "language": "python"
    }
  },
  "nbformat_minor": 4,
  "nbformat": 4,
  "cells": [
    {
      "cell_type": "code",
      "source": "# Create two 2D NumPy arrays with shapes (2, 2) and (3, 2). Concatenate the two arrays vertically.\nimport numpy as np\n\narray1 = np.array([[1, 2],\n                   [3, 4]])\n\narray2 = np.array([[5, 6],\n                   [7, 8],\n                   [9, 10]])\nconcatenated_array = np.vstack((array1, array2))\n",
      "metadata": {
        "trusted": true
      },
      "execution_count": 3,
      "outputs": []
    },
    {
      "cell_type": "code",
      "source": "print(concatenated_array)",
      "metadata": {
        "trusted": true
      },
      "execution_count": 5,
      "outputs": [
        {
          "name": "stdout",
          "text": "[[ 1  2]\n [ 3  4]\n [ 5  6]\n [ 7  8]\n [ 9 10]]\n",
          "output_type": "stream"
        }
      ]
    },
    {
      "cell_type": "code",
      "source": "#1.Create a NumPy array with shape (3,3) and fill it with random numbers. Use the np.exp()\n#function to compute the exponential of each element in the array\n\narr= np.random.rand(3,3)\nexp_array = np.exp(arr)\n\nprint(\"Array:\")\nprint(arr)\n\nprint(\"Exponential Array: \")\nprint(exp_array)\n",
      "metadata": {
        "trusted": true
      },
      "execution_count": 20,
      "outputs": [
        {
          "name": "stdout",
          "text": "Array:\n[[0.59076886 0.76639177 0.6082561 ]\n [0.70512866 0.61459591 0.41346588]\n [0.21788146 0.73155045 0.01496554]]\nExponential Array: \n[[1.80537597 2.15198736 1.83722466]\n [2.02410709 1.84890933 1.5120493 ]\n [1.24343966 2.07830041 1.01507808]]\n",
          "output_type": "stream"
        }
      ]
    },
    {
      "cell_type": "code",
      "source": "#2.Create a NumPy array with shape (4,4) and fill it with random numbers. Use the np.sin() function\n#to compute the sine of each element in the array.\n\narr = np.random.rand(4, 4)\nsin_arr = np.sin(arr)\n\nprint(\"Array:\")\nprint(arr)\n\nprint(\"sin array\")\nprint(sin_arr)\n",
      "metadata": {
        "trusted": true
      },
      "execution_count": 21,
      "outputs": [
        {
          "name": "stdout",
          "text": "Random array:\n[[0.68668193 0.96807708 0.31805179 0.29662496]\n [0.68967514 0.31278884 0.41582309 0.83329971]\n [0.46211795 0.62711072 0.89853671 0.41371128]\n [0.91762807 0.06196786 0.88080317 0.64056004]]\nsin array\n[[0.63397464 0.82379716 0.31271665 0.29229424]\n [0.6362866  0.30771335 0.40394302 0.74015425]\n [0.4458449  0.58680769 0.78241648 0.40201027]\n [0.79416242 0.06192821 0.77125037 0.59764455]]\n",
          "output_type": "stream"
        }
      ]
    },
    {
      "cell_type": "code",
      "source": "#3.Create a NumPy array with shape (5,5) and fill it with random numbers. Use the np.log()\n#function to compute the natural logarithm of each element in the array.\n\narr = np.random.rand(5, 5)\nlog_arr = np.log(arr)\n\nprint(\"Array:\")\nprint(random_array)\n\nprint(\"natural logarithm:\")\nprint(log_arr)\n",
      "metadata": {
        "trusted": true
      },
      "execution_count": 22,
      "outputs": [
        {
          "name": "stdout",
          "text": "Random array:\n[[0.14643449 0.82664972 0.80750378 0.42808248]\n [0.18771151 0.70935924 0.32257433 0.61920466]\n [0.89802508 0.21486896 0.25274175 0.38839743]\n [0.08399467 0.50228288 0.74181427 0.00318409]]\nnatural logarithm:\n[[-0.54438738 -0.25006066 -1.48708444 -1.30483487 -1.52997709]\n [-0.20271562 -1.2150461  -2.75262571 -0.35064061 -0.36039683]\n [-0.10920077 -1.75519254 -0.31836675 -0.92158417 -1.51388353]\n [-0.20114787 -0.63883549 -1.03094842 -1.34128416 -0.50962703]\n [-0.75689035 -5.32336902 -0.66015852 -0.10103838 -0.91519324]]\n",
          "output_type": "stream"
        }
      ]
    },
    {
      "cell_type": "code",
      "source": "#4.Create a NumPy array with shape (2,2) and fill it with random numbers. Use the np.sqrt()\n#function to compute the square root of each element in the array.\n\narr = np.random.rand(2, 2)\nsqrt_arr = np.sqrt(arr)\n\nprint(\"Array:\")\nprint(arr)\n\nprint(\"Square Array:\")\nprint(sqrt_arr)\n",
      "metadata": {
        "trusted": true
      },
      "execution_count": 10,
      "outputs": [
        {
          "name": "stdout",
          "text": "Random Array:\n[[0.54256934 0.68182084]\n [0.79138612 0.35387596]]\n\nSquare Root of Random Array:\n[[0.73659306 0.82572443]\n [0.88959886 0.59487475]]\n",
          "output_type": "stream"
        }
      ]
    },
    {
      "cell_type": "code",
      "source": "#5.Create a NumPy array with shape (6,6) and fill it with random numbers. Use the np.floor()\n#function to round down each element in the array to the nearest integer.\n\narr = np.random.rand(6, 6)\nround_arr = np.floor(arr)\n\nprint(round_arr)\n",
      "metadata": {
        "trusted": true
      },
      "execution_count": 23,
      "outputs": [
        {
          "name": "stdout",
          "text": "[[0. 0. 0. 0. 0. 0.]\n [0. 0. 0. 0. 0. 0.]\n [0. 0. 0. 0. 0. 0.]\n [0. 0. 0. 0. 0. 0.]\n [0. 0. 0. 0. 0. 0.]\n [0. 0. 0. 0. 0. 0.]]\n",
          "output_type": "stream"
        }
      ]
    },
    {
      "cell_type": "code",
      "source": "#6.Create a NumPy array with shape (3,3) and fill it with random numbers. Use the np.abs()\n#function to compute the absolute value of each element in the array.\n\narr = np.random.rand(3, 3) * 2 - 1\nabsolute_array = np.abs(arr)\n\nprint(absolute_array)\n",
      "metadata": {
        "trusted": true
      },
      "execution_count": 26,
      "outputs": [
        {
          "name": "stdout",
          "text": "[[0.84290795 0.85077225 0.75779361]\n [0.61766311 0.00288398 0.21949769]\n [0.484541   0.99793091 0.65584536]]\n",
          "output_type": "stream"
        }
      ]
    },
    {
      "cell_type": "code",
      "source": "#7.Create a NumPy array with shape (4,4) and fill it with random numbers. Use the np.power()\n#function to raise each element in the array to the power of 2\n\narr = np.random.rand(4, 4)\nresult_array = np.power(arr, 2)\n\nprint(result_array)\n",
      "metadata": {
        "trusted": true
      },
      "execution_count": 27,
      "outputs": [
        {
          "name": "stdout",
          "text": "[[0.46699918 0.06935133 0.72402182 0.77708575]\n [0.54279609 0.35962776 0.91857271 0.36930716]\n [0.22779966 0.42551198 0.03951862 0.75862104]\n [0.20025554 0.01570522 0.44240568 0.15125133]]\n",
          "output_type": "stream"
        }
      ]
    },
    {
      "cell_type": "code",
      "source": "#8.Create a NumPy array with 5 random integers between 1 and 10. Use the maximum function to\n#find the largest element in the array.\n\narr_int = np.random.randint(1, 11, 5)\nlargest_value = np.max(arr_int)\n\nprint(arr_int)\nprint(\"Largest element:\", largest_value)\n",
      "metadata": {
        "trusted": true
      },
      "execution_count": 28,
      "outputs": [
        {
          "name": "stdout",
          "text": "[ 5  7 10  7  1]\nLargest element: 10\n",
          "output_type": "stream"
        }
      ]
    },
    {
      "cell_type": "code",
      "source": "#9.Create a NumPy array with 10 random floating-point numbers between 0 and 1. Use the round\n#function to round each element to the nearest integer.\n\narr_float = np.random.rand(10)\nround_int = np.round(arr_float)\n\nprint(\"random float array with rade 10: \")\nprint(arr_float)\n\nprint(\"rondom intger array: \")\nprint(round_int)\n",
      "metadata": {
        "trusted": true
      },
      "execution_count": 29,
      "outputs": [
        {
          "name": "stdout",
          "text": "random float array with rade 10\n[0.44372987 0.20571204 0.81030381 0.47039121 0.18052501 0.9223123\n 0.52083779 0.22068217 0.64487293 0.78283648]\nrondom intger array\n[0. 0. 1. 0. 0. 1. 1. 0. 1. 1.]\n",
          "output_type": "stream"
        }
      ]
    },
    {
      "cell_type": "code",
      "source": "#10. Create a NumPy array with 7 random integers between 1 and 100. Use the argmax function to\n#find the index of the largest element in the array.\n\narr_int = np.random.randint(1, 101, size=7)\n\nprint(\"array between 1 and 100: \")\nprint(arr_int)\n\nlargest_index= np.argmax(arr_int)\n\nprint(\"largest elementas index :\")\nprint(largest_index)\nprint(\"Largest element:\", random_integers[index_of_largest])\n",
      "metadata": {
        "trusted": true
      },
      "execution_count": 32,
      "outputs": [
        {
          "name": "stdout",
          "text": "array between 1 and 100: \n[34 44  6 31 54 97 40]\nlargest elementas index :\n5\nLargest element: 94\n",
          "output_type": "stream"
        }
      ]
    },
    {
      "cell_type": "code",
      "source": "#11. Create two NumPy arrays with the same shape, each filled with random integers between 1 and\n#10. Use the add function to add the two arrays together element-wise.\nnp.random.seed(42)\n\narray1 = np.random.randint(1, 11, size=(3, 3))  \narray2 = np.random.randint(1, 11, size=(3, 3))\n\nresult_array = np.add(array1, array2)\n\nprint(\"Array 1:\")\nprint(array1)\n\nprint(\"\\nArray 2:\")\nprint(array2)\n\nprint(\"\\nResult after element-wise addition:\")\nprint(result_array)\n",
      "metadata": {
        "trusted": true
      },
      "execution_count": 34,
      "outputs": [
        {
          "name": "stdout",
          "text": "Array 1:\n[[ 7  4  8]\n [ 5  7 10]\n [ 3  7  8]]\n\nArray 2:\n[[5 4 8]\n [8 3 6]\n [5 2 8]]\n\nResult after element-wise addition:\n[[12  8 16]\n [13 10 16]\n [ 8  9 16]]\n",
          "output_type": "stream"
        }
      ]
    },
    {
      "cell_type": "code",
      "source": "#12.Create a NumPy array with 12 random integers between 0 and 100. Use the clip function to limit\n#the values in the array to a range between 10 and 90.\narr_int= np.random.randint(0,101, size=12)\n\nclipped_arr=np.clip(arr_int, 10, 90)\n\nprint (\" random number intger: \", arr_int)\nprint (\"clipped_array: \", clipped_arr)\n",
      "metadata": {
        "trusted": true
      },
      "execution_count": 33,
      "outputs": [
        {
          "name": "stdout",
          "text": " random number intger:  [15  2 61 92  2 98 70 44 60 82 46 27]\nclipped_array:  [15 10 61 90 10 90 70 44 60 82 46 27]\n",
          "output_type": "stream"
        }
      ]
    },
    {
      "cell_type": "code",
      "source": "",
      "metadata": {},
      "execution_count": null,
      "outputs": []
    }
  ]
}