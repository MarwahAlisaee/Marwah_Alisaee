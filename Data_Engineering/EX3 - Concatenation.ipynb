{
 "cells": [
  {
   "cell_type": "markdown",
   "id": "8c8ab43e",
   "metadata": {},
   "source": [
    "Concatenate two arrays arr1 and arr2 horizontally (side by side) using np.concatenate()."
   ]
  },
  {
   "cell_type": "code",
   "execution_count": 5,
   "id": "30603d74",
   "metadata": {},
   "outputs": [
    {
     "name": "stdout",
     "output_type": "stream",
     "text": [
      "[[ 1  2  3  7  8]\n",
      " [ 4  5  6  9 10]]\n"
     ]
    }
   ],
   "source": [
    "import numpy as np\n",
    "\n",
    "arr1 = np.array([[1, 2, 3],\n",
    "                 [4, 5, 6]])\n",
    "\n",
    "arr2 = np.array([[7, 8],\n",
    "                 [9, 10]])\n",
    "\n",
    "concatenated_arr = np.concatenate((arr1, arr2), axis=1)\n",
    "\n",
    "print(concatenated_arr)"
   ]
  },
  {
   "cell_type": "markdown",
   "id": "b638bc37",
   "metadata": {},
   "source": [
    "Concatenate two arrays arr1 and arr2 vertically (stacked on top of each other) using\n",
    "np.concatenate()."
   ]
  },
  {
   "cell_type": "code",
   "execution_count": 7,
   "id": "d99f53e7",
   "metadata": {},
   "outputs": [
    {
     "name": "stdout",
     "output_type": "stream",
     "text": [
      "[[ 1  2  3]\n",
      " [ 4  5  6]\n",
      " [ 7  8  9]\n",
      " [10 11 12]]\n"
     ]
    }
   ],
   "source": [
    "arr1 = np.array([[1, 2, 3],\n",
    "                 [4, 5, 6]])\n",
    "\n",
    "arr2 = np.array([[7, 8, 9],\n",
    "                 [10, 11, 12]])\n",
    "\n",
    "concatenated_arr = np.concatenate((arr1, arr2), axis=0)\n",
    "\n",
    "print(concatenated_arr)"
   ]
  },
  {
   "cell_type": "markdown",
   "id": "a530c55b",
   "metadata": {},
   "source": [
    "Create to series s1:(1,2,3) s2:(4,5,6) and concatenate them horizontally (side by side) using\n",
    "pd.concat()."
   ]
  },
  {
   "cell_type": "code",
   "execution_count": 9,
   "id": "4e7af802",
   "metadata": {},
   "outputs": [
    {
     "name": "stdout",
     "output_type": "stream",
     "text": [
      "   0  1\n",
      "0  1  4\n",
      "1  2  5\n",
      "2  3  6\n"
     ]
    }
   ],
   "source": [
    "import pandas as pd\n",
    "\n",
    "s1 = pd.Series([1, 2, 3])\n",
    "s2 = pd.Series([4, 5, 6])\n",
    "\n",
    "concatenated_series = pd.concat([s1, s2], axis=1)\n",
    "\n",
    "print(concatenated_series)"
   ]
  },
  {
   "cell_type": "markdown",
   "id": "f5dc0b43",
   "metadata": {},
   "source": [
    "Concatenate two series s1 and s2 vertically (stacked on top of each other) using pd.concat()"
   ]
  },
  {
   "cell_type": "code",
   "execution_count": 10,
   "id": "02551adb",
   "metadata": {},
   "outputs": [
    {
     "name": "stdout",
     "output_type": "stream",
     "text": [
      "0    1\n",
      "1    2\n",
      "2    3\n",
      "0    4\n",
      "1    5\n",
      "2    6\n",
      "dtype: int64\n"
     ]
    }
   ],
   "source": [
    "s1 = pd.Series([1, 2, 3])\n",
    "s2 = pd.Series([4, 5, 6])\n",
    "\n",
    "concatenated_series = pd.concat([s1, s2], axis=0)\n",
    "\n",
    "print(concatenated_series)"
   ]
  },
  {
   "cell_type": "markdown",
   "id": "ac8c7499",
   "metadata": {},
   "source": [
    "Create two data frames df1: {'A': [1, 2, 3], 'B': [4, 5, 6]}, df2: {'C': [7, 8, 9], 'D': [10, 11, 12]} and\n",
    "concatenate them horizontally (side by side) using pd.concat()."
   ]
  },
  {
   "cell_type": "code",
   "execution_count": 11,
   "id": "643c49db",
   "metadata": {},
   "outputs": [
    {
     "name": "stdout",
     "output_type": "stream",
     "text": [
      "   A  B  C   D\n",
      "0  1  4  7  10\n",
      "1  2  5  8  11\n",
      "2  3  6  9  12\n"
     ]
    }
   ],
   "source": [
    "data1 = {'A': [1, 2, 3], 'B': [4, 5, 6]}\n",
    "df1 = pd.DataFrame(data1)\n",
    "\n",
    "data2 = {'C': [7, 8, 9], 'D': [10, 11, 12]}\n",
    "df2 = pd.DataFrame(data2)\n",
    "\n",
    "concatenated_df = pd.concat([df1, df2], axis=1)\n",
    "\n",
    "print(concatenated_df)"
   ]
  },
  {
   "cell_type": "markdown",
   "id": "beee1e9a",
   "metadata": {},
   "source": [
    "Concatenate two data frames df1 and df2 vertically (stacked on top of each other) using\n",
    "pd.concat()"
   ]
  },
  {
   "cell_type": "code",
   "execution_count": 12,
   "id": "cd6c9748",
   "metadata": {},
   "outputs": [
    {
     "name": "stdout",
     "output_type": "stream",
     "text": [
      "     A    B    C     D\n",
      "0  1.0  4.0  NaN   NaN\n",
      "1  2.0  5.0  NaN   NaN\n",
      "2  3.0  6.0  NaN   NaN\n",
      "0  NaN  NaN  7.0  10.0\n",
      "1  NaN  NaN  8.0  11.0\n",
      "2  NaN  NaN  9.0  12.0\n"
     ]
    }
   ],
   "source": [
    "concatenated_df = pd.concat([df1, df2], axis=0)\n",
    "\n",
    "print(concatenated_df)"
   ]
  },
  {
   "cell_type": "markdown",
   "id": "d3d88ea3",
   "metadata": {},
   "source": [
    " Concatenate two data frames df1 and df2 horizontally (side by side) using df1.join(df2)."
   ]
  },
  {
   "cell_type": "code",
   "execution_count": 13,
   "id": "d1112230",
   "metadata": {},
   "outputs": [
    {
     "name": "stdout",
     "output_type": "stream",
     "text": [
      "   A  B  C   D\n",
      "0  1  4  7  10\n",
      "1  2  5  8  11\n",
      "2  3  6  9  12\n"
     ]
    }
   ],
   "source": [
    "concatenated_df = df1.join(df2)\n",
    "\n",
    "print(concatenated_df)"
   ]
  },
  {
   "cell_type": "markdown",
   "id": "f2bc4b20",
   "metadata": {},
   "source": [
    "Concatenate two data frames df1 and df2 vertically (stacked on top of each other) using\n",
    "df1.append(df2)"
   ]
  },
  {
   "cell_type": "code",
   "execution_count": 14,
   "id": "9b52711d",
   "metadata": {},
   "outputs": [
    {
     "name": "stdout",
     "output_type": "stream",
     "text": [
      "     A    B    C     D\n",
      "0  1.0  4.0  NaN   NaN\n",
      "1  2.0  5.0  NaN   NaN\n",
      "2  3.0  6.0  NaN   NaN\n",
      "0  NaN  NaN  7.0  10.0\n",
      "1  NaN  NaN  8.0  11.0\n",
      "2  NaN  NaN  9.0  12.0\n"
     ]
    },
    {
     "name": "stderr",
     "output_type": "stream",
     "text": [
      "C:\\Users\\user\\AppData\\Local\\Temp\\ipykernel_3076\\1674703451.py:1: FutureWarning: The frame.append method is deprecated and will be removed from pandas in a future version. Use pandas.concat instead.\n",
      "  concatenated_df = df1.append(df2)\n"
     ]
    }
   ],
   "source": [
    "concatenated_df = df1.append(df2)\n",
    "\n",
    "print(concatenated_df)"
   ]
  },
  {
   "cell_type": "markdown",
   "id": "78cecd9f",
   "metadata": {},
   "source": [
    "Concatenate two data frames df1 and df2 vertically (stacked on top of each other) and reset the\n",
    "index using pd.concat() and the argument ignore_index=True."
   ]
  },
  {
   "cell_type": "code",
   "execution_count": 15,
   "id": "3321a7f7",
   "metadata": {},
   "outputs": [
    {
     "name": "stdout",
     "output_type": "stream",
     "text": [
      "     A    B    C     D\n",
      "0  1.0  4.0  NaN   NaN\n",
      "1  2.0  5.0  NaN   NaN\n",
      "2  3.0  6.0  NaN   NaN\n",
      "3  NaN  NaN  7.0  10.0\n",
      "4  NaN  NaN  8.0  11.0\n",
      "5  NaN  NaN  9.0  12.0\n"
     ]
    }
   ],
   "source": [
    "concatenated_df = pd.concat([df1, df2], ignore_index=True)\n",
    "\n",
    "print(concatenated_df)"
   ]
  },
  {
   "cell_type": "markdown",
   "id": "0c173048",
   "metadata": {},
   "source": [
    "Concatenate two data frames df1 and df2 vertically (stacked on top of each other) and add a\n",
    "multi-level index using pd.concat() and the argument keys=['df1', 'df2']."
   ]
  },
  {
   "cell_type": "code",
   "execution_count": 16,
   "id": "0f9ebaa7",
   "metadata": {},
   "outputs": [
    {
     "name": "stdout",
     "output_type": "stream",
     "text": [
      "         A    B    C     D\n",
      "df1 0  1.0  4.0  NaN   NaN\n",
      "    1  2.0  5.0  NaN   NaN\n",
      "    2  3.0  6.0  NaN   NaN\n",
      "df2 0  NaN  NaN  7.0  10.0\n",
      "    1  NaN  NaN  8.0  11.0\n",
      "    2  NaN  NaN  9.0  12.0\n"
     ]
    }
   ],
   "source": [
    "concatenated_df = pd.concat([df1, df2], keys=['df1', 'df2'])\n",
    "\n",
    "print(concatenated_df)"
   ]
  }
 ],
 "metadata": {
  "kernelspec": {
   "display_name": "Python 3 (ipykernel)",
   "language": "python",
   "name": "python3"
  },
  "language_info": {
   "codemirror_mode": {
    "name": "ipython",
    "version": 3
   },
   "file_extension": ".py",
   "mimetype": "text/x-python",
   "name": "python",
   "nbconvert_exporter": "python",
   "pygments_lexer": "ipython3",
   "version": "3.9.13"
  }
 },
 "nbformat": 4,
 "nbformat_minor": 5
}
