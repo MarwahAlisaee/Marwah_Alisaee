{
  "metadata": {
    "language_info": {
      "codemirror_mode": {
        "name": "python",
        "version": 3
      },
      "file_extension": ".py",
      "mimetype": "text/x-python",
      "name": "python",
      "nbconvert_exporter": "python",
      "pygments_lexer": "ipython3",
      "version": "3.8"
    },
    "kernelspec": {
      "name": "python",
      "display_name": "Python (Pyodide)",
      "language": "python"
    }
  },
  "nbformat_minor": 4,
  "nbformat": 4,
  "cells": [
    {
      "cell_type": "code",
      "source": "#1. Create a Series using the following data: data = [10, 20, 30, 40, 50]\nimport pandas as pd\n\ndata = [10, 20, 30, 40, 50]\nseries_data = pd.Series(data)\n\nprint(series_data)\n",
      "metadata": {
        "trusted": true
      },
      "execution_count": 1,
      "outputs": [
        {
          "name": "stdout",
          "text": "0    10\n1    20\n2    30\n3    40\n4    50\ndtype: int64\n",
          "output_type": "stream"
        }
      ]
    },
    {
      "cell_type": "code",
      "source": "#2. Assign the following index labels to the Series: index = ['a', 'b', 'c', 'd', 'e']\ndata = [1, 2, 3, 4, 5]\nindex = ['a', 'b', 'c', 'd', 'e']\n\nseries = pd.Series(data, index=index)\nprint (series)\n",
      "metadata": {
        "trusted": true
      },
      "execution_count": 22,
      "outputs": [
        {
          "name": "stdout",
          "text": "a    1\nb    2\nc    3\nd    4\ne    5\ndtype: int64\n",
          "output_type": "stream"
        }
      ]
    },
    {
      "cell_type": "code",
      "source": "#3. Use index values to select the values of the Series for the labels 'b' and 'e'.\n\ndata_series = pd.Series([10, 20, 30, 40, 50], index=['a', 'b', 'c', 'd', 'e'])\nvalue_b = data_series['b']\nvalue_e = data_series['e']\n\nprint(\"Value for 'b':\", value_b)\nprint(\"Value for 'e':\", value_e)\n",
      "metadata": {
        "trusted": true
      },
      "execution_count": 23,
      "outputs": [
        {
          "name": "stdout",
          "text": "Value for 'b': 20\nValue for 'e': 50\n",
          "output_type": "stream"
        }
      ]
    },
    {
      "cell_type": "code",
      "source": "#4. Check if the Series contains the value 20 using a boolean array.\n\ndata = pd.Series([10, 15, 20, 25, 30])\ncheck_20 = data == 20\n\nprint(check_20)\n",
      "metadata": {
        "trusted": true
      },
      "execution_count": 24,
      "outputs": [
        {
          "name": "stdout",
          "text": "0    False\n1    False\n2     True\n3    False\n4    False\ndtype: bool\n",
          "output_type": "stream"
        }
      ]
    },
    {
      "cell_type": "code",
      "source": "# 5. Check if the Series contains the values 15 and 20 using a boolean array.\n\nvalues_to_check = [15, 20]\nboolean_array = series.isin(values_to_check)\n\nif boolean_array.all():\n    print(\"Both 15 and 20 are present in the Series.\")\nelse:\n    print(\"At least one of 15 and 20 is not present in the Series.\")\n",
      "metadata": {
        "trusted": true
      },
      "execution_count": 25,
      "outputs": [
        {
          "name": "stdout",
          "text": "At least one of 15 and 20 is not present in the Series.\n",
          "output_type": "stream"
        }
      ]
    },
    {
      "cell_type": "code",
      "source": "# 6. Add the value 5 to each element of the Series using array operations.\n\ndata = [1, 2, 3, 4, 5]\nseries = pd.Series(data)\nresult_series = series + 5\nprint(result_series)\n",
      "metadata": {
        "trusted": true
      },
      "execution_count": 26,
      "outputs": [
        {
          "name": "stdout",
          "text": "0     6\n1     7\n2     8\n3     9\n4    10\ndtype: int64\n",
          "output_type": "stream"
        }
      ]
    },
    {
      "cell_type": "code",
      "source": "#7. Convert the Series into a Python dictionary and check its values.\n\nmy_series = pd.Series([10, 20, 30, 40, 50])\ndict = my_series.to_dict()\n\nprint(dict)\n",
      "metadata": {
        "trusted": true
      },
      "execution_count": 27,
      "outputs": [
        {
          "name": "stdout",
          "text": "{0: 10, 1: 20, 2: 30, 3: 40, 4: 50}\n",
          "output_type": "stream"
        }
      ]
    },
    {
      "cell_type": "code",
      "source": "#8. Pass a dictionary to the Series constructor and assign the following keys and values:\n# {'a': 10, 'b': 20, 'c': 30, 'd': 40, 'e': 50, 'f': 60}\n\ndict = {'a': 10, 'b': 20, 'c': 30, 'd': 40, 'e': 50, 'f': 60}\nseries = pd.Series(dict)\nprint (series)",
      "metadata": {
        "trusted": true
      },
      "execution_count": 33,
      "outputs": [
        {
          "name": "stdout",
          "text": "a    10\nb    20\nc    30\nd    40\ne    50\nf    60\ndtype: int64\n",
          "output_type": "stream"
        }
      ]
    },
    {
      "cell_type": "code",
      "source": "#9. Check if any values in the Series are null or not null using isnull() and notnull() methods\n\nnull_values = series.isnull()\nnot_null= series.notnull()\nprint(\"null value\",series[null_values])\nprint(\"not null\",series[not_null])\n",
      "metadata": {
        "trusted": true
      },
      "execution_count": 34,
      "outputs": [
        {
          "name": "stdout",
          "text": "null value Series([], dtype: int64)\nnot null a    10\nb    20\nc    30\nd    40\ne    50\nf    60\ndtype: int64\n",
          "output_type": "stream"
        }
      ]
    },
    {
      "cell_type": "code",
      "source": "#10. Create another Series using the following data: data2 = [20, 30, 40, 50, 60]\n\nimport pandas as pd\n\ndata2 = [20, 30, 40, 50, 60]\nseries2 = pd.Series(data2)\n\nprint(series2)\n\n",
      "metadata": {
        "trusted": true
      },
      "execution_count": 35,
      "outputs": [
        {
          "name": "stdout",
          "text": "0    20\n1    30\n2    40\n3    50\n4    60\ndtype: int64\n",
          "output_type": "stream"
        }
      ]
    },
    {
      "cell_type": "code",
      "source": "#11. Assign the following index labels to the second Series: index2 = ['b', 'c', 'd', 'e', 'f]\nmy_series = pd.Series([10, 20, 30, 40, 50],index= ['b', 'c', 'd', 'e', 'f'])\nprint (my_series)",
      "metadata": {
        "trusted": true
      },
      "execution_count": 38,
      "outputs": [
        {
          "name": "stdout",
          "text": "b    10\nc    20\nd    30\ne    40\nf    50\ndtype: int64\n",
          "output_type": "stream"
        }
      ]
    },
    {
      "cell_type": "code",
      "source": "#12. Add the two Series together and observe how pandas automatically aligns the data based on\n#their index labels.\na=my_series+data2\nprint(a)",
      "metadata": {
        "trusted": true
      },
      "execution_count": 42,
      "outputs": [
        {
          "name": "stdout",
          "text": "b     30\nc     50\nd     70\ne     90\nf    110\ndtype: int64\n",
          "output_type": "stream"
        }
      ]
    },
    {
      "cell_type": "code",
      "source": "#13. Use the unique() method to find the unique values in the Series.\na.unique()",
      "metadata": {
        "trusted": true
      },
      "execution_count": 43,
      "outputs": [
        {
          "execution_count": 43,
          "output_type": "execute_result",
          "data": {
            "text/plain": "array([ 30,  50,  70,  90, 110], dtype=int64)"
          },
          "metadata": {}
        }
      ]
    },
    {
      "cell_type": "code",
      "source": "#14. Use the sort_values() method to sort the Series in ascending order by value.\na.sort_values()",
      "metadata": {
        "trusted": true
      },
      "execution_count": 44,
      "outputs": [
        {
          "execution_count": 44,
          "output_type": "execute_result",
          "data": {
            "text/plain": "b     30\nc     50\nd     70\ne     90\nf    110\ndtype: int64"
          },
          "metadata": {}
        }
      ]
    },
    {
      "cell_type": "code",
      "source": "#15. Save the Series to a text file using the to_csv() method.\na.to_csv()",
      "metadata": {
        "trusted": true
      },
      "execution_count": 45,
      "outputs": [
        {
          "execution_count": 45,
          "output_type": "execute_result",
          "data": {
            "text/plain": "',0\\nb,30\\nc,50\\nd,70\\ne,90\\nf,110\\n'"
          },
          "metadata": {}
        }
      ]
    },
    {
      "cell_type": "code",
      "source": "",
      "metadata": {},
      "execution_count": null,
      "outputs": []
    }
  ]
}