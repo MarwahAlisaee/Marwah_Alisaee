{
 "cells": [
  {
   "cell_type": "markdown",
   "id": "a776e6ee",
   "metadata": {},
   "source": [
    "Load the \"diamonds\" dataset from Seaborn"
   ]
  },
  {
   "cell_type": "code",
   "execution_count": 1,
   "id": "bd3cb057",
   "metadata": {},
   "outputs": [
    {
     "name": "stdout",
     "output_type": "stream",
     "text": [
      "   carat      cut color clarity  depth  table  price     x     y     z\n",
      "0   0.23    Ideal     E     SI2   61.5   55.0    326  3.95  3.98  2.43\n",
      "1   0.21  Premium     E     SI1   59.8   61.0    326  3.89  3.84  2.31\n",
      "2   0.23     Good     E     VS1   56.9   65.0    327  4.05  4.07  2.31\n",
      "3   0.29  Premium     I     VS2   62.4   58.0    334  4.20  4.23  2.63\n",
      "4   0.31     Good     J     SI2   63.3   58.0    335  4.34  4.35  2.75\n"
     ]
    }
   ],
   "source": [
    "import seaborn as sns\n",
    "\n",
    "diamonds_df = sns.load_dataset('diamonds')\n",
    "\n",
    "print(diamonds_df.head())"
   ]
  },
  {
   "cell_type": "markdown",
   "id": "19aa9bfb",
   "metadata": {},
   "source": [
    "Calculate the average price for each color"
   ]
  },
  {
   "cell_type": "code",
   "execution_count": 2,
   "id": "297a795c",
   "metadata": {},
   "outputs": [
    {
     "name": "stdout",
     "output_type": "stream",
     "text": [
      "color\n",
      "D    3169.954096\n",
      "E    3076.752475\n",
      "F    3724.886397\n",
      "G    3999.135671\n",
      "H    4486.669196\n",
      "I    5091.874954\n",
      "J    5323.818020\n",
      "Name: price, dtype: float64\n"
     ]
    }
   ],
   "source": [
    "average_price_by_color = diamonds_df.groupby('color')['price'].mean()\n",
    "\n",
    "print(average_price_by_color)"
   ]
  },
  {
   "cell_type": "markdown",
   "id": "32cab814",
   "metadata": {},
   "source": [
    "Create function calculate the difference between the maximum and minimum price"
   ]
  },
  {
   "cell_type": "code",
   "execution_count": 3,
   "id": "bb0e0fc4",
   "metadata": {},
   "outputs": [
    {
     "name": "stdout",
     "output_type": "stream",
     "text": [
      "Price Difference: 18497\n"
     ]
    }
   ],
   "source": [
    "def calculate_price_difference(dataset):\n",
    "    max_price = dataset['price'].max()\n",
    "    min_price = dataset['price'].min()\n",
    "    price_difference = max_price - min_price\n",
    "    return price_difference\n",
    "\n",
    "diamonds_df = sns.load_dataset('diamonds')\n",
    "price_diff = calculate_price_difference(diamonds_df)\n",
    "\n",
    "print(\"Price Difference:\", price_diff)"
   ]
  },
  {
   "cell_type": "markdown",
   "id": "78c0c9e7",
   "metadata": {},
   "source": [
    "Calculate the max min difference grouped by each cut"
   ]
  },
  {
   "cell_type": "code",
   "execution_count": 4,
   "id": "9d45e388",
   "metadata": {},
   "outputs": [
    {
     "name": "stdout",
     "output_type": "stream",
     "text": [
      "cut\n",
      "Ideal        18480\n",
      "Premium      18497\n",
      "Very Good    18482\n",
      "Good         18461\n",
      "Fair         18237\n",
      "dtype: int64\n"
     ]
    }
   ],
   "source": [
    "def calculate_price_difference(dataset):\n",
    "    max_min_difference = dataset['price'].max() - dataset['price'].min()\n",
    "    return max_min_difference\n",
    "\n",
    "diamonds_df = sns.load_dataset('diamonds')\n",
    "price_diff_by_cut = diamonds_df.groupby('cut').apply(calculate_price_difference)\n",
    "\n",
    "print(price_diff_by_cut)"
   ]
  }
 ],
 "metadata": {
  "kernelspec": {
   "display_name": "Python 3 (ipykernel)",
   "language": "python",
   "name": "python3"
  },
  "language_info": {
   "codemirror_mode": {
    "name": "ipython",
    "version": 3
   },
   "file_extension": ".py",
   "mimetype": "text/x-python",
   "name": "python",
   "nbconvert_exporter": "python",
   "pygments_lexer": "ipython3",
   "version": "3.9.13"
  }
 },
 "nbformat": 4,
 "nbformat_minor": 5
}
