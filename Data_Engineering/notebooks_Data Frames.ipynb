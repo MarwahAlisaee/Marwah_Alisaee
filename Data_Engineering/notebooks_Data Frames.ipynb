{
  "metadata": {
    "language_info": {
      "codemirror_mode": {
        "name": "python",
        "version": 3
      },
      "file_extension": ".py",
      "mimetype": "text/x-python",
      "name": "python",
      "nbconvert_exporter": "python",
      "pygments_lexer": "ipython3",
      "version": "3.8"
    },
    "kernelspec": {
      "name": "python",
      "display_name": "Python (Pyodide)",
      "language": "python"
    }
  },
  "nbformat_minor": 4,
  "nbformat": 4,
  "cells": [
    {
      "cell_type": "code",
      "source": "import pandas as pd\nimport numpy as np\nfrom pandas import Series, DataFrame",
      "metadata": {
        "trusted": true
      },
      "execution_count": 6,
      "outputs": []
    },
    {
      "cell_type": "code",
      "source": "df = pd.read_csv('Data.csv')\nprint(df)\n",
      "metadata": {
        "trusted": true
      },
      "execution_count": 7,
      "outputs": [
        {
          "name": "stdout",
          "text": "      Name   Age  Gender Occupation\n0     Alice   25  Female   Engineer\n1       Bob   30    Male  Scientist\n2   Charlie   35    Male     Artist\n3  Danielle   40  Female    Teacher\n",
          "output_type": "stream"
        }
      ]
    },
    {
      "cell_type": "code",
      "source": "#3. Extract the 'Age' and 'Occupation' columns into a new DataFrame\ns = df[['Age', 'Occupation']]\nprint(s)",
      "metadata": {
        "trusted": true
      },
      "execution_count": 8,
      "outputs": [
        {
          "name": "stdout",
          "text": "   Age Occupation\n0   25   Engineer\n1   30  Scientist\n2   35     Artist\n3   40    Teacher\n",
          "output_type": "stream"
        }
      ]
    },
    {
      "cell_type": "code",
      "source": "#4. Try to extract a column that doesn't exist in the DataFrame and observe the error message.\ncolumn_name = 'Salary'\ntry:\n    new_df = df[column_name]\nexcept KeyError as e:\n    print(f\"Error: {e}\")",
      "metadata": {
        "trusted": true
      },
      "execution_count": 9,
      "outputs": [
        {
          "name": "stdout",
          "text": "Error: 'Salary'\n",
          "output_type": "stream"
        }
      ]
    },
    {
      "cell_type": "code",
      "source": "#Assign the value 50 to the entire 'Age' column.\n\ndf['Age'] = 50\ndf",
      "metadata": {
        "trusted": true
      },
      "execution_count": 11,
      "outputs": [
        {
          "execution_count": 11,
          "output_type": "execute_result",
          "data": {
            "text/plain": "      Name   Age  Gender Occupation\n0     Alice   50  Female   Engineer\n1       Bob   50    Male  Scientist\n2   Charlie   50    Male     Artist\n3  Danielle   50  Female    Teacher",
            "text/html": "<div>\n<style scoped>\n    .dataframe tbody tr th:only-of-type {\n        vertical-align: middle;\n    }\n\n    .dataframe tbody tr th {\n        vertical-align: top;\n    }\n\n    .dataframe thead th {\n        text-align: right;\n    }\n</style>\n<table border=\"1\" class=\"dataframe\">\n  <thead>\n    <tr style=\"text-align: right;\">\n      <th></th>\n      <th>Name</th>\n      <th>Age</th>\n      <th>Gender</th>\n      <th>Occupation</th>\n    </tr>\n  </thead>\n  <tbody>\n    <tr>\n      <th>0</th>\n      <td>Alice</td>\n      <td>50</td>\n      <td>Female</td>\n      <td>Engineer</td>\n    </tr>\n    <tr>\n      <th>1</th>\n      <td>Bob</td>\n      <td>50</td>\n      <td>Male</td>\n      <td>Scientist</td>\n    </tr>\n    <tr>\n      <th>2</th>\n      <td>Charlie</td>\n      <td>50</td>\n      <td>Male</td>\n      <td>Artist</td>\n    </tr>\n    <tr>\n      <th>3</th>\n      <td>Danielle</td>\n      <td>50</td>\n      <td>Female</td>\n      <td>Teacher</td>\n    </tr>\n  </tbody>\n</table>\n</div>"
          },
          "metadata": {}
        }
      ]
    },
    {
      "cell_type": "code",
      "source": "#6.Try to assign random values for the Salary.\ndf['Salary'] = np.random.randint(40000, 80000, len(df))\n\nprint(df)",
      "metadata": {
        "trusted": true
      },
      "execution_count": 12,
      "outputs": [
        {
          "name": "stdout",
          "text": "      Name   Age  Gender Occupation  Salary\n0     Alice   50  Female   Engineer   54652\n1       Bob   50    Male  Scientist   65899\n2   Charlie   50    Male     Artist   43975\n3  Danielle   50  Female    Teacher   60967\n",
          "output_type": "stream"
        }
      ]
    },
    {
      "cell_type": "code",
      "source": "#7. Add a new column called 'Kids' to the DataFrame with the following values: [2, 4, 0, 5]\ndf['Kids'] = [2, 4, 0, 5]\n\nprint(df)",
      "metadata": {
        "trusted": true
      },
      "execution_count": 13,
      "outputs": [
        {
          "name": "stdout",
          "text": "      Name   Age  Gender Occupation  Salary  Kids\n0     Alice   50  Female   Engineer   54652     2\n1       Bob   50    Male  Scientist   65899     4\n2   Charlie   50    Male     Artist   43975     0\n3  Danielle   50  Female    Teacher   60967     5\n",
          "output_type": "stream"
        }
      ]
    },
    {
      "cell_type": "code",
      "source": "#8. Delete the 'Gender' column from the DataFrame\n\ndf = df.drop('Gender', axis=1)\n\nprint(df)",
      "metadata": {},
      "execution_count": null,
      "outputs": []
    },
    {
      "cell_type": "code",
      "source": "#9. Save the modified DataFrame to a new CSV file.\n\ndf.to_csv('Data.csv', index=False)\n\nprint(df)",
      "metadata": {
        "trusted": true
      },
      "execution_count": 14,
      "outputs": [
        {
          "name": "stdout",
          "text": "      Name   Age  Gender Occupation  Salary  Kids\n0     Alice   50  Female   Engineer   54652     2\n1       Bob   50    Male  Scientist   65899     4\n2   Charlie   50    Male     Artist   43975     0\n3  Danielle   50  Female    Teacher   60967     5\n",
          "output_type": "stream"
        }
      ]
    },
    {
      "cell_type": "code",
      "source": "",
      "metadata": {},
      "execution_count": null,
      "outputs": []
    }
  ]
}