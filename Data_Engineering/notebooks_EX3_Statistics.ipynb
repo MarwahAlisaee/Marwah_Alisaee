{
  "metadata": {
    "language_info": {
      "codemirror_mode": {
        "name": "python",
        "version": 3
      },
      "file_extension": ".py",
      "mimetype": "text/x-python",
      "name": "python",
      "nbconvert_exporter": "python",
      "pygments_lexer": "ipython3",
      "version": "3.8"
    },
    "kernelspec": {
      "name": "python",
      "display_name": "Python (Pyodide)",
      "language": "python"
    }
  },
  "nbformat_minor": 4,
  "nbformat": 4,
  "cells": [
    {
      "cell_type": "markdown",
      "source": "## (Statistics)",
      "metadata": {}
    },
    {
      "cell_type": "markdown",
      "source": "### 1. Create a Series with the following data: data = [5, 10, 15, np.nan, 25, 30, np.nan]\n",
      "metadata": {}
    },
    {
      "cell_type": "code",
      "source": "import pandas as pd\nimport numpy as np\n\n\ndata = [5, 10, 15, np.nan, 25, 30, np.nan]\nseries = pd.Series(data)\nseries",
      "metadata": {
        "trusted": true
      },
      "execution_count": 3,
      "outputs": [
        {
          "execution_count": 3,
          "output_type": "execute_result",
          "data": {
            "text/plain": "0     5.0\n1    10.0\n2    15.0\n3     NaN\n4    25.0\n5    30.0\n6     NaN\ndtype: float64"
          },
          "metadata": {}
        }
      ]
    },
    {
      "cell_type": "markdown",
      "source": "### 2. Calculate the sum of the Series along the rows.\n",
      "metadata": {}
    },
    {
      "cell_type": "code",
      "source": "sum_r= series.sum()\nsum_r",
      "metadata": {
        "trusted": true
      },
      "execution_count": 4,
      "outputs": [
        {
          "execution_count": 4,
          "output_type": "execute_result",
          "data": {
            "text/plain": "85.0"
          },
          "metadata": {}
        }
      ]
    },
    {
      "cell_type": "markdown",
      "source": "### 3. Calculate the sum of the Series along the columns.\n",
      "metadata": {}
    },
    {
      "cell_type": "code",
      "source": "sum_c = series.sum(axis=0)\nsum_c",
      "metadata": {
        "trusted": true
      },
      "execution_count": 5,
      "outputs": [
        {
          "execution_count": 5,
          "output_type": "execute_result",
          "data": {
            "text/plain": "85.0"
          },
          "metadata": {}
        }
      ]
    },
    {
      "cell_type": "markdown",
      "source": "### 4. Calculate the minimum value in the Series.\n",
      "metadata": {}
    },
    {
      "cell_type": "code",
      "source": "min_value = series.min()\nmin_value",
      "metadata": {
        "trusted": true
      },
      "execution_count": 6,
      "outputs": [
        {
          "execution_count": 6,
          "output_type": "execute_result",
          "data": {
            "text/plain": "5.0"
          },
          "metadata": {}
        }
      ]
    },
    {
      "cell_type": "markdown",
      "source": "### 5. Find the index label of the minimum value in the Series.\n",
      "metadata": {}
    },
    {
      "cell_type": "code",
      "source": "min_index = series.idxmin()\nmin_index\n",
      "metadata": {
        "trusted": true
      },
      "execution_count": 7,
      "outputs": [
        {
          "execution_count": 7,
          "output_type": "execute_result",
          "data": {
            "text/plain": "0"
          },
          "metadata": {}
        }
      ]
    },
    {
      "cell_type": "markdown",
      "source": "### 6. Calculate the cumulative sum of the Series.\n",
      "metadata": {}
    },
    {
      "cell_type": "code",
      "source": "cumulative_sum = series.cumsum()\ncumulative_sum",
      "metadata": {
        "trusted": true
      },
      "execution_count": 8,
      "outputs": [
        {
          "execution_count": 8,
          "output_type": "execute_result",
          "data": {
            "text/plain": "0     5.0\n1    15.0\n2    30.0\n3     NaN\n4    55.0\n5    85.0\n6     NaN\ndtype: float64"
          },
          "metadata": {}
        }
      ]
    },
    {
      "cell_type": "markdown",
      "source": "### 7. Calculate the descriptive statistics of the Series using the describe method.\n",
      "metadata": {}
    },
    {
      "cell_type": "code",
      "source": "des_stats = series.describe()\ndes_stats",
      "metadata": {
        "trusted": true
      },
      "execution_count": 9,
      "outputs": [
        {
          "execution_count": 9,
          "output_type": "execute_result",
          "data": {
            "text/plain": "count     5.000000\nmean     17.000000\nstd      10.368221\nmin       5.000000\n25%      10.000000\n50%      15.000000\n75%      25.000000\nmax      30.000000\ndtype: float64"
          },
          "metadata": {}
        }
      ]
    },
    {
      "cell_type": "markdown",
      "source": "### 8. Find the unique values in the Series.\n",
      "metadata": {}
    },
    {
      "cell_type": "code",
      "source": "unique_v = series.unique()\nunique_v",
      "metadata": {
        "trusted": true
      },
      "execution_count": 10,
      "outputs": [
        {
          "execution_count": 10,
          "output_type": "execute_result",
          "data": {
            "text/plain": "array([ 5., 10., 15., nan, 25., 30.])"
          },
          "metadata": {}
        }
      ]
    },
    {
      "cell_type": "markdown",
      "source": "### 9. Calculate the count of each unique value in the Series using the value_counts method.\n",
      "metadata": {}
    },
    {
      "cell_type": "code",
      "source": "value_count = series.value_counts()\nvalue_count",
      "metadata": {
        "trusted": true
      },
      "execution_count": 11,
      "outputs": [
        {
          "execution_count": 11,
          "output_type": "execute_result",
          "data": {
            "text/plain": "5.0     1\n10.0    1\n15.0    1\n25.0    1\n30.0    1\ndtype: int64"
          },
          "metadata": {}
        }
      ]
    },
    {
      "cell_type": "markdown",
      "source": "### 10. Create a DataFrame with the following data: data = {'A': [1, 2, np.nan, 4, 5], 'B': [10, 20, 30, np.nan, 50], 'C': [100, np.nan, 300, 400, 500]}\n",
      "metadata": {}
    },
    {
      "cell_type": "code",
      "source": "data = {'A': [1, 2, np.nan, 4, 5], 'B': [10, 20, 30, np.nan, 50], 'C': [100, np.nan, 300, 400, 500]}\ndf = pd.DataFrame(data)\ndf",
      "metadata": {
        "trusted": true
      },
      "execution_count": 12,
      "outputs": [
        {
          "execution_count": 12,
          "output_type": "execute_result",
          "data": {
            "text/plain": "     A     B      C\n0  1.0  10.0  100.0\n1  2.0  20.0    NaN\n2  NaN  30.0  300.0\n3  4.0   NaN  400.0\n4  5.0  50.0  500.0",
            "text/html": "<div>\n<style scoped>\n    .dataframe tbody tr th:only-of-type {\n        vertical-align: middle;\n    }\n\n    .dataframe tbody tr th {\n        vertical-align: top;\n    }\n\n    .dataframe thead th {\n        text-align: right;\n    }\n</style>\n<table border=\"1\" class=\"dataframe\">\n  <thead>\n    <tr style=\"text-align: right;\">\n      <th></th>\n      <th>A</th>\n      <th>B</th>\n      <th>C</th>\n    </tr>\n  </thead>\n  <tbody>\n    <tr>\n      <th>0</th>\n      <td>1.0</td>\n      <td>10.0</td>\n      <td>100.0</td>\n    </tr>\n    <tr>\n      <th>1</th>\n      <td>2.0</td>\n      <td>20.0</td>\n      <td>NaN</td>\n    </tr>\n    <tr>\n      <th>2</th>\n      <td>NaN</td>\n      <td>30.0</td>\n      <td>300.0</td>\n    </tr>\n    <tr>\n      <th>3</th>\n      <td>4.0</td>\n      <td>NaN</td>\n      <td>400.0</td>\n    </tr>\n    <tr>\n      <th>4</th>\n      <td>5.0</td>\n      <td>50.0</td>\n      <td>500.0</td>\n    </tr>\n  </tbody>\n</table>\n</div>"
          },
          "metadata": {}
        }
      ]
    },
    {
      "cell_type": "markdown",
      "source": "### 11. Calculate the sum of the DataFrame along the rows.\n",
      "metadata": {}
    },
    {
      "cell_type": "code",
      "source": "sum_row = df.sum(axis=1)\nsum_row",
      "metadata": {
        "trusted": true
      },
      "execution_count": 13,
      "outputs": [
        {
          "execution_count": 13,
          "output_type": "execute_result",
          "data": {
            "text/plain": "0    111.0\n1     22.0\n2    330.0\n3    404.0\n4    555.0\ndtype: float64"
          },
          "metadata": {}
        }
      ]
    },
    {
      "cell_type": "markdown",
      "source": "### 12. Calculate the sum of the DataFrame along the columns.\n",
      "metadata": {}
    },
    {
      "cell_type": "code",
      "source": "sum_columns = df.sum()\nsum_columns",
      "metadata": {
        "trusted": true
      },
      "execution_count": 14,
      "outputs": [
        {
          "execution_count": 14,
          "output_type": "execute_result",
          "data": {
            "text/plain": "A      12.0\nB     110.0\nC    1300.0\ndtype: float64"
          },
          "metadata": {}
        }
      ]
    },
    {
      "cell_type": "markdown",
      "source": "### 13. Calculate the minimum value in the DataFrame.\n",
      "metadata": {}
    },
    {
      "cell_type": "code",
      "source": "min_value= df.min().min()\nmin_value",
      "metadata": {
        "trusted": true
      },
      "execution_count": 16,
      "outputs": [
        {
          "execution_count": 16,
          "output_type": "execute_result",
          "data": {
            "text/plain": "1.0"
          },
          "metadata": {}
        }
      ]
    },
    {
      "cell_type": "markdown",
      "source": "### 14. Find the index label and column name of the minimum value in the DataFrame.\n",
      "metadata": {}
    },
    {
      "cell_type": "code",
      "source": "df.loc[df.stack().idxmin()]\n\nmin_label, min_name = [df.stack().idxmin()[0],df.stack().idxmin()[1]]\nmin_label , min_name\n",
      "metadata": {
        "trusted": true
      },
      "execution_count": 45,
      "outputs": [
        {
          "execution_count": 45,
          "output_type": "execute_result",
          "data": {
            "text/plain": "(0, 'A')"
          },
          "metadata": {}
        }
      ]
    },
    {
      "cell_type": "markdown",
      "source": "### 15. Calculate the cumulative sum of the DataFrame.\n",
      "metadata": {}
    },
    {
      "cell_type": "code",
      "source": "cumulative_sum = df.cumsum()\ncumulative_sum",
      "metadata": {
        "trusted": true
      },
      "execution_count": 18,
      "outputs": [
        {
          "execution_count": 18,
          "output_type": "execute_result",
          "data": {
            "text/plain": "      A      B       C\n0   1.0   10.0   100.0\n1   3.0   30.0     NaN\n2   NaN   60.0   400.0\n3   7.0    NaN   800.0\n4  12.0  110.0  1300.0",
            "text/html": "<div>\n<style scoped>\n    .dataframe tbody tr th:only-of-type {\n        vertical-align: middle;\n    }\n\n    .dataframe tbody tr th {\n        vertical-align: top;\n    }\n\n    .dataframe thead th {\n        text-align: right;\n    }\n</style>\n<table border=\"1\" class=\"dataframe\">\n  <thead>\n    <tr style=\"text-align: right;\">\n      <th></th>\n      <th>A</th>\n      <th>B</th>\n      <th>C</th>\n    </tr>\n  </thead>\n  <tbody>\n    <tr>\n      <th>0</th>\n      <td>1.0</td>\n      <td>10.0</td>\n      <td>100.0</td>\n    </tr>\n    <tr>\n      <th>1</th>\n      <td>3.0</td>\n      <td>30.0</td>\n      <td>NaN</td>\n    </tr>\n    <tr>\n      <th>2</th>\n      <td>NaN</td>\n      <td>60.0</td>\n      <td>400.0</td>\n    </tr>\n    <tr>\n      <th>3</th>\n      <td>7.0</td>\n      <td>NaN</td>\n      <td>800.0</td>\n    </tr>\n    <tr>\n      <th>4</th>\n      <td>12.0</td>\n      <td>110.0</td>\n      <td>1300.0</td>\n    </tr>\n  </tbody>\n</table>\n</div>"
          },
          "metadata": {}
        }
      ]
    },
    {
      "cell_type": "markdown",
      "source": "### 16. Calculate the descriptive statistics of the DataFrame using the describe method.\n",
      "metadata": {}
    },
    {
      "cell_type": "code",
      "source": "descriptive_df = df.describe()\ndescriptive_df",
      "metadata": {
        "trusted": true
      },
      "execution_count": 19,
      "outputs": [
        {
          "execution_count": 19,
          "output_type": "execute_result",
          "data": {
            "text/plain": "              A          B           C\ncount  4.000000   4.000000    4.000000\nmean   3.000000  27.500000  325.000000\nstd    1.825742  17.078251  170.782513\nmin    1.000000  10.000000  100.000000\n25%    1.750000  17.500000  250.000000\n50%    3.000000  25.000000  350.000000\n75%    4.250000  35.000000  425.000000\nmax    5.000000  50.000000  500.000000",
            "text/html": "<div>\n<style scoped>\n    .dataframe tbody tr th:only-of-type {\n        vertical-align: middle;\n    }\n\n    .dataframe tbody tr th {\n        vertical-align: top;\n    }\n\n    .dataframe thead th {\n        text-align: right;\n    }\n</style>\n<table border=\"1\" class=\"dataframe\">\n  <thead>\n    <tr style=\"text-align: right;\">\n      <th></th>\n      <th>A</th>\n      <th>B</th>\n      <th>C</th>\n    </tr>\n  </thead>\n  <tbody>\n    <tr>\n      <th>count</th>\n      <td>4.000000</td>\n      <td>4.000000</td>\n      <td>4.000000</td>\n    </tr>\n    <tr>\n      <th>mean</th>\n      <td>3.000000</td>\n      <td>27.500000</td>\n      <td>325.000000</td>\n    </tr>\n    <tr>\n      <th>std</th>\n      <td>1.825742</td>\n      <td>17.078251</td>\n      <td>170.782513</td>\n    </tr>\n    <tr>\n      <th>min</th>\n      <td>1.000000</td>\n      <td>10.000000</td>\n      <td>100.000000</td>\n    </tr>\n    <tr>\n      <th>25%</th>\n      <td>1.750000</td>\n      <td>17.500000</td>\n      <td>250.000000</td>\n    </tr>\n    <tr>\n      <th>50%</th>\n      <td>3.000000</td>\n      <td>25.000000</td>\n      <td>350.000000</td>\n    </tr>\n    <tr>\n      <th>75%</th>\n      <td>4.250000</td>\n      <td>35.000000</td>\n      <td>425.000000</td>\n    </tr>\n    <tr>\n      <th>max</th>\n      <td>5.000000</td>\n      <td>50.000000</td>\n      <td>500.000000</td>\n    </tr>\n  </tbody>\n</table>\n</div>"
          },
          "metadata": {}
        }
      ]
    },
    {
      "cell_type": "markdown",
      "source": "### 17. Find the unique values in column 'A' of the DataFrame.\n",
      "metadata": {}
    },
    {
      "cell_type": "code",
      "source": "unique_columnA = df['A'].unique()\nunique_columnA",
      "metadata": {
        "trusted": true
      },
      "execution_count": 21,
      "outputs": [
        {
          "execution_count": 21,
          "output_type": "execute_result",
          "data": {
            "text/plain": "array([ 1.,  2., nan,  4.,  5.])"
          },
          "metadata": {}
        }
      ]
    },
    {
      "cell_type": "markdown",
      "source": "### 18. Calculate the count of each unique value in column 'A' of the DataFrame using the value_counts method.\n",
      "metadata": {}
    },
    {
      "cell_type": "code",
      "source": "counts_columnA = df['A'].value_counts()\ncounts_columnA",
      "metadata": {
        "trusted": true
      },
      "execution_count": 22,
      "outputs": [
        {
          "execution_count": 22,
          "output_type": "execute_result",
          "data": {
            "text/plain": "1.0    1\n2.0    1\n4.0    1\n5.0    1\nName: A, dtype: int64"
          },
          "metadata": {}
        }
      ]
    },
    {
      "cell_type": "markdown",
      "source": "### 19. Sort the DataFrame by column 'B' in ascending order and then by column 'A' in descending order.\n",
      "metadata": {}
    },
    {
      "cell_type": "code",
      "source": "sort_df = df.sort_values(by=['B', 'A'], ascending=[True, False])\nsort_df",
      "metadata": {
        "trusted": true
      },
      "execution_count": 23,
      "outputs": [
        {
          "execution_count": 23,
          "output_type": "execute_result",
          "data": {
            "text/plain": "     A     B      C\n0  1.0  10.0  100.0\n1  2.0  20.0    NaN\n2  NaN  30.0  300.0\n4  5.0  50.0  500.0\n3  4.0   NaN  400.0",
            "text/html": "<div>\n<style scoped>\n    .dataframe tbody tr th:only-of-type {\n        vertical-align: middle;\n    }\n\n    .dataframe tbody tr th {\n        vertical-align: top;\n    }\n\n    .dataframe thead th {\n        text-align: right;\n    }\n</style>\n<table border=\"1\" class=\"dataframe\">\n  <thead>\n    <tr style=\"text-align: right;\">\n      <th></th>\n      <th>A</th>\n      <th>B</th>\n      <th>C</th>\n    </tr>\n  </thead>\n  <tbody>\n    <tr>\n      <th>0</th>\n      <td>1.0</td>\n      <td>10.0</td>\n      <td>100.0</td>\n    </tr>\n    <tr>\n      <th>1</th>\n      <td>2.0</td>\n      <td>20.0</td>\n      <td>NaN</td>\n    </tr>\n    <tr>\n      <th>2</th>\n      <td>NaN</td>\n      <td>30.0</td>\n      <td>300.0</td>\n    </tr>\n    <tr>\n      <th>4</th>\n      <td>5.0</td>\n      <td>50.0</td>\n      <td>500.0</td>\n    </tr>\n    <tr>\n      <th>3</th>\n      <td>4.0</td>\n      <td>NaN</td>\n      <td>400.0</td>\n    </tr>\n  </tbody>\n</table>\n</div>"
          },
          "metadata": {}
        }
      ]
    },
    {
      "cell_type": "markdown",
      "source": "### 20. Create a new column 'D' in the DataFrame which is the cumulative sum of column 'C'.",
      "metadata": {}
    },
    {
      "cell_type": "code",
      "source": "df['D'] = df['C'].cumsum()\ndf",
      "metadata": {
        "trusted": true
      },
      "execution_count": 24,
      "outputs": [
        {
          "execution_count": 24,
          "output_type": "execute_result",
          "data": {
            "text/plain": "     A     B      C       D\n0  1.0  10.0  100.0   100.0\n1  2.0  20.0    NaN     NaN\n2  NaN  30.0  300.0   400.0\n3  4.0   NaN  400.0   800.0\n4  5.0  50.0  500.0  1300.0",
            "text/html": "<div>\n<style scoped>\n    .dataframe tbody tr th:only-of-type {\n        vertical-align: middle;\n    }\n\n    .dataframe tbody tr th {\n        vertical-align: top;\n    }\n\n    .dataframe thead th {\n        text-align: right;\n    }\n</style>\n<table border=\"1\" class=\"dataframe\">\n  <thead>\n    <tr style=\"text-align: right;\">\n      <th></th>\n      <th>A</th>\n      <th>B</th>\n      <th>C</th>\n      <th>D</th>\n    </tr>\n  </thead>\n  <tbody>\n    <tr>\n      <th>0</th>\n      <td>1.0</td>\n      <td>10.0</td>\n      <td>100.0</td>\n      <td>100.0</td>\n    </tr>\n    <tr>\n      <th>1</th>\n      <td>2.0</td>\n      <td>20.0</td>\n      <td>NaN</td>\n      <td>NaN</td>\n    </tr>\n    <tr>\n      <th>2</th>\n      <td>NaN</td>\n      <td>30.0</td>\n      <td>300.0</td>\n      <td>400.0</td>\n    </tr>\n    <tr>\n      <th>3</th>\n      <td>4.0</td>\n      <td>NaN</td>\n      <td>400.0</td>\n      <td>800.0</td>\n    </tr>\n    <tr>\n      <th>4</th>\n      <td>5.0</td>\n      <td>50.0</td>\n      <td>500.0</td>\n      <td>1300.0</td>\n    </tr>\n  </tbody>\n</table>\n</div>"
          },
          "metadata": {}
        }
      ]
    },
    {
      "cell_type": "code",
      "source": "",
      "metadata": {},
      "execution_count": null,
      "outputs": []
    }
  ]
}