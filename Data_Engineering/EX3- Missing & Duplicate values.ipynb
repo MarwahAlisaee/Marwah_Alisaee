{
 "cells": [
  {
   "cell_type": "markdown",
   "id": "efd9e3d1",
   "metadata": {},
   "source": [
    "Create a Series with the following data: data = [1, np.nan, 3, 4, np.nan, 6, 7, 8, np.nan, 10]\n"
   ]
  },
  {
   "cell_type": "code",
   "execution_count": 1,
   "id": "ae8a557a",
   "metadata": {},
   "outputs": [
    {
     "name": "stdout",
     "output_type": "stream",
     "text": [
      "0     1.0\n",
      "1     NaN\n",
      "2     3.0\n",
      "3     4.0\n",
      "4     NaN\n",
      "5     6.0\n",
      "6     7.0\n",
      "7     8.0\n",
      "8     NaN\n",
      "9    10.0\n",
      "dtype: float64\n"
     ]
    }
   ],
   "source": [
    "import pandas as pd\n",
    "import numpy as np\n",
    "\n",
    "data = [1, np.nan, 3, 4, np.nan, 6, 7, 8, np.nan, 10]\n",
    "series = pd.Series(data)\n",
    "\n",
    "print(series)"
   ]
  },
  {
   "cell_type": "markdown",
   "id": "911bcb2c",
   "metadata": {},
   "source": [
    "Find the total number of missing values in the Series."
   ]
  },
  {
   "cell_type": "code",
   "execution_count": 2,
   "id": "750b79a1",
   "metadata": {},
   "outputs": [
    {
     "name": "stdout",
     "output_type": "stream",
     "text": [
      "Total missing values: 3\n"
     ]
    }
   ],
   "source": [
    "data = [1, np.nan, 3, 4, np.nan, 6, 7, 8, np.nan, 10]\n",
    "series = pd.Series(data)\n",
    "\n",
    "missing_values = series.isna().sum()\n",
    "\n",
    "print(\"Total missing values:\", missing_values)"
   ]
  },
  {
   "cell_type": "markdown",
   "id": "7b855aa6",
   "metadata": {},
   "source": [
    "Use the isnull() method to identify the missing values in the Series."
   ]
  },
  {
   "cell_type": "code",
   "execution_count": 3,
   "id": "d7c02c89",
   "metadata": {},
   "outputs": [
    {
     "name": "stdout",
     "output_type": "stream",
     "text": [
      "0    False\n",
      "1     True\n",
      "2    False\n",
      "3    False\n",
      "4     True\n",
      "5    False\n",
      "6    False\n",
      "7    False\n",
      "8     True\n",
      "9    False\n",
      "dtype: bool\n"
     ]
    }
   ],
   "source": [
    "data = [1, np.nan, 3, 4, np.nan, 6, 7, 8, np.nan, 10]\n",
    "series = pd.Series(data)\n",
    "\n",
    "missing_values = series.isnull()\n",
    "\n",
    "print(missing_values)"
   ]
  },
  {
   "cell_type": "markdown",
   "id": "3fdfaaa7",
   "metadata": {},
   "source": [
    "Drop the missing values from the Series using the dropna() method with the default arguments."
   ]
  },
  {
   "cell_type": "code",
   "execution_count": 4,
   "id": "c8f21ba4",
   "metadata": {},
   "outputs": [
    {
     "name": "stdout",
     "output_type": "stream",
     "text": [
      "0     1.0\n",
      "2     3.0\n",
      "3     4.0\n",
      "5     6.0\n",
      "6     7.0\n",
      "7     8.0\n",
      "9    10.0\n",
      "dtype: float64\n"
     ]
    }
   ],
   "source": [
    "series_without_missing = series.dropna()\n",
    "\n",
    "print(series_without_missing)"
   ]
  },
  {
   "cell_type": "markdown",
   "id": "cacd942d",
   "metadata": {},
   "source": [
    "Drop the missing values from the Series using the dropna() method with the argument how='all'."
   ]
  },
  {
   "cell_type": "code",
   "execution_count": 5,
   "id": "26a1027c",
   "metadata": {},
   "outputs": [
    {
     "name": "stdout",
     "output_type": "stream",
     "text": [
      "0     1.0\n",
      "2     3.0\n",
      "3     4.0\n",
      "5     6.0\n",
      "6     7.0\n",
      "7     8.0\n",
      "9    10.0\n",
      "dtype: float64\n"
     ]
    }
   ],
   "source": [
    "series_without_missing = series.dropna(how='all')\n",
    "\n",
    "print(series_without_missing)"
   ]
  },
  {
   "cell_type": "markdown",
   "id": "5a256312",
   "metadata": {},
   "source": [
    "Drop the missing values from the Series using the dropna() method with the argument thresh=2"
   ]
  },
  {
   "cell_type": "code",
   "execution_count": 11,
   "id": "96b62614",
   "metadata": {},
   "outputs": [
    {
     "ename": "TypeError",
     "evalue": "dropna() got an unexpected keyword argument 'thresh'",
     "output_type": "error",
     "traceback": [
      "\u001b[1;31m---------------------------------------------------------------------------\u001b[0m",
      "\u001b[1;31mTypeError\u001b[0m                                 Traceback (most recent call last)",
      "\u001b[1;32m~\\AppData\\Local\\Temp\\ipykernel_10120\\3527485158.py\u001b[0m in \u001b[0;36m<module>\u001b[1;34m\u001b[0m\n\u001b[0;32m      2\u001b[0m \u001b[0mseries\u001b[0m \u001b[1;33m=\u001b[0m \u001b[0mpd\u001b[0m\u001b[1;33m.\u001b[0m\u001b[0mSeries\u001b[0m\u001b[1;33m(\u001b[0m\u001b[0mdata\u001b[0m\u001b[1;33m)\u001b[0m\u001b[1;33m\u001b[0m\u001b[1;33m\u001b[0m\u001b[0m\n\u001b[0;32m      3\u001b[0m \u001b[1;33m\u001b[0m\u001b[0m\n\u001b[1;32m----> 4\u001b[1;33m \u001b[0mseries_without_missing\u001b[0m \u001b[1;33m=\u001b[0m \u001b[0mseries\u001b[0m\u001b[1;33m.\u001b[0m\u001b[0mdropna\u001b[0m\u001b[1;33m(\u001b[0m\u001b[0mthresh\u001b[0m\u001b[1;33m=\u001b[0m\u001b[1;36m2\u001b[0m\u001b[1;33m)\u001b[0m\u001b[1;33m\u001b[0m\u001b[1;33m\u001b[0m\u001b[0m\n\u001b[0m\u001b[0;32m      5\u001b[0m \u001b[1;33m\u001b[0m\u001b[0m\n\u001b[0;32m      6\u001b[0m \u001b[0mprint\u001b[0m\u001b[1;33m(\u001b[0m\u001b[0mseries_without_missing\u001b[0m\u001b[1;33m)\u001b[0m\u001b[1;33m\u001b[0m\u001b[1;33m\u001b[0m\u001b[0m\n",
      "\u001b[1;32mC:\\ProgramData\\Anaconda3\\lib\\site-packages\\pandas\\util\\_decorators.py\u001b[0m in \u001b[0;36mwrapper\u001b[1;34m(*args, **kwargs)\u001b[0m\n\u001b[0;32m    309\u001b[0m                     \u001b[0mstacklevel\u001b[0m\u001b[1;33m=\u001b[0m\u001b[0mstacklevel\u001b[0m\u001b[1;33m,\u001b[0m\u001b[1;33m\u001b[0m\u001b[1;33m\u001b[0m\u001b[0m\n\u001b[0;32m    310\u001b[0m                 )\n\u001b[1;32m--> 311\u001b[1;33m             \u001b[1;32mreturn\u001b[0m \u001b[0mfunc\u001b[0m\u001b[1;33m(\u001b[0m\u001b[1;33m*\u001b[0m\u001b[0margs\u001b[0m\u001b[1;33m,\u001b[0m \u001b[1;33m**\u001b[0m\u001b[0mkwargs\u001b[0m\u001b[1;33m)\u001b[0m\u001b[1;33m\u001b[0m\u001b[1;33m\u001b[0m\u001b[0m\n\u001b[0m\u001b[0;32m    312\u001b[0m \u001b[1;33m\u001b[0m\u001b[0m\n\u001b[0;32m    313\u001b[0m         \u001b[1;32mreturn\u001b[0m \u001b[0mwrapper\u001b[0m\u001b[1;33m\u001b[0m\u001b[1;33m\u001b[0m\u001b[0m\n",
      "\u001b[1;31mTypeError\u001b[0m: dropna() got an unexpected keyword argument 'thresh'"
     ]
    }
   ],
   "source": [
    "series_without_missing = series.dropna(thresh=2)\n",
    "print(series_without_missing)"
   ]
  },
  {
   "cell_type": "markdown",
   "id": "10cb9de3",
   "metadata": {},
   "source": [
    "Fill the missing values in the Series with the value 0 using the fillna() method."
   ]
  },
  {
   "cell_type": "code",
   "execution_count": 12,
   "id": "da909b6c",
   "metadata": {},
   "outputs": [
    {
     "name": "stdout",
     "output_type": "stream",
     "text": [
      "0     1.0\n",
      "1     0.0\n",
      "2     3.0\n",
      "3     4.0\n",
      "4     0.0\n",
      "5     6.0\n",
      "6     7.0\n",
      "7     8.0\n",
      "8     0.0\n",
      "9    10.0\n",
      "dtype: float64\n"
     ]
    }
   ],
   "source": [
    "series_filled = series.fillna(0)\n",
    "\n",
    "print(series_filled)"
   ]
  },
  {
   "cell_type": "markdown",
   "id": "2bdeb0e9",
   "metadata": {},
   "source": [
    "Create a Series with the following data: data = [1, 2, 2, 3, 3, 4, 5, 5, 5, 6]"
   ]
  },
  {
   "cell_type": "code",
   "execution_count": 13,
   "id": "f40549cc",
   "metadata": {},
   "outputs": [
    {
     "name": "stdout",
     "output_type": "stream",
     "text": [
      "0    1\n",
      "1    2\n",
      "2    2\n",
      "3    3\n",
      "4    3\n",
      "5    4\n",
      "6    5\n",
      "7    5\n",
      "8    5\n",
      "9    6\n",
      "dtype: int64\n"
     ]
    }
   ],
   "source": [
    "data = [1, 2, 2, 3, 3, 4, 5, 5, 5, 6]\n",
    "series = pd.Series(data)\n",
    "\n",
    "print(series)"
   ]
  },
  {
   "cell_type": "markdown",
   "id": "e94758b5",
   "metadata": {},
   "source": [
    "Use the duplicated() method to identify the duplicate values in the Series"
   ]
  },
  {
   "cell_type": "code",
   "execution_count": 14,
   "id": "ab5fed40",
   "metadata": {},
   "outputs": [
    {
     "name": "stdout",
     "output_type": "stream",
     "text": [
      "0    False\n",
      "1    False\n",
      "2     True\n",
      "3    False\n",
      "4     True\n",
      "5    False\n",
      "6    False\n",
      "7     True\n",
      "8     True\n",
      "9    False\n",
      "dtype: bool\n"
     ]
    }
   ],
   "source": [
    "data = [1, 2, 2, 3, 3, 4, 5, 5, 5, 6]\n",
    "series = pd.Series(data)\n",
    "\n",
    "duplicates = series.duplicated()\n",
    "\n",
    "print(duplicates)"
   ]
  },
  {
   "cell_type": "markdown",
   "id": "350c918f",
   "metadata": {},
   "source": [
    "Drop the duplicate values from the Series using the drop_duplicates() method with the default\n",
    "arguments."
   ]
  },
  {
   "cell_type": "code",
   "execution_count": 15,
   "id": "795c2c3b",
   "metadata": {
    "scrolled": true
   },
   "outputs": [
    {
     "name": "stdout",
     "output_type": "stream",
     "text": [
      "0    1\n",
      "1    2\n",
      "3    3\n",
      "5    4\n",
      "6    5\n",
      "9    6\n",
      "dtype: int64\n"
     ]
    }
   ],
   "source": [
    "duplicate_values = series.drop_duplicates()\n",
    "print(duplicate_values)"
   ]
  },
  {
   "cell_type": "markdown",
   "id": "a04de9bd",
   "metadata": {},
   "source": [
    "Drop the duplicate values from the Series using the drop_duplicates() method with the\n",
    "argument keep='last'."
   ]
  },
  {
   "cell_type": "code",
   "execution_count": 16,
   "id": "ea4ff041",
   "metadata": {},
   "outputs": [
    {
     "name": "stdout",
     "output_type": "stream",
     "text": [
      "0    1\n",
      "2    2\n",
      "4    3\n",
      "5    4\n",
      "8    5\n",
      "9    6\n",
      "dtype: int64\n"
     ]
    }
   ],
   "source": [
    "series_without_duplicates = series.drop_duplicates(keep='last')\n",
    "\n",
    "print(series_without_duplicates)"
   ]
  },
  {
   "cell_type": "markdown",
   "id": "86e19643",
   "metadata": {},
   "source": [
    "Drop the duplicate values from the Series using the drop_duplicates() method with the\n",
    "argument keep=False"
   ]
  },
  {
   "cell_type": "code",
   "execution_count": 17,
   "id": "291482e5",
   "metadata": {},
   "outputs": [
    {
     "name": "stdout",
     "output_type": "stream",
     "text": [
      "0    1\n",
      "5    4\n",
      "9    6\n",
      "dtype: int64\n"
     ]
    }
   ],
   "source": [
    "series_without_duplicates = series.drop_duplicates(keep=False)\n",
    "\n",
    "print(series_without_duplicates)"
   ]
  },
  {
   "cell_type": "markdown",
   "id": "71ee35f3",
   "metadata": {},
   "source": [
    "Create a DataFrame with the following data: data = {'A': [1, np.nan, 3, 4, np.nan, 6, 7, 8, np.nan,\n",
    "10], 'B': [11, np.nan, 33, 44, np.nan, 66, np.nan, 88, 99, np.nan], 'C': [111, np.nan, 333, 444,\n",
    "np.nan, 666, 777, np.nan, 999, np.nan]}"
   ]
  },
  {
   "cell_type": "code",
   "execution_count": 18,
   "id": "90de370e",
   "metadata": {},
   "outputs": [
    {
     "name": "stdout",
     "output_type": "stream",
     "text": [
      "      A     B      C\n",
      "0   1.0  11.0  111.0\n",
      "1   NaN   NaN    NaN\n",
      "2   3.0  33.0  333.0\n",
      "3   4.0  44.0  444.0\n",
      "4   NaN   NaN    NaN\n",
      "5   6.0  66.0  666.0\n",
      "6   7.0   NaN  777.0\n",
      "7   8.0  88.0    NaN\n",
      "8   NaN  99.0  999.0\n",
      "9  10.0   NaN    NaN\n"
     ]
    }
   ],
   "source": [
    "data = {'A': [1, np.nan, 3, 4, np.nan, 6, 7, 8, np.nan, 10],\n",
    "        'B': [11, np.nan, 33, 44, np.nan, 66, np.nan, 88, 99, np.nan],\n",
    "        'C': [111, np.nan, 333, 444, np.nan, 666, 777, np.nan, 999, np.nan]}\n",
    "\n",
    "df = pd.DataFrame(data)\n",
    "\n",
    "print(df)"
   ]
  },
  {
   "cell_type": "markdown",
   "id": "72aa880e",
   "metadata": {},
   "source": [
    "Find the total number of missing values in the DataFrame."
   ]
  },
  {
   "cell_type": "code",
   "execution_count": 22,
   "id": "a1693800",
   "metadata": {},
   "outputs": [
    {
     "name": "stdout",
     "output_type": "stream",
     "text": [
      "Total missing values: 11\n"
     ]
    }
   ],
   "source": [
    "missing_values = df.isna().sum().sum()\n",
    "\n",
    "print(\"Total missing values:\", missing_values)"
   ]
  },
  {
   "cell_type": "markdown",
   "id": "0495f476",
   "metadata": {},
   "source": [
    "Use the isnull() method to identify the missing values in the DataFrame."
   ]
  },
  {
   "cell_type": "code",
   "execution_count": 20,
   "id": "d96ebb37",
   "metadata": {},
   "outputs": [
    {
     "name": "stdout",
     "output_type": "stream",
     "text": [
      "       A      B      C\n",
      "0  False  False  False\n",
      "1   True   True   True\n",
      "2  False  False  False\n",
      "3  False  False  False\n",
      "4   True   True   True\n",
      "5  False  False  False\n",
      "6  False   True  False\n",
      "7  False  False   True\n",
      "8   True  False  False\n",
      "9  False   True   True\n"
     ]
    }
   ],
   "source": [
    "missing_values = df.isnull()\n",
    "\n",
    "print(missing_values)"
   ]
  },
  {
   "cell_type": "markdown",
   "id": "4c2499cd",
   "metadata": {},
   "source": [
    "Drop the missing values from the DataFrame using the dropna() method with the default\n",
    "arguments."
   ]
  },
  {
   "cell_type": "code",
   "execution_count": 21,
   "id": "aa715ba1",
   "metadata": {},
   "outputs": [
    {
     "name": "stdout",
     "output_type": "stream",
     "text": [
      "     A     B      C\n",
      "0  1.0  11.0  111.0\n",
      "2  3.0  33.0  333.0\n",
      "3  4.0  44.0  444.0\n",
      "5  6.0  66.0  666.0\n"
     ]
    }
   ],
   "source": [
    "df_without_missing = df.dropna()\n",
    "\n",
    "print(df_without_missing)"
   ]
  },
  {
   "cell_type": "markdown",
   "id": "050eaf2a",
   "metadata": {},
   "source": [
    "Drop the missing values from the DataFrame using the dropna() method with the argument\n",
    "axis=1."
   ]
  },
  {
   "cell_type": "code",
   "execution_count": 23,
   "id": "6db660dd",
   "metadata": {},
   "outputs": [
    {
     "name": "stdout",
     "output_type": "stream",
     "text": [
      "Empty DataFrame\n",
      "Columns: []\n",
      "Index: [0, 1, 2, 3, 4, 5, 6, 7, 8, 9]\n"
     ]
    }
   ],
   "source": [
    "df_dropped = df.dropna(axis=1)\n",
    "\n",
    "print(df_dropped)"
   ]
  },
  {
   "cell_type": "markdown",
   "id": "a74d5e91",
   "metadata": {},
   "source": [
    "Drop the missing values from the DataFrame using the dropna() method with the argument\n",
    "thresh=2."
   ]
  },
  {
   "cell_type": "code",
   "execution_count": 24,
   "id": "647bde20",
   "metadata": {},
   "outputs": [
    {
     "name": "stdout",
     "output_type": "stream",
     "text": [
      "     A     B      C\n",
      "0  1.0  11.0  111.0\n",
      "2  3.0  33.0  333.0\n",
      "3  4.0  44.0  444.0\n",
      "5  6.0  66.0  666.0\n",
      "6  7.0   NaN  777.0\n",
      "7  8.0  88.0    NaN\n",
      "8  NaN  99.0  999.0\n"
     ]
    }
   ],
   "source": [
    "df_dropped = df.dropna(thresh=2)\n",
    "\n",
    "print(df_dropped)"
   ]
  },
  {
   "cell_type": "markdown",
   "id": "a17e22e1",
   "metadata": {},
   "source": [
    "Fill the missing values in the DataFrame with the value 0 using the fillna() method."
   ]
  },
  {
   "cell_type": "code",
   "execution_count": 25,
   "id": "eea17e1f",
   "metadata": {},
   "outputs": [
    {
     "name": "stdout",
     "output_type": "stream",
     "text": [
      "      A     B      C\n",
      "0   1.0  11.0  111.0\n",
      "1   0.0   0.0    0.0\n",
      "2   3.0  33.0  333.0\n",
      "3   4.0  44.0  444.0\n",
      "4   0.0   0.0    0.0\n",
      "5   6.0  66.0  666.0\n",
      "6   7.0   0.0  777.0\n",
      "7   8.0  88.0    0.0\n",
      "8   0.0  99.0  999.0\n",
      "9  10.0   0.0    0.0\n"
     ]
    }
   ],
   "source": [
    "df_filled = df.fillna(0)\n",
    "\n",
    "print(df_filled)"
   ]
  },
  {
   "cell_type": "markdown",
   "id": "ef1eaf0e",
   "metadata": {},
   "source": [
    "Create a DataFrame with the following data: data = {'A': [1, 2, 2, 3, 3, 4, 5, 5, 5, 6], 'B': [11, 22,\n",
    "22, 33, 33, 44, 55, 55, 55, 66], 'C': [111, 222, 222, 333, 333, 444, 555, 555, 555, 666]}"
   ]
  },
  {
   "cell_type": "code",
   "execution_count": 29,
   "id": "65be3b9b",
   "metadata": {},
   "outputs": [
    {
     "name": "stdout",
     "output_type": "stream",
     "text": [
      "   A   B    C\n",
      "0  1  11  111\n",
      "1  2  22  222\n",
      "2  2  22  222\n",
      "3  3  33  333\n",
      "4  3  33  333\n",
      "5  4  44  444\n",
      "6  5  55  555\n",
      "7  5  55  555\n",
      "8  5  55  555\n",
      "9  6  66  666\n"
     ]
    }
   ],
   "source": [
    "data1 = {'A': [1, 2, 2, 3, 3, 4, 5, 5, 5, 6],\n",
    "        'B': [11, 22, 22, 33, 33, 44, 55, 55, 55, 66],\n",
    "        'C': [111, 222, 222, 333, 333, 444, 555, 555, 555, 666]}\n",
    "\n",
    "df = pd.DataFrame(data1)\n",
    "\n",
    "print(df)"
   ]
  },
  {
   "cell_type": "markdown",
   "id": "5a514ff5",
   "metadata": {},
   "source": [
    "Use the duplicated() method to identify the duplicate values in the DataFrame."
   ]
  },
  {
   "cell_type": "code",
   "execution_count": 27,
   "id": "c653a7f5",
   "metadata": {},
   "outputs": [
    {
     "name": "stdout",
     "output_type": "stream",
     "text": [
      "0    False\n",
      "1    False\n",
      "2     True\n",
      "3    False\n",
      "4     True\n",
      "5    False\n",
      "6    False\n",
      "7     True\n",
      "8     True\n",
      "9    False\n",
      "dtype: bool\n"
     ]
    }
   ],
   "source": [
    "duplicates = df.duplicated()\n",
    "\n",
    "print(duplicates)"
   ]
  },
  {
   "cell_type": "markdown",
   "id": "85249724",
   "metadata": {},
   "source": [
    "Drop the duplicate values from the DataFrame using the drop_duplicates() method with the\n",
    "default arguments."
   ]
  },
  {
   "cell_type": "code",
   "execution_count": 28,
   "id": "390e653b",
   "metadata": {},
   "outputs": [
    {
     "name": "stdout",
     "output_type": "stream",
     "text": [
      "   A   B    C\n",
      "0  1  11  111\n",
      "1  2  22  222\n",
      "3  3  33  333\n",
      "5  4  44  444\n",
      "6  5  55  555\n",
      "9  6  66  666\n"
     ]
    }
   ],
   "source": [
    "duplicate_values = df.drop_duplicates()\n",
    "print(duplicate_values)"
   ]
  },
  {
   "cell_type": "markdown",
   "id": "a6aee75d",
   "metadata": {},
   "source": [
    "Drop the duplicate values from the DataFrame using the drop_duplicates() method with the\n",
    "argument subset=['A']."
   ]
  },
  {
   "cell_type": "code",
   "execution_count": 32,
   "id": "bafe52cd",
   "metadata": {},
   "outputs": [
    {
     "name": "stdout",
     "output_type": "stream",
     "text": [
      "   A   B    C\n",
      "0  1  11  111\n",
      "1  2  22  222\n",
      "3  3  33  333\n",
      "5  4  44  444\n",
      "6  5  55  555\n",
      "9  6  66  666\n"
     ]
    }
   ],
   "source": [
    "df_dropped = df.drop_duplicates(subset=['A'])\n",
    "\n",
    "print(df_dropped)"
   ]
  },
  {
   "cell_type": "markdown",
   "id": "f9c47290",
   "metadata": {},
   "source": [
    "Drop the duplicate values from the DataFrame using the drop_duplicates() method with the\n",
    "argument subset=['A', 'B'] and keep='last'"
   ]
  },
  {
   "cell_type": "code",
   "execution_count": 33,
   "id": "32657641",
   "metadata": {},
   "outputs": [
    {
     "name": "stdout",
     "output_type": "stream",
     "text": [
      "   A   B    C\n",
      "0  1  11  111\n",
      "2  2  22  222\n",
      "4  3  33  333\n",
      "5  4  44  444\n",
      "8  5  55  555\n",
      "9  6  66  666\n"
     ]
    }
   ],
   "source": [
    "df_dropped = df.drop_duplicates(subset=['A','B'], keep = 'last')\n",
    "\n",
    "print(df_dropped)"
   ]
  }
 ],
 "metadata": {
  "kernelspec": {
   "display_name": "Python 3 (ipykernel)",
   "language": "python",
   "name": "python3"
  },
  "language_info": {
   "codemirror_mode": {
    "name": "ipython",
    "version": 3
   },
   "file_extension": ".py",
   "mimetype": "text/x-python",
   "name": "python",
   "nbconvert_exporter": "python",
   "pygments_lexer": "ipython3",
   "version": "3.9.13"
  }
 },
 "nbformat": 4,
 "nbformat_minor": 5
}
