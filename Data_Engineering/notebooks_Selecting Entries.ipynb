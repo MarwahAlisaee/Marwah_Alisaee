{
  "metadata": {
    "language_info": {
      "codemirror_mode": {
        "name": "python",
        "version": 3
      },
      "file_extension": ".py",
      "mimetype": "text/x-python",
      "name": "python",
      "nbconvert_exporter": "python",
      "pygments_lexer": "ipython3",
      "version": "3.8"
    },
    "kernelspec": {
      "name": "python",
      "display_name": "Python (Pyodide)",
      "language": "python"
    }
  },
  "nbformat_minor": 4,
  "nbformat": 4,
  "cells": [
    {
      "cell_type": "markdown",
      "source": "## Exercise for Series:",
      "metadata": {}
    },
    {
      "cell_type": "code",
      "source": "#1. Create a Series with the following data: data = [5, 10, 15, 20, 25, 30], index = ['a', 'b', 'c', 'd', 'e','f']\n\nimport pandas as pd\ndata = [5, 10, 15, 20, 25, 30]\nindex = ['a', 'b', 'c', 'd', 'e', 'f']\nmy_series = pd.Series(data, index=index)\nprint(\"Series:\")\nprint(my_series)",
      "metadata": {
        "trusted": true
      },
      "execution_count": 1,
      "outputs": [
        {
          "name": "stdout",
          "text": "Series:\na     5\nb    10\nc    15\nd    20\ne    25\nf    30\ndtype: int64\n",
          "output_type": "stream"
        }
      ]
    },
    {
      "cell_type": "code",
      "source": "#2. Grab the entry with index name 'c' from the Series.\nentry_c = my_series['c']\nprint(\"\\nEntry with index name 'c':\", entry_c)",
      "metadata": {
        "trusted": true
      },
      "execution_count": 2,
      "outputs": [
        {
          "name": "stdout",
          "text": "\nEntry with index name 'c': 15\n",
          "output_type": "stream"
        }
      ]
    },
    {
      "cell_type": "code",
      "source": "#3. Grab entries in the Series with index values ['a', 'c', 'f'].\n\nentries_acf = my_series[['a', 'c', 'f']]\nprint(\"\\nEntries with index values ['a', 'c', 'f']:\")\nprint(entries_acf)",
      "metadata": {
        "trusted": true
      },
      "execution_count": 3,
      "outputs": [
        {
          "name": "stdout",
          "text": "\nEntries with index values ['a', 'c', 'f']:\na     5\nc    15\nf    30\ndtype: int64\n",
          "output_type": "stream"
        }
      ]
    },
    {
      "cell_type": "code",
      "source": "#4. Grab entries in the Series based on index logic: entries greater than 15.\n\nentries_gt_15 = my_series[my_series > 15]\nprint(\"\\nEntries greater than 15:\")\nprint(entries_gt_15)",
      "metadata": {
        "trusted": true
      },
      "execution_count": 4,
      "outputs": [
        {
          "name": "stdout",
          "text": "\nEntries greater than 15:\nd    20\ne    25\nf    30\ndtype: int64\n",
          "output_type": "stream"
        }
      ]
    },
    {
      "cell_type": "code",
      "source": "#5. replace the value 10 by 100\n\nmy_series.replace(10, 100, inplace=True)\nprint(\"\\nSeries with replaced value 10 by 100:\")\nprint(my_series)",
      "metadata": {
        "trusted": true
      },
      "execution_count": 5,
      "outputs": [
        {
          "name": "stdout",
          "text": "\nSeries with replaced value 10 by 100:\na      5\nb    100\nc     15\nd     20\ne     25\nf     30\ndtype: int64\n",
          "output_type": "stream"
        }
      ]
    },
    {
      "cell_type": "markdown",
      "source": "## Exercise for DataFrames:\n",
      "metadata": {}
    },
    {
      "cell_type": "code",
      "source": "#1. Create a DataFrame with the following data: data = {'A': [1, 2, 3, 4, 5], 'B': [10, 20, 30, 40, 50], 'C':[100, 200, 300, 400, 500]}, index = ['a', 'b', 'c', 'd', 'e']\n\nimport pandas as pd\n\ndata = {'A': [1, 2, 3, 4, 5], 'B': [10, 20, 30, 40, 50], 'C': [100, 200, 300, 400, 500]}\nindex_labels = ['a', 'b', 'c', 'd', 'e']\n\ndf = pd.DataFrame(data, index=index_labels)\nprint(df)\n",
      "metadata": {
        "trusted": true
      },
      "execution_count": 6,
      "outputs": [
        {
          "name": "stdout",
          "text": "   A   B    C\na  1  10  100\nb  2  20  200\nc  3  30  300\nd  4  40  400\ne  5  50  500\n",
          "output_type": "stream"
        }
      ]
    },
    {
      "cell_type": "code",
      "source": "#2. Grab the row with index label 'c' from the DataFrame.\nrow_c = df.loc['c']\nprint(row_c)\n",
      "metadata": {
        "trusted": true
      },
      "execution_count": 7,
      "outputs": [
        {
          "name": "stdout",
          "text": "A      3\nB     30\nC    300\nName: c, dtype: int64\n",
          "output_type": "stream"
        }
      ]
    },
    {
      "cell_type": "code",
      "source": "#3. Grab rows in the DataFrame with index range 'b' to 'e'.\nrows_b_to_e = df.loc['b':'e']\nprint(rows_b_to_e)\n",
      "metadata": {
        "trusted": true
      },
      "execution_count": 8,
      "outputs": [
        {
          "name": "stdout",
          "text": "   A   B    C\nb  2  20  200\nc  3  30  300\nd  4  40  400\ne  5  50  500\n",
          "output_type": "stream"
        }
      ]
    },
    {
      "cell_type": "code",
      "source": "#4. Grab rows in the DataFrame with index values ['a', 'c', 'e'].\nspecific_rows = df.loc[['a', 'c', 'e']]\nprint(specific_rows)\n",
      "metadata": {
        "trusted": true
      },
      "execution_count": 9,
      "outputs": [
        {
          "name": "stdout",
          "text": "   A   B    C\na  1  10  100\nc  3  30  300\ne  5  50  500\n",
          "output_type": "stream"
        }
      ]
    },
    {
      "cell_type": "code",
      "source": "#5. Grab rows in the DataFrame based on index logic: rows where the value in column 'A' is greater than 2.\nrows_A_greater_than_2 = df[df['A'] > 2]\nprint(rows_A_greater_than_2)\n",
      "metadata": {
        "trusted": true
      },
      "execution_count": 10,
      "outputs": [
        {
          "name": "stdout",
          "text": "   A   B    C\nc  3  30  300\nd  4  40  400\ne  5  50  500\n",
          "output_type": "stream"
        }
      ]
    },
    {
      "cell_type": "code",
      "source": "#6. Grab rows in the DataFrame based on index logic: rows where the value in column 'A' is greater than 2 and 'B' less than 50\nrows_A_greater_than_2_B_less_than_50 = df[(df['A'] > 2) & (df['B'] < 50)]\nprint(rows_A_greater_than_2_B_less_than_50)\n",
      "metadata": {
        "trusted": true
      },
      "execution_count": 11,
      "outputs": [
        {
          "name": "stdout",
          "text": "   A   B    C\nc  3  30  300\nd  4  40  400\n",
          "output_type": "stream"
        }
      ]
    },
    {
      "cell_type": "code",
      "source": "#7. Drop column 'A' from the data frame\ndf_without_A = df.drop('A', axis=1)\nprint(df_without_A)\n",
      "metadata": {
        "trusted": true
      },
      "execution_count": 12,
      "outputs": [
        {
          "name": "stdout",
          "text": "    B    C\na  10  100\nb  20  200\nc  30  300\nd  40  400\ne  50  500\n",
          "output_type": "stream"
        }
      ]
    },
    {
      "cell_type": "code",
      "source": "#8. drop raw 'e' from the data frame\ndf_without_e = df.drop('e', axis=0)\nprint(df_without_e)\n",
      "metadata": {
        "trusted": true
      },
      "execution_count": 14,
      "outputs": [
        {
          "name": "stdout",
          "text": "   A   B    C\na  1  10  100\nb  2  20  200\nc  3  30  300\nd  4  40  400\n",
          "output_type": "stream"
        }
      ]
    },
    {
      "cell_type": "code",
      "source": "",
      "metadata": {},
      "execution_count": null,
      "outputs": []
    }
  ]
}