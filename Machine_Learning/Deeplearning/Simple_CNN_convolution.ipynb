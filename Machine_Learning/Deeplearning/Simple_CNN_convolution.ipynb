{
 "cells": [
  {
   "cell_type": "code",
   "execution_count": 1,
   "metadata": {
    "id": "S5nlrkwO_r-9"
   },
   "outputs": [],
   "source": [
    "import tensorflow as tf\n",
    "from tensorflow.keras.layers import Input, Dense, Conv2D, MaxPooling2D, Flatten, Dropout \n",
    "from keras.models import Sequential, Model"
   ]
  },
  {
   "cell_type": "code",
   "execution_count": 2,
   "metadata": {
    "id": "xI4WpEF5_2Au"
   },
   "outputs": [],
   "source": [
    "model_cnn = Sequential([\n",
    "    Conv2D(64, 3, input_shape=(128,128,1), use_bias=True ),\n",
    "    MaxPooling2D(pool_size=4),\n",
    "    Flatten(),\n",
    "    Dropout(0.5),\n",
    "    Dense(1, activation='softmax')\n",
    "])"
   ]
  },
  {
   "cell_type": "code",
   "execution_count": 3,
   "metadata": {
    "colab": {
     "base_uri": "https://localhost:8080/"
    },
    "id": "HI83ps_m_5mh",
    "outputId": "91f5e3bf-2387-49fa-d33d-03977e60c6c4"
   },
   "outputs": [
    {
     "name": "stdout",
     "output_type": "stream",
     "text": [
      "Model: \"sequential\"\n",
      "_________________________________________________________________\n",
      " Layer (type)                Output Shape              Param #   \n",
      "=================================================================\n",
      " conv2d (Conv2D)             (None, 126, 126, 64)      640       \n",
      "                                                                 \n",
      " max_pooling2d (MaxPooling2  (None, 31, 31, 64)        0         \n",
      " D)                                                              \n",
      "                                                                 \n",
      " flatten (Flatten)           (None, 61504)             0         \n",
      "                                                                 \n",
      " dropout (Dropout)           (None, 61504)             0         \n",
      "                                                                 \n",
      " dense (Dense)               (None, 1)                 61505     \n",
      "                                                                 \n",
      "=================================================================\n",
      "Total params: 62145 (242.75 KB)\n",
      "Trainable params: 62145 (242.75 KB)\n",
      "Non-trainable params: 0 (0.00 Byte)\n",
      "_________________________________________________________________\n"
     ]
    }
   ],
   "source": [
    "model_cnn.summary()"
   ]
  },
  {
   "cell_type": "code",
   "execution_count": 4,
   "metadata": {
    "colab": {
     "base_uri": "https://localhost:8080/"
    },
    "id": "NJRA-LcadpMW",
    "outputId": "c626663b-4085-4b01-bc7f-3dbd0c264b12"
   },
   "outputs": [
    {
     "name": "stdout",
     "output_type": "stream",
     "text": [
      "WARNING:tensorflow:Compiled the loaded model, but the compiled metrics have yet to be built. `model.compile_metrics` will be empty until you train or evaluate the model.\n"
     ]
    },
    {
     "name": "stderr",
     "output_type": "stream",
     "text": [
      "C:\\Users\\Marwah\\anaconda3\\Lib\\site-packages\\keras\\src\\engine\\training.py:3000: UserWarning: You are saving your model as an HDF5 file via `model.save()`. This file format is considered legacy. We recommend using instead the native Keras format, e.g. `model.save('my_model.keras')`.\n",
      "  saving_api.save_model(\n"
     ]
    }
   ],
   "source": [
    "model_cnn.save('simple_cnn.h5')"
   ]
  },
  {
   "cell_type": "code",
   "execution_count": 5,
   "metadata": {
    "id": "Ft_WfNNp_6LT"
   },
   "outputs": [],
   "source": [
    "input_shape = (4, 28, 28, 3)"
   ]
  },
  {
   "cell_type": "code",
   "execution_count": 6,
   "metadata": {
    "id": "XMWAHKteBzvz"
   },
   "outputs": [],
   "source": [
    "x = tf.random.normal(input_shape)"
   ]
  },
  {
   "cell_type": "code",
   "execution_count": 7,
   "metadata": {
    "colab": {
     "base_uri": "https://localhost:8080/"
    },
    "id": "txqo7lcmVCtq",
    "outputId": "9e787240-353c-4b9d-e4dd-c7a6071a8bc7"
   },
   "outputs": [
    {
     "data": {
      "text/plain": [
       "TensorShape([4, 28, 28, 3])"
      ]
     },
     "execution_count": 7,
     "metadata": {},
     "output_type": "execute_result"
    }
   ],
   "source": [
    "x.shape"
   ]
  },
  {
   "cell_type": "code",
   "execution_count": 8,
   "metadata": {
    "colab": {
     "base_uri": "https://localhost:8080/"
    },
    "id": "i_2x8g8UCGTl",
    "outputId": "f1160d96-a245-45e4-cecd-18337e31b309"
   },
   "outputs": [
    {
     "data": {
      "text/plain": [
       "(28, 28, 3)"
      ]
     },
     "execution_count": 8,
     "metadata": {},
     "output_type": "execute_result"
    }
   ],
   "source": [
    "input_shape[1:]"
   ]
  },
  {
   "cell_type": "code",
   "execution_count": 9,
   "metadata": {
    "id": "BoFEIuJNB2JD"
   },
   "outputs": [],
   "source": [
    "y = Conv2D(2, 2, activation='relu', input_shape=input_shape[1:])(x)\n",
    "#y = Conv2D(2, 3, activation='relu', input_shape=input_shape[1:])(x)\n",
    "#y = Conv2D(2, 4, activation='relu', input_shape=input_shape[1:])(x)\n",
    "#y = Conv2D(2, [3,2], activation='relu', input_shape=input_shape[1:])(x)\n"
   ]
  },
  {
   "cell_type": "code",
   "execution_count": 10,
   "metadata": {
    "colab": {
     "base_uri": "https://localhost:8080/"
    },
    "id": "WSAmnP5OB4r8",
    "outputId": "e147ccbf-4fd2-41a6-8e4e-a6809282dd01"
   },
   "outputs": [
    {
     "data": {
      "text/plain": [
       "TensorShape([4, 27, 27, 2])"
      ]
     },
     "execution_count": 10,
     "metadata": {},
     "output_type": "execute_result"
    }
   ],
   "source": [
    "y.shape"
   ]
  },
  {
   "cell_type": "code",
   "execution_count": 11,
   "metadata": {
    "colab": {
     "base_uri": "https://localhost:8080/"
    },
    "id": "y7X1RkBoQexZ",
    "outputId": "7cff77b8-b9e9-4fdc-bb6a-562ef7d6719f"
   },
   "outputs": [
    {
     "data": {
      "text/plain": [
       "TensorShape([27, 27, 2])"
      ]
     },
     "execution_count": 11,
     "metadata": {},
     "output_type": "execute_result"
    }
   ],
   "source": [
    "y[0].shape"
   ]
  },
  {
   "cell_type": "code",
   "execution_count": 12,
   "metadata": {
    "id": "NOExHnmwDDN1"
   },
   "outputs": [],
   "source": [
    "z = MaxPooling2D(pool_size=3, strides=3)(y)"
   ]
  },
  {
   "cell_type": "code",
   "execution_count": 13,
   "metadata": {
    "colab": {
     "base_uri": "https://localhost:8080/"
    },
    "id": "Tg5prbZeMMJQ",
    "outputId": "c75c50c8-bc2b-4ad1-feff-6409576f8e2e"
   },
   "outputs": [
    {
     "data": {
      "text/plain": [
       "TensorShape([4, 9, 9, 2])"
      ]
     },
     "execution_count": 13,
     "metadata": {},
     "output_type": "execute_result"
    }
   ],
   "source": [
    "z.shape"
   ]
  },
  {
   "cell_type": "code",
   "execution_count": 14,
   "metadata": {
    "colab": {
     "base_uri": "https://localhost:8080/"
    },
    "id": "YA9pfyqCQgy1",
    "outputId": "0cfc561c-139c-47c0-e363-cf7d6f74406d"
   },
   "outputs": [
    {
     "data": {
      "text/plain": [
       "TensorShape([9, 9, 2])"
      ]
     },
     "execution_count": 14,
     "metadata": {},
     "output_type": "execute_result"
    }
   ],
   "source": [
    "z[0].shape"
   ]
  },
  {
   "cell_type": "code",
   "execution_count": 15,
   "metadata": {
    "id": "AUw4y5dUDsFW"
   },
   "outputs": [],
   "source": [
    "ab = Flatten()(z)"
   ]
  },
  {
   "cell_type": "code",
   "execution_count": 16,
   "metadata": {
    "colab": {
     "base_uri": "https://localhost:8080/"
    },
    "id": "Cv5DYemqDs3v",
    "outputId": "1a08bc63-5800-498a-d45b-429554f8b9e8"
   },
   "outputs": [
    {
     "data": {
      "text/plain": [
       "TensorShape([4, 162])"
      ]
     },
     "execution_count": 16,
     "metadata": {},
     "output_type": "execute_result"
    }
   ],
   "source": [
    "ab.shape"
   ]
  },
  {
   "cell_type": "code",
   "execution_count": 17,
   "metadata": {
    "colab": {
     "base_uri": "https://localhost:8080/"
    },
    "id": "ROj3CGP7QT4A",
    "outputId": "2c6243e1-7808-488a-c7be-99ca289e64df"
   },
   "outputs": [
    {
     "data": {
      "text/plain": [
       "TensorShape([162])"
      ]
     },
     "execution_count": 17,
     "metadata": {},
     "output_type": "execute_result"
    }
   ],
   "source": [
    "ab[0].shape"
   ]
  },
  {
   "cell_type": "code",
   "execution_count": 18,
   "metadata": {
    "id": "etzePy42MB6m"
   },
   "outputs": [],
   "source": [
    "abz = Dropout(0.5,  noise_shape=None, seed=10)(ab)"
   ]
  },
  {
   "cell_type": "code",
   "execution_count": 19,
   "metadata": {
    "colab": {
     "base_uri": "https://localhost:8080/"
    },
    "id": "k1bOCHzTP9Rv",
    "outputId": "b4a5444d-fa6a-43c0-985d-b5399de33d19"
   },
   "outputs": [
    {
     "data": {
      "text/plain": [
       "TensorShape([4, 162])"
      ]
     },
     "execution_count": 19,
     "metadata": {},
     "output_type": "execute_result"
    }
   ],
   "source": [
    "abz.shape"
   ]
  },
  {
   "cell_type": "code",
   "execution_count": 20,
   "metadata": {
    "colab": {
     "base_uri": "https://localhost:8080/"
    },
    "id": "2B1Z_2eaQPU_",
    "outputId": "e1293cf2-b0c6-4835-cf55-2cc41421a148"
   },
   "outputs": [
    {
     "data": {
      "text/plain": [
       "<tf.Tensor: shape=(162,), dtype=float32, numpy=\n",
       "array([1.7244483 , 2.1425734 , 0.8255292 , 0.6847329 , 1.6157376 ,\n",
       "       1.1743103 , 1.0806444 , 1.0295231 , 1.147628  , 1.5067487 ,\n",
       "       2.4450202 , 0.9559322 , 2.203899  , 1.5734937 , 1.9353607 ,\n",
       "       1.7929082 , 1.83198   , 1.4720557 , 1.4369    , 1.4159908 ,\n",
       "       1.64661   , 2.212461  , 2.2257295 , 2.3529732 , 2.305692  ,\n",
       "       1.5303214 , 2.9319313 , 0.7638989 , 1.5878749 , 1.271449  ,\n",
       "       1.9543461 , 0.38219142, 1.8911839 , 0.9412107 , 0.88735867,\n",
       "       1.8851857 , 1.0306219 , 1.6922317 , 2.1604505 , 1.4437292 ,\n",
       "       1.7579298 , 2.2413142 , 1.6698768 , 2.3329158 , 1.0009099 ,\n",
       "       2.2737396 , 1.8198942 , 1.0883857 , 1.7716792 , 1.7792026 ,\n",
       "       1.6031277 , 0.79042614, 1.4852654 , 1.0079398 , 1.972682  ,\n",
       "       1.3372201 , 2.7207217 , 0.23011471, 2.6991405 , 0.7541826 ,\n",
       "       2.3953433 , 0.8661539 , 1.371603  , 1.66512   , 1.6095507 ,\n",
       "       1.2169406 , 1.9178908 , 0.9470654 , 0.9932388 , 0.6834241 ,\n",
       "       1.4685563 , 2.0753925 , 3.4594917 , 1.8777986 , 1.6679527 ,\n",
       "       1.7461207 , 2.4353182 , 1.9576194 , 1.4881146 , 1.1256658 ,\n",
       "       1.7058241 , 1.0383556 , 2.8329654 , 0.74231875, 2.1341372 ,\n",
       "       1.7482107 , 2.7708356 , 1.3770274 , 1.7264644 , 1.2655917 ,\n",
       "       0.7124126 , 1.1418035 , 1.4779761 , 1.4001085 , 1.5247973 ,\n",
       "       0.4084107 , 1.0213697 , 1.9703747 , 2.0313654 , 1.9566116 ,\n",
       "       1.6552436 , 1.5963978 , 1.3275874 , 0.7573818 , 1.4952157 ,\n",
       "       1.1456404 , 1.328566  , 0.79584044, 1.9695024 , 1.5248811 ,\n",
       "       1.2969117 , 1.1776022 , 1.4060605 , 1.188059  , 2.869938  ,\n",
       "       1.0081158 , 1.0925257 , 1.4559333 , 1.7547458 , 1.2423928 ,\n",
       "       2.001866  , 0.82240134, 1.1551    , 1.5831802 , 2.1714127 ,\n",
       "       1.7846534 , 1.3106488 , 1.3267183 , 1.1108332 , 0.15372029,\n",
       "       1.5126828 , 1.7616237 , 2.8867736 , 0.16738144, 2.3830724 ,\n",
       "       1.6106777 , 1.8305883 , 1.2093682 , 2.4355788 , 1.6848707 ,\n",
       "       1.4852699 , 1.657704  , 1.6191425 , 0.90853   , 1.0877204 ,\n",
       "       1.3269455 , 2.3816028 , 1.1056094 , 2.2358038 , 1.2159988 ,\n",
       "       2.0455983 , 1.1589684 , 2.9816628 , 2.4624095 , 1.1272204 ,\n",
       "       1.1483723 , 1.4643478 , 1.10696   , 1.7437434 , 1.3667542 ,\n",
       "       1.6550671 , 1.0020764 ], dtype=float32)>"
      ]
     },
     "execution_count": 20,
     "metadata": {},
     "output_type": "execute_result"
    }
   ],
   "source": [
    "abz[0]"
   ]
  },
  {
   "cell_type": "code",
   "execution_count": 21,
   "metadata": {
    "id": "dbYNAs3LQRF5"
   },
   "outputs": [],
   "source": [
    "final = Dense(10, activation='softmax')(abz)"
   ]
  },
  {
   "cell_type": "code",
   "execution_count": 22,
   "metadata": {
    "colab": {
     "base_uri": "https://localhost:8080/"
    },
    "id": "WXDqZ9GbS9AK",
    "outputId": "d5330a01-6fc9-496b-f557-ab046082c41b"
   },
   "outputs": [
    {
     "data": {
      "text/plain": [
       "<tf.Tensor: shape=(4, 10), dtype=float32, numpy=\n",
       "array([[1.1878023e-02, 7.2768682e-01, 3.2785356e-03, 2.0109996e-01,\n",
       "        3.4305602e-02, 1.7453725e-03, 5.6842538e-03, 4.0512048e-03,\n",
       "        6.0908422e-03, 4.1793953e-03],\n",
       "       [9.3986411e-03, 3.3817092e-01, 9.1585219e-03, 4.4268632e-01,\n",
       "        7.3116742e-02, 7.1849935e-03, 5.2348547e-02, 5.7526017e-03,\n",
       "        1.1224801e-02, 5.0957981e-02],\n",
       "       [1.0632711e-02, 7.6564544e-01, 1.1021536e-02, 1.6585870e-01,\n",
       "        1.7009642e-02, 1.9153424e-03, 3.7175217e-03, 5.4049115e-03,\n",
       "        5.3474219e-03, 1.3446737e-02],\n",
       "       [4.6136826e-03, 1.5716401e-01, 8.5352771e-03, 7.5304633e-01,\n",
       "        5.6324247e-02, 4.1802222e-04, 7.4872351e-03, 5.6548296e-03,\n",
       "        7.7061279e-04, 5.9857881e-03]], dtype=float32)>"
      ]
     },
     "execution_count": 22,
     "metadata": {},
     "output_type": "execute_result"
    }
   ],
   "source": [
    "final"
   ]
  },
  {
   "cell_type": "code",
   "execution_count": 23,
   "metadata": {
    "id": "9_T8vfJRS-NC"
   },
   "outputs": [],
   "source": [
    "final_relu = Dense(10, activation='relu')(abz)"
   ]
  },
  {
   "cell_type": "code",
   "execution_count": 24,
   "metadata": {
    "colab": {
     "base_uri": "https://localhost:8080/"
    },
    "id": "IIf4NkabTLBH",
    "outputId": "83227f96-21de-498b-f783-56631b2c809b"
   },
   "outputs": [
    {
     "data": {
      "text/plain": [
       "<tf.Tensor: shape=(4, 10), dtype=float32, numpy=\n",
       "array([[0.        , 0.        , 2.2831926 , 0.        , 0.        ,\n",
       "        0.08356649, 0.        , 0.        , 0.        , 0.        ],\n",
       "       [0.        , 0.        , 1.2468666 , 0.        , 0.        ,\n",
       "        0.        , 0.        , 0.        , 0.        , 0.        ],\n",
       "       [0.95625037, 0.        , 0.72283864, 0.        , 0.        ,\n",
       "        0.        , 0.        , 0.        , 0.        , 0.        ],\n",
       "       [0.04564614, 0.        , 1.7439635 , 0.        , 0.        ,\n",
       "        0.        , 0.        , 0.        , 0.        , 0.        ]],\n",
       "      dtype=float32)>"
      ]
     },
     "execution_count": 24,
     "metadata": {},
     "output_type": "execute_result"
    }
   ],
   "source": [
    "final_relu"
   ]
  }
 ],
 "metadata": {
  "colab": {
   "authorship_tag": "ABX9TyORl5eM7RKFa97tWV2Rs2Ea",
   "collapsed_sections": [],
   "include_colab_link": true,
   "name": "Simple_CNN_convolution.ipynb",
   "provenance": []
  },
  "kernelspec": {
   "display_name": "Python 3 (ipykernel)",
   "language": "python",
   "name": "python3"
  },
  "language_info": {
   "codemirror_mode": {
    "name": "ipython",
    "version": 3
   },
   "file_extension": ".py",
   "mimetype": "text/x-python",
   "name": "python",
   "nbconvert_exporter": "python",
   "pygments_lexer": "ipython3",
   "version": "3.11.3"
  }
 },
 "nbformat": 4,
 "nbformat_minor": 1
}
