{
 "cells": [
  {
   "cell_type": "code",
   "execution_count": 25,
   "id": "ea2d17a2",
   "metadata": {},
   "outputs": [],
   "source": [
    "import tensorflow as tf\n",
    "from sklearn.model_selection import train_test_split\n",
    "import numpy as np\n",
    "from random import random\n",
    "\n"
   ]
  },
  {
   "cell_type": "code",
   "execution_count": 26,
   "id": "0dcfbf9a",
   "metadata": {},
   "outputs": [],
   "source": [
    "\n",
    "\n",
    "\n",
    "def generate_dataset(num_samples, test_size=0.33):\n",
    " \n",
    "\n",
    "    # build inputs/targets for sum operation: y[0][0] = x[0][0] + x[0][1]\n",
    "    x = np.array([[random()/2 for _ in range(2)] for _ in range(num_samples)])\n",
    "    y = np.array([[i[0] + i[1]] for i in x])\n",
    "\n",
    "    # split dataset into test and training sets\n",
    "    x_train, x_test, y_train, y_test = train_test_split(x, y, test_size=test_size)\n",
    "    return x_train, x_test, y_train, y_test\n",
    "\n",
    "\n"
   ]
  },
  {
   "cell_type": "code",
   "execution_count": 18,
   "id": "604592fa",
   "metadata": {},
   "outputs": [],
   "source": [
    "if __name__ == \"__main__\":\n",
    "\n",
    "    # create a dataset with 2000 samples\n",
    "    x_train, x_test, y_train, y_test = generate_dataset(5000, 0.3)\n",
    "\n",
    "    # build model with 3 layers: 2 -> 5 -> 1\n",
    "    model = tf.keras.models.Sequential([\n",
    "      tf.keras.layers.Dense(5, input_dim=2, activation=\"sigmoid\"),\n",
    "      tf.keras.layers.Dense(1, activation=\"sigmoid\")\n",
    "    ])\n",
    "\n"
   ]
  },
  {
   "cell_type": "code",
   "execution_count": 19,
   "id": "fc2630c9",
   "metadata": {},
   "outputs": [],
   "source": [
    "\n",
    "    # choose optimiser\n",
    "    optimizer = tf.keras.optimizers.SGD(learning_rate=0.1)\n"
   ]
  },
  {
   "cell_type": "code",
   "execution_count": 20,
   "id": "e3ed0b65",
   "metadata": {},
   "outputs": [],
   "source": [
    "\n",
    "    # compile model\n",
    "    model.compile(optimizer=optimizer, loss='mse')\n"
   ]
  },
  {
   "cell_type": "code",
   "execution_count": 21,
   "id": "a44ad349",
   "metadata": {},
   "outputs": [
    {
     "name": "stdout",
     "output_type": "stream",
     "text": [
      "Epoch 1/100\n",
      "110/110 [==============================] - 1s 2ms/step - loss: 0.0395\n",
      "Epoch 2/100\n",
      "110/110 [==============================] - 0s 2ms/step - loss: 0.0391\n",
      "Epoch 3/100\n",
      "110/110 [==============================] - 0s 2ms/step - loss: 0.0387\n",
      "Epoch 4/100\n",
      "110/110 [==============================] - 0s 2ms/step - loss: 0.0383\n",
      "Epoch 5/100\n",
      "110/110 [==============================] - 0s 2ms/step - loss: 0.0379\n",
      "Epoch 6/100\n",
      "110/110 [==============================] - 0s 2ms/step - loss: 0.0375\n",
      "Epoch 7/100\n",
      "110/110 [==============================] - 0s 2ms/step - loss: 0.0370\n",
      "Epoch 8/100\n",
      "110/110 [==============================] - 0s 2ms/step - loss: 0.0365\n",
      "Epoch 9/100\n",
      "110/110 [==============================] - 0s 2ms/step - loss: 0.0360\n",
      "Epoch 10/100\n",
      "110/110 [==============================] - 0s 2ms/step - loss: 0.0356\n",
      "Epoch 11/100\n",
      "110/110 [==============================] - 0s 2ms/step - loss: 0.0350\n",
      "Epoch 12/100\n",
      "110/110 [==============================] - 0s 2ms/step - loss: 0.0344\n",
      "Epoch 13/100\n",
      "110/110 [==============================] - 0s 2ms/step - loss: 0.0339\n",
      "Epoch 14/100\n",
      "110/110 [==============================] - 0s 3ms/step - loss: 0.0332\n",
      "Epoch 15/100\n",
      "110/110 [==============================] - 0s 2ms/step - loss: 0.0326\n",
      "Epoch 16/100\n",
      "110/110 [==============================] - 0s 2ms/step - loss: 0.0320\n",
      "Epoch 17/100\n",
      "110/110 [==============================] - 0s 2ms/step - loss: 0.0313\n",
      "Epoch 18/100\n",
      "110/110 [==============================] - 0s 1ms/step - loss: 0.0306\n",
      "Epoch 19/100\n",
      "110/110 [==============================] - 0s 1ms/step - loss: 0.0299\n",
      "Epoch 20/100\n",
      "110/110 [==============================] - 0s 2ms/step - loss: 0.0292\n",
      "Epoch 21/100\n",
      "110/110 [==============================] - 0s 2ms/step - loss: 0.0284\n",
      "Epoch 22/100\n",
      "110/110 [==============================] - 0s 2ms/step - loss: 0.0276\n",
      "Epoch 23/100\n",
      "110/110 [==============================] - 0s 1ms/step - loss: 0.0268\n",
      "Epoch 24/100\n",
      "110/110 [==============================] - 0s 2ms/step - loss: 0.0260\n",
      "Epoch 25/100\n",
      "110/110 [==============================] - 0s 2ms/step - loss: 0.0252\n",
      "Epoch 26/100\n",
      "110/110 [==============================] - 0s 2ms/step - loss: 0.0243\n",
      "Epoch 27/100\n",
      "110/110 [==============================] - 0s 2ms/step - loss: 0.0235\n",
      "Epoch 28/100\n",
      "110/110 [==============================] - 0s 2ms/step - loss: 0.0226\n",
      "Epoch 29/100\n",
      "110/110 [==============================] - 0s 1ms/step - loss: 0.0217\n",
      "Epoch 30/100\n",
      "110/110 [==============================] - 0s 2ms/step - loss: 0.0209\n",
      "Epoch 31/100\n",
      "110/110 [==============================] - 0s 2ms/step - loss: 0.0200\n",
      "Epoch 32/100\n",
      "110/110 [==============================] - 0s 2ms/step - loss: 0.0192\n",
      "Epoch 33/100\n",
      "110/110 [==============================] - 0s 1ms/step - loss: 0.0183\n",
      "Epoch 34/100\n",
      "110/110 [==============================] - 0s 2ms/step - loss: 0.0175\n",
      "Epoch 35/100\n",
      "110/110 [==============================] - 0s 1ms/step - loss: 0.0167\n",
      "Epoch 36/100\n",
      "110/110 [==============================] - 0s 2ms/step - loss: 0.0159\n",
      "Epoch 37/100\n",
      "110/110 [==============================] - 0s 2ms/step - loss: 0.0151\n",
      "Epoch 38/100\n",
      "110/110 [==============================] - 0s 2ms/step - loss: 0.0143\n",
      "Epoch 39/100\n",
      "110/110 [==============================] - 0s 1ms/step - loss: 0.0135\n",
      "Epoch 40/100\n",
      "110/110 [==============================] - 0s 2ms/step - loss: 0.0128\n",
      "Epoch 41/100\n",
      "110/110 [==============================] - 0s 2ms/step - loss: 0.0121\n",
      "Epoch 42/100\n",
      "110/110 [==============================] - 0s 2ms/step - loss: 0.0114\n",
      "Epoch 43/100\n",
      "110/110 [==============================] - 0s 2ms/step - loss: 0.0108\n",
      "Epoch 44/100\n",
      "110/110 [==============================] - 0s 2ms/step - loss: 0.0102\n",
      "Epoch 45/100\n",
      "110/110 [==============================] - 0s 2ms/step - loss: 0.0096\n",
      "Epoch 46/100\n",
      "110/110 [==============================] - 0s 2ms/step - loss: 0.0090\n",
      "Epoch 47/100\n",
      "110/110 [==============================] - 0s 2ms/step - loss: 0.0085\n",
      "Epoch 48/100\n",
      "110/110 [==============================] - 0s 2ms/step - loss: 0.0079\n",
      "Epoch 49/100\n",
      "110/110 [==============================] - 0s 2ms/step - loss: 0.0075\n",
      "Epoch 50/100\n",
      "110/110 [==============================] - 0s 2ms/step - loss: 0.0070\n",
      "Epoch 51/100\n",
      "110/110 [==============================] - 0s 2ms/step - loss: 0.0066\n",
      "Epoch 52/100\n",
      "110/110 [==============================] - 0s 2ms/step - loss: 0.0061\n",
      "Epoch 53/100\n",
      "110/110 [==============================] - 0s 2ms/step - loss: 0.0058\n",
      "Epoch 54/100\n",
      "110/110 [==============================] - 0s 2ms/step - loss: 0.0054\n",
      "Epoch 55/100\n",
      "110/110 [==============================] - 0s 2ms/step - loss: 0.0051\n",
      "Epoch 56/100\n",
      "110/110 [==============================] - 0s 2ms/step - loss: 0.0047\n",
      "Epoch 57/100\n",
      "110/110 [==============================] - 0s 2ms/step - loss: 0.0044\n",
      "Epoch 58/100\n",
      "110/110 [==============================] - 0s 2ms/step - loss: 0.0042\n",
      "Epoch 59/100\n",
      "110/110 [==============================] - 0s 2ms/step - loss: 0.0039\n",
      "Epoch 60/100\n",
      "110/110 [==============================] - 0s 2ms/step - loss: 0.0037\n",
      "Epoch 61/100\n",
      "110/110 [==============================] - 0s 2ms/step - loss: 0.0034\n",
      "Epoch 62/100\n",
      "110/110 [==============================] - 0s 2ms/step - loss: 0.0032\n",
      "Epoch 63/100\n",
      "110/110 [==============================] - 0s 2ms/step - loss: 0.0030\n",
      "Epoch 64/100\n",
      "110/110 [==============================] - 0s 2ms/step - loss: 0.0028\n",
      "Epoch 65/100\n",
      "110/110 [==============================] - 0s 2ms/step - loss: 0.0027\n",
      "Epoch 66/100\n",
      "110/110 [==============================] - 0s 2ms/step - loss: 0.0025\n",
      "Epoch 67/100\n",
      "110/110 [==============================] - 0s 2ms/step - loss: 0.0024\n",
      "Epoch 68/100\n",
      "110/110 [==============================] - 0s 2ms/step - loss: 0.0022\n",
      "Epoch 69/100\n",
      "110/110 [==============================] - 0s 2ms/step - loss: 0.0021\n",
      "Epoch 70/100\n",
      "110/110 [==============================] - 0s 2ms/step - loss: 0.0020\n",
      "Epoch 71/100\n",
      "110/110 [==============================] - 0s 2ms/step - loss: 0.0019\n",
      "Epoch 72/100\n",
      "110/110 [==============================] - 0s 2ms/step - loss: 0.0018\n",
      "Epoch 73/100\n",
      "110/110 [==============================] - 0s 2ms/step - loss: 0.0017\n",
      "Epoch 74/100\n",
      "110/110 [==============================] - 0s 2ms/step - loss: 0.0016\n",
      "Epoch 75/100\n",
      "110/110 [==============================] - 0s 2ms/step - loss: 0.0015\n",
      "Epoch 76/100\n",
      "110/110 [==============================] - 0s 2ms/step - loss: 0.0014\n",
      "Epoch 77/100\n",
      "110/110 [==============================] - 0s 2ms/step - loss: 0.0013\n",
      "Epoch 78/100\n",
      "110/110 [==============================] - 0s 2ms/step - loss: 0.0013\n",
      "Epoch 79/100\n",
      "110/110 [==============================] - 0s 2ms/step - loss: 0.0012\n",
      "Epoch 80/100\n",
      "110/110 [==============================] - 0s 2ms/step - loss: 0.0012\n",
      "Epoch 81/100\n",
      "110/110 [==============================] - 0s 2ms/step - loss: 0.0011\n",
      "Epoch 82/100\n",
      "110/110 [==============================] - 0s 2ms/step - loss: 0.0011\n",
      "Epoch 83/100\n",
      "110/110 [==============================] - 0s 2ms/step - loss: 0.0010\n",
      "Epoch 84/100\n",
      "110/110 [==============================] - 0s 2ms/step - loss: 9.6636e-04\n",
      "Epoch 85/100\n",
      "110/110 [==============================] - 0s 2ms/step - loss: 9.2717e-04\n",
      "Epoch 86/100\n",
      "110/110 [==============================] - 0s 2ms/step - loss: 8.9089e-04\n",
      "Epoch 87/100\n",
      "110/110 [==============================] - 0s 2ms/step - loss: 8.5739e-04\n",
      "Epoch 88/100\n",
      "110/110 [==============================] - 0s 2ms/step - loss: 8.2617e-04\n",
      "Epoch 89/100\n",
      "110/110 [==============================] - 0s 2ms/step - loss: 7.9755e-04\n",
      "Epoch 90/100\n",
      "110/110 [==============================] - 0s 2ms/step - loss: 7.7049e-04\n",
      "Epoch 91/100\n",
      "110/110 [==============================] - 0s 2ms/step - loss: 7.4575e-04\n",
      "Epoch 92/100\n",
      "110/110 [==============================] - 0s 2ms/step - loss: 7.2232e-04\n",
      "Epoch 93/100\n",
      "110/110 [==============================] - 0s 2ms/step - loss: 7.0098e-04\n",
      "Epoch 94/100\n",
      "110/110 [==============================] - 0s 2ms/step - loss: 6.8094e-04\n",
      "Epoch 95/100\n",
      "110/110 [==============================] - 0s 3ms/step - loss: 6.6261e-04\n",
      "Epoch 96/100\n",
      "110/110 [==============================] - 0s 2ms/step - loss: 6.4537e-04\n",
      "Epoch 97/100\n",
      "110/110 [==============================] - 0s 2ms/step - loss: 6.2902e-04\n",
      "Epoch 98/100\n",
      "110/110 [==============================] - 0s 2ms/step - loss: 6.1450e-04\n",
      "Epoch 99/100\n"
     ]
    },
    {
     "name": "stdout",
     "output_type": "stream",
     "text": [
      "110/110 [==============================] - 0s 2ms/step - loss: 6.0073e-04\n",
      "Epoch 100/100\n",
      "110/110 [==============================] - 0s 1ms/step - loss: 5.8803e-04\n"
     ]
    },
    {
     "data": {
      "text/plain": [
       "<keras.src.callbacks.History at 0x28b59bbab90>"
      ]
     },
     "execution_count": 21,
     "metadata": {},
     "output_type": "execute_result"
    }
   ],
   "source": [
    "  \n",
    "    # train model\n",
    "    model.fit(x_train, y_train, epochs=100)\n"
   ]
  },
  {
   "cell_type": "code",
   "execution_count": 22,
   "id": "d4b4145a",
   "metadata": {},
   "outputs": [
    {
     "name": "stdout",
     "output_type": "stream",
     "text": [
      "\n",
      "Evaluation on the test set:\n",
      "47/47 - 0s - loss: 5.1056e-04 - 294ms/epoch - 6ms/step\n"
     ]
    },
    {
     "data": {
      "text/plain": [
       "0.0005105575546622276"
      ]
     },
     "execution_count": 22,
     "metadata": {},
     "output_type": "execute_result"
    }
   ],
   "source": [
    "\n",
    "    # evaluate model on test set\n",
    "    print(\"\\nEvaluation on the test set:\")\n",
    "    model.evaluate(x_test,  y_test, verbose=2)\n"
   ]
  },
  {
   "cell_type": "code",
   "execution_count": 23,
   "id": "f92cdac9",
   "metadata": {},
   "outputs": [
    {
     "name": "stdout",
     "output_type": "stream",
     "text": [
      "1/1 [==============================] - 0s 129ms/step\n"
     ]
    }
   ],
   "source": [
    " \n",
    "    # get predictions\n",
    "    data = np.array([[0.1, 0.2], [0.2, 0.2]])\n",
    "    predictions = model.predict(data)\n",
    "\n",
    "   "
   ]
  },
  {
   "cell_type": "code",
   "execution_count": 24,
   "id": "d35f0349",
   "metadata": {},
   "outputs": [
    {
     "ename": "IndentationError",
     "evalue": "unexpected indent (4101233594.py, line 2)",
     "output_type": "error",
     "traceback": [
      "\u001b[1;36m  Cell \u001b[1;32mIn[24], line 2\u001b[1;36m\u001b[0m\n\u001b[1;33m    print(\"\\nPredictions:\")\u001b[0m\n\u001b[1;37m    ^\u001b[0m\n\u001b[1;31mIndentationError\u001b[0m\u001b[1;31m:\u001b[0m unexpected indent\n"
     ]
    }
   ],
   "source": [
    " # print predictions\n",
    "    print(\"\\nPredictions:\")\n",
    "    for d, p in zip(data, predictions):\n",
    "        print(\"{} + {} = {}\".format(d[0], d[1], p[0]))\n",
    "   "
   ]
  },
  {
   "cell_type": "code",
   "execution_count": null,
   "id": "bd9be13c",
   "metadata": {},
   "outputs": [],
   "source": []
  }
 ],
 "metadata": {
  "kernelspec": {
   "display_name": "Python 3 (ipykernel)",
   "language": "python",
   "name": "python3"
  },
  "language_info": {
   "codemirror_mode": {
    "name": "ipython",
    "version": 3
   },
   "file_extension": ".py",
   "mimetype": "text/x-python",
   "name": "python",
   "nbconvert_exporter": "python",
   "pygments_lexer": "ipython3",
   "version": "3.11.3"
  }
 },
 "nbformat": 4,
 "nbformat_minor": 5
}
