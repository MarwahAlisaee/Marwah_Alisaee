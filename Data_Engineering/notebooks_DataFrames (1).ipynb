{
  "metadata": {
    "language_info": {
      "codemirror_mode": {
        "name": "python",
        "version": 3
      },
      "file_extension": ".py",
      "mimetype": "text/x-python",
      "name": "python",
      "nbconvert_exporter": "python",
      "pygments_lexer": "ipython3",
      "version": "3.8"
    },
    "kernelspec": {
      "name": "python",
      "display_name": "Python (Pyodide)",
      "language": "python"
    }
  },
  "nbformat_minor": 4,
  "nbformat": 4,
  "cells": [
    {
      "cell_type": "markdown",
      "source": "# DATA MANIPULATION USING PYTHON",
      "metadata": {}
    },
    {
      "cell_type": "markdown",
      "source": "## OBJECTIVE:",
      "metadata": {}
    },
    {
      "cell_type": "markdown",
      "source": "### 1.Consistent and organized data \n### 2.Insightful project data access\n### 3.More valuable data\n### 4.Reduces unnecessary data points\n\n\n",
      "metadata": {}
    },
    {
      "cell_type": "markdown",
      "source": "## 1.Dataset:",
      "metadata": {}
    },
    {
      "cell_type": "markdown",
      "source": "#### The Sleep Health and Lifestyle Dataset comprises 400 rows and 13 columns, covering a wide range of variables related to sleep and daily habits. It includes details such as gender, age, occupation, sleep duration, quality of sleep, physical activity level, stress levels, BMI category, blood pressure, heart rate, daily steps, and the presence or absence of sleep disorders.\n\nhttps://www.kaggle.com/datasets/uom190346a/sleep-health-and-lifestyle-dataset",
      "metadata": {}
    },
    {
      "cell_type": "markdown",
      "source": "## 2. Get your data into a DataFrame:",
      "metadata": {}
    },
    {
      "cell_type": "markdown",
      "source": "##### Load a SLEEP DataFrame from a CSV file",
      "metadata": {}
    },
    {
      "cell_type": "code",
      "source": "import pandas as pd\nimport numpy as np\nfrom pandas import Series, DataFrame",
      "metadata": {
        "trusted": true
      },
      "execution_count": 89,
      "outputs": []
    },
    {
      "cell_type": "code",
      "source": "frame=pd.read_csv(\"Sleep_health.csv\")",
      "metadata": {
        "trusted": true
      },
      "execution_count": 90,
      "outputs": []
    },
    {
      "cell_type": "code",
      "source": "frame",
      "metadata": {
        "trusted": true
      },
      "execution_count": 91,
      "outputs": [
        {
          "execution_count": 91,
          "output_type": "execute_result",
          "data": {
            "text/plain": "     Unnamed: 0  Person ID  Gender  Age         Occupation  Sleep Duration  \\\n0             0          0    Male   27  Software Engineer             6.1   \n1             1          1    Male   28  Software Engineer             6.2   \n2             2          2    Male   28  Software Engineer             6.2   \n3             3          3    Male   28  Software Engineer             5.9   \n4             4          4    Male   28  Software Engineer             5.9   \n..          ...        ...     ...  ...                ...             ...   \n369         369        369  Female   59  Software Engineer             8.1   \n370         370        370  Female   59  Software Engineer             8.0   \n371         371        371  Female   59  Software Engineer             8.1   \n372         372        372  Female   59  Software Engineer             8.1   \n373         373        373  Female   59  Software Engineer             8.1   \n\n     Quality of Sleep  Physical Activity Level  Stress Level BMI Category  \\\n0                   6                       42             6   Overweight   \n1                   6                       60             8       Normal   \n2                   6                       60             8       Normal   \n3                   4                       30             8        Obese   \n4                   4                       30             8        Obese   \n..                ...                      ...           ...          ...   \n369                 9                       75             3   Overweight   \n370                 9                       75             3   Overweight   \n371                 9                       75             3   Overweight   \n372                 9                       75             3   Overweight   \n373                 9                       75             3   Overweight   \n\n    Blood Pressure  Heart Rate  Daily Steps  Sleep Disorder  \n0           126/83          77         4200             NaN  \n1           125/80          75        10000             NaN  \n2           125/80          75        10000             NaN  \n3           140/90          85         3000             NaN  \n4           140/90          85         3000             NaN  \n..             ...         ...          ...             ...  \n369         140/95          68         7000             NaN  \n370         140/95          68         7000             NaN  \n371         140/95          68         7000             NaN  \n372         140/95          68         7000             NaN  \n373         140/95          68         7000             NaN  \n\n[374 rows x 14 columns]",
            "text/html": "<div>\n<style scoped>\n    .dataframe tbody tr th:only-of-type {\n        vertical-align: middle;\n    }\n\n    .dataframe tbody tr th {\n        vertical-align: top;\n    }\n\n    .dataframe thead th {\n        text-align: right;\n    }\n</style>\n<table border=\"1\" class=\"dataframe\">\n  <thead>\n    <tr style=\"text-align: right;\">\n      <th></th>\n      <th>Unnamed: 0</th>\n      <th>Person ID</th>\n      <th>Gender</th>\n      <th>Age</th>\n      <th>Occupation</th>\n      <th>Sleep Duration</th>\n      <th>Quality of Sleep</th>\n      <th>Physical Activity Level</th>\n      <th>Stress Level</th>\n      <th>BMI Category</th>\n      <th>Blood Pressure</th>\n      <th>Heart Rate</th>\n      <th>Daily Steps</th>\n      <th>Sleep Disorder</th>\n    </tr>\n  </thead>\n  <tbody>\n    <tr>\n      <th>0</th>\n      <td>0</td>\n      <td>0</td>\n      <td>Male</td>\n      <td>27</td>\n      <td>Software Engineer</td>\n      <td>6.1</td>\n      <td>6</td>\n      <td>42</td>\n      <td>6</td>\n      <td>Overweight</td>\n      <td>126/83</td>\n      <td>77</td>\n      <td>4200</td>\n      <td>NaN</td>\n    </tr>\n    <tr>\n      <th>1</th>\n      <td>1</td>\n      <td>1</td>\n      <td>Male</td>\n      <td>28</td>\n      <td>Software Engineer</td>\n      <td>6.2</td>\n      <td>6</td>\n      <td>60</td>\n      <td>8</td>\n      <td>Normal</td>\n      <td>125/80</td>\n      <td>75</td>\n      <td>10000</td>\n      <td>NaN</td>\n    </tr>\n    <tr>\n      <th>2</th>\n      <td>2</td>\n      <td>2</td>\n      <td>Male</td>\n      <td>28</td>\n      <td>Software Engineer</td>\n      <td>6.2</td>\n      <td>6</td>\n      <td>60</td>\n      <td>8</td>\n      <td>Normal</td>\n      <td>125/80</td>\n      <td>75</td>\n      <td>10000</td>\n      <td>NaN</td>\n    </tr>\n    <tr>\n      <th>3</th>\n      <td>3</td>\n      <td>3</td>\n      <td>Male</td>\n      <td>28</td>\n      <td>Software Engineer</td>\n      <td>5.9</td>\n      <td>4</td>\n      <td>30</td>\n      <td>8</td>\n      <td>Obese</td>\n      <td>140/90</td>\n      <td>85</td>\n      <td>3000</td>\n      <td>NaN</td>\n    </tr>\n    <tr>\n      <th>4</th>\n      <td>4</td>\n      <td>4</td>\n      <td>Male</td>\n      <td>28</td>\n      <td>Software Engineer</td>\n      <td>5.9</td>\n      <td>4</td>\n      <td>30</td>\n      <td>8</td>\n      <td>Obese</td>\n      <td>140/90</td>\n      <td>85</td>\n      <td>3000</td>\n      <td>NaN</td>\n    </tr>\n    <tr>\n      <th>...</th>\n      <td>...</td>\n      <td>...</td>\n      <td>...</td>\n      <td>...</td>\n      <td>...</td>\n      <td>...</td>\n      <td>...</td>\n      <td>...</td>\n      <td>...</td>\n      <td>...</td>\n      <td>...</td>\n      <td>...</td>\n      <td>...</td>\n      <td>...</td>\n    </tr>\n    <tr>\n      <th>369</th>\n      <td>369</td>\n      <td>369</td>\n      <td>Female</td>\n      <td>59</td>\n      <td>Software Engineer</td>\n      <td>8.1</td>\n      <td>9</td>\n      <td>75</td>\n      <td>3</td>\n      <td>Overweight</td>\n      <td>140/95</td>\n      <td>68</td>\n      <td>7000</td>\n      <td>NaN</td>\n    </tr>\n    <tr>\n      <th>370</th>\n      <td>370</td>\n      <td>370</td>\n      <td>Female</td>\n      <td>59</td>\n      <td>Software Engineer</td>\n      <td>8.0</td>\n      <td>9</td>\n      <td>75</td>\n      <td>3</td>\n      <td>Overweight</td>\n      <td>140/95</td>\n      <td>68</td>\n      <td>7000</td>\n      <td>NaN</td>\n    </tr>\n    <tr>\n      <th>371</th>\n      <td>371</td>\n      <td>371</td>\n      <td>Female</td>\n      <td>59</td>\n      <td>Software Engineer</td>\n      <td>8.1</td>\n      <td>9</td>\n      <td>75</td>\n      <td>3</td>\n      <td>Overweight</td>\n      <td>140/95</td>\n      <td>68</td>\n      <td>7000</td>\n      <td>NaN</td>\n    </tr>\n    <tr>\n      <th>372</th>\n      <td>372</td>\n      <td>372</td>\n      <td>Female</td>\n      <td>59</td>\n      <td>Software Engineer</td>\n      <td>8.1</td>\n      <td>9</td>\n      <td>75</td>\n      <td>3</td>\n      <td>Overweight</td>\n      <td>140/95</td>\n      <td>68</td>\n      <td>7000</td>\n      <td>NaN</td>\n    </tr>\n    <tr>\n      <th>373</th>\n      <td>373</td>\n      <td>373</td>\n      <td>Female</td>\n      <td>59</td>\n      <td>Software Engineer</td>\n      <td>8.1</td>\n      <td>9</td>\n      <td>75</td>\n      <td>3</td>\n      <td>Overweight</td>\n      <td>140/95</td>\n      <td>68</td>\n      <td>7000</td>\n      <td>NaN</td>\n    </tr>\n  </tbody>\n</table>\n<p>374 rows × 14 columns</p>\n</div>"
          },
          "metadata": {}
        }
      ]
    },
    {
      "cell_type": "markdown",
      "source": "## 3. Saving a DataFrame",
      "metadata": {}
    },
    {
      "cell_type": "markdown",
      "source": "##### Saving a DataFrame to a CSV file",
      "metadata": {}
    },
    {
      "cell_type": "code",
      "source": "frame.to_csv('Sleep_health.csv', encoding='utf-8')",
      "metadata": {
        "trusted": true
      },
      "execution_count": 92,
      "outputs": []
    },
    {
      "cell_type": "markdown",
      "source": "##### Saving a DataFrame to a Python dictionary",
      "metadata": {}
    },
    {
      "cell_type": "code",
      "source": "dictionary = frame.to_dict()",
      "metadata": {
        "trusted": true
      },
      "execution_count": 93,
      "outputs": []
    },
    {
      "cell_type": "markdown",
      "source": "##### Saving a DataFrame to a Python string",
      "metadata": {}
    },
    {
      "cell_type": "code",
      "source": "string = frame.to_string()",
      "metadata": {
        "trusted": true
      },
      "execution_count": 94,
      "outputs": []
    },
    {
      "cell_type": "markdown",
      "source": "## 4. Working with the whole DataFrame",
      "metadata": {}
    },
    {
      "cell_type": "markdown",
      "source": "##### Peek at the DataFrame contents",
      "metadata": {}
    },
    {
      "cell_type": "code",
      "source": "frame.info()",
      "metadata": {
        "trusted": true
      },
      "execution_count": 95,
      "outputs": [
        {
          "name": "stdout",
          "text": "<class 'pandas.core.frame.DataFrame'>\nRangeIndex: 374 entries, 0 to 373\nData columns (total 14 columns):\n #   Column                   Non-Null Count  Dtype  \n---  ------                   --------------  -----  \n 0   Unnamed: 0               374 non-null    int64  \n 1   Person ID                374 non-null    int64  \n 2   Gender                   374 non-null    object \n 3   Age                      374 non-null    int64  \n 4   Occupation               374 non-null    object \n 5   Sleep Duration           374 non-null    float64\n 6   Quality of Sleep         374 non-null    int64  \n 7   Physical Activity Level  374 non-null    int64  \n 8   Stress Level             374 non-null    int64  \n 9   BMI Category             374 non-null    object \n 10  Blood Pressure           374 non-null    object \n 11  Heart Rate               374 non-null    int64  \n 12  Daily Steps              374 non-null    int64  \n 13  Sleep Disorder           0 non-null      float64\ndtypes: float64(2), int64(8), object(4)\nmemory usage: 35.1+ KB\n",
          "output_type": "stream"
        }
      ]
    },
    {
      "cell_type": "markdown",
      "source": "##### Summary of column statistics",
      "metadata": {}
    },
    {
      "cell_type": "code",
      "source": "frame.describe()",
      "metadata": {
        "trusted": true
      },
      "execution_count": 96,
      "outputs": [
        {
          "execution_count": 96,
          "output_type": "execute_result",
          "data": {
            "text/plain": "       Unnamed: 0   Person ID         Age  Sleep Duration  Quality of Sleep  \\\ncount  374.000000  374.000000  374.000000      374.000000        374.000000   \nmean   186.500000  186.500000   42.184492        7.132086          7.312834   \nstd    108.108742  108.108742    8.673133        0.795657          1.196956   \nmin      0.000000    0.000000   27.000000        5.800000          4.000000   \n25%     93.250000   93.250000   35.250000        6.400000          6.000000   \n50%    186.500000  186.500000   43.000000        7.200000          7.000000   \n75%    279.750000  279.750000   50.000000        7.800000          8.000000   \nmax    373.000000  373.000000   59.000000        8.500000          9.000000   \n\n       Physical Activity Level  Stress Level  Heart Rate   Daily Steps  \\\ncount               374.000000    374.000000  374.000000    374.000000   \nmean                 59.171123      5.385027   70.165775   6816.844920   \nstd                  20.830804      1.774526    4.135676   1617.915679   \nmin                  30.000000      3.000000   65.000000   3000.000000   \n25%                  45.000000      4.000000   68.000000   5600.000000   \n50%                  60.000000      5.000000   70.000000   7000.000000   \n75%                  75.000000      7.000000   72.000000   8000.000000   \nmax                  90.000000      8.000000   86.000000  10000.000000   \n\n       Sleep Disorder  \ncount             0.0  \nmean              NaN  \nstd               NaN  \nmin               NaN  \n25%               NaN  \n50%               NaN  \n75%               NaN  \nmax               NaN  ",
            "text/html": "<div>\n<style scoped>\n    .dataframe tbody tr th:only-of-type {\n        vertical-align: middle;\n    }\n\n    .dataframe tbody tr th {\n        vertical-align: top;\n    }\n\n    .dataframe thead th {\n        text-align: right;\n    }\n</style>\n<table border=\"1\" class=\"dataframe\">\n  <thead>\n    <tr style=\"text-align: right;\">\n      <th></th>\n      <th>Unnamed: 0</th>\n      <th>Person ID</th>\n      <th>Age</th>\n      <th>Sleep Duration</th>\n      <th>Quality of Sleep</th>\n      <th>Physical Activity Level</th>\n      <th>Stress Level</th>\n      <th>Heart Rate</th>\n      <th>Daily Steps</th>\n      <th>Sleep Disorder</th>\n    </tr>\n  </thead>\n  <tbody>\n    <tr>\n      <th>count</th>\n      <td>374.000000</td>\n      <td>374.000000</td>\n      <td>374.000000</td>\n      <td>374.000000</td>\n      <td>374.000000</td>\n      <td>374.000000</td>\n      <td>374.000000</td>\n      <td>374.000000</td>\n      <td>374.000000</td>\n      <td>0.0</td>\n    </tr>\n    <tr>\n      <th>mean</th>\n      <td>186.500000</td>\n      <td>186.500000</td>\n      <td>42.184492</td>\n      <td>7.132086</td>\n      <td>7.312834</td>\n      <td>59.171123</td>\n      <td>5.385027</td>\n      <td>70.165775</td>\n      <td>6816.844920</td>\n      <td>NaN</td>\n    </tr>\n    <tr>\n      <th>std</th>\n      <td>108.108742</td>\n      <td>108.108742</td>\n      <td>8.673133</td>\n      <td>0.795657</td>\n      <td>1.196956</td>\n      <td>20.830804</td>\n      <td>1.774526</td>\n      <td>4.135676</td>\n      <td>1617.915679</td>\n      <td>NaN</td>\n    </tr>\n    <tr>\n      <th>min</th>\n      <td>0.000000</td>\n      <td>0.000000</td>\n      <td>27.000000</td>\n      <td>5.800000</td>\n      <td>4.000000</td>\n      <td>30.000000</td>\n      <td>3.000000</td>\n      <td>65.000000</td>\n      <td>3000.000000</td>\n      <td>NaN</td>\n    </tr>\n    <tr>\n      <th>25%</th>\n      <td>93.250000</td>\n      <td>93.250000</td>\n      <td>35.250000</td>\n      <td>6.400000</td>\n      <td>6.000000</td>\n      <td>45.000000</td>\n      <td>4.000000</td>\n      <td>68.000000</td>\n      <td>5600.000000</td>\n      <td>NaN</td>\n    </tr>\n    <tr>\n      <th>50%</th>\n      <td>186.500000</td>\n      <td>186.500000</td>\n      <td>43.000000</td>\n      <td>7.200000</td>\n      <td>7.000000</td>\n      <td>60.000000</td>\n      <td>5.000000</td>\n      <td>70.000000</td>\n      <td>7000.000000</td>\n      <td>NaN</td>\n    </tr>\n    <tr>\n      <th>75%</th>\n      <td>279.750000</td>\n      <td>279.750000</td>\n      <td>50.000000</td>\n      <td>7.800000</td>\n      <td>8.000000</td>\n      <td>75.000000</td>\n      <td>7.000000</td>\n      <td>72.000000</td>\n      <td>8000.000000</td>\n      <td>NaN</td>\n    </tr>\n    <tr>\n      <th>max</th>\n      <td>373.000000</td>\n      <td>373.000000</td>\n      <td>59.000000</td>\n      <td>8.500000</td>\n      <td>9.000000</td>\n      <td>90.000000</td>\n      <td>8.000000</td>\n      <td>86.000000</td>\n      <td>10000.000000</td>\n      <td>NaN</td>\n    </tr>\n  </tbody>\n</table>\n</div>"
          },
          "metadata": {}
        }
      ]
    },
    {
      "cell_type": "markdown",
      "source": "#### Head",
      "metadata": {}
    },
    {
      "cell_type": "code",
      "source": "frame.head(3)",
      "metadata": {
        "trusted": true
      },
      "execution_count": 97,
      "outputs": [
        {
          "execution_count": 97,
          "output_type": "execute_result",
          "data": {
            "text/plain": "   Unnamed: 0  Person ID Gender  Age         Occupation  Sleep Duration  \\\n0           0          0   Male   27  Software Engineer             6.1   \n1           1          1   Male   28  Software Engineer             6.2   \n2           2          2   Male   28  Software Engineer             6.2   \n\n   Quality of Sleep  Physical Activity Level  Stress Level BMI Category  \\\n0                 6                       42             6   Overweight   \n1                 6                       60             8       Normal   \n2                 6                       60             8       Normal   \n\n  Blood Pressure  Heart Rate  Daily Steps  Sleep Disorder  \n0         126/83          77         4200             NaN  \n1         125/80          75        10000             NaN  \n2         125/80          75        10000             NaN  ",
            "text/html": "<div>\n<style scoped>\n    .dataframe tbody tr th:only-of-type {\n        vertical-align: middle;\n    }\n\n    .dataframe tbody tr th {\n        vertical-align: top;\n    }\n\n    .dataframe thead th {\n        text-align: right;\n    }\n</style>\n<table border=\"1\" class=\"dataframe\">\n  <thead>\n    <tr style=\"text-align: right;\">\n      <th></th>\n      <th>Unnamed: 0</th>\n      <th>Person ID</th>\n      <th>Gender</th>\n      <th>Age</th>\n      <th>Occupation</th>\n      <th>Sleep Duration</th>\n      <th>Quality of Sleep</th>\n      <th>Physical Activity Level</th>\n      <th>Stress Level</th>\n      <th>BMI Category</th>\n      <th>Blood Pressure</th>\n      <th>Heart Rate</th>\n      <th>Daily Steps</th>\n      <th>Sleep Disorder</th>\n    </tr>\n  </thead>\n  <tbody>\n    <tr>\n      <th>0</th>\n      <td>0</td>\n      <td>0</td>\n      <td>Male</td>\n      <td>27</td>\n      <td>Software Engineer</td>\n      <td>6.1</td>\n      <td>6</td>\n      <td>42</td>\n      <td>6</td>\n      <td>Overweight</td>\n      <td>126/83</td>\n      <td>77</td>\n      <td>4200</td>\n      <td>NaN</td>\n    </tr>\n    <tr>\n      <th>1</th>\n      <td>1</td>\n      <td>1</td>\n      <td>Male</td>\n      <td>28</td>\n      <td>Software Engineer</td>\n      <td>6.2</td>\n      <td>6</td>\n      <td>60</td>\n      <td>8</td>\n      <td>Normal</td>\n      <td>125/80</td>\n      <td>75</td>\n      <td>10000</td>\n      <td>NaN</td>\n    </tr>\n    <tr>\n      <th>2</th>\n      <td>2</td>\n      <td>2</td>\n      <td>Male</td>\n      <td>28</td>\n      <td>Software Engineer</td>\n      <td>6.2</td>\n      <td>6</td>\n      <td>60</td>\n      <td>8</td>\n      <td>Normal</td>\n      <td>125/80</td>\n      <td>75</td>\n      <td>10000</td>\n      <td>NaN</td>\n    </tr>\n  </tbody>\n</table>\n</div>"
          },
          "metadata": {}
        }
      ]
    },
    {
      "cell_type": "markdown",
      "source": "#### Tail",
      "metadata": {}
    },
    {
      "cell_type": "code",
      "source": "frame.tail(2)",
      "metadata": {
        "trusted": true
      },
      "execution_count": 98,
      "outputs": [
        {
          "execution_count": 98,
          "output_type": "execute_result",
          "data": {
            "text/plain": "     Unnamed: 0  Person ID  Gender  Age         Occupation  Sleep Duration  \\\n372         372        372  Female   59  Software Engineer             8.1   \n373         373        373  Female   59  Software Engineer             8.1   \n\n     Quality of Sleep  Physical Activity Level  Stress Level BMI Category  \\\n372                 9                       75             3   Overweight   \n373                 9                       75             3   Overweight   \n\n    Blood Pressure  Heart Rate  Daily Steps  Sleep Disorder  \n372         140/95          68         7000             NaN  \n373         140/95          68         7000             NaN  ",
            "text/html": "<div>\n<style scoped>\n    .dataframe tbody tr th:only-of-type {\n        vertical-align: middle;\n    }\n\n    .dataframe tbody tr th {\n        vertical-align: top;\n    }\n\n    .dataframe thead th {\n        text-align: right;\n    }\n</style>\n<table border=\"1\" class=\"dataframe\">\n  <thead>\n    <tr style=\"text-align: right;\">\n      <th></th>\n      <th>Unnamed: 0</th>\n      <th>Person ID</th>\n      <th>Gender</th>\n      <th>Age</th>\n      <th>Occupation</th>\n      <th>Sleep Duration</th>\n      <th>Quality of Sleep</th>\n      <th>Physical Activity Level</th>\n      <th>Stress Level</th>\n      <th>BMI Category</th>\n      <th>Blood Pressure</th>\n      <th>Heart Rate</th>\n      <th>Daily Steps</th>\n      <th>Sleep Disorder</th>\n    </tr>\n  </thead>\n  <tbody>\n    <tr>\n      <th>372</th>\n      <td>372</td>\n      <td>372</td>\n      <td>Female</td>\n      <td>59</td>\n      <td>Software Engineer</td>\n      <td>8.1</td>\n      <td>9</td>\n      <td>75</td>\n      <td>3</td>\n      <td>Overweight</td>\n      <td>140/95</td>\n      <td>68</td>\n      <td>7000</td>\n      <td>NaN</td>\n    </tr>\n    <tr>\n      <th>373</th>\n      <td>373</td>\n      <td>373</td>\n      <td>Female</td>\n      <td>59</td>\n      <td>Software Engineer</td>\n      <td>8.1</td>\n      <td>9</td>\n      <td>75</td>\n      <td>3</td>\n      <td>Overweight</td>\n      <td>140/95</td>\n      <td>68</td>\n      <td>7000</td>\n      <td>NaN</td>\n    </tr>\n  </tbody>\n</table>\n</div>"
          },
          "metadata": {}
        }
      ]
    },
    {
      "cell_type": "markdown",
      "source": "##### Shape (row-count, column-count)",
      "metadata": {}
    },
    {
      "cell_type": "code",
      "source": "frame.shape",
      "metadata": {
        "trusted": true
      },
      "execution_count": 99,
      "outputs": [
        {
          "execution_count": 99,
          "output_type": "execute_result",
          "data": {
            "text/plain": "(374, 14)"
          },
          "metadata": {}
        }
      ]
    },
    {
      "cell_type": "markdown",
      "source": "## 5. Working with Rows ",
      "metadata": {}
    },
    {
      "cell_type": "markdown",
      "source": "##### Keeping rows",
      "metadata": {}
    },
    {
      "cell_type": "code",
      "source": "df = frame[frame['Age']== 59]\nprint (df)",
      "metadata": {
        "trusted": true
      },
      "execution_count": 100,
      "outputs": [
        {
          "name": "stdout",
          "text": "     Unnamed: 0  Person ID  Gender  Age         Occupation  Sleep Duration  \\\n358         358        358  Female   59  Software Engineer             8.0   \n359         359        359  Female   59  Software Engineer             8.1   \n360         360        360  Female   59  Software Engineer             8.2   \n361         361        361  Female   59  Software Engineer             8.2   \n362         362        362  Female   59  Software Engineer             8.2   \n363         363        363  Female   59  Software Engineer             8.2   \n364         364        364  Female   59  Software Engineer             8.0   \n365         365        365  Female   59  Software Engineer             8.0   \n366         366        366  Female   59  Software Engineer             8.1   \n367         367        367  Female   59  Software Engineer             8.0   \n368         368        368  Female   59  Software Engineer             8.1   \n369         369        369  Female   59  Software Engineer             8.1   \n370         370        370  Female   59  Software Engineer             8.0   \n371         371        371  Female   59  Software Engineer             8.1   \n372         372        372  Female   59  Software Engineer             8.1   \n373         373        373  Female   59  Software Engineer             8.1   \n\n     Quality of Sleep  Physical Activity Level  Stress Level BMI Category  \\\n358                 9                       75             3   Overweight   \n359                 9                       75             3   Overweight   \n360                 9                       75             3   Overweight   \n361                 9                       75             3   Overweight   \n362                 9                       75             3   Overweight   \n363                 9                       75             3   Overweight   \n364                 9                       75             3   Overweight   \n365                 9                       75             3   Overweight   \n366                 9                       75             3   Overweight   \n367                 9                       75             3   Overweight   \n368                 9                       75             3   Overweight   \n369                 9                       75             3   Overweight   \n370                 9                       75             3   Overweight   \n371                 9                       75             3   Overweight   \n372                 9                       75             3   Overweight   \n373                 9                       75             3   Overweight   \n\n    Blood Pressure  Heart Rate  Daily Steps  Sleep Disorder  \n358         140/95          68         7000             NaN  \n359         140/95          68         7000             NaN  \n360         140/95          68         7000             NaN  \n361         140/95          68         7000             NaN  \n362         140/95          68         7000             NaN  \n363         140/95          68         7000             NaN  \n364         140/95          68         7000             NaN  \n365         140/95          68         7000             NaN  \n366         140/95          68         7000             NaN  \n367         140/95          68         7000             NaN  \n368         140/95          68         7000             NaN  \n369         140/95          68         7000             NaN  \n370         140/95          68         7000             NaN  \n371         140/95          68         7000             NaN  \n372         140/95          68         7000             NaN  \n373         140/95          68         7000             NaN  \n",
          "output_type": "stream"
        }
      ]
    },
    {
      "cell_type": "markdown",
      "source": "##### Dropping rows",
      "metadata": {}
    },
    {
      "cell_type": "code",
      "source": "frame = frame[(frame['Gender']!= 'Male') & (frame['Age']!= 59) & (frame['Quality of Sleep']!= 9)]\nframe",
      "metadata": {
        "trusted": true
      },
      "execution_count": 101,
      "outputs": [
        {
          "execution_count": 101,
          "output_type": "execute_result",
          "data": {
            "text/plain": "     Unnamed: 0  Person ID  Gender  Age         Occupation  Sleep Duration  \\\n16           16         16  Female   29  Software Engineer             6.5   \n18           18         18  Female   29  Software Engineer             6.5   \n30           30         30  Female   30  Software Engineer             6.4   \n31           31         31  Female   30  Software Engineer             6.4   \n32           32         32  Female   31  Software Engineer             7.9   \n..          ...        ...     ...  ...                ...             ...   \n307         307        307  Female   52  Software Engineer             6.5   \n308         308        308  Female   52  Software Engineer             6.6   \n309         309        309  Female   52  Software Engineer             6.6   \n310         310        310  Female   52  Software Engineer             6.6   \n311         311        311  Female   52  Software Engineer             6.6   \n\n     Quality of Sleep  Physical Activity Level  Stress Level   BMI Category  \\\n16                  5                       40             7  Normal Weight   \n18                  5                       40             7  Normal Weight   \n30                  5                       35             7  Normal Weight   \n31                  5                       35             7  Normal Weight   \n32                  8                       75             4  Normal Weight   \n..                ...                      ...           ...            ...   \n307                 7                       45             7     Overweight   \n308                 7                       45             7     Overweight   \n309                 7                       45             7     Overweight   \n310                 7                       45             7     Overweight   \n311                 7                       45             7     Overweight   \n\n    Blood Pressure  Heart Rate  Daily Steps  Sleep Disorder  \n16          132/87          80         4000             NaN  \n18          132/87          80         4000             NaN  \n30          130/86          78         4100             NaN  \n31          130/86          78         4100             NaN  \n32          117/76          69         6800             NaN  \n..             ...         ...          ...             ...  \n307         130/85          72         6000             NaN  \n308         130/85          72         6000             NaN  \n309         130/85          72         6000             NaN  \n310         130/85          72         6000             NaN  \n311         130/85          72         6000             NaN  \n\n[116 rows x 14 columns]",
            "text/html": "<div>\n<style scoped>\n    .dataframe tbody tr th:only-of-type {\n        vertical-align: middle;\n    }\n\n    .dataframe tbody tr th {\n        vertical-align: top;\n    }\n\n    .dataframe thead th {\n        text-align: right;\n    }\n</style>\n<table border=\"1\" class=\"dataframe\">\n  <thead>\n    <tr style=\"text-align: right;\">\n      <th></th>\n      <th>Unnamed: 0</th>\n      <th>Person ID</th>\n      <th>Gender</th>\n      <th>Age</th>\n      <th>Occupation</th>\n      <th>Sleep Duration</th>\n      <th>Quality of Sleep</th>\n      <th>Physical Activity Level</th>\n      <th>Stress Level</th>\n      <th>BMI Category</th>\n      <th>Blood Pressure</th>\n      <th>Heart Rate</th>\n      <th>Daily Steps</th>\n      <th>Sleep Disorder</th>\n    </tr>\n  </thead>\n  <tbody>\n    <tr>\n      <th>16</th>\n      <td>16</td>\n      <td>16</td>\n      <td>Female</td>\n      <td>29</td>\n      <td>Software Engineer</td>\n      <td>6.5</td>\n      <td>5</td>\n      <td>40</td>\n      <td>7</td>\n      <td>Normal Weight</td>\n      <td>132/87</td>\n      <td>80</td>\n      <td>4000</td>\n      <td>NaN</td>\n    </tr>\n    <tr>\n      <th>18</th>\n      <td>18</td>\n      <td>18</td>\n      <td>Female</td>\n      <td>29</td>\n      <td>Software Engineer</td>\n      <td>6.5</td>\n      <td>5</td>\n      <td>40</td>\n      <td>7</td>\n      <td>Normal Weight</td>\n      <td>132/87</td>\n      <td>80</td>\n      <td>4000</td>\n      <td>NaN</td>\n    </tr>\n    <tr>\n      <th>30</th>\n      <td>30</td>\n      <td>30</td>\n      <td>Female</td>\n      <td>30</td>\n      <td>Software Engineer</td>\n      <td>6.4</td>\n      <td>5</td>\n      <td>35</td>\n      <td>7</td>\n      <td>Normal Weight</td>\n      <td>130/86</td>\n      <td>78</td>\n      <td>4100</td>\n      <td>NaN</td>\n    </tr>\n    <tr>\n      <th>31</th>\n      <td>31</td>\n      <td>31</td>\n      <td>Female</td>\n      <td>30</td>\n      <td>Software Engineer</td>\n      <td>6.4</td>\n      <td>5</td>\n      <td>35</td>\n      <td>7</td>\n      <td>Normal Weight</td>\n      <td>130/86</td>\n      <td>78</td>\n      <td>4100</td>\n      <td>NaN</td>\n    </tr>\n    <tr>\n      <th>32</th>\n      <td>32</td>\n      <td>32</td>\n      <td>Female</td>\n      <td>31</td>\n      <td>Software Engineer</td>\n      <td>7.9</td>\n      <td>8</td>\n      <td>75</td>\n      <td>4</td>\n      <td>Normal Weight</td>\n      <td>117/76</td>\n      <td>69</td>\n      <td>6800</td>\n      <td>NaN</td>\n    </tr>\n    <tr>\n      <th>...</th>\n      <td>...</td>\n      <td>...</td>\n      <td>...</td>\n      <td>...</td>\n      <td>...</td>\n      <td>...</td>\n      <td>...</td>\n      <td>...</td>\n      <td>...</td>\n      <td>...</td>\n      <td>...</td>\n      <td>...</td>\n      <td>...</td>\n      <td>...</td>\n    </tr>\n    <tr>\n      <th>307</th>\n      <td>307</td>\n      <td>307</td>\n      <td>Female</td>\n      <td>52</td>\n      <td>Software Engineer</td>\n      <td>6.5</td>\n      <td>7</td>\n      <td>45</td>\n      <td>7</td>\n      <td>Overweight</td>\n      <td>130/85</td>\n      <td>72</td>\n      <td>6000</td>\n      <td>NaN</td>\n    </tr>\n    <tr>\n      <th>308</th>\n      <td>308</td>\n      <td>308</td>\n      <td>Female</td>\n      <td>52</td>\n      <td>Software Engineer</td>\n      <td>6.6</td>\n      <td>7</td>\n      <td>45</td>\n      <td>7</td>\n      <td>Overweight</td>\n      <td>130/85</td>\n      <td>72</td>\n      <td>6000</td>\n      <td>NaN</td>\n    </tr>\n    <tr>\n      <th>309</th>\n      <td>309</td>\n      <td>309</td>\n      <td>Female</td>\n      <td>52</td>\n      <td>Software Engineer</td>\n      <td>6.6</td>\n      <td>7</td>\n      <td>45</td>\n      <td>7</td>\n      <td>Overweight</td>\n      <td>130/85</td>\n      <td>72</td>\n      <td>6000</td>\n      <td>NaN</td>\n    </tr>\n    <tr>\n      <th>310</th>\n      <td>310</td>\n      <td>310</td>\n      <td>Female</td>\n      <td>52</td>\n      <td>Software Engineer</td>\n      <td>6.6</td>\n      <td>7</td>\n      <td>45</td>\n      <td>7</td>\n      <td>Overweight</td>\n      <td>130/85</td>\n      <td>72</td>\n      <td>6000</td>\n      <td>NaN</td>\n    </tr>\n    <tr>\n      <th>311</th>\n      <td>311</td>\n      <td>311</td>\n      <td>Female</td>\n      <td>52</td>\n      <td>Software Engineer</td>\n      <td>6.6</td>\n      <td>7</td>\n      <td>45</td>\n      <td>7</td>\n      <td>Overweight</td>\n      <td>130/85</td>\n      <td>72</td>\n      <td>6000</td>\n      <td>NaN</td>\n    </tr>\n  </tbody>\n</table>\n<p>116 rows × 14 columns</p>\n</div>"
          },
          "metadata": {}
        }
      ]
    },
    {
      "cell_type": "markdown",
      "source": "##### null values (NaN)",
      "metadata": {}
    },
    {
      "cell_type": "code",
      "source": "#first replace (Nane) to (NaN):\n\nframe.replace('None', np.nan,inplace=True)\nframe",
      "metadata": {
        "trusted": true
      },
      "execution_count": 102,
      "outputs": [
        {
          "name": "stderr",
          "text": "<ipython-input-102-847db0d35163>:3: SettingWithCopyWarning: \nA value is trying to be set on a copy of a slice from a DataFrame\n\nSee the caveats in the documentation: https://pandas.pydata.org/pandas-docs/stable/user_guide/indexing.html#returning-a-view-versus-a-copy\n  frame.replace('None', np.nan,inplace=True)\n",
          "output_type": "stream"
        },
        {
          "execution_count": 102,
          "output_type": "execute_result",
          "data": {
            "text/plain": "     Unnamed: 0  Person ID  Gender  Age         Occupation  Sleep Duration  \\\n16           16         16  Female   29  Software Engineer             6.5   \n18           18         18  Female   29  Software Engineer             6.5   \n30           30         30  Female   30  Software Engineer             6.4   \n31           31         31  Female   30  Software Engineer             6.4   \n32           32         32  Female   31  Software Engineer             7.9   \n..          ...        ...     ...  ...                ...             ...   \n307         307        307  Female   52  Software Engineer             6.5   \n308         308        308  Female   52  Software Engineer             6.6   \n309         309        309  Female   52  Software Engineer             6.6   \n310         310        310  Female   52  Software Engineer             6.6   \n311         311        311  Female   52  Software Engineer             6.6   \n\n     Quality of Sleep  Physical Activity Level  Stress Level   BMI Category  \\\n16                  5                       40             7  Normal Weight   \n18                  5                       40             7  Normal Weight   \n30                  5                       35             7  Normal Weight   \n31                  5                       35             7  Normal Weight   \n32                  8                       75             4  Normal Weight   \n..                ...                      ...           ...            ...   \n307                 7                       45             7     Overweight   \n308                 7                       45             7     Overweight   \n309                 7                       45             7     Overweight   \n310                 7                       45             7     Overweight   \n311                 7                       45             7     Overweight   \n\n    Blood Pressure  Heart Rate  Daily Steps  Sleep Disorder  \n16          132/87          80         4000             NaN  \n18          132/87          80         4000             NaN  \n30          130/86          78         4100             NaN  \n31          130/86          78         4100             NaN  \n32          117/76          69         6800             NaN  \n..             ...         ...          ...             ...  \n307         130/85          72         6000             NaN  \n308         130/85          72         6000             NaN  \n309         130/85          72         6000             NaN  \n310         130/85          72         6000             NaN  \n311         130/85          72         6000             NaN  \n\n[116 rows x 14 columns]",
            "text/html": "<div>\n<style scoped>\n    .dataframe tbody tr th:only-of-type {\n        vertical-align: middle;\n    }\n\n    .dataframe tbody tr th {\n        vertical-align: top;\n    }\n\n    .dataframe thead th {\n        text-align: right;\n    }\n</style>\n<table border=\"1\" class=\"dataframe\">\n  <thead>\n    <tr style=\"text-align: right;\">\n      <th></th>\n      <th>Unnamed: 0</th>\n      <th>Person ID</th>\n      <th>Gender</th>\n      <th>Age</th>\n      <th>Occupation</th>\n      <th>Sleep Duration</th>\n      <th>Quality of Sleep</th>\n      <th>Physical Activity Level</th>\n      <th>Stress Level</th>\n      <th>BMI Category</th>\n      <th>Blood Pressure</th>\n      <th>Heart Rate</th>\n      <th>Daily Steps</th>\n      <th>Sleep Disorder</th>\n    </tr>\n  </thead>\n  <tbody>\n    <tr>\n      <th>16</th>\n      <td>16</td>\n      <td>16</td>\n      <td>Female</td>\n      <td>29</td>\n      <td>Software Engineer</td>\n      <td>6.5</td>\n      <td>5</td>\n      <td>40</td>\n      <td>7</td>\n      <td>Normal Weight</td>\n      <td>132/87</td>\n      <td>80</td>\n      <td>4000</td>\n      <td>NaN</td>\n    </tr>\n    <tr>\n      <th>18</th>\n      <td>18</td>\n      <td>18</td>\n      <td>Female</td>\n      <td>29</td>\n      <td>Software Engineer</td>\n      <td>6.5</td>\n      <td>5</td>\n      <td>40</td>\n      <td>7</td>\n      <td>Normal Weight</td>\n      <td>132/87</td>\n      <td>80</td>\n      <td>4000</td>\n      <td>NaN</td>\n    </tr>\n    <tr>\n      <th>30</th>\n      <td>30</td>\n      <td>30</td>\n      <td>Female</td>\n      <td>30</td>\n      <td>Software Engineer</td>\n      <td>6.4</td>\n      <td>5</td>\n      <td>35</td>\n      <td>7</td>\n      <td>Normal Weight</td>\n      <td>130/86</td>\n      <td>78</td>\n      <td>4100</td>\n      <td>NaN</td>\n    </tr>\n    <tr>\n      <th>31</th>\n      <td>31</td>\n      <td>31</td>\n      <td>Female</td>\n      <td>30</td>\n      <td>Software Engineer</td>\n      <td>6.4</td>\n      <td>5</td>\n      <td>35</td>\n      <td>7</td>\n      <td>Normal Weight</td>\n      <td>130/86</td>\n      <td>78</td>\n      <td>4100</td>\n      <td>NaN</td>\n    </tr>\n    <tr>\n      <th>32</th>\n      <td>32</td>\n      <td>32</td>\n      <td>Female</td>\n      <td>31</td>\n      <td>Software Engineer</td>\n      <td>7.9</td>\n      <td>8</td>\n      <td>75</td>\n      <td>4</td>\n      <td>Normal Weight</td>\n      <td>117/76</td>\n      <td>69</td>\n      <td>6800</td>\n      <td>NaN</td>\n    </tr>\n    <tr>\n      <th>...</th>\n      <td>...</td>\n      <td>...</td>\n      <td>...</td>\n      <td>...</td>\n      <td>...</td>\n      <td>...</td>\n      <td>...</td>\n      <td>...</td>\n      <td>...</td>\n      <td>...</td>\n      <td>...</td>\n      <td>...</td>\n      <td>...</td>\n      <td>...</td>\n    </tr>\n    <tr>\n      <th>307</th>\n      <td>307</td>\n      <td>307</td>\n      <td>Female</td>\n      <td>52</td>\n      <td>Software Engineer</td>\n      <td>6.5</td>\n      <td>7</td>\n      <td>45</td>\n      <td>7</td>\n      <td>Overweight</td>\n      <td>130/85</td>\n      <td>72</td>\n      <td>6000</td>\n      <td>NaN</td>\n    </tr>\n    <tr>\n      <th>308</th>\n      <td>308</td>\n      <td>308</td>\n      <td>Female</td>\n      <td>52</td>\n      <td>Software Engineer</td>\n      <td>6.6</td>\n      <td>7</td>\n      <td>45</td>\n      <td>7</td>\n      <td>Overweight</td>\n      <td>130/85</td>\n      <td>72</td>\n      <td>6000</td>\n      <td>NaN</td>\n    </tr>\n    <tr>\n      <th>309</th>\n      <td>309</td>\n      <td>309</td>\n      <td>Female</td>\n      <td>52</td>\n      <td>Software Engineer</td>\n      <td>6.6</td>\n      <td>7</td>\n      <td>45</td>\n      <td>7</td>\n      <td>Overweight</td>\n      <td>130/85</td>\n      <td>72</td>\n      <td>6000</td>\n      <td>NaN</td>\n    </tr>\n    <tr>\n      <th>310</th>\n      <td>310</td>\n      <td>310</td>\n      <td>Female</td>\n      <td>52</td>\n      <td>Software Engineer</td>\n      <td>6.6</td>\n      <td>7</td>\n      <td>45</td>\n      <td>7</td>\n      <td>Overweight</td>\n      <td>130/85</td>\n      <td>72</td>\n      <td>6000</td>\n      <td>NaN</td>\n    </tr>\n    <tr>\n      <th>311</th>\n      <td>311</td>\n      <td>311</td>\n      <td>Female</td>\n      <td>52</td>\n      <td>Software Engineer</td>\n      <td>6.6</td>\n      <td>7</td>\n      <td>45</td>\n      <td>7</td>\n      <td>Overweight</td>\n      <td>130/85</td>\n      <td>72</td>\n      <td>6000</td>\n      <td>NaN</td>\n    </tr>\n  </tbody>\n</table>\n<p>116 rows × 14 columns</p>\n</div>"
          },
          "metadata": {}
        }
      ]
    },
    {
      "cell_type": "code",
      "source": "frame.isnull()",
      "metadata": {
        "trusted": true
      },
      "execution_count": 104,
      "outputs": [
        {
          "execution_count": 104,
          "output_type": "execute_result",
          "data": {
            "text/plain": "     Unnamed: 0  Person ID  Gender    Age  Occupation  Sleep Duration  \\\n16        False      False   False  False       False           False   \n18        False      False   False  False       False           False   \n30        False      False   False  False       False           False   \n31        False      False   False  False       False           False   \n32        False      False   False  False       False           False   \n..          ...        ...     ...    ...         ...             ...   \n307       False      False   False  False       False           False   \n308       False      False   False  False       False           False   \n309       False      False   False  False       False           False   \n310       False      False   False  False       False           False   \n311       False      False   False  False       False           False   \n\n     Quality of Sleep  Physical Activity Level  Stress Level  BMI Category  \\\n16              False                    False         False         False   \n18              False                    False         False         False   \n30              False                    False         False         False   \n31              False                    False         False         False   \n32              False                    False         False         False   \n..                ...                      ...           ...           ...   \n307             False                    False         False         False   \n308             False                    False         False         False   \n309             False                    False         False         False   \n310             False                    False         False         False   \n311             False                    False         False         False   \n\n     Blood Pressure  Heart Rate  Daily Steps  Sleep Disorder  \n16            False       False        False            True  \n18            False       False        False            True  \n30            False       False        False            True  \n31            False       False        False            True  \n32            False       False        False            True  \n..              ...         ...          ...             ...  \n307           False       False        False            True  \n308           False       False        False            True  \n309           False       False        False            True  \n310           False       False        False            True  \n311           False       False        False            True  \n\n[116 rows x 14 columns]",
            "text/html": "<div>\n<style scoped>\n    .dataframe tbody tr th:only-of-type {\n        vertical-align: middle;\n    }\n\n    .dataframe tbody tr th {\n        vertical-align: top;\n    }\n\n    .dataframe thead th {\n        text-align: right;\n    }\n</style>\n<table border=\"1\" class=\"dataframe\">\n  <thead>\n    <tr style=\"text-align: right;\">\n      <th></th>\n      <th>Unnamed: 0</th>\n      <th>Person ID</th>\n      <th>Gender</th>\n      <th>Age</th>\n      <th>Occupation</th>\n      <th>Sleep Duration</th>\n      <th>Quality of Sleep</th>\n      <th>Physical Activity Level</th>\n      <th>Stress Level</th>\n      <th>BMI Category</th>\n      <th>Blood Pressure</th>\n      <th>Heart Rate</th>\n      <th>Daily Steps</th>\n      <th>Sleep Disorder</th>\n    </tr>\n  </thead>\n  <tbody>\n    <tr>\n      <th>16</th>\n      <td>False</td>\n      <td>False</td>\n      <td>False</td>\n      <td>False</td>\n      <td>False</td>\n      <td>False</td>\n      <td>False</td>\n      <td>False</td>\n      <td>False</td>\n      <td>False</td>\n      <td>False</td>\n      <td>False</td>\n      <td>False</td>\n      <td>True</td>\n    </tr>\n    <tr>\n      <th>18</th>\n      <td>False</td>\n      <td>False</td>\n      <td>False</td>\n      <td>False</td>\n      <td>False</td>\n      <td>False</td>\n      <td>False</td>\n      <td>False</td>\n      <td>False</td>\n      <td>False</td>\n      <td>False</td>\n      <td>False</td>\n      <td>False</td>\n      <td>True</td>\n    </tr>\n    <tr>\n      <th>30</th>\n      <td>False</td>\n      <td>False</td>\n      <td>False</td>\n      <td>False</td>\n      <td>False</td>\n      <td>False</td>\n      <td>False</td>\n      <td>False</td>\n      <td>False</td>\n      <td>False</td>\n      <td>False</td>\n      <td>False</td>\n      <td>False</td>\n      <td>True</td>\n    </tr>\n    <tr>\n      <th>31</th>\n      <td>False</td>\n      <td>False</td>\n      <td>False</td>\n      <td>False</td>\n      <td>False</td>\n      <td>False</td>\n      <td>False</td>\n      <td>False</td>\n      <td>False</td>\n      <td>False</td>\n      <td>False</td>\n      <td>False</td>\n      <td>False</td>\n      <td>True</td>\n    </tr>\n    <tr>\n      <th>32</th>\n      <td>False</td>\n      <td>False</td>\n      <td>False</td>\n      <td>False</td>\n      <td>False</td>\n      <td>False</td>\n      <td>False</td>\n      <td>False</td>\n      <td>False</td>\n      <td>False</td>\n      <td>False</td>\n      <td>False</td>\n      <td>False</td>\n      <td>True</td>\n    </tr>\n    <tr>\n      <th>...</th>\n      <td>...</td>\n      <td>...</td>\n      <td>...</td>\n      <td>...</td>\n      <td>...</td>\n      <td>...</td>\n      <td>...</td>\n      <td>...</td>\n      <td>...</td>\n      <td>...</td>\n      <td>...</td>\n      <td>...</td>\n      <td>...</td>\n      <td>...</td>\n    </tr>\n    <tr>\n      <th>307</th>\n      <td>False</td>\n      <td>False</td>\n      <td>False</td>\n      <td>False</td>\n      <td>False</td>\n      <td>False</td>\n      <td>False</td>\n      <td>False</td>\n      <td>False</td>\n      <td>False</td>\n      <td>False</td>\n      <td>False</td>\n      <td>False</td>\n      <td>True</td>\n    </tr>\n    <tr>\n      <th>308</th>\n      <td>False</td>\n      <td>False</td>\n      <td>False</td>\n      <td>False</td>\n      <td>False</td>\n      <td>False</td>\n      <td>False</td>\n      <td>False</td>\n      <td>False</td>\n      <td>False</td>\n      <td>False</td>\n      <td>False</td>\n      <td>False</td>\n      <td>True</td>\n    </tr>\n    <tr>\n      <th>309</th>\n      <td>False</td>\n      <td>False</td>\n      <td>False</td>\n      <td>False</td>\n      <td>False</td>\n      <td>False</td>\n      <td>False</td>\n      <td>False</td>\n      <td>False</td>\n      <td>False</td>\n      <td>False</td>\n      <td>False</td>\n      <td>False</td>\n      <td>True</td>\n    </tr>\n    <tr>\n      <th>310</th>\n      <td>False</td>\n      <td>False</td>\n      <td>False</td>\n      <td>False</td>\n      <td>False</td>\n      <td>False</td>\n      <td>False</td>\n      <td>False</td>\n      <td>False</td>\n      <td>False</td>\n      <td>False</td>\n      <td>False</td>\n      <td>False</td>\n      <td>True</td>\n    </tr>\n    <tr>\n      <th>311</th>\n      <td>False</td>\n      <td>False</td>\n      <td>False</td>\n      <td>False</td>\n      <td>False</td>\n      <td>False</td>\n      <td>False</td>\n      <td>False</td>\n      <td>False</td>\n      <td>False</td>\n      <td>False</td>\n      <td>False</td>\n      <td>False</td>\n      <td>True</td>\n    </tr>\n  </tbody>\n</table>\n<p>116 rows × 14 columns</p>\n</div>"
          },
          "metadata": {}
        }
      ]
    },
    {
      "cell_type": "markdown",
      "source": "##### Add row",
      "metadata": {}
    },
    {
      "cell_type": "code",
      "source": "frame1=pd.read_csv(\"Sleep_health.csv\")\nframe1.loc[len(frame1.index)]=[372,372,372,'Female',59,'Software Engineer',8.1,9,75,3,'Overweight','140/95',68,7000,'NaN']\nframe1\n\n",
      "metadata": {
        "trusted": true
      },
      "execution_count": 159,
      "outputs": [
        {
          "execution_count": 159,
          "output_type": "execute_result",
          "data": {
            "text/plain": "     Unnamed: 0.1  Unnamed: 0  Person ID  Gender  Age         Occupation  \\\n0               0           0          0    Male   27  Software Engineer   \n1               1           1          1    Male   28  Software Engineer   \n2               2           2          2    Male   28  Software Engineer   \n3               3           3          3    Male   28  Software Engineer   \n4               4           4          4    Male   28  Software Engineer   \n..            ...         ...        ...     ...  ...                ...   \n370           370         370        370  Female   59  Software Engineer   \n371           371         371        371  Female   59  Software Engineer   \n372           372         372        372  Female   59  Software Engineer   \n373           373         373        373  Female   59  Software Engineer   \n374           372         372        372  Female   59  Software Engineer   \n\n     Sleep Duration  Quality of Sleep  Physical Activity Level  Stress Level  \\\n0               6.1                 6                       42             6   \n1               6.2                 6                       60             8   \n2               6.2                 6                       60             8   \n3               5.9                 4                       30             8   \n4               5.9                 4                       30             8   \n..              ...               ...                      ...           ...   \n370             8.0                 9                       75             3   \n371             8.1                 9                       75             3   \n372             8.1                 9                       75             3   \n373             8.1                 9                       75             3   \n374             8.1                 9                       75             3   \n\n    BMI Category Blood Pressure  Heart Rate  Daily Steps Sleep Disorder  \n0     Overweight         126/83          77         4200            NaN  \n1         Normal         125/80          75        10000            NaN  \n2         Normal         125/80          75        10000            NaN  \n3          Obese         140/90          85         3000            NaN  \n4          Obese         140/90          85         3000            NaN  \n..           ...            ...         ...          ...            ...  \n370   Overweight         140/95          68         7000            NaN  \n371   Overweight         140/95          68         7000            NaN  \n372   Overweight         140/95          68         7000            NaN  \n373   Overweight         140/95          68         7000            NaN  \n374   Overweight         140/95          68         7000            NaN  \n\n[375 rows x 15 columns]",
            "text/html": "<div>\n<style scoped>\n    .dataframe tbody tr th:only-of-type {\n        vertical-align: middle;\n    }\n\n    .dataframe tbody tr th {\n        vertical-align: top;\n    }\n\n    .dataframe thead th {\n        text-align: right;\n    }\n</style>\n<table border=\"1\" class=\"dataframe\">\n  <thead>\n    <tr style=\"text-align: right;\">\n      <th></th>\n      <th>Unnamed: 0.1</th>\n      <th>Unnamed: 0</th>\n      <th>Person ID</th>\n      <th>Gender</th>\n      <th>Age</th>\n      <th>Occupation</th>\n      <th>Sleep Duration</th>\n      <th>Quality of Sleep</th>\n      <th>Physical Activity Level</th>\n      <th>Stress Level</th>\n      <th>BMI Category</th>\n      <th>Blood Pressure</th>\n      <th>Heart Rate</th>\n      <th>Daily Steps</th>\n      <th>Sleep Disorder</th>\n    </tr>\n  </thead>\n  <tbody>\n    <tr>\n      <th>0</th>\n      <td>0</td>\n      <td>0</td>\n      <td>0</td>\n      <td>Male</td>\n      <td>27</td>\n      <td>Software Engineer</td>\n      <td>6.1</td>\n      <td>6</td>\n      <td>42</td>\n      <td>6</td>\n      <td>Overweight</td>\n      <td>126/83</td>\n      <td>77</td>\n      <td>4200</td>\n      <td>NaN</td>\n    </tr>\n    <tr>\n      <th>1</th>\n      <td>1</td>\n      <td>1</td>\n      <td>1</td>\n      <td>Male</td>\n      <td>28</td>\n      <td>Software Engineer</td>\n      <td>6.2</td>\n      <td>6</td>\n      <td>60</td>\n      <td>8</td>\n      <td>Normal</td>\n      <td>125/80</td>\n      <td>75</td>\n      <td>10000</td>\n      <td>NaN</td>\n    </tr>\n    <tr>\n      <th>2</th>\n      <td>2</td>\n      <td>2</td>\n      <td>2</td>\n      <td>Male</td>\n      <td>28</td>\n      <td>Software Engineer</td>\n      <td>6.2</td>\n      <td>6</td>\n      <td>60</td>\n      <td>8</td>\n      <td>Normal</td>\n      <td>125/80</td>\n      <td>75</td>\n      <td>10000</td>\n      <td>NaN</td>\n    </tr>\n    <tr>\n      <th>3</th>\n      <td>3</td>\n      <td>3</td>\n      <td>3</td>\n      <td>Male</td>\n      <td>28</td>\n      <td>Software Engineer</td>\n      <td>5.9</td>\n      <td>4</td>\n      <td>30</td>\n      <td>8</td>\n      <td>Obese</td>\n      <td>140/90</td>\n      <td>85</td>\n      <td>3000</td>\n      <td>NaN</td>\n    </tr>\n    <tr>\n      <th>4</th>\n      <td>4</td>\n      <td>4</td>\n      <td>4</td>\n      <td>Male</td>\n      <td>28</td>\n      <td>Software Engineer</td>\n      <td>5.9</td>\n      <td>4</td>\n      <td>30</td>\n      <td>8</td>\n      <td>Obese</td>\n      <td>140/90</td>\n      <td>85</td>\n      <td>3000</td>\n      <td>NaN</td>\n    </tr>\n    <tr>\n      <th>...</th>\n      <td>...</td>\n      <td>...</td>\n      <td>...</td>\n      <td>...</td>\n      <td>...</td>\n      <td>...</td>\n      <td>...</td>\n      <td>...</td>\n      <td>...</td>\n      <td>...</td>\n      <td>...</td>\n      <td>...</td>\n      <td>...</td>\n      <td>...</td>\n      <td>...</td>\n    </tr>\n    <tr>\n      <th>370</th>\n      <td>370</td>\n      <td>370</td>\n      <td>370</td>\n      <td>Female</td>\n      <td>59</td>\n      <td>Software Engineer</td>\n      <td>8.0</td>\n      <td>9</td>\n      <td>75</td>\n      <td>3</td>\n      <td>Overweight</td>\n      <td>140/95</td>\n      <td>68</td>\n      <td>7000</td>\n      <td>NaN</td>\n    </tr>\n    <tr>\n      <th>371</th>\n      <td>371</td>\n      <td>371</td>\n      <td>371</td>\n      <td>Female</td>\n      <td>59</td>\n      <td>Software Engineer</td>\n      <td>8.1</td>\n      <td>9</td>\n      <td>75</td>\n      <td>3</td>\n      <td>Overweight</td>\n      <td>140/95</td>\n      <td>68</td>\n      <td>7000</td>\n      <td>NaN</td>\n    </tr>\n    <tr>\n      <th>372</th>\n      <td>372</td>\n      <td>372</td>\n      <td>372</td>\n      <td>Female</td>\n      <td>59</td>\n      <td>Software Engineer</td>\n      <td>8.1</td>\n      <td>9</td>\n      <td>75</td>\n      <td>3</td>\n      <td>Overweight</td>\n      <td>140/95</td>\n      <td>68</td>\n      <td>7000</td>\n      <td>NaN</td>\n    </tr>\n    <tr>\n      <th>373</th>\n      <td>373</td>\n      <td>373</td>\n      <td>373</td>\n      <td>Female</td>\n      <td>59</td>\n      <td>Software Engineer</td>\n      <td>8.1</td>\n      <td>9</td>\n      <td>75</td>\n      <td>3</td>\n      <td>Overweight</td>\n      <td>140/95</td>\n      <td>68</td>\n      <td>7000</td>\n      <td>NaN</td>\n    </tr>\n    <tr>\n      <th>374</th>\n      <td>372</td>\n      <td>372</td>\n      <td>372</td>\n      <td>Female</td>\n      <td>59</td>\n      <td>Software Engineer</td>\n      <td>8.1</td>\n      <td>9</td>\n      <td>75</td>\n      <td>3</td>\n      <td>Overweight</td>\n      <td>140/95</td>\n      <td>68</td>\n      <td>7000</td>\n      <td>NaN</td>\n    </tr>\n  </tbody>\n</table>\n<p>375 rows × 15 columns</p>\n</div>"
          },
          "metadata": {}
        }
      ]
    },
    {
      "cell_type": "markdown",
      "source": "## 6. Working with Columns",
      "metadata": {}
    },
    {
      "cell_type": "markdown",
      "source": "##### grab the oclumn name",
      "metadata": {}
    },
    {
      "cell_type": "code",
      "source": "# We can grab the oclumn names with .columns\nframe.columns",
      "metadata": {
        "tags": [],
        "trusted": true
      },
      "execution_count": 105,
      "outputs": [
        {
          "execution_count": 105,
          "output_type": "execute_result",
          "data": {
            "text/plain": "Index(['Unnamed: 0', 'Person ID', 'Gender', 'Age', 'Occupation',\n       'Sleep Duration', 'Quality of Sleep', 'Physical Activity Level',\n       'Stress Level', 'BMI Category', 'Blood Pressure', 'Heart Rate',\n       'Daily Steps', 'Sleep Disorder'],\n      dtype='object')"
          },
          "metadata": {}
        }
      ]
    },
    {
      "cell_type": "markdown",
      "source": "##### Get the data of one column",
      "metadata": {}
    },
    {
      "cell_type": "code",
      "source": "frame.Gender",
      "metadata": {
        "trusted": true
      },
      "execution_count": 106,
      "outputs": [
        {
          "execution_count": 106,
          "output_type": "execute_result",
          "data": {
            "text/plain": "16     Female\n18     Female\n30     Female\n31     Female\n32     Female\n        ...  \n307    Female\n308    Female\n309    Female\n310    Female\n311    Female\nName: Gender, Length: 116, dtype: object"
          },
          "metadata": {}
        }
      ]
    },
    {
      "cell_type": "markdown",
      "source": "##### specific data columns",
      "metadata": {}
    },
    {
      "cell_type": "code",
      "source": "#Lets see some specific data columns\nDataFrame(frame,columns=['Gender','Age','Occupation'])\n",
      "metadata": {
        "trusted": true
      },
      "execution_count": 107,
      "outputs": [
        {
          "execution_count": 107,
          "output_type": "execute_result",
          "data": {
            "text/plain": "     Gender  Age         Occupation\n16   Female   29  Software Engineer\n18   Female   29  Software Engineer\n30   Female   30  Software Engineer\n31   Female   30  Software Engineer\n32   Female   31  Software Engineer\n..      ...  ...                ...\n307  Female   52  Software Engineer\n308  Female   52  Software Engineer\n309  Female   52  Software Engineer\n310  Female   52  Software Engineer\n311  Female   52  Software Engineer\n\n[116 rows x 3 columns]",
            "text/html": "<div>\n<style scoped>\n    .dataframe tbody tr th:only-of-type {\n        vertical-align: middle;\n    }\n\n    .dataframe tbody tr th {\n        vertical-align: top;\n    }\n\n    .dataframe thead th {\n        text-align: right;\n    }\n</style>\n<table border=\"1\" class=\"dataframe\">\n  <thead>\n    <tr style=\"text-align: right;\">\n      <th></th>\n      <th>Gender</th>\n      <th>Age</th>\n      <th>Occupation</th>\n    </tr>\n  </thead>\n  <tbody>\n    <tr>\n      <th>16</th>\n      <td>Female</td>\n      <td>29</td>\n      <td>Software Engineer</td>\n    </tr>\n    <tr>\n      <th>18</th>\n      <td>Female</td>\n      <td>29</td>\n      <td>Software Engineer</td>\n    </tr>\n    <tr>\n      <th>30</th>\n      <td>Female</td>\n      <td>30</td>\n      <td>Software Engineer</td>\n    </tr>\n    <tr>\n      <th>31</th>\n      <td>Female</td>\n      <td>30</td>\n      <td>Software Engineer</td>\n    </tr>\n    <tr>\n      <th>32</th>\n      <td>Female</td>\n      <td>31</td>\n      <td>Software Engineer</td>\n    </tr>\n    <tr>\n      <th>...</th>\n      <td>...</td>\n      <td>...</td>\n      <td>...</td>\n    </tr>\n    <tr>\n      <th>307</th>\n      <td>Female</td>\n      <td>52</td>\n      <td>Software Engineer</td>\n    </tr>\n    <tr>\n      <th>308</th>\n      <td>Female</td>\n      <td>52</td>\n      <td>Software Engineer</td>\n    </tr>\n    <tr>\n      <th>309</th>\n      <td>Female</td>\n      <td>52</td>\n      <td>Software Engineer</td>\n    </tr>\n    <tr>\n      <th>310</th>\n      <td>Female</td>\n      <td>52</td>\n      <td>Software Engineer</td>\n    </tr>\n    <tr>\n      <th>311</th>\n      <td>Female</td>\n      <td>52</td>\n      <td>Software Engineer</td>\n    </tr>\n  </tbody>\n</table>\n<p>116 rows × 3 columns</p>\n</div>"
          },
          "metadata": {}
        }
      ]
    },
    {
      "cell_type": "code",
      "source": "#get specific data columns and rows \nframe['Occupation']=\"Software Engineer\"\nframe",
      "metadata": {
        "trusted": true
      },
      "execution_count": 119,
      "outputs": [
        {
          "name": "stderr",
          "text": "<ipython-input-119-25a0f81144a2>:2: SettingWithCopyWarning: \nA value is trying to be set on a copy of a slice from a DataFrame.\nTry using .loc[row_indexer,col_indexer] = value instead\n\nSee the caveats in the documentation: https://pandas.pydata.org/pandas-docs/stable/user_guide/indexing.html#returning-a-view-versus-a-copy\n  frame['Occupation']=\"Software Engineer\"\n",
          "output_type": "stream"
        },
        {
          "execution_count": 119,
          "output_type": "execute_result",
          "data": {
            "text/plain": "     Unnamed: 0  Person ID  Gender  Age         Occupation  Sleep Duration  \\\n16           16         16  Female   29  Software Engineer             6.5   \n18           18         18  Female   29  Software Engineer             6.5   \n30           30         30  Female   30  Software Engineer             6.4   \n31           31         31  Female   30  Software Engineer             6.4   \n32           32         32  Female   31  Software Engineer             7.9   \n..          ...        ...     ...  ...                ...             ...   \n307         307        307  Female   52  Software Engineer             6.5   \n308         308        308  Female   52  Software Engineer             6.6   \n309         309        309  Female   52  Software Engineer             6.6   \n310         310        310  Female   52  Software Engineer             6.6   \n311         311        311  Female   52  Software Engineer             6.6   \n\n     Quality of Sleep  Physical Activity Level  Stress Level   BMI Category  \\\n16                  5                       40             7  Normal Weight   \n18                  5                       40             7  Normal Weight   \n30                  5                       35             7  Normal Weight   \n31                  5                       35             7  Normal Weight   \n32                  8                       75             4  Normal Weight   \n..                ...                      ...           ...            ...   \n307                 7                       45             7     Overweight   \n308                 7                       45             7     Overweight   \n309                 7                       45             7     Overweight   \n310                 7                       45             7     Overweight   \n311                 7                       45             7     Overweight   \n\n    Blood Pressure  Heart Rate  Daily Steps  Sleep Disorder  \n16          132/87          80         4000             NaN  \n18          132/87          80         4000             NaN  \n30          130/86          78         4100             NaN  \n31          130/86          78         4100             NaN  \n32          117/76          69         6800             NaN  \n..             ...         ...          ...             ...  \n307         130/85          72         6000             NaN  \n308         130/85          72         6000             NaN  \n309         130/85          72         6000             NaN  \n310         130/85          72         6000             NaN  \n311         130/85          72         6000             NaN  \n\n[116 rows x 14 columns]",
            "text/html": "<div>\n<style scoped>\n    .dataframe tbody tr th:only-of-type {\n        vertical-align: middle;\n    }\n\n    .dataframe tbody tr th {\n        vertical-align: top;\n    }\n\n    .dataframe thead th {\n        text-align: right;\n    }\n</style>\n<table border=\"1\" class=\"dataframe\">\n  <thead>\n    <tr style=\"text-align: right;\">\n      <th></th>\n      <th>Unnamed: 0</th>\n      <th>Person ID</th>\n      <th>Gender</th>\n      <th>Age</th>\n      <th>Occupation</th>\n      <th>Sleep Duration</th>\n      <th>Quality of Sleep</th>\n      <th>Physical Activity Level</th>\n      <th>Stress Level</th>\n      <th>BMI Category</th>\n      <th>Blood Pressure</th>\n      <th>Heart Rate</th>\n      <th>Daily Steps</th>\n      <th>Sleep Disorder</th>\n    </tr>\n  </thead>\n  <tbody>\n    <tr>\n      <th>16</th>\n      <td>16</td>\n      <td>16</td>\n      <td>Female</td>\n      <td>29</td>\n      <td>Software Engineer</td>\n      <td>6.5</td>\n      <td>5</td>\n      <td>40</td>\n      <td>7</td>\n      <td>Normal Weight</td>\n      <td>132/87</td>\n      <td>80</td>\n      <td>4000</td>\n      <td>NaN</td>\n    </tr>\n    <tr>\n      <th>18</th>\n      <td>18</td>\n      <td>18</td>\n      <td>Female</td>\n      <td>29</td>\n      <td>Software Engineer</td>\n      <td>6.5</td>\n      <td>5</td>\n      <td>40</td>\n      <td>7</td>\n      <td>Normal Weight</td>\n      <td>132/87</td>\n      <td>80</td>\n      <td>4000</td>\n      <td>NaN</td>\n    </tr>\n    <tr>\n      <th>30</th>\n      <td>30</td>\n      <td>30</td>\n      <td>Female</td>\n      <td>30</td>\n      <td>Software Engineer</td>\n      <td>6.4</td>\n      <td>5</td>\n      <td>35</td>\n      <td>7</td>\n      <td>Normal Weight</td>\n      <td>130/86</td>\n      <td>78</td>\n      <td>4100</td>\n      <td>NaN</td>\n    </tr>\n    <tr>\n      <th>31</th>\n      <td>31</td>\n      <td>31</td>\n      <td>Female</td>\n      <td>30</td>\n      <td>Software Engineer</td>\n      <td>6.4</td>\n      <td>5</td>\n      <td>35</td>\n      <td>7</td>\n      <td>Normal Weight</td>\n      <td>130/86</td>\n      <td>78</td>\n      <td>4100</td>\n      <td>NaN</td>\n    </tr>\n    <tr>\n      <th>32</th>\n      <td>32</td>\n      <td>32</td>\n      <td>Female</td>\n      <td>31</td>\n      <td>Software Engineer</td>\n      <td>7.9</td>\n      <td>8</td>\n      <td>75</td>\n      <td>4</td>\n      <td>Normal Weight</td>\n      <td>117/76</td>\n      <td>69</td>\n      <td>6800</td>\n      <td>NaN</td>\n    </tr>\n    <tr>\n      <th>...</th>\n      <td>...</td>\n      <td>...</td>\n      <td>...</td>\n      <td>...</td>\n      <td>...</td>\n      <td>...</td>\n      <td>...</td>\n      <td>...</td>\n      <td>...</td>\n      <td>...</td>\n      <td>...</td>\n      <td>...</td>\n      <td>...</td>\n      <td>...</td>\n    </tr>\n    <tr>\n      <th>307</th>\n      <td>307</td>\n      <td>307</td>\n      <td>Female</td>\n      <td>52</td>\n      <td>Software Engineer</td>\n      <td>6.5</td>\n      <td>7</td>\n      <td>45</td>\n      <td>7</td>\n      <td>Overweight</td>\n      <td>130/85</td>\n      <td>72</td>\n      <td>6000</td>\n      <td>NaN</td>\n    </tr>\n    <tr>\n      <th>308</th>\n      <td>308</td>\n      <td>308</td>\n      <td>Female</td>\n      <td>52</td>\n      <td>Software Engineer</td>\n      <td>6.6</td>\n      <td>7</td>\n      <td>45</td>\n      <td>7</td>\n      <td>Overweight</td>\n      <td>130/85</td>\n      <td>72</td>\n      <td>6000</td>\n      <td>NaN</td>\n    </tr>\n    <tr>\n      <th>309</th>\n      <td>309</td>\n      <td>309</td>\n      <td>Female</td>\n      <td>52</td>\n      <td>Software Engineer</td>\n      <td>6.6</td>\n      <td>7</td>\n      <td>45</td>\n      <td>7</td>\n      <td>Overweight</td>\n      <td>130/85</td>\n      <td>72</td>\n      <td>6000</td>\n      <td>NaN</td>\n    </tr>\n    <tr>\n      <th>310</th>\n      <td>310</td>\n      <td>310</td>\n      <td>Female</td>\n      <td>52</td>\n      <td>Software Engineer</td>\n      <td>6.6</td>\n      <td>7</td>\n      <td>45</td>\n      <td>7</td>\n      <td>Overweight</td>\n      <td>130/85</td>\n      <td>72</td>\n      <td>6000</td>\n      <td>NaN</td>\n    </tr>\n    <tr>\n      <th>311</th>\n      <td>311</td>\n      <td>311</td>\n      <td>Female</td>\n      <td>52</td>\n      <td>Software Engineer</td>\n      <td>6.6</td>\n      <td>7</td>\n      <td>45</td>\n      <td>7</td>\n      <td>Overweight</td>\n      <td>130/85</td>\n      <td>72</td>\n      <td>6000</td>\n      <td>NaN</td>\n    </tr>\n  </tbody>\n</table>\n<p>116 rows × 14 columns</p>\n</div>"
          },
          "metadata": {}
        }
      ]
    },
    {
      "cell_type": "code",
      "source": "#Putting numbers for stadiums\nframe[\"Person ID\"]= np.arange(116)\nframe",
      "metadata": {
        "trusted": true
      },
      "execution_count": 143,
      "outputs": [
        {
          "name": "stderr",
          "text": "<ipython-input-143-f8a48636360d>:2: SettingWithCopyWarning: \nA value is trying to be set on a copy of a slice from a DataFrame.\nTry using .loc[row_indexer,col_indexer] = value instead\n\nSee the caveats in the documentation: https://pandas.pydata.org/pandas-docs/stable/user_guide/indexing.html#returning-a-view-versus-a-copy\n  frame[\"Person ID\"]= np.arange(116)\n",
          "output_type": "stream"
        },
        {
          "execution_count": 143,
          "output_type": "execute_result",
          "data": {
            "text/plain": "     Unnamed: 0  Person ID  Gender  Age         Occupation  Sleep Duration  \\\n16           16          0  Female   29  Software Engineer             6.5   \n18           18          1  Female   29  Software Engineer             6.5   \n30           30          2  Female   30  Software Engineer             6.4   \n31           31          3  Female   30  Software Engineer             6.4   \n32           32          4  Female   31  Software Engineer             7.9   \n..          ...        ...     ...  ...                ...             ...   \n307         307        111  Female   52  Software Engineer             6.5   \n308         308        112  Female   52  Software Engineer             6.6   \n309         309        113  Female   52  Software Engineer             6.6   \n310         310        114  Female   52  Software Engineer             6.6   \n311         311        115  Female   52  Software Engineer             6.6   \n\n     Quality of Sleep  Physical Activity Level  Stress Level   BMI Category  \\\n16                  5                       40             7  Normal Weight   \n18                  5                       40             7  Normal Weight   \n30                  5                       35             7  Normal Weight   \n31                  5                       35             7  Normal Weight   \n32                  8                       75             4  Normal Weight   \n..                ...                      ...           ...            ...   \n307                 7                       45             7     Overweight   \n308                 7                       45             7     Overweight   \n309                 7                       45             7     Overweight   \n310                 7                       45             7     Overweight   \n311                 7                       45             7     Overweight   \n\n     Heart Rate  Daily Steps  Sleep Disorder Blood Pressure  \n16           80         4000             NaN             Fe  \n18           80         4000             NaN             Fe  \n30           78         4100             NaN             Fe  \n31           78         4100             NaN             Fe  \n32           69         6800             NaN             Fe  \n..          ...          ...             ...            ...  \n307          72         6000             NaN             Fe  \n308          72         6000             NaN             Fe  \n309          72         6000             NaN             Fe  \n310          72         6000             NaN             Fe  \n311          72         6000             NaN             Fe  \n\n[116 rows x 14 columns]",
            "text/html": "<div>\n<style scoped>\n    .dataframe tbody tr th:only-of-type {\n        vertical-align: middle;\n    }\n\n    .dataframe tbody tr th {\n        vertical-align: top;\n    }\n\n    .dataframe thead th {\n        text-align: right;\n    }\n</style>\n<table border=\"1\" class=\"dataframe\">\n  <thead>\n    <tr style=\"text-align: right;\">\n      <th></th>\n      <th>Unnamed: 0</th>\n      <th>Person ID</th>\n      <th>Gender</th>\n      <th>Age</th>\n      <th>Occupation</th>\n      <th>Sleep Duration</th>\n      <th>Quality of Sleep</th>\n      <th>Physical Activity Level</th>\n      <th>Stress Level</th>\n      <th>BMI Category</th>\n      <th>Heart Rate</th>\n      <th>Daily Steps</th>\n      <th>Sleep Disorder</th>\n      <th>Blood Pressure</th>\n    </tr>\n  </thead>\n  <tbody>\n    <tr>\n      <th>16</th>\n      <td>16</td>\n      <td>0</td>\n      <td>Female</td>\n      <td>29</td>\n      <td>Software Engineer</td>\n      <td>6.5</td>\n      <td>5</td>\n      <td>40</td>\n      <td>7</td>\n      <td>Normal Weight</td>\n      <td>80</td>\n      <td>4000</td>\n      <td>NaN</td>\n      <td>Fe</td>\n    </tr>\n    <tr>\n      <th>18</th>\n      <td>18</td>\n      <td>1</td>\n      <td>Female</td>\n      <td>29</td>\n      <td>Software Engineer</td>\n      <td>6.5</td>\n      <td>5</td>\n      <td>40</td>\n      <td>7</td>\n      <td>Normal Weight</td>\n      <td>80</td>\n      <td>4000</td>\n      <td>NaN</td>\n      <td>Fe</td>\n    </tr>\n    <tr>\n      <th>30</th>\n      <td>30</td>\n      <td>2</td>\n      <td>Female</td>\n      <td>30</td>\n      <td>Software Engineer</td>\n      <td>6.4</td>\n      <td>5</td>\n      <td>35</td>\n      <td>7</td>\n      <td>Normal Weight</td>\n      <td>78</td>\n      <td>4100</td>\n      <td>NaN</td>\n      <td>Fe</td>\n    </tr>\n    <tr>\n      <th>31</th>\n      <td>31</td>\n      <td>3</td>\n      <td>Female</td>\n      <td>30</td>\n      <td>Software Engineer</td>\n      <td>6.4</td>\n      <td>5</td>\n      <td>35</td>\n      <td>7</td>\n      <td>Normal Weight</td>\n      <td>78</td>\n      <td>4100</td>\n      <td>NaN</td>\n      <td>Fe</td>\n    </tr>\n    <tr>\n      <th>32</th>\n      <td>32</td>\n      <td>4</td>\n      <td>Female</td>\n      <td>31</td>\n      <td>Software Engineer</td>\n      <td>7.9</td>\n      <td>8</td>\n      <td>75</td>\n      <td>4</td>\n      <td>Normal Weight</td>\n      <td>69</td>\n      <td>6800</td>\n      <td>NaN</td>\n      <td>Fe</td>\n    </tr>\n    <tr>\n      <th>...</th>\n      <td>...</td>\n      <td>...</td>\n      <td>...</td>\n      <td>...</td>\n      <td>...</td>\n      <td>...</td>\n      <td>...</td>\n      <td>...</td>\n      <td>...</td>\n      <td>...</td>\n      <td>...</td>\n      <td>...</td>\n      <td>...</td>\n      <td>...</td>\n    </tr>\n    <tr>\n      <th>307</th>\n      <td>307</td>\n      <td>111</td>\n      <td>Female</td>\n      <td>52</td>\n      <td>Software Engineer</td>\n      <td>6.5</td>\n      <td>7</td>\n      <td>45</td>\n      <td>7</td>\n      <td>Overweight</td>\n      <td>72</td>\n      <td>6000</td>\n      <td>NaN</td>\n      <td>Fe</td>\n    </tr>\n    <tr>\n      <th>308</th>\n      <td>308</td>\n      <td>112</td>\n      <td>Female</td>\n      <td>52</td>\n      <td>Software Engineer</td>\n      <td>6.6</td>\n      <td>7</td>\n      <td>45</td>\n      <td>7</td>\n      <td>Overweight</td>\n      <td>72</td>\n      <td>6000</td>\n      <td>NaN</td>\n      <td>Fe</td>\n    </tr>\n    <tr>\n      <th>309</th>\n      <td>309</td>\n      <td>113</td>\n      <td>Female</td>\n      <td>52</td>\n      <td>Software Engineer</td>\n      <td>6.6</td>\n      <td>7</td>\n      <td>45</td>\n      <td>7</td>\n      <td>Overweight</td>\n      <td>72</td>\n      <td>6000</td>\n      <td>NaN</td>\n      <td>Fe</td>\n    </tr>\n    <tr>\n      <th>310</th>\n      <td>310</td>\n      <td>114</td>\n      <td>Female</td>\n      <td>52</td>\n      <td>Software Engineer</td>\n      <td>6.6</td>\n      <td>7</td>\n      <td>45</td>\n      <td>7</td>\n      <td>Overweight</td>\n      <td>72</td>\n      <td>6000</td>\n      <td>NaN</td>\n      <td>Fe</td>\n    </tr>\n    <tr>\n      <th>311</th>\n      <td>311</td>\n      <td>115</td>\n      <td>Female</td>\n      <td>52</td>\n      <td>Software Engineer</td>\n      <td>6.6</td>\n      <td>7</td>\n      <td>45</td>\n      <td>7</td>\n      <td>Overweight</td>\n      <td>72</td>\n      <td>6000</td>\n      <td>NaN</td>\n      <td>Fe</td>\n    </tr>\n  </tbody>\n</table>\n<p>116 rows × 14 columns</p>\n</div>"
          },
          "metadata": {}
        }
      ]
    },
    {
      "cell_type": "code",
      "source": "#DataFrames can be constructed many ways. Another way is from a dictionary of␣,→equal length lists\n\ndata = {'Gender':['Male','Female'],\n'Person ID':[2,370]}\nsleep_frame = DataFrame(data)\n#Show\nsleep_frame",
      "metadata": {
        "trusted": true
      },
      "execution_count": 144,
      "outputs": [
        {
          "execution_count": 144,
          "output_type": "execute_result",
          "data": {
            "text/plain": "   Gender  Person ID\n0    Male          2\n1  Female        370",
            "text/html": "<div>\n<style scoped>\n    .dataframe tbody tr th:only-of-type {\n        vertical-align: middle;\n    }\n\n    .dataframe tbody tr th {\n        vertical-align: top;\n    }\n\n    .dataframe thead th {\n        text-align: right;\n    }\n</style>\n<table border=\"1\" class=\"dataframe\">\n  <thead>\n    <tr style=\"text-align: right;\">\n      <th></th>\n      <th>Gender</th>\n      <th>Person ID</th>\n    </tr>\n  </thead>\n  <tbody>\n    <tr>\n      <th>0</th>\n      <td>Male</td>\n      <td>2</td>\n    </tr>\n    <tr>\n      <th>1</th>\n      <td>Female</td>\n      <td>370</td>\n    </tr>\n  </tbody>\n</table>\n</div>"
          },
          "metadata": {}
        }
      ]
    },
    {
      "cell_type": "code",
      "source": "#We can also delete columns\ndel frame['Blood Pressure']\nframe\n",
      "metadata": {
        "trusted": true
      },
      "execution_count": 145,
      "outputs": [
        {
          "execution_count": 145,
          "output_type": "execute_result",
          "data": {
            "text/plain": "     Unnamed: 0  Person ID  Gender  Age         Occupation  Sleep Duration  \\\n16           16          0  Female   29  Software Engineer             6.5   \n18           18          1  Female   29  Software Engineer             6.5   \n30           30          2  Female   30  Software Engineer             6.4   \n31           31          3  Female   30  Software Engineer             6.4   \n32           32          4  Female   31  Software Engineer             7.9   \n..          ...        ...     ...  ...                ...             ...   \n307         307        111  Female   52  Software Engineer             6.5   \n308         308        112  Female   52  Software Engineer             6.6   \n309         309        113  Female   52  Software Engineer             6.6   \n310         310        114  Female   52  Software Engineer             6.6   \n311         311        115  Female   52  Software Engineer             6.6   \n\n     Quality of Sleep  Physical Activity Level  Stress Level   BMI Category  \\\n16                  5                       40             7  Normal Weight   \n18                  5                       40             7  Normal Weight   \n30                  5                       35             7  Normal Weight   \n31                  5                       35             7  Normal Weight   \n32                  8                       75             4  Normal Weight   \n..                ...                      ...           ...            ...   \n307                 7                       45             7     Overweight   \n308                 7                       45             7     Overweight   \n309                 7                       45             7     Overweight   \n310                 7                       45             7     Overweight   \n311                 7                       45             7     Overweight   \n\n     Heart Rate  Daily Steps  Sleep Disorder  \n16           80         4000             NaN  \n18           80         4000             NaN  \n30           78         4100             NaN  \n31           78         4100             NaN  \n32           69         6800             NaN  \n..          ...          ...             ...  \n307          72         6000             NaN  \n308          72         6000             NaN  \n309          72         6000             NaN  \n310          72         6000             NaN  \n311          72         6000             NaN  \n\n[116 rows x 13 columns]",
            "text/html": "<div>\n<style scoped>\n    .dataframe tbody tr th:only-of-type {\n        vertical-align: middle;\n    }\n\n    .dataframe tbody tr th {\n        vertical-align: top;\n    }\n\n    .dataframe thead th {\n        text-align: right;\n    }\n</style>\n<table border=\"1\" class=\"dataframe\">\n  <thead>\n    <tr style=\"text-align: right;\">\n      <th></th>\n      <th>Unnamed: 0</th>\n      <th>Person ID</th>\n      <th>Gender</th>\n      <th>Age</th>\n      <th>Occupation</th>\n      <th>Sleep Duration</th>\n      <th>Quality of Sleep</th>\n      <th>Physical Activity Level</th>\n      <th>Stress Level</th>\n      <th>BMI Category</th>\n      <th>Heart Rate</th>\n      <th>Daily Steps</th>\n      <th>Sleep Disorder</th>\n    </tr>\n  </thead>\n  <tbody>\n    <tr>\n      <th>16</th>\n      <td>16</td>\n      <td>0</td>\n      <td>Female</td>\n      <td>29</td>\n      <td>Software Engineer</td>\n      <td>6.5</td>\n      <td>5</td>\n      <td>40</td>\n      <td>7</td>\n      <td>Normal Weight</td>\n      <td>80</td>\n      <td>4000</td>\n      <td>NaN</td>\n    </tr>\n    <tr>\n      <th>18</th>\n      <td>18</td>\n      <td>1</td>\n      <td>Female</td>\n      <td>29</td>\n      <td>Software Engineer</td>\n      <td>6.5</td>\n      <td>5</td>\n      <td>40</td>\n      <td>7</td>\n      <td>Normal Weight</td>\n      <td>80</td>\n      <td>4000</td>\n      <td>NaN</td>\n    </tr>\n    <tr>\n      <th>30</th>\n      <td>30</td>\n      <td>2</td>\n      <td>Female</td>\n      <td>30</td>\n      <td>Software Engineer</td>\n      <td>6.4</td>\n      <td>5</td>\n      <td>35</td>\n      <td>7</td>\n      <td>Normal Weight</td>\n      <td>78</td>\n      <td>4100</td>\n      <td>NaN</td>\n    </tr>\n    <tr>\n      <th>31</th>\n      <td>31</td>\n      <td>3</td>\n      <td>Female</td>\n      <td>30</td>\n      <td>Software Engineer</td>\n      <td>6.4</td>\n      <td>5</td>\n      <td>35</td>\n      <td>7</td>\n      <td>Normal Weight</td>\n      <td>78</td>\n      <td>4100</td>\n      <td>NaN</td>\n    </tr>\n    <tr>\n      <th>32</th>\n      <td>32</td>\n      <td>4</td>\n      <td>Female</td>\n      <td>31</td>\n      <td>Software Engineer</td>\n      <td>7.9</td>\n      <td>8</td>\n      <td>75</td>\n      <td>4</td>\n      <td>Normal Weight</td>\n      <td>69</td>\n      <td>6800</td>\n      <td>NaN</td>\n    </tr>\n    <tr>\n      <th>...</th>\n      <td>...</td>\n      <td>...</td>\n      <td>...</td>\n      <td>...</td>\n      <td>...</td>\n      <td>...</td>\n      <td>...</td>\n      <td>...</td>\n      <td>...</td>\n      <td>...</td>\n      <td>...</td>\n      <td>...</td>\n      <td>...</td>\n    </tr>\n    <tr>\n      <th>307</th>\n      <td>307</td>\n      <td>111</td>\n      <td>Female</td>\n      <td>52</td>\n      <td>Software Engineer</td>\n      <td>6.5</td>\n      <td>7</td>\n      <td>45</td>\n      <td>7</td>\n      <td>Overweight</td>\n      <td>72</td>\n      <td>6000</td>\n      <td>NaN</td>\n    </tr>\n    <tr>\n      <th>308</th>\n      <td>308</td>\n      <td>112</td>\n      <td>Female</td>\n      <td>52</td>\n      <td>Software Engineer</td>\n      <td>6.6</td>\n      <td>7</td>\n      <td>45</td>\n      <td>7</td>\n      <td>Overweight</td>\n      <td>72</td>\n      <td>6000</td>\n      <td>NaN</td>\n    </tr>\n    <tr>\n      <th>309</th>\n      <td>309</td>\n      <td>113</td>\n      <td>Female</td>\n      <td>52</td>\n      <td>Software Engineer</td>\n      <td>6.6</td>\n      <td>7</td>\n      <td>45</td>\n      <td>7</td>\n      <td>Overweight</td>\n      <td>72</td>\n      <td>6000</td>\n      <td>NaN</td>\n    </tr>\n    <tr>\n      <th>310</th>\n      <td>310</td>\n      <td>114</td>\n      <td>Female</td>\n      <td>52</td>\n      <td>Software Engineer</td>\n      <td>6.6</td>\n      <td>7</td>\n      <td>45</td>\n      <td>7</td>\n      <td>Overweight</td>\n      <td>72</td>\n      <td>6000</td>\n      <td>NaN</td>\n    </tr>\n    <tr>\n      <th>311</th>\n      <td>311</td>\n      <td>115</td>\n      <td>Female</td>\n      <td>52</td>\n      <td>Software Engineer</td>\n      <td>6.6</td>\n      <td>7</td>\n      <td>45</td>\n      <td>7</td>\n      <td>Overweight</td>\n      <td>72</td>\n      <td>6000</td>\n      <td>NaN</td>\n    </tr>\n  </tbody>\n</table>\n<p>116 rows × 13 columns</p>\n</div>"
          },
          "metadata": {}
        }
      ]
    },
    {
      "cell_type": "code",
      "source": "#Adding new columns to a DataFrame\n'''frame['Blood Pressure'] = frame['Gender'].str[0:2]'''\nlst=list(range(16))\ndf['Blood Pressure']=lst\ndf",
      "metadata": {
        "trusted": true
      },
      "execution_count": 146,
      "outputs": [
        {
          "name": "stderr",
          "text": "<ipython-input-146-9601ce299e4b>:4: SettingWithCopyWarning: \nA value is trying to be set on a copy of a slice from a DataFrame.\nTry using .loc[row_indexer,col_indexer] = value instead\n\nSee the caveats in the documentation: https://pandas.pydata.org/pandas-docs/stable/user_guide/indexing.html#returning-a-view-versus-a-copy\n  df['Blood Pressure']=lst\n",
          "output_type": "stream"
        },
        {
          "execution_count": 146,
          "output_type": "execute_result",
          "data": {
            "text/plain": "     Unnamed: 0  Person ID  Gender  Age         Occupation  Sleep Duration  \\\n358         358        358  Female   59  Software Engineer             8.0   \n359         359        359  Female   59  Software Engineer             8.1   \n360         360        360  Female   59  Software Engineer             8.2   \n361         361        361  Female   59  Software Engineer             8.2   \n362         362        362  Female   59  Software Engineer             8.2   \n363         363        363  Female   59  Software Engineer             8.2   \n364         364        364  Female   59  Software Engineer             8.0   \n365         365        365  Female   59  Software Engineer             8.0   \n366         366        366  Female   59  Software Engineer             8.1   \n367         367        367  Female   59  Software Engineer             8.0   \n368         368        368  Female   59  Software Engineer             8.1   \n369         369        369  Female   59  Software Engineer             8.1   \n370         370        370  Female   59  Software Engineer             8.0   \n371         371        371  Female   59  Software Engineer             8.1   \n372         372        372  Female   59  Software Engineer             8.1   \n373         373        373  Female   59  Software Engineer             8.1   \n\n     Quality of Sleep  Physical Activity Level  Stress Level BMI Category  \\\n358                 9                       75             3   Overweight   \n359                 9                       75             3   Overweight   \n360                 9                       75             3   Overweight   \n361                 9                       75             3   Overweight   \n362                 9                       75             3   Overweight   \n363                 9                       75             3   Overweight   \n364                 9                       75             3   Overweight   \n365                 9                       75             3   Overweight   \n366                 9                       75             3   Overweight   \n367                 9                       75             3   Overweight   \n368                 9                       75             3   Overweight   \n369                 9                       75             3   Overweight   \n370                 9                       75             3   Overweight   \n371                 9                       75             3   Overweight   \n372                 9                       75             3   Overweight   \n373                 9                       75             3   Overweight   \n\n     Blood Pressure  Heart Rate  Daily Steps  Sleep Disorder  \n358               0          68         7000             NaN  \n359               1          68         7000             NaN  \n360               2          68         7000             NaN  \n361               3          68         7000             NaN  \n362               4          68         7000             NaN  \n363               5          68         7000             NaN  \n364               6          68         7000             NaN  \n365               7          68         7000             NaN  \n366               8          68         7000             NaN  \n367               9          68         7000             NaN  \n368              10          68         7000             NaN  \n369              11          68         7000             NaN  \n370              12          68         7000             NaN  \n371              13          68         7000             NaN  \n372              14          68         7000             NaN  \n373              15          68         7000             NaN  ",
            "text/html": "<div>\n<style scoped>\n    .dataframe tbody tr th:only-of-type {\n        vertical-align: middle;\n    }\n\n    .dataframe tbody tr th {\n        vertical-align: top;\n    }\n\n    .dataframe thead th {\n        text-align: right;\n    }\n</style>\n<table border=\"1\" class=\"dataframe\">\n  <thead>\n    <tr style=\"text-align: right;\">\n      <th></th>\n      <th>Unnamed: 0</th>\n      <th>Person ID</th>\n      <th>Gender</th>\n      <th>Age</th>\n      <th>Occupation</th>\n      <th>Sleep Duration</th>\n      <th>Quality of Sleep</th>\n      <th>Physical Activity Level</th>\n      <th>Stress Level</th>\n      <th>BMI Category</th>\n      <th>Blood Pressure</th>\n      <th>Heart Rate</th>\n      <th>Daily Steps</th>\n      <th>Sleep Disorder</th>\n    </tr>\n  </thead>\n  <tbody>\n    <tr>\n      <th>358</th>\n      <td>358</td>\n      <td>358</td>\n      <td>Female</td>\n      <td>59</td>\n      <td>Software Engineer</td>\n      <td>8.0</td>\n      <td>9</td>\n      <td>75</td>\n      <td>3</td>\n      <td>Overweight</td>\n      <td>0</td>\n      <td>68</td>\n      <td>7000</td>\n      <td>NaN</td>\n    </tr>\n    <tr>\n      <th>359</th>\n      <td>359</td>\n      <td>359</td>\n      <td>Female</td>\n      <td>59</td>\n      <td>Software Engineer</td>\n      <td>8.1</td>\n      <td>9</td>\n      <td>75</td>\n      <td>3</td>\n      <td>Overweight</td>\n      <td>1</td>\n      <td>68</td>\n      <td>7000</td>\n      <td>NaN</td>\n    </tr>\n    <tr>\n      <th>360</th>\n      <td>360</td>\n      <td>360</td>\n      <td>Female</td>\n      <td>59</td>\n      <td>Software Engineer</td>\n      <td>8.2</td>\n      <td>9</td>\n      <td>75</td>\n      <td>3</td>\n      <td>Overweight</td>\n      <td>2</td>\n      <td>68</td>\n      <td>7000</td>\n      <td>NaN</td>\n    </tr>\n    <tr>\n      <th>361</th>\n      <td>361</td>\n      <td>361</td>\n      <td>Female</td>\n      <td>59</td>\n      <td>Software Engineer</td>\n      <td>8.2</td>\n      <td>9</td>\n      <td>75</td>\n      <td>3</td>\n      <td>Overweight</td>\n      <td>3</td>\n      <td>68</td>\n      <td>7000</td>\n      <td>NaN</td>\n    </tr>\n    <tr>\n      <th>362</th>\n      <td>362</td>\n      <td>362</td>\n      <td>Female</td>\n      <td>59</td>\n      <td>Software Engineer</td>\n      <td>8.2</td>\n      <td>9</td>\n      <td>75</td>\n      <td>3</td>\n      <td>Overweight</td>\n      <td>4</td>\n      <td>68</td>\n      <td>7000</td>\n      <td>NaN</td>\n    </tr>\n    <tr>\n      <th>363</th>\n      <td>363</td>\n      <td>363</td>\n      <td>Female</td>\n      <td>59</td>\n      <td>Software Engineer</td>\n      <td>8.2</td>\n      <td>9</td>\n      <td>75</td>\n      <td>3</td>\n      <td>Overweight</td>\n      <td>5</td>\n      <td>68</td>\n      <td>7000</td>\n      <td>NaN</td>\n    </tr>\n    <tr>\n      <th>364</th>\n      <td>364</td>\n      <td>364</td>\n      <td>Female</td>\n      <td>59</td>\n      <td>Software Engineer</td>\n      <td>8.0</td>\n      <td>9</td>\n      <td>75</td>\n      <td>3</td>\n      <td>Overweight</td>\n      <td>6</td>\n      <td>68</td>\n      <td>7000</td>\n      <td>NaN</td>\n    </tr>\n    <tr>\n      <th>365</th>\n      <td>365</td>\n      <td>365</td>\n      <td>Female</td>\n      <td>59</td>\n      <td>Software Engineer</td>\n      <td>8.0</td>\n      <td>9</td>\n      <td>75</td>\n      <td>3</td>\n      <td>Overweight</td>\n      <td>7</td>\n      <td>68</td>\n      <td>7000</td>\n      <td>NaN</td>\n    </tr>\n    <tr>\n      <th>366</th>\n      <td>366</td>\n      <td>366</td>\n      <td>Female</td>\n      <td>59</td>\n      <td>Software Engineer</td>\n      <td>8.1</td>\n      <td>9</td>\n      <td>75</td>\n      <td>3</td>\n      <td>Overweight</td>\n      <td>8</td>\n      <td>68</td>\n      <td>7000</td>\n      <td>NaN</td>\n    </tr>\n    <tr>\n      <th>367</th>\n      <td>367</td>\n      <td>367</td>\n      <td>Female</td>\n      <td>59</td>\n      <td>Software Engineer</td>\n      <td>8.0</td>\n      <td>9</td>\n      <td>75</td>\n      <td>3</td>\n      <td>Overweight</td>\n      <td>9</td>\n      <td>68</td>\n      <td>7000</td>\n      <td>NaN</td>\n    </tr>\n    <tr>\n      <th>368</th>\n      <td>368</td>\n      <td>368</td>\n      <td>Female</td>\n      <td>59</td>\n      <td>Software Engineer</td>\n      <td>8.1</td>\n      <td>9</td>\n      <td>75</td>\n      <td>3</td>\n      <td>Overweight</td>\n      <td>10</td>\n      <td>68</td>\n      <td>7000</td>\n      <td>NaN</td>\n    </tr>\n    <tr>\n      <th>369</th>\n      <td>369</td>\n      <td>369</td>\n      <td>Female</td>\n      <td>59</td>\n      <td>Software Engineer</td>\n      <td>8.1</td>\n      <td>9</td>\n      <td>75</td>\n      <td>3</td>\n      <td>Overweight</td>\n      <td>11</td>\n      <td>68</td>\n      <td>7000</td>\n      <td>NaN</td>\n    </tr>\n    <tr>\n      <th>370</th>\n      <td>370</td>\n      <td>370</td>\n      <td>Female</td>\n      <td>59</td>\n      <td>Software Engineer</td>\n      <td>8.0</td>\n      <td>9</td>\n      <td>75</td>\n      <td>3</td>\n      <td>Overweight</td>\n      <td>12</td>\n      <td>68</td>\n      <td>7000</td>\n      <td>NaN</td>\n    </tr>\n    <tr>\n      <th>371</th>\n      <td>371</td>\n      <td>371</td>\n      <td>Female</td>\n      <td>59</td>\n      <td>Software Engineer</td>\n      <td>8.1</td>\n      <td>9</td>\n      <td>75</td>\n      <td>3</td>\n      <td>Overweight</td>\n      <td>13</td>\n      <td>68</td>\n      <td>7000</td>\n      <td>NaN</td>\n    </tr>\n    <tr>\n      <th>372</th>\n      <td>372</td>\n      <td>372</td>\n      <td>Female</td>\n      <td>59</td>\n      <td>Software Engineer</td>\n      <td>8.1</td>\n      <td>9</td>\n      <td>75</td>\n      <td>3</td>\n      <td>Overweight</td>\n      <td>14</td>\n      <td>68</td>\n      <td>7000</td>\n      <td>NaN</td>\n    </tr>\n    <tr>\n      <th>373</th>\n      <td>373</td>\n      <td>373</td>\n      <td>Female</td>\n      <td>59</td>\n      <td>Software Engineer</td>\n      <td>8.1</td>\n      <td>9</td>\n      <td>75</td>\n      <td>3</td>\n      <td>Overweight</td>\n      <td>15</td>\n      <td>68</td>\n      <td>7000</td>\n      <td>NaN</td>\n    </tr>\n  </tbody>\n</table>\n</div>"
          },
          "metadata": {}
        }
      ]
    },
    {
      "cell_type": "markdown",
      "source": "## Joining/Combining DataFrames and Groupby",
      "metadata": {}
    },
    {
      "cell_type": "markdown",
      "source": "##### Merge on columns",
      "metadata": {}
    },
    {
      "cell_type": "code",
      "source": "frame2=pd.read_csv(\"2015.csv\")\nframe2",
      "metadata": {},
      "execution_count": null,
      "outputs": [
        {
          "execution_count": 167,
          "output_type": "execute_result",
          "data": {
            "text/plain": "         Country                           Region  Happiness Rank  \\\n0    Switzerland                   Western Europe               1   \n1        Iceland                   Western Europe               2   \n2        Denmark                   Western Europe               3   \n3         Norway                   Western Europe               4   \n4         Canada                    North America               5   \n..           ...                              ...             ...   \n153       Rwanda               Sub-Saharan Africa             154   \n154        Benin               Sub-Saharan Africa             155   \n155        Syria  Middle East and Northern Africa             156   \n156      Burundi               Sub-Saharan Africa             157   \n157         Togo               Sub-Saharan Africa             158   \n\n     Happiness Score  Standard Error  Economy (GDP per Capita)   Family  \\\n0              7.587         0.03411                   1.39651  1.34951   \n1              7.561         0.04884                   1.30232  1.40223   \n2              7.527         0.03328                   1.32548  1.36058   \n3              7.522         0.03880                   1.45900  1.33095   \n4              7.427         0.03553                   1.32629  1.32261   \n..               ...             ...                       ...      ...   \n153            3.465         0.03464                   0.22208  0.77370   \n154            3.340         0.03656                   0.28665  0.35386   \n155            3.006         0.05015                   0.66320  0.47489   \n156            2.905         0.08658                   0.01530  0.41587   \n157            2.839         0.06727                   0.20868  0.13995   \n\n     Health (Life Expectancy)  Freedom  Trust (Government Corruption)  \\\n0                     0.94143  0.66557                        0.41978   \n1                     0.94784  0.62877                        0.14145   \n2                     0.87464  0.64938                        0.48357   \n3                     0.88521  0.66973                        0.36503   \n4                     0.90563  0.63297                        0.32957   \n..                        ...      ...                            ...   \n153                   0.42864  0.59201                        0.55191   \n154                   0.31910  0.48450                        0.08010   \n155                   0.72193  0.15684                        0.18906   \n156                   0.22396  0.11850                        0.10062   \n157                   0.28443  0.36453                        0.10731   \n\n     Generosity  Dystopia Residual  \n0       0.29678            2.51738  \n1       0.43630            2.70201  \n2       0.34139            2.49204  \n3       0.34699            2.46531  \n4       0.45811            2.45176  \n..          ...                ...  \n153     0.22628            0.67042  \n154     0.18260            1.63328  \n155     0.47179            0.32858  \n156     0.19727            1.83302  \n157     0.16681            1.56726  \n\n[158 rows x 12 columns]",
            "text/html": "<div>\n<style scoped>\n    .dataframe tbody tr th:only-of-type {\n        vertical-align: middle;\n    }\n\n    .dataframe tbody tr th {\n        vertical-align: top;\n    }\n\n    .dataframe thead th {\n        text-align: right;\n    }\n</style>\n<table border=\"1\" class=\"dataframe\">\n  <thead>\n    <tr style=\"text-align: right;\">\n      <th></th>\n      <th>Country</th>\n      <th>Region</th>\n      <th>Happiness Rank</th>\n      <th>Happiness Score</th>\n      <th>Standard Error</th>\n      <th>Economy (GDP per Capita)</th>\n      <th>Family</th>\n      <th>Health (Life Expectancy)</th>\n      <th>Freedom</th>\n      <th>Trust (Government Corruption)</th>\n      <th>Generosity</th>\n      <th>Dystopia Residual</th>\n    </tr>\n  </thead>\n  <tbody>\n    <tr>\n      <th>0</th>\n      <td>Switzerland</td>\n      <td>Western Europe</td>\n      <td>1</td>\n      <td>7.587</td>\n      <td>0.03411</td>\n      <td>1.39651</td>\n      <td>1.34951</td>\n      <td>0.94143</td>\n      <td>0.66557</td>\n      <td>0.41978</td>\n      <td>0.29678</td>\n      <td>2.51738</td>\n    </tr>\n    <tr>\n      <th>1</th>\n      <td>Iceland</td>\n      <td>Western Europe</td>\n      <td>2</td>\n      <td>7.561</td>\n      <td>0.04884</td>\n      <td>1.30232</td>\n      <td>1.40223</td>\n      <td>0.94784</td>\n      <td>0.62877</td>\n      <td>0.14145</td>\n      <td>0.43630</td>\n      <td>2.70201</td>\n    </tr>\n    <tr>\n      <th>2</th>\n      <td>Denmark</td>\n      <td>Western Europe</td>\n      <td>3</td>\n      <td>7.527</td>\n      <td>0.03328</td>\n      <td>1.32548</td>\n      <td>1.36058</td>\n      <td>0.87464</td>\n      <td>0.64938</td>\n      <td>0.48357</td>\n      <td>0.34139</td>\n      <td>2.49204</td>\n    </tr>\n    <tr>\n      <th>3</th>\n      <td>Norway</td>\n      <td>Western Europe</td>\n      <td>4</td>\n      <td>7.522</td>\n      <td>0.03880</td>\n      <td>1.45900</td>\n      <td>1.33095</td>\n      <td>0.88521</td>\n      <td>0.66973</td>\n      <td>0.36503</td>\n      <td>0.34699</td>\n      <td>2.46531</td>\n    </tr>\n    <tr>\n      <th>4</th>\n      <td>Canada</td>\n      <td>North America</td>\n      <td>5</td>\n      <td>7.427</td>\n      <td>0.03553</td>\n      <td>1.32629</td>\n      <td>1.32261</td>\n      <td>0.90563</td>\n      <td>0.63297</td>\n      <td>0.32957</td>\n      <td>0.45811</td>\n      <td>2.45176</td>\n    </tr>\n    <tr>\n      <th>...</th>\n      <td>...</td>\n      <td>...</td>\n      <td>...</td>\n      <td>...</td>\n      <td>...</td>\n      <td>...</td>\n      <td>...</td>\n      <td>...</td>\n      <td>...</td>\n      <td>...</td>\n      <td>...</td>\n      <td>...</td>\n    </tr>\n    <tr>\n      <th>153</th>\n      <td>Rwanda</td>\n      <td>Sub-Saharan Africa</td>\n      <td>154</td>\n      <td>3.465</td>\n      <td>0.03464</td>\n      <td>0.22208</td>\n      <td>0.77370</td>\n      <td>0.42864</td>\n      <td>0.59201</td>\n      <td>0.55191</td>\n      <td>0.22628</td>\n      <td>0.67042</td>\n    </tr>\n    <tr>\n      <th>154</th>\n      <td>Benin</td>\n      <td>Sub-Saharan Africa</td>\n      <td>155</td>\n      <td>3.340</td>\n      <td>0.03656</td>\n      <td>0.28665</td>\n      <td>0.35386</td>\n      <td>0.31910</td>\n      <td>0.48450</td>\n      <td>0.08010</td>\n      <td>0.18260</td>\n      <td>1.63328</td>\n    </tr>\n    <tr>\n      <th>155</th>\n      <td>Syria</td>\n      <td>Middle East and Northern Africa</td>\n      <td>156</td>\n      <td>3.006</td>\n      <td>0.05015</td>\n      <td>0.66320</td>\n      <td>0.47489</td>\n      <td>0.72193</td>\n      <td>0.15684</td>\n      <td>0.18906</td>\n      <td>0.47179</td>\n      <td>0.32858</td>\n    </tr>\n    <tr>\n      <th>156</th>\n      <td>Burundi</td>\n      <td>Sub-Saharan Africa</td>\n      <td>157</td>\n      <td>2.905</td>\n      <td>0.08658</td>\n      <td>0.01530</td>\n      <td>0.41587</td>\n      <td>0.22396</td>\n      <td>0.11850</td>\n      <td>0.10062</td>\n      <td>0.19727</td>\n      <td>1.83302</td>\n    </tr>\n    <tr>\n      <th>157</th>\n      <td>Togo</td>\n      <td>Sub-Saharan Africa</td>\n      <td>158</td>\n      <td>2.839</td>\n      <td>0.06727</td>\n      <td>0.20868</td>\n      <td>0.13995</td>\n      <td>0.28443</td>\n      <td>0.36453</td>\n      <td>0.10731</td>\n      <td>0.16681</td>\n      <td>1.56726</td>\n    </tr>\n  </tbody>\n</table>\n<p>158 rows × 12 columns</p>\n</div>"
          },
          "metadata": {}
        }
      ]
    },
    {
      "cell_type": "code",
      "source": "merge_frame=frame1.merge(frame2)",
      "metadata": {
        "trusted": true
      },
      "execution_count": 170,
      "outputs": [
        {
          "ename": "<class 'pandas.errors.MergeError'>",
          "evalue": "No common columns to perform merge on. Merge options: left_on=None, right_on=None, left_index=False, right_index=False",
          "traceback": [
            "\u001b[0;31m---------------------------------------------------------------------------\u001b[0m",
            "\u001b[0;31mMergeError\u001b[0m                                Traceback (most recent call last)",
            "Cell \u001b[0;32mIn[170], line 1\u001b[0m\n\u001b[0;32m----> 1\u001b[0m merge_frame\u001b[38;5;241m=\u001b[39m\u001b[43mframe1\u001b[49m\u001b[38;5;241;43m.\u001b[39;49m\u001b[43mmerge\u001b[49m\u001b[43m(\u001b[49m\u001b[43mframe2\u001b[49m\u001b[43m)\u001b[49m\n",
            "File \u001b[0;32m/lib/python3.11/site-packages/pandas/core/frame.py:10093\u001b[0m, in \u001b[0;36mDataFrame.merge\u001b[0;34m(self, right, how, on, left_on, right_on, left_index, right_index, sort, suffixes, copy, indicator, validate)\u001b[0m\n\u001b[1;32m  10074\u001b[0m \u001b[38;5;129m@Substitution\u001b[39m(\u001b[38;5;124m\"\u001b[39m\u001b[38;5;124m\"\u001b[39m)\n\u001b[1;32m  10075\u001b[0m \u001b[38;5;129m@Appender\u001b[39m(_merge_doc, indents\u001b[38;5;241m=\u001b[39m\u001b[38;5;241m2\u001b[39m)\n\u001b[1;32m  10076\u001b[0m \u001b[38;5;28;01mdef\u001b[39;00m \u001b[38;5;21mmerge\u001b[39m(\n\u001b[0;32m   (...)\u001b[0m\n\u001b[1;32m  10089\u001b[0m     validate: \u001b[38;5;28mstr\u001b[39m \u001b[38;5;241m|\u001b[39m \u001b[38;5;28;01mNone\u001b[39;00m \u001b[38;5;241m=\u001b[39m \u001b[38;5;28;01mNone\u001b[39;00m,\n\u001b[1;32m  10090\u001b[0m ) \u001b[38;5;241m-\u001b[39m\u001b[38;5;241m>\u001b[39m DataFrame:\n\u001b[1;32m  10091\u001b[0m     \u001b[38;5;28;01mfrom\u001b[39;00m \u001b[38;5;21;01mpandas\u001b[39;00m\u001b[38;5;21;01m.\u001b[39;00m\u001b[38;5;21;01mcore\u001b[39;00m\u001b[38;5;21;01m.\u001b[39;00m\u001b[38;5;21;01mreshape\u001b[39;00m\u001b[38;5;21;01m.\u001b[39;00m\u001b[38;5;21;01mmerge\u001b[39;00m \u001b[38;5;28;01mimport\u001b[39;00m merge\n\u001b[0;32m> 10093\u001b[0m     \u001b[38;5;28;01mreturn\u001b[39;00m \u001b[43mmerge\u001b[49m\u001b[43m(\u001b[49m\n\u001b[1;32m  10094\u001b[0m \u001b[43m        \u001b[49m\u001b[38;5;28;43mself\u001b[39;49m\u001b[43m,\u001b[49m\n\u001b[1;32m  10095\u001b[0m \u001b[43m        \u001b[49m\u001b[43mright\u001b[49m\u001b[43m,\u001b[49m\n\u001b[1;32m  10096\u001b[0m \u001b[43m        \u001b[49m\u001b[43mhow\u001b[49m\u001b[38;5;241;43m=\u001b[39;49m\u001b[43mhow\u001b[49m\u001b[43m,\u001b[49m\n\u001b[1;32m  10097\u001b[0m \u001b[43m        \u001b[49m\u001b[43mon\u001b[49m\u001b[38;5;241;43m=\u001b[39;49m\u001b[43mon\u001b[49m\u001b[43m,\u001b[49m\n\u001b[1;32m  10098\u001b[0m \u001b[43m        \u001b[49m\u001b[43mleft_on\u001b[49m\u001b[38;5;241;43m=\u001b[39;49m\u001b[43mleft_on\u001b[49m\u001b[43m,\u001b[49m\n\u001b[1;32m  10099\u001b[0m \u001b[43m        \u001b[49m\u001b[43mright_on\u001b[49m\u001b[38;5;241;43m=\u001b[39;49m\u001b[43mright_on\u001b[49m\u001b[43m,\u001b[49m\n\u001b[1;32m  10100\u001b[0m \u001b[43m        \u001b[49m\u001b[43mleft_index\u001b[49m\u001b[38;5;241;43m=\u001b[39;49m\u001b[43mleft_index\u001b[49m\u001b[43m,\u001b[49m\n\u001b[1;32m  10101\u001b[0m \u001b[43m        \u001b[49m\u001b[43mright_index\u001b[49m\u001b[38;5;241;43m=\u001b[39;49m\u001b[43mright_index\u001b[49m\u001b[43m,\u001b[49m\n\u001b[1;32m  10102\u001b[0m \u001b[43m        \u001b[49m\u001b[43msort\u001b[49m\u001b[38;5;241;43m=\u001b[39;49m\u001b[43msort\u001b[49m\u001b[43m,\u001b[49m\n\u001b[1;32m  10103\u001b[0m \u001b[43m        \u001b[49m\u001b[43msuffixes\u001b[49m\u001b[38;5;241;43m=\u001b[39;49m\u001b[43msuffixes\u001b[49m\u001b[43m,\u001b[49m\n\u001b[1;32m  10104\u001b[0m \u001b[43m        \u001b[49m\u001b[43mcopy\u001b[49m\u001b[38;5;241;43m=\u001b[39;49m\u001b[43mcopy\u001b[49m\u001b[43m,\u001b[49m\n\u001b[1;32m  10105\u001b[0m \u001b[43m        \u001b[49m\u001b[43mindicator\u001b[49m\u001b[38;5;241;43m=\u001b[39;49m\u001b[43mindicator\u001b[49m\u001b[43m,\u001b[49m\n\u001b[1;32m  10106\u001b[0m \u001b[43m        \u001b[49m\u001b[43mvalidate\u001b[49m\u001b[38;5;241;43m=\u001b[39;49m\u001b[43mvalidate\u001b[49m\u001b[43m,\u001b[49m\n\u001b[1;32m  10107\u001b[0m \u001b[43m    \u001b[49m\u001b[43m)\u001b[49m\n",
            "File \u001b[0;32m/lib/python3.11/site-packages/pandas/core/reshape/merge.py:110\u001b[0m, in \u001b[0;36mmerge\u001b[0;34m(left, right, how, on, left_on, right_on, left_index, right_index, sort, suffixes, copy, indicator, validate)\u001b[0m\n\u001b[1;32m     93\u001b[0m \u001b[38;5;129m@Substitution\u001b[39m(\u001b[38;5;124m\"\u001b[39m\u001b[38;5;130;01m\\n\u001b[39;00m\u001b[38;5;124mleft : DataFrame or named Series\u001b[39m\u001b[38;5;124m\"\u001b[39m)\n\u001b[1;32m     94\u001b[0m \u001b[38;5;129m@Appender\u001b[39m(_merge_doc, indents\u001b[38;5;241m=\u001b[39m\u001b[38;5;241m0\u001b[39m)\n\u001b[1;32m     95\u001b[0m \u001b[38;5;28;01mdef\u001b[39;00m \u001b[38;5;21mmerge\u001b[39m(\n\u001b[0;32m   (...)\u001b[0m\n\u001b[1;32m    108\u001b[0m     validate: \u001b[38;5;28mstr\u001b[39m \u001b[38;5;241m|\u001b[39m \u001b[38;5;28;01mNone\u001b[39;00m \u001b[38;5;241m=\u001b[39m \u001b[38;5;28;01mNone\u001b[39;00m,\n\u001b[1;32m    109\u001b[0m ) \u001b[38;5;241m-\u001b[39m\u001b[38;5;241m>\u001b[39m DataFrame:\n\u001b[0;32m--> 110\u001b[0m     op \u001b[38;5;241m=\u001b[39m \u001b[43m_MergeOperation\u001b[49m\u001b[43m(\u001b[49m\n\u001b[1;32m    111\u001b[0m \u001b[43m        \u001b[49m\u001b[43mleft\u001b[49m\u001b[43m,\u001b[49m\n\u001b[1;32m    112\u001b[0m \u001b[43m        \u001b[49m\u001b[43mright\u001b[49m\u001b[43m,\u001b[49m\n\u001b[1;32m    113\u001b[0m \u001b[43m        \u001b[49m\u001b[43mhow\u001b[49m\u001b[38;5;241;43m=\u001b[39;49m\u001b[43mhow\u001b[49m\u001b[43m,\u001b[49m\n\u001b[1;32m    114\u001b[0m \u001b[43m        \u001b[49m\u001b[43mon\u001b[49m\u001b[38;5;241;43m=\u001b[39;49m\u001b[43mon\u001b[49m\u001b[43m,\u001b[49m\n\u001b[1;32m    115\u001b[0m \u001b[43m        \u001b[49m\u001b[43mleft_on\u001b[49m\u001b[38;5;241;43m=\u001b[39;49m\u001b[43mleft_on\u001b[49m\u001b[43m,\u001b[49m\n\u001b[1;32m    116\u001b[0m \u001b[43m        \u001b[49m\u001b[43mright_on\u001b[49m\u001b[38;5;241;43m=\u001b[39;49m\u001b[43mright_on\u001b[49m\u001b[43m,\u001b[49m\n\u001b[1;32m    117\u001b[0m \u001b[43m        \u001b[49m\u001b[43mleft_index\u001b[49m\u001b[38;5;241;43m=\u001b[39;49m\u001b[43mleft_index\u001b[49m\u001b[43m,\u001b[49m\n\u001b[1;32m    118\u001b[0m \u001b[43m        \u001b[49m\u001b[43mright_index\u001b[49m\u001b[38;5;241;43m=\u001b[39;49m\u001b[43mright_index\u001b[49m\u001b[43m,\u001b[49m\n\u001b[1;32m    119\u001b[0m \u001b[43m        \u001b[49m\u001b[43msort\u001b[49m\u001b[38;5;241;43m=\u001b[39;49m\u001b[43msort\u001b[49m\u001b[43m,\u001b[49m\n\u001b[1;32m    120\u001b[0m \u001b[43m        \u001b[49m\u001b[43msuffixes\u001b[49m\u001b[38;5;241;43m=\u001b[39;49m\u001b[43msuffixes\u001b[49m\u001b[43m,\u001b[49m\n\u001b[1;32m    121\u001b[0m \u001b[43m        \u001b[49m\u001b[43mindicator\u001b[49m\u001b[38;5;241;43m=\u001b[39;49m\u001b[43mindicator\u001b[49m\u001b[43m,\u001b[49m\n\u001b[1;32m    122\u001b[0m \u001b[43m        \u001b[49m\u001b[43mvalidate\u001b[49m\u001b[38;5;241;43m=\u001b[39;49m\u001b[43mvalidate\u001b[49m\u001b[43m,\u001b[49m\n\u001b[1;32m    123\u001b[0m \u001b[43m    \u001b[49m\u001b[43m)\u001b[49m\n\u001b[1;32m    124\u001b[0m     \u001b[38;5;28;01mreturn\u001b[39;00m op\u001b[38;5;241m.\u001b[39mget_result(copy\u001b[38;5;241m=\u001b[39mcopy)\n",
            "File \u001b[0;32m/lib/python3.11/site-packages/pandas/core/reshape/merge.py:685\u001b[0m, in \u001b[0;36m_MergeOperation.__init__\u001b[0;34m(self, left, right, how, on, left_on, right_on, axis, left_index, right_index, sort, suffixes, indicator, validate)\u001b[0m\n\u001b[1;32m    681\u001b[0m     \u001b[38;5;66;03m# stacklevel chosen to be correct when this is reached via pd.merge\u001b[39;00m\n\u001b[1;32m    682\u001b[0m     \u001b[38;5;66;03m# (and not DataFrame.join)\u001b[39;00m\n\u001b[1;32m    683\u001b[0m     warnings\u001b[38;5;241m.\u001b[39mwarn(msg, \u001b[38;5;167;01mFutureWarning\u001b[39;00m, stacklevel\u001b[38;5;241m=\u001b[39mfind_stack_level())\n\u001b[0;32m--> 685\u001b[0m \u001b[38;5;28mself\u001b[39m\u001b[38;5;241m.\u001b[39mleft_on, \u001b[38;5;28mself\u001b[39m\u001b[38;5;241m.\u001b[39mright_on \u001b[38;5;241m=\u001b[39m \u001b[38;5;28;43mself\u001b[39;49m\u001b[38;5;241;43m.\u001b[39;49m\u001b[43m_validate_left_right_on\u001b[49m\u001b[43m(\u001b[49m\u001b[43mleft_on\u001b[49m\u001b[43m,\u001b[49m\u001b[43m \u001b[49m\u001b[43mright_on\u001b[49m\u001b[43m)\u001b[49m\n\u001b[1;32m    687\u001b[0m cross_col \u001b[38;5;241m=\u001b[39m \u001b[38;5;28;01mNone\u001b[39;00m\n\u001b[1;32m    688\u001b[0m \u001b[38;5;28;01mif\u001b[39;00m \u001b[38;5;28mself\u001b[39m\u001b[38;5;241m.\u001b[39mhow \u001b[38;5;241m==\u001b[39m \u001b[38;5;124m\"\u001b[39m\u001b[38;5;124mcross\u001b[39m\u001b[38;5;124m\"\u001b[39m:\n",
            "File \u001b[0;32m/lib/python3.11/site-packages/pandas/core/reshape/merge.py:1434\u001b[0m, in \u001b[0;36m_MergeOperation._validate_left_right_on\u001b[0;34m(self, left_on, right_on)\u001b[0m\n\u001b[1;32m   1432\u001b[0m common_cols \u001b[38;5;241m=\u001b[39m left_cols\u001b[38;5;241m.\u001b[39mintersection(right_cols)\n\u001b[1;32m   1433\u001b[0m \u001b[38;5;28;01mif\u001b[39;00m \u001b[38;5;28mlen\u001b[39m(common_cols) \u001b[38;5;241m==\u001b[39m \u001b[38;5;241m0\u001b[39m:\n\u001b[0;32m-> 1434\u001b[0m     \u001b[38;5;28;01mraise\u001b[39;00m MergeError(\n\u001b[1;32m   1435\u001b[0m         \u001b[38;5;124m\"\u001b[39m\u001b[38;5;124mNo common columns to perform merge on. \u001b[39m\u001b[38;5;124m\"\u001b[39m\n\u001b[1;32m   1436\u001b[0m         \u001b[38;5;124mf\u001b[39m\u001b[38;5;124m\"\u001b[39m\u001b[38;5;124mMerge options: left_on=\u001b[39m\u001b[38;5;132;01m{\u001b[39;00mleft_on\u001b[38;5;132;01m}\u001b[39;00m\u001b[38;5;124m, \u001b[39m\u001b[38;5;124m\"\u001b[39m\n\u001b[1;32m   1437\u001b[0m         \u001b[38;5;124mf\u001b[39m\u001b[38;5;124m\"\u001b[39m\u001b[38;5;124mright_on=\u001b[39m\u001b[38;5;132;01m{\u001b[39;00mright_on\u001b[38;5;132;01m}\u001b[39;00m\u001b[38;5;124m, \u001b[39m\u001b[38;5;124m\"\u001b[39m\n\u001b[1;32m   1438\u001b[0m         \u001b[38;5;124mf\u001b[39m\u001b[38;5;124m\"\u001b[39m\u001b[38;5;124mleft_index=\u001b[39m\u001b[38;5;132;01m{\u001b[39;00m\u001b[38;5;28mself\u001b[39m\u001b[38;5;241m.\u001b[39mleft_index\u001b[38;5;132;01m}\u001b[39;00m\u001b[38;5;124m, \u001b[39m\u001b[38;5;124m\"\u001b[39m\n\u001b[1;32m   1439\u001b[0m         \u001b[38;5;124mf\u001b[39m\u001b[38;5;124m\"\u001b[39m\u001b[38;5;124mright_index=\u001b[39m\u001b[38;5;132;01m{\u001b[39;00m\u001b[38;5;28mself\u001b[39m\u001b[38;5;241m.\u001b[39mright_index\u001b[38;5;132;01m}\u001b[39;00m\u001b[38;5;124m\"\u001b[39m\n\u001b[1;32m   1440\u001b[0m     )\n\u001b[1;32m   1441\u001b[0m \u001b[38;5;28;01mif\u001b[39;00m (\n\u001b[1;32m   1442\u001b[0m     \u001b[38;5;129;01mnot\u001b[39;00m left_cols\u001b[38;5;241m.\u001b[39mjoin(common_cols, how\u001b[38;5;241m=\u001b[39m\u001b[38;5;124m\"\u001b[39m\u001b[38;5;124minner\u001b[39m\u001b[38;5;124m\"\u001b[39m)\u001b[38;5;241m.\u001b[39mis_unique\n\u001b[1;32m   1443\u001b[0m     \u001b[38;5;129;01mor\u001b[39;00m \u001b[38;5;129;01mnot\u001b[39;00m right_cols\u001b[38;5;241m.\u001b[39mjoin(common_cols, how\u001b[38;5;241m=\u001b[39m\u001b[38;5;124m\"\u001b[39m\u001b[38;5;124minner\u001b[39m\u001b[38;5;124m\"\u001b[39m)\u001b[38;5;241m.\u001b[39mis_unique\n\u001b[1;32m   1444\u001b[0m ):\n\u001b[1;32m   1445\u001b[0m     \u001b[38;5;28;01mraise\u001b[39;00m MergeError(\u001b[38;5;124mf\u001b[39m\u001b[38;5;124m\"\u001b[39m\u001b[38;5;124mData columns not unique: \u001b[39m\u001b[38;5;132;01m{\u001b[39;00m\u001b[38;5;28mrepr\u001b[39m(common_cols)\u001b[38;5;132;01m}\u001b[39;00m\u001b[38;5;124m\"\u001b[39m)\n",
            "\u001b[0;31mMergeError\u001b[0m: No common columns to perform merge on. Merge options: left_on=None, right_on=None, left_index=False, right_index=False"
          ],
          "output_type": "error"
        }
      ]
    },
    {
      "cell_type": "markdown",
      "source": "##### aggregating function",
      "metadata": {}
    },
    {
      "cell_type": "code",
      "source": "frame['Sleep Duration'].sum()",
      "metadata": {
        "trusted": true
      },
      "execution_count": 147,
      "outputs": [
        {
          "execution_count": 147,
          "output_type": "execute_result",
          "data": {
            "text/plain": "768.4000000000001"
          },
          "metadata": {}
        }
      ]
    },
    {
      "cell_type": "code",
      "source": "frame.nunique()",
      "metadata": {
        "trusted": true
      },
      "execution_count": 148,
      "outputs": [
        {
          "execution_count": 148,
          "output_type": "execute_result",
          "data": {
            "text/plain": "Unnamed: 0                 116\nPerson ID                  116\nGender                       1\nAge                         20\nOccupation                   1\nSleep Duration              16\nQuality of Sleep             5\nPhysical Activity Level     11\nStress Level                 5\nBMI Category                 4\nHeart Rate                  13\nDaily Steps                 13\nSleep Disorder               0\ndtype: int64"
          },
          "metadata": {}
        }
      ]
    },
    {
      "cell_type": "code",
      "source": "frame1.describe()",
      "metadata": {
        "trusted": true
      },
      "execution_count": 162,
      "outputs": [
        {
          "execution_count": 162,
          "output_type": "execute_result",
          "data": {
            "text/plain": "       Unnamed: 0.1  Unnamed: 0   Person ID         Age  Sleep Duration  \\\ncount    375.000000  375.000000  375.000000  375.000000      375.000000   \nmean     186.994667  186.994667  186.994667   42.229333        7.134667   \nstd      108.388240  108.388240  108.388240    8.704949        0.796163   \nmin        0.000000    0.000000    0.000000   27.000000        5.800000   \n25%       93.500000   93.500000   93.500000   35.500000        6.400000   \n50%      187.000000  187.000000  187.000000   43.000000        7.200000   \n75%      280.500000  280.500000  280.500000   50.000000        7.800000   \nmax      373.000000  373.000000  373.000000   59.000000        8.500000   \n\n       Quality of Sleep  Physical Activity Level  Stress Level  Heart Rate  \\\ncount        375.000000               375.000000    375.000000  375.000000   \nmean           7.317333                59.213333      5.378667   70.160000   \nstd            1.198526                20.818989      1.776427    4.131657   \nmin            4.000000                30.000000      3.000000   65.000000   \n25%            6.000000                45.000000      4.000000   68.000000   \n50%            7.000000                60.000000      5.000000   70.000000   \n75%            8.000000                75.000000      7.000000   72.000000   \nmax            9.000000                90.000000      8.000000   86.000000   \n\n        Daily Steps  \ncount    375.000000  \nmean    6817.333333  \nstd     1615.778925  \nmin     3000.000000  \n25%     5600.000000  \n50%     7000.000000  \n75%     8000.000000  \nmax    10000.000000  ",
            "text/html": "<div>\n<style scoped>\n    .dataframe tbody tr th:only-of-type {\n        vertical-align: middle;\n    }\n\n    .dataframe tbody tr th {\n        vertical-align: top;\n    }\n\n    .dataframe thead th {\n        text-align: right;\n    }\n</style>\n<table border=\"1\" class=\"dataframe\">\n  <thead>\n    <tr style=\"text-align: right;\">\n      <th></th>\n      <th>Unnamed: 0.1</th>\n      <th>Unnamed: 0</th>\n      <th>Person ID</th>\n      <th>Age</th>\n      <th>Sleep Duration</th>\n      <th>Quality of Sleep</th>\n      <th>Physical Activity Level</th>\n      <th>Stress Level</th>\n      <th>Heart Rate</th>\n      <th>Daily Steps</th>\n    </tr>\n  </thead>\n  <tbody>\n    <tr>\n      <th>count</th>\n      <td>375.000000</td>\n      <td>375.000000</td>\n      <td>375.000000</td>\n      <td>375.000000</td>\n      <td>375.000000</td>\n      <td>375.000000</td>\n      <td>375.000000</td>\n      <td>375.000000</td>\n      <td>375.000000</td>\n      <td>375.000000</td>\n    </tr>\n    <tr>\n      <th>mean</th>\n      <td>186.994667</td>\n      <td>186.994667</td>\n      <td>186.994667</td>\n      <td>42.229333</td>\n      <td>7.134667</td>\n      <td>7.317333</td>\n      <td>59.213333</td>\n      <td>5.378667</td>\n      <td>70.160000</td>\n      <td>6817.333333</td>\n    </tr>\n    <tr>\n      <th>std</th>\n      <td>108.388240</td>\n      <td>108.388240</td>\n      <td>108.388240</td>\n      <td>8.704949</td>\n      <td>0.796163</td>\n      <td>1.198526</td>\n      <td>20.818989</td>\n      <td>1.776427</td>\n      <td>4.131657</td>\n      <td>1615.778925</td>\n    </tr>\n    <tr>\n      <th>min</th>\n      <td>0.000000</td>\n      <td>0.000000</td>\n      <td>0.000000</td>\n      <td>27.000000</td>\n      <td>5.800000</td>\n      <td>4.000000</td>\n      <td>30.000000</td>\n      <td>3.000000</td>\n      <td>65.000000</td>\n      <td>3000.000000</td>\n    </tr>\n    <tr>\n      <th>25%</th>\n      <td>93.500000</td>\n      <td>93.500000</td>\n      <td>93.500000</td>\n      <td>35.500000</td>\n      <td>6.400000</td>\n      <td>6.000000</td>\n      <td>45.000000</td>\n      <td>4.000000</td>\n      <td>68.000000</td>\n      <td>5600.000000</td>\n    </tr>\n    <tr>\n      <th>50%</th>\n      <td>187.000000</td>\n      <td>187.000000</td>\n      <td>187.000000</td>\n      <td>43.000000</td>\n      <td>7.200000</td>\n      <td>7.000000</td>\n      <td>60.000000</td>\n      <td>5.000000</td>\n      <td>70.000000</td>\n      <td>7000.000000</td>\n    </tr>\n    <tr>\n      <th>75%</th>\n      <td>280.500000</td>\n      <td>280.500000</td>\n      <td>280.500000</td>\n      <td>50.000000</td>\n      <td>7.800000</td>\n      <td>8.000000</td>\n      <td>75.000000</td>\n      <td>7.000000</td>\n      <td>72.000000</td>\n      <td>8000.000000</td>\n    </tr>\n    <tr>\n      <th>max</th>\n      <td>373.000000</td>\n      <td>373.000000</td>\n      <td>373.000000</td>\n      <td>59.000000</td>\n      <td>8.500000</td>\n      <td>9.000000</td>\n      <td>90.000000</td>\n      <td>8.000000</td>\n      <td>86.000000</td>\n      <td>10000.000000</td>\n    </tr>\n  </tbody>\n</table>\n</div>"
          },
          "metadata": {}
        }
      ]
    },
    {
      "cell_type": "code",
      "source": "frame1['Stress Level'].mean()",
      "metadata": {
        "trusted": true
      },
      "execution_count": 163,
      "outputs": [
        {
          "execution_count": 163,
          "output_type": "execute_result",
          "data": {
            "text/plain": "5.378666666666667"
          },
          "metadata": {}
        }
      ]
    },
    {
      "cell_type": "code",
      "source": "frame1['Stress Level'].std()",
      "metadata": {
        "trusted": true
      },
      "execution_count": 164,
      "outputs": [
        {
          "execution_count": 164,
          "output_type": "execute_result",
          "data": {
            "text/plain": "1.7764271458842835"
          },
          "metadata": {}
        }
      ]
    },
    {
      "cell_type": "code",
      "source": "frame1['Age'].max()",
      "metadata": {
        "trusted": true
      },
      "execution_count": 165,
      "outputs": [
        {
          "execution_count": 165,
          "output_type": "execute_result",
          "data": {
            "text/plain": "59"
          },
          "metadata": {}
        }
      ]
    },
    {
      "cell_type": "code",
      "source": "frame1['Age'].min()",
      "metadata": {
        "trusted": true
      },
      "execution_count": 166,
      "outputs": [
        {
          "execution_count": 166,
          "output_type": "execute_result",
          "data": {
            "text/plain": "27"
          },
          "metadata": {}
        }
      ]
    },
    {
      "cell_type": "code",
      "source": "",
      "metadata": {},
      "execution_count": null,
      "outputs": []
    }
  ]
}