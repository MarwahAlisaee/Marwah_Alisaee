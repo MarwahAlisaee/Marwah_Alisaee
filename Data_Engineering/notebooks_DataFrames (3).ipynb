{
  "metadata": {
    "language_info": {
      "codemirror_mode": {
        "name": "python",
        "version": 3
      },
      "file_extension": ".py",
      "mimetype": "text/x-python",
      "name": "python",
      "nbconvert_exporter": "python",
      "pygments_lexer": "ipython3",
      "version": "3.8"
    },
    "kernelspec": {
      "name": "python",
      "display_name": "Python (Pyodide)",
      "language": "python"
    }
  },
  "nbformat_minor": 4,
  "nbformat": 4,
  "cells": [
    {
      "cell_type": "markdown",
      "source": "# DATA MANIPULATION USING PYTHON",
      "metadata": {}
    },
    {
      "cell_type": "markdown",
      "source": "## OBJECTIVE:",
      "metadata": {}
    },
    {
      "cell_type": "markdown",
      "source": "### 1.Consistent and organized data \n### 2.Insightful project data access\n### 3.More valuable data\n### 4.Reduces unnecessary data points\n\n\n",
      "metadata": {}
    },
    {
      "cell_type": "markdown",
      "source": "## 1.Dataset:",
      "metadata": {}
    },
    {
      "cell_type": "markdown",
      "source": "#### The Sleep Health and Lifestyle Dataset comprises 400 rows and 13 columns, covering a wide range of variables related to sleep and daily habits. It includes details such as gender, age, occupation, sleep duration, quality of sleep, physical activity level, stress levels, BMI category, blood pressure, heart rate, daily steps, and the presence or absence of sleep disorders.\n\nhttps://www.kaggle.com/datasets/uom190346a/sleep-health-and-lifestyle-dataset",
      "metadata": {}
    },
    {
      "cell_type": "markdown",
      "source": "## 2. Get your data into a DataFrame:",
      "metadata": {}
    },
    {
      "cell_type": "markdown",
      "source": "##### Load a SLEEP DataFrame from a CSV file",
      "metadata": {}
    },
    {
      "cell_type": "markdown",
      "source": "###### Import the pandas library as 'pd' and the numpy library as 'np'\n###### Import specific components Series and DataFrame from pandas (not necessary as we already imported pandas with 'pd')",
      "metadata": {}
    },
    {
      "cell_type": "code",
      "source": "import pandas as pd\nimport numpy as np\nfrom pandas import Series, DataFrame",
      "metadata": {
        "trusted": true
      },
      "execution_count": 50,
      "outputs": []
    },
    {
      "cell_type": "markdown",
      "source": "###### Read data from the CSV file \"Sleep_health.csv\" and create a DataFrame named 'frame' by function read_csv in panda:",
      "metadata": {}
    },
    {
      "cell_type": "code",
      "source": "frame=pd.read_csv(\"Sleep_health.csv\")\nframe",
      "metadata": {
        "trusted": true
      },
      "execution_count": 53,
      "outputs": [
        {
          "execution_count": 53,
          "output_type": "execute_result",
          "data": {
            "text/plain": "     Unnamed: 0.2  Unnamed: 0.1  Unnamed: 0  Person ID  Gender  Age  \\\n0               0             0           0          0    Male   27   \n1               1             1           1          1    Male   28   \n2               2             2           2          2    Male   28   \n3               3             3           3          3    Male   28   \n4               4             4           4          4    Male   28   \n..            ...           ...         ...        ...     ...  ...   \n369           369           369         369        369  Female   59   \n370           370           370         370        370  Female   59   \n371           371           371         371        371  Female   59   \n372           372           372         372        372  Female   59   \n373           373           373         373        373  Female   59   \n\n            Occupation  Sleep Duration  Quality of Sleep  \\\n0    Software Engineer             6.1                 6   \n1    Software Engineer             6.2                 6   \n2    Software Engineer             6.2                 6   \n3    Software Engineer             5.9                 4   \n4    Software Engineer             5.9                 4   \n..                 ...             ...               ...   \n369  Software Engineer             8.1                 9   \n370  Software Engineer             8.0                 9   \n371  Software Engineer             8.1                 9   \n372  Software Engineer             8.1                 9   \n373  Software Engineer             8.1                 9   \n\n     Physical Activity Level  Stress Level BMI Category Blood Pressure  \\\n0                         42             6   Overweight         126/83   \n1                         60             8       Normal         125/80   \n2                         60             8       Normal         125/80   \n3                         30             8        Obese         140/90   \n4                         30             8        Obese         140/90   \n..                       ...           ...          ...            ...   \n369                       75             3   Overweight         140/95   \n370                       75             3   Overweight         140/95   \n371                       75             3   Overweight         140/95   \n372                       75             3   Overweight         140/95   \n373                       75             3   Overweight         140/95   \n\n     Heart Rate  Daily Steps  Sleep Disorder  \n0            77         4200             NaN  \n1            75        10000             NaN  \n2            75        10000             NaN  \n3            85         3000             NaN  \n4            85         3000             NaN  \n..          ...          ...             ...  \n369          68         7000             NaN  \n370          68         7000             NaN  \n371          68         7000             NaN  \n372          68         7000             NaN  \n373          68         7000             NaN  \n\n[374 rows x 16 columns]",
            "text/html": "<div>\n<style scoped>\n    .dataframe tbody tr th:only-of-type {\n        vertical-align: middle;\n    }\n\n    .dataframe tbody tr th {\n        vertical-align: top;\n    }\n\n    .dataframe thead th {\n        text-align: right;\n    }\n</style>\n<table border=\"1\" class=\"dataframe\">\n  <thead>\n    <tr style=\"text-align: right;\">\n      <th></th>\n      <th>Unnamed: 0.2</th>\n      <th>Unnamed: 0.1</th>\n      <th>Unnamed: 0</th>\n      <th>Person ID</th>\n      <th>Gender</th>\n      <th>Age</th>\n      <th>Occupation</th>\n      <th>Sleep Duration</th>\n      <th>Quality of Sleep</th>\n      <th>Physical Activity Level</th>\n      <th>Stress Level</th>\n      <th>BMI Category</th>\n      <th>Blood Pressure</th>\n      <th>Heart Rate</th>\n      <th>Daily Steps</th>\n      <th>Sleep Disorder</th>\n    </tr>\n  </thead>\n  <tbody>\n    <tr>\n      <th>0</th>\n      <td>0</td>\n      <td>0</td>\n      <td>0</td>\n      <td>0</td>\n      <td>Male</td>\n      <td>27</td>\n      <td>Software Engineer</td>\n      <td>6.1</td>\n      <td>6</td>\n      <td>42</td>\n      <td>6</td>\n      <td>Overweight</td>\n      <td>126/83</td>\n      <td>77</td>\n      <td>4200</td>\n      <td>NaN</td>\n    </tr>\n    <tr>\n      <th>1</th>\n      <td>1</td>\n      <td>1</td>\n      <td>1</td>\n      <td>1</td>\n      <td>Male</td>\n      <td>28</td>\n      <td>Software Engineer</td>\n      <td>6.2</td>\n      <td>6</td>\n      <td>60</td>\n      <td>8</td>\n      <td>Normal</td>\n      <td>125/80</td>\n      <td>75</td>\n      <td>10000</td>\n      <td>NaN</td>\n    </tr>\n    <tr>\n      <th>2</th>\n      <td>2</td>\n      <td>2</td>\n      <td>2</td>\n      <td>2</td>\n      <td>Male</td>\n      <td>28</td>\n      <td>Software Engineer</td>\n      <td>6.2</td>\n      <td>6</td>\n      <td>60</td>\n      <td>8</td>\n      <td>Normal</td>\n      <td>125/80</td>\n      <td>75</td>\n      <td>10000</td>\n      <td>NaN</td>\n    </tr>\n    <tr>\n      <th>3</th>\n      <td>3</td>\n      <td>3</td>\n      <td>3</td>\n      <td>3</td>\n      <td>Male</td>\n      <td>28</td>\n      <td>Software Engineer</td>\n      <td>5.9</td>\n      <td>4</td>\n      <td>30</td>\n      <td>8</td>\n      <td>Obese</td>\n      <td>140/90</td>\n      <td>85</td>\n      <td>3000</td>\n      <td>NaN</td>\n    </tr>\n    <tr>\n      <th>4</th>\n      <td>4</td>\n      <td>4</td>\n      <td>4</td>\n      <td>4</td>\n      <td>Male</td>\n      <td>28</td>\n      <td>Software Engineer</td>\n      <td>5.9</td>\n      <td>4</td>\n      <td>30</td>\n      <td>8</td>\n      <td>Obese</td>\n      <td>140/90</td>\n      <td>85</td>\n      <td>3000</td>\n      <td>NaN</td>\n    </tr>\n    <tr>\n      <th>...</th>\n      <td>...</td>\n      <td>...</td>\n      <td>...</td>\n      <td>...</td>\n      <td>...</td>\n      <td>...</td>\n      <td>...</td>\n      <td>...</td>\n      <td>...</td>\n      <td>...</td>\n      <td>...</td>\n      <td>...</td>\n      <td>...</td>\n      <td>...</td>\n      <td>...</td>\n      <td>...</td>\n    </tr>\n    <tr>\n      <th>369</th>\n      <td>369</td>\n      <td>369</td>\n      <td>369</td>\n      <td>369</td>\n      <td>Female</td>\n      <td>59</td>\n      <td>Software Engineer</td>\n      <td>8.1</td>\n      <td>9</td>\n      <td>75</td>\n      <td>3</td>\n      <td>Overweight</td>\n      <td>140/95</td>\n      <td>68</td>\n      <td>7000</td>\n      <td>NaN</td>\n    </tr>\n    <tr>\n      <th>370</th>\n      <td>370</td>\n      <td>370</td>\n      <td>370</td>\n      <td>370</td>\n      <td>Female</td>\n      <td>59</td>\n      <td>Software Engineer</td>\n      <td>8.0</td>\n      <td>9</td>\n      <td>75</td>\n      <td>3</td>\n      <td>Overweight</td>\n      <td>140/95</td>\n      <td>68</td>\n      <td>7000</td>\n      <td>NaN</td>\n    </tr>\n    <tr>\n      <th>371</th>\n      <td>371</td>\n      <td>371</td>\n      <td>371</td>\n      <td>371</td>\n      <td>Female</td>\n      <td>59</td>\n      <td>Software Engineer</td>\n      <td>8.1</td>\n      <td>9</td>\n      <td>75</td>\n      <td>3</td>\n      <td>Overweight</td>\n      <td>140/95</td>\n      <td>68</td>\n      <td>7000</td>\n      <td>NaN</td>\n    </tr>\n    <tr>\n      <th>372</th>\n      <td>372</td>\n      <td>372</td>\n      <td>372</td>\n      <td>372</td>\n      <td>Female</td>\n      <td>59</td>\n      <td>Software Engineer</td>\n      <td>8.1</td>\n      <td>9</td>\n      <td>75</td>\n      <td>3</td>\n      <td>Overweight</td>\n      <td>140/95</td>\n      <td>68</td>\n      <td>7000</td>\n      <td>NaN</td>\n    </tr>\n    <tr>\n      <th>373</th>\n      <td>373</td>\n      <td>373</td>\n      <td>373</td>\n      <td>373</td>\n      <td>Female</td>\n      <td>59</td>\n      <td>Software Engineer</td>\n      <td>8.1</td>\n      <td>9</td>\n      <td>75</td>\n      <td>3</td>\n      <td>Overweight</td>\n      <td>140/95</td>\n      <td>68</td>\n      <td>7000</td>\n      <td>NaN</td>\n    </tr>\n  </tbody>\n</table>\n<p>374 rows × 16 columns</p>\n</div>"
          },
          "metadata": {}
        }
      ]
    },
    {
      "cell_type": "markdown",
      "source": "## 3. Saving a DataFrame",
      "metadata": {}
    },
    {
      "cell_type": "markdown",
      "source": "##### Saving a DataFrame to a CSV file",
      "metadata": {}
    },
    {
      "cell_type": "markdown",
      "source": "###### Export the DataFrame 'frame' to a CSV file named \"Sleep_health.csv\"",
      "metadata": {}
    },
    {
      "cell_type": "code",
      "source": "frame.to_csv('Sleep_health.csv', encoding='utf-8')",
      "metadata": {
        "trusted": true
      },
      "execution_count": 54,
      "outputs": []
    },
    {
      "cell_type": "markdown",
      "source": "##### Saving a DataFrame to a Python dictionary",
      "metadata": {}
    },
    {
      "cell_type": "markdown",
      "source": "###### Assuming 'frame' is a pandas DataFrame containing data\n###### Convert the DataFrame 'frame' to a dictionary",
      "metadata": {}
    },
    {
      "cell_type": "code",
      "source": "dictionary = frame.to_dict()",
      "metadata": {
        "trusted": true
      },
      "execution_count": 55,
      "outputs": []
    },
    {
      "cell_type": "markdown",
      "source": "##### Saving a DataFrame to a Python string",
      "metadata": {}
    },
    {
      "cell_type": "markdown",
      "source": "###### Convert the DataFrame 'frame' to a string representation",
      "metadata": {}
    },
    {
      "cell_type": "code",
      "source": "string = frame.to_string()",
      "metadata": {
        "trusted": true
      },
      "execution_count": 56,
      "outputs": []
    },
    {
      "cell_type": "markdown",
      "source": "## 4. Working with the whole DataFrame",
      "metadata": {}
    },
    {
      "cell_type": "markdown",
      "source": "##### Peek at the DataFrame contents",
      "metadata": {}
    },
    {
      "cell_type": "markdown",
      "source": "###### Get a concise summary of the DataFrame 'frame'",
      "metadata": {}
    },
    {
      "cell_type": "code",
      "source": "frame.info()",
      "metadata": {
        "trusted": true
      },
      "execution_count": 57,
      "outputs": [
        {
          "name": "stdout",
          "text": "<class 'pandas.core.frame.DataFrame'>\nRangeIndex: 374 entries, 0 to 373\nData columns (total 16 columns):\n #   Column                   Non-Null Count  Dtype  \n---  ------                   --------------  -----  \n 0   Unnamed: 0.2             374 non-null    int64  \n 1   Unnamed: 0.1             374 non-null    int64  \n 2   Unnamed: 0               374 non-null    int64  \n 3   Person ID                374 non-null    int64  \n 4   Gender                   374 non-null    object \n 5   Age                      374 non-null    int64  \n 6   Occupation               374 non-null    object \n 7   Sleep Duration           374 non-null    float64\n 8   Quality of Sleep         374 non-null    int64  \n 9   Physical Activity Level  374 non-null    int64  \n 10  Stress Level             374 non-null    int64  \n 11  BMI Category             374 non-null    object \n 12  Blood Pressure           374 non-null    object \n 13  Heart Rate               374 non-null    int64  \n 14  Daily Steps              374 non-null    int64  \n 15  Sleep Disorder           0 non-null      float64\ndtypes: float64(2), int64(10), object(4)\nmemory usage: 41.0+ KB\n",
          "output_type": "stream"
        }
      ]
    },
    {
      "cell_type": "markdown",
      "source": "##### Summary of column statistics",
      "metadata": {}
    },
    {
      "cell_type": "markdown",
      "source": "###### Get summary statistics of the DataFrame 'frame'",
      "metadata": {}
    },
    {
      "cell_type": "code",
      "source": "frame.describe()",
      "metadata": {
        "trusted": true
      },
      "execution_count": 58,
      "outputs": [
        {
          "execution_count": 58,
          "output_type": "execute_result",
          "data": {
            "text/plain": "       Unnamed: 0.2  Unnamed: 0.1  Unnamed: 0   Person ID         Age  \\\ncount    374.000000    374.000000  374.000000  374.000000  374.000000   \nmean     186.500000    186.500000  186.500000  186.500000   42.184492   \nstd      108.108742    108.108742  108.108742  108.108742    8.673133   \nmin        0.000000      0.000000    0.000000    0.000000   27.000000   \n25%       93.250000     93.250000   93.250000   93.250000   35.250000   \n50%      186.500000    186.500000  186.500000  186.500000   43.000000   \n75%      279.750000    279.750000  279.750000  279.750000   50.000000   \nmax      373.000000    373.000000  373.000000  373.000000   59.000000   \n\n       Sleep Duration  Quality of Sleep  Physical Activity Level  \\\ncount      374.000000        374.000000               374.000000   \nmean         7.132086          7.312834                59.171123   \nstd          0.795657          1.196956                20.830804   \nmin          5.800000          4.000000                30.000000   \n25%          6.400000          6.000000                45.000000   \n50%          7.200000          7.000000                60.000000   \n75%          7.800000          8.000000                75.000000   \nmax          8.500000          9.000000                90.000000   \n\n       Stress Level  Heart Rate   Daily Steps  Sleep Disorder  \ncount    374.000000  374.000000    374.000000             0.0  \nmean       5.385027   70.165775   6816.844920             NaN  \nstd        1.774526    4.135676   1617.915679             NaN  \nmin        3.000000   65.000000   3000.000000             NaN  \n25%        4.000000   68.000000   5600.000000             NaN  \n50%        5.000000   70.000000   7000.000000             NaN  \n75%        7.000000   72.000000   8000.000000             NaN  \nmax        8.000000   86.000000  10000.000000             NaN  ",
            "text/html": "<div>\n<style scoped>\n    .dataframe tbody tr th:only-of-type {\n        vertical-align: middle;\n    }\n\n    .dataframe tbody tr th {\n        vertical-align: top;\n    }\n\n    .dataframe thead th {\n        text-align: right;\n    }\n</style>\n<table border=\"1\" class=\"dataframe\">\n  <thead>\n    <tr style=\"text-align: right;\">\n      <th></th>\n      <th>Unnamed: 0.2</th>\n      <th>Unnamed: 0.1</th>\n      <th>Unnamed: 0</th>\n      <th>Person ID</th>\n      <th>Age</th>\n      <th>Sleep Duration</th>\n      <th>Quality of Sleep</th>\n      <th>Physical Activity Level</th>\n      <th>Stress Level</th>\n      <th>Heart Rate</th>\n      <th>Daily Steps</th>\n      <th>Sleep Disorder</th>\n    </tr>\n  </thead>\n  <tbody>\n    <tr>\n      <th>count</th>\n      <td>374.000000</td>\n      <td>374.000000</td>\n      <td>374.000000</td>\n      <td>374.000000</td>\n      <td>374.000000</td>\n      <td>374.000000</td>\n      <td>374.000000</td>\n      <td>374.000000</td>\n      <td>374.000000</td>\n      <td>374.000000</td>\n      <td>374.000000</td>\n      <td>0.0</td>\n    </tr>\n    <tr>\n      <th>mean</th>\n      <td>186.500000</td>\n      <td>186.500000</td>\n      <td>186.500000</td>\n      <td>186.500000</td>\n      <td>42.184492</td>\n      <td>7.132086</td>\n      <td>7.312834</td>\n      <td>59.171123</td>\n      <td>5.385027</td>\n      <td>70.165775</td>\n      <td>6816.844920</td>\n      <td>NaN</td>\n    </tr>\n    <tr>\n      <th>std</th>\n      <td>108.108742</td>\n      <td>108.108742</td>\n      <td>108.108742</td>\n      <td>108.108742</td>\n      <td>8.673133</td>\n      <td>0.795657</td>\n      <td>1.196956</td>\n      <td>20.830804</td>\n      <td>1.774526</td>\n      <td>4.135676</td>\n      <td>1617.915679</td>\n      <td>NaN</td>\n    </tr>\n    <tr>\n      <th>min</th>\n      <td>0.000000</td>\n      <td>0.000000</td>\n      <td>0.000000</td>\n      <td>0.000000</td>\n      <td>27.000000</td>\n      <td>5.800000</td>\n      <td>4.000000</td>\n      <td>30.000000</td>\n      <td>3.000000</td>\n      <td>65.000000</td>\n      <td>3000.000000</td>\n      <td>NaN</td>\n    </tr>\n    <tr>\n      <th>25%</th>\n      <td>93.250000</td>\n      <td>93.250000</td>\n      <td>93.250000</td>\n      <td>93.250000</td>\n      <td>35.250000</td>\n      <td>6.400000</td>\n      <td>6.000000</td>\n      <td>45.000000</td>\n      <td>4.000000</td>\n      <td>68.000000</td>\n      <td>5600.000000</td>\n      <td>NaN</td>\n    </tr>\n    <tr>\n      <th>50%</th>\n      <td>186.500000</td>\n      <td>186.500000</td>\n      <td>186.500000</td>\n      <td>186.500000</td>\n      <td>43.000000</td>\n      <td>7.200000</td>\n      <td>7.000000</td>\n      <td>60.000000</td>\n      <td>5.000000</td>\n      <td>70.000000</td>\n      <td>7000.000000</td>\n      <td>NaN</td>\n    </tr>\n    <tr>\n      <th>75%</th>\n      <td>279.750000</td>\n      <td>279.750000</td>\n      <td>279.750000</td>\n      <td>279.750000</td>\n      <td>50.000000</td>\n      <td>7.800000</td>\n      <td>8.000000</td>\n      <td>75.000000</td>\n      <td>7.000000</td>\n      <td>72.000000</td>\n      <td>8000.000000</td>\n      <td>NaN</td>\n    </tr>\n    <tr>\n      <th>max</th>\n      <td>373.000000</td>\n      <td>373.000000</td>\n      <td>373.000000</td>\n      <td>373.000000</td>\n      <td>59.000000</td>\n      <td>8.500000</td>\n      <td>9.000000</td>\n      <td>90.000000</td>\n      <td>8.000000</td>\n      <td>86.000000</td>\n      <td>10000.000000</td>\n      <td>NaN</td>\n    </tr>\n  </tbody>\n</table>\n</div>"
          },
          "metadata": {}
        }
      ]
    },
    {
      "cell_type": "markdown",
      "source": "#### Head",
      "metadata": {}
    },
    {
      "cell_type": "markdown",
      "source": "###### method in pandas is used to display the first few rows of a DataFrame. By default, it shows the first 5 rows, but you can specify the number of rows you want to display as an argument. In this case, we have specified 3 as the argument, so the method will display the first 3 rows of the DataFrame.",
      "metadata": {}
    },
    {
      "cell_type": "code",
      "source": "frame.head(3)",
      "metadata": {
        "trusted": true
      },
      "execution_count": 59,
      "outputs": [
        {
          "execution_count": 59,
          "output_type": "execute_result",
          "data": {
            "text/plain": "   Unnamed: 0.2  Unnamed: 0.1  Unnamed: 0  Person ID Gender  Age  \\\n0             0             0           0          0   Male   27   \n1             1             1           1          1   Male   28   \n2             2             2           2          2   Male   28   \n\n          Occupation  Sleep Duration  Quality of Sleep  \\\n0  Software Engineer             6.1                 6   \n1  Software Engineer             6.2                 6   \n2  Software Engineer             6.2                 6   \n\n   Physical Activity Level  Stress Level BMI Category Blood Pressure  \\\n0                       42             6   Overweight         126/83   \n1                       60             8       Normal         125/80   \n2                       60             8       Normal         125/80   \n\n   Heart Rate  Daily Steps  Sleep Disorder  \n0          77         4200             NaN  \n1          75        10000             NaN  \n2          75        10000             NaN  ",
            "text/html": "<div>\n<style scoped>\n    .dataframe tbody tr th:only-of-type {\n        vertical-align: middle;\n    }\n\n    .dataframe tbody tr th {\n        vertical-align: top;\n    }\n\n    .dataframe thead th {\n        text-align: right;\n    }\n</style>\n<table border=\"1\" class=\"dataframe\">\n  <thead>\n    <tr style=\"text-align: right;\">\n      <th></th>\n      <th>Unnamed: 0.2</th>\n      <th>Unnamed: 0.1</th>\n      <th>Unnamed: 0</th>\n      <th>Person ID</th>\n      <th>Gender</th>\n      <th>Age</th>\n      <th>Occupation</th>\n      <th>Sleep Duration</th>\n      <th>Quality of Sleep</th>\n      <th>Physical Activity Level</th>\n      <th>Stress Level</th>\n      <th>BMI Category</th>\n      <th>Blood Pressure</th>\n      <th>Heart Rate</th>\n      <th>Daily Steps</th>\n      <th>Sleep Disorder</th>\n    </tr>\n  </thead>\n  <tbody>\n    <tr>\n      <th>0</th>\n      <td>0</td>\n      <td>0</td>\n      <td>0</td>\n      <td>0</td>\n      <td>Male</td>\n      <td>27</td>\n      <td>Software Engineer</td>\n      <td>6.1</td>\n      <td>6</td>\n      <td>42</td>\n      <td>6</td>\n      <td>Overweight</td>\n      <td>126/83</td>\n      <td>77</td>\n      <td>4200</td>\n      <td>NaN</td>\n    </tr>\n    <tr>\n      <th>1</th>\n      <td>1</td>\n      <td>1</td>\n      <td>1</td>\n      <td>1</td>\n      <td>Male</td>\n      <td>28</td>\n      <td>Software Engineer</td>\n      <td>6.2</td>\n      <td>6</td>\n      <td>60</td>\n      <td>8</td>\n      <td>Normal</td>\n      <td>125/80</td>\n      <td>75</td>\n      <td>10000</td>\n      <td>NaN</td>\n    </tr>\n    <tr>\n      <th>2</th>\n      <td>2</td>\n      <td>2</td>\n      <td>2</td>\n      <td>2</td>\n      <td>Male</td>\n      <td>28</td>\n      <td>Software Engineer</td>\n      <td>6.2</td>\n      <td>6</td>\n      <td>60</td>\n      <td>8</td>\n      <td>Normal</td>\n      <td>125/80</td>\n      <td>75</td>\n      <td>10000</td>\n      <td>NaN</td>\n    </tr>\n  </tbody>\n</table>\n</div>"
          },
          "metadata": {}
        }
      ]
    },
    {
      "cell_type": "markdown",
      "source": "#### Tail",
      "metadata": {}
    },
    {
      "cell_type": "markdown",
      "source": "###### The method tail() is used to display the last few rows of the DataFrame. In this case, frame.tail(2) would display the last two rows of the DataFrame called frame.",
      "metadata": {}
    },
    {
      "cell_type": "code",
      "source": "frame.tail(2)",
      "metadata": {
        "trusted": true
      },
      "execution_count": 60,
      "outputs": [
        {
          "execution_count": 60,
          "output_type": "execute_result",
          "data": {
            "text/plain": "     Unnamed: 0.2  Unnamed: 0.1  Unnamed: 0  Person ID  Gender  Age  \\\n372           372           372         372        372  Female   59   \n373           373           373         373        373  Female   59   \n\n            Occupation  Sleep Duration  Quality of Sleep  \\\n372  Software Engineer             8.1                 9   \n373  Software Engineer             8.1                 9   \n\n     Physical Activity Level  Stress Level BMI Category Blood Pressure  \\\n372                       75             3   Overweight         140/95   \n373                       75             3   Overweight         140/95   \n\n     Heart Rate  Daily Steps  Sleep Disorder  \n372          68         7000             NaN  \n373          68         7000             NaN  ",
            "text/html": "<div>\n<style scoped>\n    .dataframe tbody tr th:only-of-type {\n        vertical-align: middle;\n    }\n\n    .dataframe tbody tr th {\n        vertical-align: top;\n    }\n\n    .dataframe thead th {\n        text-align: right;\n    }\n</style>\n<table border=\"1\" class=\"dataframe\">\n  <thead>\n    <tr style=\"text-align: right;\">\n      <th></th>\n      <th>Unnamed: 0.2</th>\n      <th>Unnamed: 0.1</th>\n      <th>Unnamed: 0</th>\n      <th>Person ID</th>\n      <th>Gender</th>\n      <th>Age</th>\n      <th>Occupation</th>\n      <th>Sleep Duration</th>\n      <th>Quality of Sleep</th>\n      <th>Physical Activity Level</th>\n      <th>Stress Level</th>\n      <th>BMI Category</th>\n      <th>Blood Pressure</th>\n      <th>Heart Rate</th>\n      <th>Daily Steps</th>\n      <th>Sleep Disorder</th>\n    </tr>\n  </thead>\n  <tbody>\n    <tr>\n      <th>372</th>\n      <td>372</td>\n      <td>372</td>\n      <td>372</td>\n      <td>372</td>\n      <td>Female</td>\n      <td>59</td>\n      <td>Software Engineer</td>\n      <td>8.1</td>\n      <td>9</td>\n      <td>75</td>\n      <td>3</td>\n      <td>Overweight</td>\n      <td>140/95</td>\n      <td>68</td>\n      <td>7000</td>\n      <td>NaN</td>\n    </tr>\n    <tr>\n      <th>373</th>\n      <td>373</td>\n      <td>373</td>\n      <td>373</td>\n      <td>373</td>\n      <td>Female</td>\n      <td>59</td>\n      <td>Software Engineer</td>\n      <td>8.1</td>\n      <td>9</td>\n      <td>75</td>\n      <td>3</td>\n      <td>Overweight</td>\n      <td>140/95</td>\n      <td>68</td>\n      <td>7000</td>\n      <td>NaN</td>\n    </tr>\n  </tbody>\n</table>\n</div>"
          },
          "metadata": {}
        }
      ]
    },
    {
      "cell_type": "markdown",
      "source": "##### Shape (row-count, column-count)\n###### shape in the context of a DataFrame from Pandas (Python library) returns a tuple representing the dimensions of the DataFrame.",
      "metadata": {}
    },
    {
      "cell_type": "code",
      "source": "frame.shape",
      "metadata": {
        "trusted": true
      },
      "execution_count": 61,
      "outputs": [
        {
          "execution_count": 61,
          "output_type": "execute_result",
          "data": {
            "text/plain": "(374, 16)"
          },
          "metadata": {}
        }
      ]
    },
    {
      "cell_type": "markdown",
      "source": "## 5. Working with Rows ",
      "metadata": {}
    },
    {
      "cell_type": "markdown",
      "source": "##### Keeping rows",
      "metadata": {}
    },
    {
      "cell_type": "markdown",
      "source": "###### Filter the DataFrame 'frame' to get only the rows where the 'Age' column is 59",
      "metadata": {}
    },
    {
      "cell_type": "code",
      "source": "df = frame[frame['Age']== 59]\nprint (df)",
      "metadata": {
        "trusted": true
      },
      "execution_count": 62,
      "outputs": [
        {
          "name": "stdout",
          "text": "     Unnamed: 0.2  Unnamed: 0.1  Unnamed: 0  Person ID  Gender  Age  \\\n358           358           358         358        358  Female   59   \n359           359           359         359        359  Female   59   \n360           360           360         360        360  Female   59   \n361           361           361         361        361  Female   59   \n362           362           362         362        362  Female   59   \n363           363           363         363        363  Female   59   \n364           364           364         364        364  Female   59   \n365           365           365         365        365  Female   59   \n366           366           366         366        366  Female   59   \n367           367           367         367        367  Female   59   \n368           368           368         368        368  Female   59   \n369           369           369         369        369  Female   59   \n370           370           370         370        370  Female   59   \n371           371           371         371        371  Female   59   \n372           372           372         372        372  Female   59   \n373           373           373         373        373  Female   59   \n\n            Occupation  Sleep Duration  Quality of Sleep  \\\n358  Software Engineer             8.0                 9   \n359  Software Engineer             8.1                 9   \n360  Software Engineer             8.2                 9   \n361  Software Engineer             8.2                 9   \n362  Software Engineer             8.2                 9   \n363  Software Engineer             8.2                 9   \n364  Software Engineer             8.0                 9   \n365  Software Engineer             8.0                 9   \n366  Software Engineer             8.1                 9   \n367  Software Engineer             8.0                 9   \n368  Software Engineer             8.1                 9   \n369  Software Engineer             8.1                 9   \n370  Software Engineer             8.0                 9   \n371  Software Engineer             8.1                 9   \n372  Software Engineer             8.1                 9   \n373  Software Engineer             8.1                 9   \n\n     Physical Activity Level  Stress Level BMI Category Blood Pressure  \\\n358                       75             3   Overweight         140/95   \n359                       75             3   Overweight         140/95   \n360                       75             3   Overweight         140/95   \n361                       75             3   Overweight         140/95   \n362                       75             3   Overweight         140/95   \n363                       75             3   Overweight         140/95   \n364                       75             3   Overweight         140/95   \n365                       75             3   Overweight         140/95   \n366                       75             3   Overweight         140/95   \n367                       75             3   Overweight         140/95   \n368                       75             3   Overweight         140/95   \n369                       75             3   Overweight         140/95   \n370                       75             3   Overweight         140/95   \n371                       75             3   Overweight         140/95   \n372                       75             3   Overweight         140/95   \n373                       75             3   Overweight         140/95   \n\n     Heart Rate  Daily Steps  Sleep Disorder  \n358          68         7000             NaN  \n359          68         7000             NaN  \n360          68         7000             NaN  \n361          68         7000             NaN  \n362          68         7000             NaN  \n363          68         7000             NaN  \n364          68         7000             NaN  \n365          68         7000             NaN  \n366          68         7000             NaN  \n367          68         7000             NaN  \n368          68         7000             NaN  \n369          68         7000             NaN  \n370          68         7000             NaN  \n371          68         7000             NaN  \n372          68         7000             NaN  \n373          68         7000             NaN  \n",
          "output_type": "stream"
        }
      ]
    },
    {
      "cell_type": "markdown",
      "source": "##### Dropping rows",
      "metadata": {}
    },
    {
      "cell_type": "markdown",
      "source": "###### the DataFrame 'frame' is being filtered to exclude rows where specific conditions are met. The conditions are:\n\n###### The 'Gender' column is not equal to 'Male'.\n###### The 'Age' column is not equal to 59.\n###### The 'Quality of Sleep' column is not equal to 9.\n###### The DataFrame is then updated to include only the rows that do not meet these conditions.\n",
      "metadata": {}
    },
    {
      "cell_type": "code",
      "source": "frame = frame[(frame['Gender']!= 'Male') & (frame['Age']!= 59) & (frame['Quality of Sleep']!= 9)]\nframe",
      "metadata": {
        "trusted": true
      },
      "execution_count": 63,
      "outputs": [
        {
          "execution_count": 63,
          "output_type": "execute_result",
          "data": {
            "text/plain": "     Unnamed: 0.2  Unnamed: 0.1  Unnamed: 0  Person ID  Gender  Age  \\\n16             16            16          16         16  Female   29   \n18             18            18          18         18  Female   29   \n30             30            30          30         30  Female   30   \n31             31            31          31         31  Female   30   \n32             32            32          32         32  Female   31   \n..            ...           ...         ...        ...     ...  ...   \n307           307           307         307        307  Female   52   \n308           308           308         308        308  Female   52   \n309           309           309         309        309  Female   52   \n310           310           310         310        310  Female   52   \n311           311           311         311        311  Female   52   \n\n            Occupation  Sleep Duration  Quality of Sleep  \\\n16   Software Engineer             6.5                 5   \n18   Software Engineer             6.5                 5   \n30   Software Engineer             6.4                 5   \n31   Software Engineer             6.4                 5   \n32   Software Engineer             7.9                 8   \n..                 ...             ...               ...   \n307  Software Engineer             6.5                 7   \n308  Software Engineer             6.6                 7   \n309  Software Engineer             6.6                 7   \n310  Software Engineer             6.6                 7   \n311  Software Engineer             6.6                 7   \n\n     Physical Activity Level  Stress Level   BMI Category Blood Pressure  \\\n16                        40             7  Normal Weight         132/87   \n18                        40             7  Normal Weight         132/87   \n30                        35             7  Normal Weight         130/86   \n31                        35             7  Normal Weight         130/86   \n32                        75             4  Normal Weight         117/76   \n..                       ...           ...            ...            ...   \n307                       45             7     Overweight         130/85   \n308                       45             7     Overweight         130/85   \n309                       45             7     Overweight         130/85   \n310                       45             7     Overweight         130/85   \n311                       45             7     Overweight         130/85   \n\n     Heart Rate  Daily Steps  Sleep Disorder  \n16           80         4000             NaN  \n18           80         4000             NaN  \n30           78         4100             NaN  \n31           78         4100             NaN  \n32           69         6800             NaN  \n..          ...          ...             ...  \n307          72         6000             NaN  \n308          72         6000             NaN  \n309          72         6000             NaN  \n310          72         6000             NaN  \n311          72         6000             NaN  \n\n[116 rows x 16 columns]",
            "text/html": "<div>\n<style scoped>\n    .dataframe tbody tr th:only-of-type {\n        vertical-align: middle;\n    }\n\n    .dataframe tbody tr th {\n        vertical-align: top;\n    }\n\n    .dataframe thead th {\n        text-align: right;\n    }\n</style>\n<table border=\"1\" class=\"dataframe\">\n  <thead>\n    <tr style=\"text-align: right;\">\n      <th></th>\n      <th>Unnamed: 0.2</th>\n      <th>Unnamed: 0.1</th>\n      <th>Unnamed: 0</th>\n      <th>Person ID</th>\n      <th>Gender</th>\n      <th>Age</th>\n      <th>Occupation</th>\n      <th>Sleep Duration</th>\n      <th>Quality of Sleep</th>\n      <th>Physical Activity Level</th>\n      <th>Stress Level</th>\n      <th>BMI Category</th>\n      <th>Blood Pressure</th>\n      <th>Heart Rate</th>\n      <th>Daily Steps</th>\n      <th>Sleep Disorder</th>\n    </tr>\n  </thead>\n  <tbody>\n    <tr>\n      <th>16</th>\n      <td>16</td>\n      <td>16</td>\n      <td>16</td>\n      <td>16</td>\n      <td>Female</td>\n      <td>29</td>\n      <td>Software Engineer</td>\n      <td>6.5</td>\n      <td>5</td>\n      <td>40</td>\n      <td>7</td>\n      <td>Normal Weight</td>\n      <td>132/87</td>\n      <td>80</td>\n      <td>4000</td>\n      <td>NaN</td>\n    </tr>\n    <tr>\n      <th>18</th>\n      <td>18</td>\n      <td>18</td>\n      <td>18</td>\n      <td>18</td>\n      <td>Female</td>\n      <td>29</td>\n      <td>Software Engineer</td>\n      <td>6.5</td>\n      <td>5</td>\n      <td>40</td>\n      <td>7</td>\n      <td>Normal Weight</td>\n      <td>132/87</td>\n      <td>80</td>\n      <td>4000</td>\n      <td>NaN</td>\n    </tr>\n    <tr>\n      <th>30</th>\n      <td>30</td>\n      <td>30</td>\n      <td>30</td>\n      <td>30</td>\n      <td>Female</td>\n      <td>30</td>\n      <td>Software Engineer</td>\n      <td>6.4</td>\n      <td>5</td>\n      <td>35</td>\n      <td>7</td>\n      <td>Normal Weight</td>\n      <td>130/86</td>\n      <td>78</td>\n      <td>4100</td>\n      <td>NaN</td>\n    </tr>\n    <tr>\n      <th>31</th>\n      <td>31</td>\n      <td>31</td>\n      <td>31</td>\n      <td>31</td>\n      <td>Female</td>\n      <td>30</td>\n      <td>Software Engineer</td>\n      <td>6.4</td>\n      <td>5</td>\n      <td>35</td>\n      <td>7</td>\n      <td>Normal Weight</td>\n      <td>130/86</td>\n      <td>78</td>\n      <td>4100</td>\n      <td>NaN</td>\n    </tr>\n    <tr>\n      <th>32</th>\n      <td>32</td>\n      <td>32</td>\n      <td>32</td>\n      <td>32</td>\n      <td>Female</td>\n      <td>31</td>\n      <td>Software Engineer</td>\n      <td>7.9</td>\n      <td>8</td>\n      <td>75</td>\n      <td>4</td>\n      <td>Normal Weight</td>\n      <td>117/76</td>\n      <td>69</td>\n      <td>6800</td>\n      <td>NaN</td>\n    </tr>\n    <tr>\n      <th>...</th>\n      <td>...</td>\n      <td>...</td>\n      <td>...</td>\n      <td>...</td>\n      <td>...</td>\n      <td>...</td>\n      <td>...</td>\n      <td>...</td>\n      <td>...</td>\n      <td>...</td>\n      <td>...</td>\n      <td>...</td>\n      <td>...</td>\n      <td>...</td>\n      <td>...</td>\n      <td>...</td>\n    </tr>\n    <tr>\n      <th>307</th>\n      <td>307</td>\n      <td>307</td>\n      <td>307</td>\n      <td>307</td>\n      <td>Female</td>\n      <td>52</td>\n      <td>Software Engineer</td>\n      <td>6.5</td>\n      <td>7</td>\n      <td>45</td>\n      <td>7</td>\n      <td>Overweight</td>\n      <td>130/85</td>\n      <td>72</td>\n      <td>6000</td>\n      <td>NaN</td>\n    </tr>\n    <tr>\n      <th>308</th>\n      <td>308</td>\n      <td>308</td>\n      <td>308</td>\n      <td>308</td>\n      <td>Female</td>\n      <td>52</td>\n      <td>Software Engineer</td>\n      <td>6.6</td>\n      <td>7</td>\n      <td>45</td>\n      <td>7</td>\n      <td>Overweight</td>\n      <td>130/85</td>\n      <td>72</td>\n      <td>6000</td>\n      <td>NaN</td>\n    </tr>\n    <tr>\n      <th>309</th>\n      <td>309</td>\n      <td>309</td>\n      <td>309</td>\n      <td>309</td>\n      <td>Female</td>\n      <td>52</td>\n      <td>Software Engineer</td>\n      <td>6.6</td>\n      <td>7</td>\n      <td>45</td>\n      <td>7</td>\n      <td>Overweight</td>\n      <td>130/85</td>\n      <td>72</td>\n      <td>6000</td>\n      <td>NaN</td>\n    </tr>\n    <tr>\n      <th>310</th>\n      <td>310</td>\n      <td>310</td>\n      <td>310</td>\n      <td>310</td>\n      <td>Female</td>\n      <td>52</td>\n      <td>Software Engineer</td>\n      <td>6.6</td>\n      <td>7</td>\n      <td>45</td>\n      <td>7</td>\n      <td>Overweight</td>\n      <td>130/85</td>\n      <td>72</td>\n      <td>6000</td>\n      <td>NaN</td>\n    </tr>\n    <tr>\n      <th>311</th>\n      <td>311</td>\n      <td>311</td>\n      <td>311</td>\n      <td>311</td>\n      <td>Female</td>\n      <td>52</td>\n      <td>Software Engineer</td>\n      <td>6.6</td>\n      <td>7</td>\n      <td>45</td>\n      <td>7</td>\n      <td>Overweight</td>\n      <td>130/85</td>\n      <td>72</td>\n      <td>6000</td>\n      <td>NaN</td>\n    </tr>\n  </tbody>\n</table>\n<p>116 rows × 16 columns</p>\n</div>"
          },
          "metadata": {}
        }
      ]
    },
    {
      "cell_type": "markdown",
      "source": "##### null values (NaN)",
      "metadata": {}
    },
    {
      "cell_type": "markdown",
      "source": " ###### replace() method of the DataFrame 'frame' to replace the string value 'None' with NumPy's NaN (Not a Number) value, and it updates the DataFrame 'frame' in place with the modified values.",
      "metadata": {}
    },
    {
      "cell_type": "code",
      "source": "#first replace (Nane) to (NaN):\n\nframe.replace('None', np.nan,inplace=True)\nframe",
      "metadata": {
        "trusted": true
      },
      "execution_count": 64,
      "outputs": [
        {
          "name": "stderr",
          "text": "<ipython-input-64-847db0d35163>:3: SettingWithCopyWarning: \nA value is trying to be set on a copy of a slice from a DataFrame\n\nSee the caveats in the documentation: https://pandas.pydata.org/pandas-docs/stable/user_guide/indexing.html#returning-a-view-versus-a-copy\n  frame.replace('None', np.nan,inplace=True)\n",
          "output_type": "stream"
        },
        {
          "execution_count": 64,
          "output_type": "execute_result",
          "data": {
            "text/plain": "     Unnamed: 0.2  Unnamed: 0.1  Unnamed: 0  Person ID  Gender  Age  \\\n16             16            16          16         16  Female   29   \n18             18            18          18         18  Female   29   \n30             30            30          30         30  Female   30   \n31             31            31          31         31  Female   30   \n32             32            32          32         32  Female   31   \n..            ...           ...         ...        ...     ...  ...   \n307           307           307         307        307  Female   52   \n308           308           308         308        308  Female   52   \n309           309           309         309        309  Female   52   \n310           310           310         310        310  Female   52   \n311           311           311         311        311  Female   52   \n\n            Occupation  Sleep Duration  Quality of Sleep  \\\n16   Software Engineer             6.5                 5   \n18   Software Engineer             6.5                 5   \n30   Software Engineer             6.4                 5   \n31   Software Engineer             6.4                 5   \n32   Software Engineer             7.9                 8   \n..                 ...             ...               ...   \n307  Software Engineer             6.5                 7   \n308  Software Engineer             6.6                 7   \n309  Software Engineer             6.6                 7   \n310  Software Engineer             6.6                 7   \n311  Software Engineer             6.6                 7   \n\n     Physical Activity Level  Stress Level   BMI Category Blood Pressure  \\\n16                        40             7  Normal Weight         132/87   \n18                        40             7  Normal Weight         132/87   \n30                        35             7  Normal Weight         130/86   \n31                        35             7  Normal Weight         130/86   \n32                        75             4  Normal Weight         117/76   \n..                       ...           ...            ...            ...   \n307                       45             7     Overweight         130/85   \n308                       45             7     Overweight         130/85   \n309                       45             7     Overweight         130/85   \n310                       45             7     Overweight         130/85   \n311                       45             7     Overweight         130/85   \n\n     Heart Rate  Daily Steps  Sleep Disorder  \n16           80         4000             NaN  \n18           80         4000             NaN  \n30           78         4100             NaN  \n31           78         4100             NaN  \n32           69         6800             NaN  \n..          ...          ...             ...  \n307          72         6000             NaN  \n308          72         6000             NaN  \n309          72         6000             NaN  \n310          72         6000             NaN  \n311          72         6000             NaN  \n\n[116 rows x 16 columns]",
            "text/html": "<div>\n<style scoped>\n    .dataframe tbody tr th:only-of-type {\n        vertical-align: middle;\n    }\n\n    .dataframe tbody tr th {\n        vertical-align: top;\n    }\n\n    .dataframe thead th {\n        text-align: right;\n    }\n</style>\n<table border=\"1\" class=\"dataframe\">\n  <thead>\n    <tr style=\"text-align: right;\">\n      <th></th>\n      <th>Unnamed: 0.2</th>\n      <th>Unnamed: 0.1</th>\n      <th>Unnamed: 0</th>\n      <th>Person ID</th>\n      <th>Gender</th>\n      <th>Age</th>\n      <th>Occupation</th>\n      <th>Sleep Duration</th>\n      <th>Quality of Sleep</th>\n      <th>Physical Activity Level</th>\n      <th>Stress Level</th>\n      <th>BMI Category</th>\n      <th>Blood Pressure</th>\n      <th>Heart Rate</th>\n      <th>Daily Steps</th>\n      <th>Sleep Disorder</th>\n    </tr>\n  </thead>\n  <tbody>\n    <tr>\n      <th>16</th>\n      <td>16</td>\n      <td>16</td>\n      <td>16</td>\n      <td>16</td>\n      <td>Female</td>\n      <td>29</td>\n      <td>Software Engineer</td>\n      <td>6.5</td>\n      <td>5</td>\n      <td>40</td>\n      <td>7</td>\n      <td>Normal Weight</td>\n      <td>132/87</td>\n      <td>80</td>\n      <td>4000</td>\n      <td>NaN</td>\n    </tr>\n    <tr>\n      <th>18</th>\n      <td>18</td>\n      <td>18</td>\n      <td>18</td>\n      <td>18</td>\n      <td>Female</td>\n      <td>29</td>\n      <td>Software Engineer</td>\n      <td>6.5</td>\n      <td>5</td>\n      <td>40</td>\n      <td>7</td>\n      <td>Normal Weight</td>\n      <td>132/87</td>\n      <td>80</td>\n      <td>4000</td>\n      <td>NaN</td>\n    </tr>\n    <tr>\n      <th>30</th>\n      <td>30</td>\n      <td>30</td>\n      <td>30</td>\n      <td>30</td>\n      <td>Female</td>\n      <td>30</td>\n      <td>Software Engineer</td>\n      <td>6.4</td>\n      <td>5</td>\n      <td>35</td>\n      <td>7</td>\n      <td>Normal Weight</td>\n      <td>130/86</td>\n      <td>78</td>\n      <td>4100</td>\n      <td>NaN</td>\n    </tr>\n    <tr>\n      <th>31</th>\n      <td>31</td>\n      <td>31</td>\n      <td>31</td>\n      <td>31</td>\n      <td>Female</td>\n      <td>30</td>\n      <td>Software Engineer</td>\n      <td>6.4</td>\n      <td>5</td>\n      <td>35</td>\n      <td>7</td>\n      <td>Normal Weight</td>\n      <td>130/86</td>\n      <td>78</td>\n      <td>4100</td>\n      <td>NaN</td>\n    </tr>\n    <tr>\n      <th>32</th>\n      <td>32</td>\n      <td>32</td>\n      <td>32</td>\n      <td>32</td>\n      <td>Female</td>\n      <td>31</td>\n      <td>Software Engineer</td>\n      <td>7.9</td>\n      <td>8</td>\n      <td>75</td>\n      <td>4</td>\n      <td>Normal Weight</td>\n      <td>117/76</td>\n      <td>69</td>\n      <td>6800</td>\n      <td>NaN</td>\n    </tr>\n    <tr>\n      <th>...</th>\n      <td>...</td>\n      <td>...</td>\n      <td>...</td>\n      <td>...</td>\n      <td>...</td>\n      <td>...</td>\n      <td>...</td>\n      <td>...</td>\n      <td>...</td>\n      <td>...</td>\n      <td>...</td>\n      <td>...</td>\n      <td>...</td>\n      <td>...</td>\n      <td>...</td>\n      <td>...</td>\n    </tr>\n    <tr>\n      <th>307</th>\n      <td>307</td>\n      <td>307</td>\n      <td>307</td>\n      <td>307</td>\n      <td>Female</td>\n      <td>52</td>\n      <td>Software Engineer</td>\n      <td>6.5</td>\n      <td>7</td>\n      <td>45</td>\n      <td>7</td>\n      <td>Overweight</td>\n      <td>130/85</td>\n      <td>72</td>\n      <td>6000</td>\n      <td>NaN</td>\n    </tr>\n    <tr>\n      <th>308</th>\n      <td>308</td>\n      <td>308</td>\n      <td>308</td>\n      <td>308</td>\n      <td>Female</td>\n      <td>52</td>\n      <td>Software Engineer</td>\n      <td>6.6</td>\n      <td>7</td>\n      <td>45</td>\n      <td>7</td>\n      <td>Overweight</td>\n      <td>130/85</td>\n      <td>72</td>\n      <td>6000</td>\n      <td>NaN</td>\n    </tr>\n    <tr>\n      <th>309</th>\n      <td>309</td>\n      <td>309</td>\n      <td>309</td>\n      <td>309</td>\n      <td>Female</td>\n      <td>52</td>\n      <td>Software Engineer</td>\n      <td>6.6</td>\n      <td>7</td>\n      <td>45</td>\n      <td>7</td>\n      <td>Overweight</td>\n      <td>130/85</td>\n      <td>72</td>\n      <td>6000</td>\n      <td>NaN</td>\n    </tr>\n    <tr>\n      <th>310</th>\n      <td>310</td>\n      <td>310</td>\n      <td>310</td>\n      <td>310</td>\n      <td>Female</td>\n      <td>52</td>\n      <td>Software Engineer</td>\n      <td>6.6</td>\n      <td>7</td>\n      <td>45</td>\n      <td>7</td>\n      <td>Overweight</td>\n      <td>130/85</td>\n      <td>72</td>\n      <td>6000</td>\n      <td>NaN</td>\n    </tr>\n    <tr>\n      <th>311</th>\n      <td>311</td>\n      <td>311</td>\n      <td>311</td>\n      <td>311</td>\n      <td>Female</td>\n      <td>52</td>\n      <td>Software Engineer</td>\n      <td>6.6</td>\n      <td>7</td>\n      <td>45</td>\n      <td>7</td>\n      <td>Overweight</td>\n      <td>130/85</td>\n      <td>72</td>\n      <td>6000</td>\n      <td>NaN</td>\n    </tr>\n  </tbody>\n</table>\n<p>116 rows × 16 columns</p>\n</div>"
          },
          "metadata": {}
        }
      ]
    },
    {
      "cell_type": "markdown",
      "source": "###### isnull() method in Pandas is used to create a boolean mask DataFrame that indicates whether each element in the original DataFrame is NaN (Not a Number) or missing.",
      "metadata": {}
    },
    {
      "cell_type": "code",
      "source": "frame.isnull()",
      "metadata": {
        "trusted": true
      },
      "execution_count": 65,
      "outputs": [
        {
          "execution_count": 65,
          "output_type": "execute_result",
          "data": {
            "text/plain": "     Unnamed: 0.2  Unnamed: 0.1  Unnamed: 0  Person ID  Gender    Age  \\\n16          False         False       False      False   False  False   \n18          False         False       False      False   False  False   \n30          False         False       False      False   False  False   \n31          False         False       False      False   False  False   \n32          False         False       False      False   False  False   \n..            ...           ...         ...        ...     ...    ...   \n307         False         False       False      False   False  False   \n308         False         False       False      False   False  False   \n309         False         False       False      False   False  False   \n310         False         False       False      False   False  False   \n311         False         False       False      False   False  False   \n\n     Occupation  Sleep Duration  Quality of Sleep  Physical Activity Level  \\\n16        False           False             False                    False   \n18        False           False             False                    False   \n30        False           False             False                    False   \n31        False           False             False                    False   \n32        False           False             False                    False   \n..          ...             ...               ...                      ...   \n307       False           False             False                    False   \n308       False           False             False                    False   \n309       False           False             False                    False   \n310       False           False             False                    False   \n311       False           False             False                    False   \n\n     Stress Level  BMI Category  Blood Pressure  Heart Rate  Daily Steps  \\\n16          False         False           False       False        False   \n18          False         False           False       False        False   \n30          False         False           False       False        False   \n31          False         False           False       False        False   \n32          False         False           False       False        False   \n..            ...           ...             ...         ...          ...   \n307         False         False           False       False        False   \n308         False         False           False       False        False   \n309         False         False           False       False        False   \n310         False         False           False       False        False   \n311         False         False           False       False        False   \n\n     Sleep Disorder  \n16             True  \n18             True  \n30             True  \n31             True  \n32             True  \n..              ...  \n307            True  \n308            True  \n309            True  \n310            True  \n311            True  \n\n[116 rows x 16 columns]",
            "text/html": "<div>\n<style scoped>\n    .dataframe tbody tr th:only-of-type {\n        vertical-align: middle;\n    }\n\n    .dataframe tbody tr th {\n        vertical-align: top;\n    }\n\n    .dataframe thead th {\n        text-align: right;\n    }\n</style>\n<table border=\"1\" class=\"dataframe\">\n  <thead>\n    <tr style=\"text-align: right;\">\n      <th></th>\n      <th>Unnamed: 0.2</th>\n      <th>Unnamed: 0.1</th>\n      <th>Unnamed: 0</th>\n      <th>Person ID</th>\n      <th>Gender</th>\n      <th>Age</th>\n      <th>Occupation</th>\n      <th>Sleep Duration</th>\n      <th>Quality of Sleep</th>\n      <th>Physical Activity Level</th>\n      <th>Stress Level</th>\n      <th>BMI Category</th>\n      <th>Blood Pressure</th>\n      <th>Heart Rate</th>\n      <th>Daily Steps</th>\n      <th>Sleep Disorder</th>\n    </tr>\n  </thead>\n  <tbody>\n    <tr>\n      <th>16</th>\n      <td>False</td>\n      <td>False</td>\n      <td>False</td>\n      <td>False</td>\n      <td>False</td>\n      <td>False</td>\n      <td>False</td>\n      <td>False</td>\n      <td>False</td>\n      <td>False</td>\n      <td>False</td>\n      <td>False</td>\n      <td>False</td>\n      <td>False</td>\n      <td>False</td>\n      <td>True</td>\n    </tr>\n    <tr>\n      <th>18</th>\n      <td>False</td>\n      <td>False</td>\n      <td>False</td>\n      <td>False</td>\n      <td>False</td>\n      <td>False</td>\n      <td>False</td>\n      <td>False</td>\n      <td>False</td>\n      <td>False</td>\n      <td>False</td>\n      <td>False</td>\n      <td>False</td>\n      <td>False</td>\n      <td>False</td>\n      <td>True</td>\n    </tr>\n    <tr>\n      <th>30</th>\n      <td>False</td>\n      <td>False</td>\n      <td>False</td>\n      <td>False</td>\n      <td>False</td>\n      <td>False</td>\n      <td>False</td>\n      <td>False</td>\n      <td>False</td>\n      <td>False</td>\n      <td>False</td>\n      <td>False</td>\n      <td>False</td>\n      <td>False</td>\n      <td>False</td>\n      <td>True</td>\n    </tr>\n    <tr>\n      <th>31</th>\n      <td>False</td>\n      <td>False</td>\n      <td>False</td>\n      <td>False</td>\n      <td>False</td>\n      <td>False</td>\n      <td>False</td>\n      <td>False</td>\n      <td>False</td>\n      <td>False</td>\n      <td>False</td>\n      <td>False</td>\n      <td>False</td>\n      <td>False</td>\n      <td>False</td>\n      <td>True</td>\n    </tr>\n    <tr>\n      <th>32</th>\n      <td>False</td>\n      <td>False</td>\n      <td>False</td>\n      <td>False</td>\n      <td>False</td>\n      <td>False</td>\n      <td>False</td>\n      <td>False</td>\n      <td>False</td>\n      <td>False</td>\n      <td>False</td>\n      <td>False</td>\n      <td>False</td>\n      <td>False</td>\n      <td>False</td>\n      <td>True</td>\n    </tr>\n    <tr>\n      <th>...</th>\n      <td>...</td>\n      <td>...</td>\n      <td>...</td>\n      <td>...</td>\n      <td>...</td>\n      <td>...</td>\n      <td>...</td>\n      <td>...</td>\n      <td>...</td>\n      <td>...</td>\n      <td>...</td>\n      <td>...</td>\n      <td>...</td>\n      <td>...</td>\n      <td>...</td>\n      <td>...</td>\n    </tr>\n    <tr>\n      <th>307</th>\n      <td>False</td>\n      <td>False</td>\n      <td>False</td>\n      <td>False</td>\n      <td>False</td>\n      <td>False</td>\n      <td>False</td>\n      <td>False</td>\n      <td>False</td>\n      <td>False</td>\n      <td>False</td>\n      <td>False</td>\n      <td>False</td>\n      <td>False</td>\n      <td>False</td>\n      <td>True</td>\n    </tr>\n    <tr>\n      <th>308</th>\n      <td>False</td>\n      <td>False</td>\n      <td>False</td>\n      <td>False</td>\n      <td>False</td>\n      <td>False</td>\n      <td>False</td>\n      <td>False</td>\n      <td>False</td>\n      <td>False</td>\n      <td>False</td>\n      <td>False</td>\n      <td>False</td>\n      <td>False</td>\n      <td>False</td>\n      <td>True</td>\n    </tr>\n    <tr>\n      <th>309</th>\n      <td>False</td>\n      <td>False</td>\n      <td>False</td>\n      <td>False</td>\n      <td>False</td>\n      <td>False</td>\n      <td>False</td>\n      <td>False</td>\n      <td>False</td>\n      <td>False</td>\n      <td>False</td>\n      <td>False</td>\n      <td>False</td>\n      <td>False</td>\n      <td>False</td>\n      <td>True</td>\n    </tr>\n    <tr>\n      <th>310</th>\n      <td>False</td>\n      <td>False</td>\n      <td>False</td>\n      <td>False</td>\n      <td>False</td>\n      <td>False</td>\n      <td>False</td>\n      <td>False</td>\n      <td>False</td>\n      <td>False</td>\n      <td>False</td>\n      <td>False</td>\n      <td>False</td>\n      <td>False</td>\n      <td>False</td>\n      <td>True</td>\n    </tr>\n    <tr>\n      <th>311</th>\n      <td>False</td>\n      <td>False</td>\n      <td>False</td>\n      <td>False</td>\n      <td>False</td>\n      <td>False</td>\n      <td>False</td>\n      <td>False</td>\n      <td>False</td>\n      <td>False</td>\n      <td>False</td>\n      <td>False</td>\n      <td>False</td>\n      <td>False</td>\n      <td>False</td>\n      <td>True</td>\n    </tr>\n  </tbody>\n</table>\n<p>116 rows × 16 columns</p>\n</div>"
          },
          "metadata": {}
        }
      ]
    },
    {
      "cell_type": "markdown",
      "source": "##### Add row",
      "metadata": {}
    },
    {
      "cell_type": "code",
      "source": "frame1=pd.read_csv(\"Sleep_health.csv\")\nframe1",
      "metadata": {
        "trusted": true
      },
      "execution_count": 66,
      "outputs": [
        {
          "execution_count": 66,
          "output_type": "execute_result",
          "data": {
            "text/plain": "     Unnamed: 0.3  Unnamed: 0.2  Unnamed: 0.1  Unnamed: 0  Person ID  Gender  \\\n0               0             0             0           0          0    Male   \n1               1             1             1           1          1    Male   \n2               2             2             2           2          2    Male   \n3               3             3             3           3          3    Male   \n4               4             4             4           4          4    Male   \n..            ...           ...           ...         ...        ...     ...   \n369           369           369           369         369        369  Female   \n370           370           370           370         370        370  Female   \n371           371           371           371         371        371  Female   \n372           372           372           372         372        372  Female   \n373           373           373           373         373        373  Female   \n\n     Age         Occupation  Sleep Duration  Quality of Sleep  \\\n0     27  Software Engineer             6.1                 6   \n1     28  Software Engineer             6.2                 6   \n2     28  Software Engineer             6.2                 6   \n3     28  Software Engineer             5.9                 4   \n4     28  Software Engineer             5.9                 4   \n..   ...                ...             ...               ...   \n369   59  Software Engineer             8.1                 9   \n370   59  Software Engineer             8.0                 9   \n371   59  Software Engineer             8.1                 9   \n372   59  Software Engineer             8.1                 9   \n373   59  Software Engineer             8.1                 9   \n\n     Physical Activity Level  Stress Level BMI Category Blood Pressure  \\\n0                         42             6   Overweight         126/83   \n1                         60             8       Normal         125/80   \n2                         60             8       Normal         125/80   \n3                         30             8        Obese         140/90   \n4                         30             8        Obese         140/90   \n..                       ...           ...          ...            ...   \n369                       75             3   Overweight         140/95   \n370                       75             3   Overweight         140/95   \n371                       75             3   Overweight         140/95   \n372                       75             3   Overweight         140/95   \n373                       75             3   Overweight         140/95   \n\n     Heart Rate  Daily Steps  Sleep Disorder  \n0            77         4200             NaN  \n1            75        10000             NaN  \n2            75        10000             NaN  \n3            85         3000             NaN  \n4            85         3000             NaN  \n..          ...          ...             ...  \n369          68         7000             NaN  \n370          68         7000             NaN  \n371          68         7000             NaN  \n372          68         7000             NaN  \n373          68         7000             NaN  \n\n[374 rows x 17 columns]",
            "text/html": "<div>\n<style scoped>\n    .dataframe tbody tr th:only-of-type {\n        vertical-align: middle;\n    }\n\n    .dataframe tbody tr th {\n        vertical-align: top;\n    }\n\n    .dataframe thead th {\n        text-align: right;\n    }\n</style>\n<table border=\"1\" class=\"dataframe\">\n  <thead>\n    <tr style=\"text-align: right;\">\n      <th></th>\n      <th>Unnamed: 0.3</th>\n      <th>Unnamed: 0.2</th>\n      <th>Unnamed: 0.1</th>\n      <th>Unnamed: 0</th>\n      <th>Person ID</th>\n      <th>Gender</th>\n      <th>Age</th>\n      <th>Occupation</th>\n      <th>Sleep Duration</th>\n      <th>Quality of Sleep</th>\n      <th>Physical Activity Level</th>\n      <th>Stress Level</th>\n      <th>BMI Category</th>\n      <th>Blood Pressure</th>\n      <th>Heart Rate</th>\n      <th>Daily Steps</th>\n      <th>Sleep Disorder</th>\n    </tr>\n  </thead>\n  <tbody>\n    <tr>\n      <th>0</th>\n      <td>0</td>\n      <td>0</td>\n      <td>0</td>\n      <td>0</td>\n      <td>0</td>\n      <td>Male</td>\n      <td>27</td>\n      <td>Software Engineer</td>\n      <td>6.1</td>\n      <td>6</td>\n      <td>42</td>\n      <td>6</td>\n      <td>Overweight</td>\n      <td>126/83</td>\n      <td>77</td>\n      <td>4200</td>\n      <td>NaN</td>\n    </tr>\n    <tr>\n      <th>1</th>\n      <td>1</td>\n      <td>1</td>\n      <td>1</td>\n      <td>1</td>\n      <td>1</td>\n      <td>Male</td>\n      <td>28</td>\n      <td>Software Engineer</td>\n      <td>6.2</td>\n      <td>6</td>\n      <td>60</td>\n      <td>8</td>\n      <td>Normal</td>\n      <td>125/80</td>\n      <td>75</td>\n      <td>10000</td>\n      <td>NaN</td>\n    </tr>\n    <tr>\n      <th>2</th>\n      <td>2</td>\n      <td>2</td>\n      <td>2</td>\n      <td>2</td>\n      <td>2</td>\n      <td>Male</td>\n      <td>28</td>\n      <td>Software Engineer</td>\n      <td>6.2</td>\n      <td>6</td>\n      <td>60</td>\n      <td>8</td>\n      <td>Normal</td>\n      <td>125/80</td>\n      <td>75</td>\n      <td>10000</td>\n      <td>NaN</td>\n    </tr>\n    <tr>\n      <th>3</th>\n      <td>3</td>\n      <td>3</td>\n      <td>3</td>\n      <td>3</td>\n      <td>3</td>\n      <td>Male</td>\n      <td>28</td>\n      <td>Software Engineer</td>\n      <td>5.9</td>\n      <td>4</td>\n      <td>30</td>\n      <td>8</td>\n      <td>Obese</td>\n      <td>140/90</td>\n      <td>85</td>\n      <td>3000</td>\n      <td>NaN</td>\n    </tr>\n    <tr>\n      <th>4</th>\n      <td>4</td>\n      <td>4</td>\n      <td>4</td>\n      <td>4</td>\n      <td>4</td>\n      <td>Male</td>\n      <td>28</td>\n      <td>Software Engineer</td>\n      <td>5.9</td>\n      <td>4</td>\n      <td>30</td>\n      <td>8</td>\n      <td>Obese</td>\n      <td>140/90</td>\n      <td>85</td>\n      <td>3000</td>\n      <td>NaN</td>\n    </tr>\n    <tr>\n      <th>...</th>\n      <td>...</td>\n      <td>...</td>\n      <td>...</td>\n      <td>...</td>\n      <td>...</td>\n      <td>...</td>\n      <td>...</td>\n      <td>...</td>\n      <td>...</td>\n      <td>...</td>\n      <td>...</td>\n      <td>...</td>\n      <td>...</td>\n      <td>...</td>\n      <td>...</td>\n      <td>...</td>\n      <td>...</td>\n    </tr>\n    <tr>\n      <th>369</th>\n      <td>369</td>\n      <td>369</td>\n      <td>369</td>\n      <td>369</td>\n      <td>369</td>\n      <td>Female</td>\n      <td>59</td>\n      <td>Software Engineer</td>\n      <td>8.1</td>\n      <td>9</td>\n      <td>75</td>\n      <td>3</td>\n      <td>Overweight</td>\n      <td>140/95</td>\n      <td>68</td>\n      <td>7000</td>\n      <td>NaN</td>\n    </tr>\n    <tr>\n      <th>370</th>\n      <td>370</td>\n      <td>370</td>\n      <td>370</td>\n      <td>370</td>\n      <td>370</td>\n      <td>Female</td>\n      <td>59</td>\n      <td>Software Engineer</td>\n      <td>8.0</td>\n      <td>9</td>\n      <td>75</td>\n      <td>3</td>\n      <td>Overweight</td>\n      <td>140/95</td>\n      <td>68</td>\n      <td>7000</td>\n      <td>NaN</td>\n    </tr>\n    <tr>\n      <th>371</th>\n      <td>371</td>\n      <td>371</td>\n      <td>371</td>\n      <td>371</td>\n      <td>371</td>\n      <td>Female</td>\n      <td>59</td>\n      <td>Software Engineer</td>\n      <td>8.1</td>\n      <td>9</td>\n      <td>75</td>\n      <td>3</td>\n      <td>Overweight</td>\n      <td>140/95</td>\n      <td>68</td>\n      <td>7000</td>\n      <td>NaN</td>\n    </tr>\n    <tr>\n      <th>372</th>\n      <td>372</td>\n      <td>372</td>\n      <td>372</td>\n      <td>372</td>\n      <td>372</td>\n      <td>Female</td>\n      <td>59</td>\n      <td>Software Engineer</td>\n      <td>8.1</td>\n      <td>9</td>\n      <td>75</td>\n      <td>3</td>\n      <td>Overweight</td>\n      <td>140/95</td>\n      <td>68</td>\n      <td>7000</td>\n      <td>NaN</td>\n    </tr>\n    <tr>\n      <th>373</th>\n      <td>373</td>\n      <td>373</td>\n      <td>373</td>\n      <td>373</td>\n      <td>373</td>\n      <td>Female</td>\n      <td>59</td>\n      <td>Software Engineer</td>\n      <td>8.1</td>\n      <td>9</td>\n      <td>75</td>\n      <td>3</td>\n      <td>Overweight</td>\n      <td>140/95</td>\n      <td>68</td>\n      <td>7000</td>\n      <td>NaN</td>\n    </tr>\n  </tbody>\n</table>\n<p>374 rows × 17 columns</p>\n</div>"
          },
          "metadata": {}
        }
      ]
    },
    {
      "cell_type": "markdown",
      "source": "###### appending a new row to the DataFrame using the loc method, and finally, you want to display the updated DataFrame.\n######  In the new row you provided, 'NaN' is treated as a string. If you intend for it to be interpreted as a NaN (missing value), you should use np.nan from NumPy instead of the string ###### 'NaN'. Remember to import NumPy if you decide to use it.",
      "metadata": {}
    },
    {
      "cell_type": "code",
      "source": "frame1=pd.read_csv(\"Sleep_health.csv\")\nframe1.loc[len(frame1.index)]=[233,372,372,373,345,'Female',59,'Software Engineer',8.1,9,75,3,'Overweight','140/95',68,7000,'NaN']\nframe1\n\n",
      "metadata": {
        "trusted": true
      },
      "execution_count": 68,
      "outputs": [
        {
          "execution_count": 68,
          "output_type": "execute_result",
          "data": {
            "text/plain": "     Unnamed: 0.3  Unnamed: 0.2  Unnamed: 0.1  Unnamed: 0  Person ID  Gender  \\\n0               0             0             0           0          0    Male   \n1               1             1             1           1          1    Male   \n2               2             2             2           2          2    Male   \n3               3             3             3           3          3    Male   \n4               4             4             4           4          4    Male   \n..            ...           ...           ...         ...        ...     ...   \n370           370           370           370         370        370  Female   \n371           371           371           371         371        371  Female   \n372           372           372           372         372        372  Female   \n373           373           373           373         373        373  Female   \n374           233           372           372         373        345  Female   \n\n     Age         Occupation  Sleep Duration  Quality of Sleep  \\\n0     27  Software Engineer             6.1                 6   \n1     28  Software Engineer             6.2                 6   \n2     28  Software Engineer             6.2                 6   \n3     28  Software Engineer             5.9                 4   \n4     28  Software Engineer             5.9                 4   \n..   ...                ...             ...               ...   \n370   59  Software Engineer             8.0                 9   \n371   59  Software Engineer             8.1                 9   \n372   59  Software Engineer             8.1                 9   \n373   59  Software Engineer             8.1                 9   \n374   59  Software Engineer             8.1                 9   \n\n     Physical Activity Level  Stress Level BMI Category Blood Pressure  \\\n0                         42             6   Overweight         126/83   \n1                         60             8       Normal         125/80   \n2                         60             8       Normal         125/80   \n3                         30             8        Obese         140/90   \n4                         30             8        Obese         140/90   \n..                       ...           ...          ...            ...   \n370                       75             3   Overweight         140/95   \n371                       75             3   Overweight         140/95   \n372                       75             3   Overweight         140/95   \n373                       75             3   Overweight         140/95   \n374                       75             3   Overweight         140/95   \n\n     Heart Rate  Daily Steps Sleep Disorder  \n0            77         4200            NaN  \n1            75        10000            NaN  \n2            75        10000            NaN  \n3            85         3000            NaN  \n4            85         3000            NaN  \n..          ...          ...            ...  \n370          68         7000            NaN  \n371          68         7000            NaN  \n372          68         7000            NaN  \n373          68         7000            NaN  \n374          68         7000            NaN  \n\n[375 rows x 17 columns]",
            "text/html": "<div>\n<style scoped>\n    .dataframe tbody tr th:only-of-type {\n        vertical-align: middle;\n    }\n\n    .dataframe tbody tr th {\n        vertical-align: top;\n    }\n\n    .dataframe thead th {\n        text-align: right;\n    }\n</style>\n<table border=\"1\" class=\"dataframe\">\n  <thead>\n    <tr style=\"text-align: right;\">\n      <th></th>\n      <th>Unnamed: 0.3</th>\n      <th>Unnamed: 0.2</th>\n      <th>Unnamed: 0.1</th>\n      <th>Unnamed: 0</th>\n      <th>Person ID</th>\n      <th>Gender</th>\n      <th>Age</th>\n      <th>Occupation</th>\n      <th>Sleep Duration</th>\n      <th>Quality of Sleep</th>\n      <th>Physical Activity Level</th>\n      <th>Stress Level</th>\n      <th>BMI Category</th>\n      <th>Blood Pressure</th>\n      <th>Heart Rate</th>\n      <th>Daily Steps</th>\n      <th>Sleep Disorder</th>\n    </tr>\n  </thead>\n  <tbody>\n    <tr>\n      <th>0</th>\n      <td>0</td>\n      <td>0</td>\n      <td>0</td>\n      <td>0</td>\n      <td>0</td>\n      <td>Male</td>\n      <td>27</td>\n      <td>Software Engineer</td>\n      <td>6.1</td>\n      <td>6</td>\n      <td>42</td>\n      <td>6</td>\n      <td>Overweight</td>\n      <td>126/83</td>\n      <td>77</td>\n      <td>4200</td>\n      <td>NaN</td>\n    </tr>\n    <tr>\n      <th>1</th>\n      <td>1</td>\n      <td>1</td>\n      <td>1</td>\n      <td>1</td>\n      <td>1</td>\n      <td>Male</td>\n      <td>28</td>\n      <td>Software Engineer</td>\n      <td>6.2</td>\n      <td>6</td>\n      <td>60</td>\n      <td>8</td>\n      <td>Normal</td>\n      <td>125/80</td>\n      <td>75</td>\n      <td>10000</td>\n      <td>NaN</td>\n    </tr>\n    <tr>\n      <th>2</th>\n      <td>2</td>\n      <td>2</td>\n      <td>2</td>\n      <td>2</td>\n      <td>2</td>\n      <td>Male</td>\n      <td>28</td>\n      <td>Software Engineer</td>\n      <td>6.2</td>\n      <td>6</td>\n      <td>60</td>\n      <td>8</td>\n      <td>Normal</td>\n      <td>125/80</td>\n      <td>75</td>\n      <td>10000</td>\n      <td>NaN</td>\n    </tr>\n    <tr>\n      <th>3</th>\n      <td>3</td>\n      <td>3</td>\n      <td>3</td>\n      <td>3</td>\n      <td>3</td>\n      <td>Male</td>\n      <td>28</td>\n      <td>Software Engineer</td>\n      <td>5.9</td>\n      <td>4</td>\n      <td>30</td>\n      <td>8</td>\n      <td>Obese</td>\n      <td>140/90</td>\n      <td>85</td>\n      <td>3000</td>\n      <td>NaN</td>\n    </tr>\n    <tr>\n      <th>4</th>\n      <td>4</td>\n      <td>4</td>\n      <td>4</td>\n      <td>4</td>\n      <td>4</td>\n      <td>Male</td>\n      <td>28</td>\n      <td>Software Engineer</td>\n      <td>5.9</td>\n      <td>4</td>\n      <td>30</td>\n      <td>8</td>\n      <td>Obese</td>\n      <td>140/90</td>\n      <td>85</td>\n      <td>3000</td>\n      <td>NaN</td>\n    </tr>\n    <tr>\n      <th>...</th>\n      <td>...</td>\n      <td>...</td>\n      <td>...</td>\n      <td>...</td>\n      <td>...</td>\n      <td>...</td>\n      <td>...</td>\n      <td>...</td>\n      <td>...</td>\n      <td>...</td>\n      <td>...</td>\n      <td>...</td>\n      <td>...</td>\n      <td>...</td>\n      <td>...</td>\n      <td>...</td>\n      <td>...</td>\n    </tr>\n    <tr>\n      <th>370</th>\n      <td>370</td>\n      <td>370</td>\n      <td>370</td>\n      <td>370</td>\n      <td>370</td>\n      <td>Female</td>\n      <td>59</td>\n      <td>Software Engineer</td>\n      <td>8.0</td>\n      <td>9</td>\n      <td>75</td>\n      <td>3</td>\n      <td>Overweight</td>\n      <td>140/95</td>\n      <td>68</td>\n      <td>7000</td>\n      <td>NaN</td>\n    </tr>\n    <tr>\n      <th>371</th>\n      <td>371</td>\n      <td>371</td>\n      <td>371</td>\n      <td>371</td>\n      <td>371</td>\n      <td>Female</td>\n      <td>59</td>\n      <td>Software Engineer</td>\n      <td>8.1</td>\n      <td>9</td>\n      <td>75</td>\n      <td>3</td>\n      <td>Overweight</td>\n      <td>140/95</td>\n      <td>68</td>\n      <td>7000</td>\n      <td>NaN</td>\n    </tr>\n    <tr>\n      <th>372</th>\n      <td>372</td>\n      <td>372</td>\n      <td>372</td>\n      <td>372</td>\n      <td>372</td>\n      <td>Female</td>\n      <td>59</td>\n      <td>Software Engineer</td>\n      <td>8.1</td>\n      <td>9</td>\n      <td>75</td>\n      <td>3</td>\n      <td>Overweight</td>\n      <td>140/95</td>\n      <td>68</td>\n      <td>7000</td>\n      <td>NaN</td>\n    </tr>\n    <tr>\n      <th>373</th>\n      <td>373</td>\n      <td>373</td>\n      <td>373</td>\n      <td>373</td>\n      <td>373</td>\n      <td>Female</td>\n      <td>59</td>\n      <td>Software Engineer</td>\n      <td>8.1</td>\n      <td>9</td>\n      <td>75</td>\n      <td>3</td>\n      <td>Overweight</td>\n      <td>140/95</td>\n      <td>68</td>\n      <td>7000</td>\n      <td>NaN</td>\n    </tr>\n    <tr>\n      <th>374</th>\n      <td>233</td>\n      <td>372</td>\n      <td>372</td>\n      <td>373</td>\n      <td>345</td>\n      <td>Female</td>\n      <td>59</td>\n      <td>Software Engineer</td>\n      <td>8.1</td>\n      <td>9</td>\n      <td>75</td>\n      <td>3</td>\n      <td>Overweight</td>\n      <td>140/95</td>\n      <td>68</td>\n      <td>7000</td>\n      <td>NaN</td>\n    </tr>\n  </tbody>\n</table>\n<p>375 rows × 17 columns</p>\n</div>"
          },
          "metadata": {}
        }
      ]
    },
    {
      "cell_type": "markdown",
      "source": "## 6. Working with Columns",
      "metadata": {}
    },
    {
      "cell_type": "markdown",
      "source": "##### grab the oclumn name",
      "metadata": {}
    },
    {
      "cell_type": "markdown",
      "source": " ###### use the .columns attribute of a DataFrame to obtain the column names present in the DataFrame. It returns an Index object containing the column labels.",
      "metadata": {}
    },
    {
      "cell_type": "code",
      "source": "# We can grab the oclumn names with .columns\nframe.columns",
      "metadata": {
        "tags": [],
        "trusted": true
      },
      "execution_count": 69,
      "outputs": [
        {
          "execution_count": 69,
          "output_type": "execute_result",
          "data": {
            "text/plain": "Index(['Unnamed: 0.2', 'Unnamed: 0.1', 'Unnamed: 0', 'Person ID', 'Gender',\n       'Age', 'Occupation', 'Sleep Duration', 'Quality of Sleep',\n       'Physical Activity Level', 'Stress Level', 'BMI Category',\n       'Blood Pressure', 'Heart Rate', 'Daily Steps', 'Sleep Disorder'],\n      dtype='object')"
          },
          "metadata": {}
        }
      ]
    },
    {
      "cell_type": "markdown",
      "source": "##### Get the data of one column",
      "metadata": {}
    },
    {
      "cell_type": "code",
      "source": "frame.Gender",
      "metadata": {
        "trusted": true
      },
      "execution_count": 70,
      "outputs": [
        {
          "execution_count": 70,
          "output_type": "execute_result",
          "data": {
            "text/plain": "16     Female\n18     Female\n30     Female\n31     Female\n32     Female\n        ...  \n307    Female\n308    Female\n309    Female\n310    Female\n311    Female\nName: Gender, Length: 116, dtype: object"
          },
          "metadata": {}
        }
      ]
    },
    {
      "cell_type": "markdown",
      "source": "##### specific data columns",
      "metadata": {}
    },
    {
      "cell_type": "markdown",
      "source": "###### create a new DataFrame containing specific columns ('Gender', 'Age', and 'Occupation') from the original DataFrame 'frame'.",
      "metadata": {}
    },
    {
      "cell_type": "code",
      "source": "#Lets see some specific data columns\nDataFrame(frame,columns=['Gender','Age','Occupation'])\n",
      "metadata": {
        "trusted": true
      },
      "execution_count": 71,
      "outputs": [
        {
          "execution_count": 71,
          "output_type": "execute_result",
          "data": {
            "text/plain": "     Gender  Age         Occupation\n16   Female   29  Software Engineer\n18   Female   29  Software Engineer\n30   Female   30  Software Engineer\n31   Female   30  Software Engineer\n32   Female   31  Software Engineer\n..      ...  ...                ...\n307  Female   52  Software Engineer\n308  Female   52  Software Engineer\n309  Female   52  Software Engineer\n310  Female   52  Software Engineer\n311  Female   52  Software Engineer\n\n[116 rows x 3 columns]",
            "text/html": "<div>\n<style scoped>\n    .dataframe tbody tr th:only-of-type {\n        vertical-align: middle;\n    }\n\n    .dataframe tbody tr th {\n        vertical-align: top;\n    }\n\n    .dataframe thead th {\n        text-align: right;\n    }\n</style>\n<table border=\"1\" class=\"dataframe\">\n  <thead>\n    <tr style=\"text-align: right;\">\n      <th></th>\n      <th>Gender</th>\n      <th>Age</th>\n      <th>Occupation</th>\n    </tr>\n  </thead>\n  <tbody>\n    <tr>\n      <th>16</th>\n      <td>Female</td>\n      <td>29</td>\n      <td>Software Engineer</td>\n    </tr>\n    <tr>\n      <th>18</th>\n      <td>Female</td>\n      <td>29</td>\n      <td>Software Engineer</td>\n    </tr>\n    <tr>\n      <th>30</th>\n      <td>Female</td>\n      <td>30</td>\n      <td>Software Engineer</td>\n    </tr>\n    <tr>\n      <th>31</th>\n      <td>Female</td>\n      <td>30</td>\n      <td>Software Engineer</td>\n    </tr>\n    <tr>\n      <th>32</th>\n      <td>Female</td>\n      <td>31</td>\n      <td>Software Engineer</td>\n    </tr>\n    <tr>\n      <th>...</th>\n      <td>...</td>\n      <td>...</td>\n      <td>...</td>\n    </tr>\n    <tr>\n      <th>307</th>\n      <td>Female</td>\n      <td>52</td>\n      <td>Software Engineer</td>\n    </tr>\n    <tr>\n      <th>308</th>\n      <td>Female</td>\n      <td>52</td>\n      <td>Software Engineer</td>\n    </tr>\n    <tr>\n      <th>309</th>\n      <td>Female</td>\n      <td>52</td>\n      <td>Software Engineer</td>\n    </tr>\n    <tr>\n      <th>310</th>\n      <td>Female</td>\n      <td>52</td>\n      <td>Software Engineer</td>\n    </tr>\n    <tr>\n      <th>311</th>\n      <td>Female</td>\n      <td>52</td>\n      <td>Software Engineer</td>\n    </tr>\n  </tbody>\n</table>\n<p>116 rows × 3 columns</p>\n</div>"
          },
          "metadata": {}
        }
      ]
    },
    {
      "cell_type": "markdown",
      "source": "##### updating the entire 'Occupation' column in the DataFrame 'frame' with the value \"Software Engineer\". This operation sets all the values in the 'Occupation' column to \"Software Engineer\".",
      "metadata": {}
    },
    {
      "cell_type": "code",
      "source": "#get specific data columns and rows \nframe['Occupation']=\"Software Engineer\"\nframe",
      "metadata": {
        "trusted": true
      },
      "execution_count": 72,
      "outputs": [
        {
          "name": "stderr",
          "text": "<ipython-input-72-25a0f81144a2>:2: SettingWithCopyWarning: \nA value is trying to be set on a copy of a slice from a DataFrame.\nTry using .loc[row_indexer,col_indexer] = value instead\n\nSee the caveats in the documentation: https://pandas.pydata.org/pandas-docs/stable/user_guide/indexing.html#returning-a-view-versus-a-copy\n  frame['Occupation']=\"Software Engineer\"\n",
          "output_type": "stream"
        },
        {
          "execution_count": 72,
          "output_type": "execute_result",
          "data": {
            "text/plain": "     Unnamed: 0.2  Unnamed: 0.1  Unnamed: 0  Person ID  Gender  Age  \\\n16             16            16          16         16  Female   29   \n18             18            18          18         18  Female   29   \n30             30            30          30         30  Female   30   \n31             31            31          31         31  Female   30   \n32             32            32          32         32  Female   31   \n..            ...           ...         ...        ...     ...  ...   \n307           307           307         307        307  Female   52   \n308           308           308         308        308  Female   52   \n309           309           309         309        309  Female   52   \n310           310           310         310        310  Female   52   \n311           311           311         311        311  Female   52   \n\n            Occupation  Sleep Duration  Quality of Sleep  \\\n16   Software Engineer             6.5                 5   \n18   Software Engineer             6.5                 5   \n30   Software Engineer             6.4                 5   \n31   Software Engineer             6.4                 5   \n32   Software Engineer             7.9                 8   \n..                 ...             ...               ...   \n307  Software Engineer             6.5                 7   \n308  Software Engineer             6.6                 7   \n309  Software Engineer             6.6                 7   \n310  Software Engineer             6.6                 7   \n311  Software Engineer             6.6                 7   \n\n     Physical Activity Level  Stress Level   BMI Category Blood Pressure  \\\n16                        40             7  Normal Weight         132/87   \n18                        40             7  Normal Weight         132/87   \n30                        35             7  Normal Weight         130/86   \n31                        35             7  Normal Weight         130/86   \n32                        75             4  Normal Weight         117/76   \n..                       ...           ...            ...            ...   \n307                       45             7     Overweight         130/85   \n308                       45             7     Overweight         130/85   \n309                       45             7     Overweight         130/85   \n310                       45             7     Overweight         130/85   \n311                       45             7     Overweight         130/85   \n\n     Heart Rate  Daily Steps  Sleep Disorder  \n16           80         4000             NaN  \n18           80         4000             NaN  \n30           78         4100             NaN  \n31           78         4100             NaN  \n32           69         6800             NaN  \n..          ...          ...             ...  \n307          72         6000             NaN  \n308          72         6000             NaN  \n309          72         6000             NaN  \n310          72         6000             NaN  \n311          72         6000             NaN  \n\n[116 rows x 16 columns]",
            "text/html": "<div>\n<style scoped>\n    .dataframe tbody tr th:only-of-type {\n        vertical-align: middle;\n    }\n\n    .dataframe tbody tr th {\n        vertical-align: top;\n    }\n\n    .dataframe thead th {\n        text-align: right;\n    }\n</style>\n<table border=\"1\" class=\"dataframe\">\n  <thead>\n    <tr style=\"text-align: right;\">\n      <th></th>\n      <th>Unnamed: 0.2</th>\n      <th>Unnamed: 0.1</th>\n      <th>Unnamed: 0</th>\n      <th>Person ID</th>\n      <th>Gender</th>\n      <th>Age</th>\n      <th>Occupation</th>\n      <th>Sleep Duration</th>\n      <th>Quality of Sleep</th>\n      <th>Physical Activity Level</th>\n      <th>Stress Level</th>\n      <th>BMI Category</th>\n      <th>Blood Pressure</th>\n      <th>Heart Rate</th>\n      <th>Daily Steps</th>\n      <th>Sleep Disorder</th>\n    </tr>\n  </thead>\n  <tbody>\n    <tr>\n      <th>16</th>\n      <td>16</td>\n      <td>16</td>\n      <td>16</td>\n      <td>16</td>\n      <td>Female</td>\n      <td>29</td>\n      <td>Software Engineer</td>\n      <td>6.5</td>\n      <td>5</td>\n      <td>40</td>\n      <td>7</td>\n      <td>Normal Weight</td>\n      <td>132/87</td>\n      <td>80</td>\n      <td>4000</td>\n      <td>NaN</td>\n    </tr>\n    <tr>\n      <th>18</th>\n      <td>18</td>\n      <td>18</td>\n      <td>18</td>\n      <td>18</td>\n      <td>Female</td>\n      <td>29</td>\n      <td>Software Engineer</td>\n      <td>6.5</td>\n      <td>5</td>\n      <td>40</td>\n      <td>7</td>\n      <td>Normal Weight</td>\n      <td>132/87</td>\n      <td>80</td>\n      <td>4000</td>\n      <td>NaN</td>\n    </tr>\n    <tr>\n      <th>30</th>\n      <td>30</td>\n      <td>30</td>\n      <td>30</td>\n      <td>30</td>\n      <td>Female</td>\n      <td>30</td>\n      <td>Software Engineer</td>\n      <td>6.4</td>\n      <td>5</td>\n      <td>35</td>\n      <td>7</td>\n      <td>Normal Weight</td>\n      <td>130/86</td>\n      <td>78</td>\n      <td>4100</td>\n      <td>NaN</td>\n    </tr>\n    <tr>\n      <th>31</th>\n      <td>31</td>\n      <td>31</td>\n      <td>31</td>\n      <td>31</td>\n      <td>Female</td>\n      <td>30</td>\n      <td>Software Engineer</td>\n      <td>6.4</td>\n      <td>5</td>\n      <td>35</td>\n      <td>7</td>\n      <td>Normal Weight</td>\n      <td>130/86</td>\n      <td>78</td>\n      <td>4100</td>\n      <td>NaN</td>\n    </tr>\n    <tr>\n      <th>32</th>\n      <td>32</td>\n      <td>32</td>\n      <td>32</td>\n      <td>32</td>\n      <td>Female</td>\n      <td>31</td>\n      <td>Software Engineer</td>\n      <td>7.9</td>\n      <td>8</td>\n      <td>75</td>\n      <td>4</td>\n      <td>Normal Weight</td>\n      <td>117/76</td>\n      <td>69</td>\n      <td>6800</td>\n      <td>NaN</td>\n    </tr>\n    <tr>\n      <th>...</th>\n      <td>...</td>\n      <td>...</td>\n      <td>...</td>\n      <td>...</td>\n      <td>...</td>\n      <td>...</td>\n      <td>...</td>\n      <td>...</td>\n      <td>...</td>\n      <td>...</td>\n      <td>...</td>\n      <td>...</td>\n      <td>...</td>\n      <td>...</td>\n      <td>...</td>\n      <td>...</td>\n    </tr>\n    <tr>\n      <th>307</th>\n      <td>307</td>\n      <td>307</td>\n      <td>307</td>\n      <td>307</td>\n      <td>Female</td>\n      <td>52</td>\n      <td>Software Engineer</td>\n      <td>6.5</td>\n      <td>7</td>\n      <td>45</td>\n      <td>7</td>\n      <td>Overweight</td>\n      <td>130/85</td>\n      <td>72</td>\n      <td>6000</td>\n      <td>NaN</td>\n    </tr>\n    <tr>\n      <th>308</th>\n      <td>308</td>\n      <td>308</td>\n      <td>308</td>\n      <td>308</td>\n      <td>Female</td>\n      <td>52</td>\n      <td>Software Engineer</td>\n      <td>6.6</td>\n      <td>7</td>\n      <td>45</td>\n      <td>7</td>\n      <td>Overweight</td>\n      <td>130/85</td>\n      <td>72</td>\n      <td>6000</td>\n      <td>NaN</td>\n    </tr>\n    <tr>\n      <th>309</th>\n      <td>309</td>\n      <td>309</td>\n      <td>309</td>\n      <td>309</td>\n      <td>Female</td>\n      <td>52</td>\n      <td>Software Engineer</td>\n      <td>6.6</td>\n      <td>7</td>\n      <td>45</td>\n      <td>7</td>\n      <td>Overweight</td>\n      <td>130/85</td>\n      <td>72</td>\n      <td>6000</td>\n      <td>NaN</td>\n    </tr>\n    <tr>\n      <th>310</th>\n      <td>310</td>\n      <td>310</td>\n      <td>310</td>\n      <td>310</td>\n      <td>Female</td>\n      <td>52</td>\n      <td>Software Engineer</td>\n      <td>6.6</td>\n      <td>7</td>\n      <td>45</td>\n      <td>7</td>\n      <td>Overweight</td>\n      <td>130/85</td>\n      <td>72</td>\n      <td>6000</td>\n      <td>NaN</td>\n    </tr>\n    <tr>\n      <th>311</th>\n      <td>311</td>\n      <td>311</td>\n      <td>311</td>\n      <td>311</td>\n      <td>Female</td>\n      <td>52</td>\n      <td>Software Engineer</td>\n      <td>6.6</td>\n      <td>7</td>\n      <td>45</td>\n      <td>7</td>\n      <td>Overweight</td>\n      <td>130/85</td>\n      <td>72</td>\n      <td>6000</td>\n      <td>NaN</td>\n    </tr>\n  </tbody>\n</table>\n<p>116 rows × 16 columns</p>\n</div>"
          },
          "metadata": {}
        }
      ]
    },
    {
      "cell_type": "markdown",
      "source": "###### adding a new column named \"Person ID\" to the DataFrame 'frame', and you are populating it with a sequence of numbers using NumPy's arange() function.",
      "metadata": {}
    },
    {
      "cell_type": "code",
      "source": "#Putting numbers for stadiums\nframe[\"Person ID\"]= np.arange(116)\nframe",
      "metadata": {
        "trusted": true
      },
      "execution_count": 73,
      "outputs": [
        {
          "name": "stderr",
          "text": "<ipython-input-73-f8a48636360d>:2: SettingWithCopyWarning: \nA value is trying to be set on a copy of a slice from a DataFrame.\nTry using .loc[row_indexer,col_indexer] = value instead\n\nSee the caveats in the documentation: https://pandas.pydata.org/pandas-docs/stable/user_guide/indexing.html#returning-a-view-versus-a-copy\n  frame[\"Person ID\"]= np.arange(116)\n",
          "output_type": "stream"
        },
        {
          "execution_count": 73,
          "output_type": "execute_result",
          "data": {
            "text/plain": "     Unnamed: 0.2  Unnamed: 0.1  Unnamed: 0  Person ID  Gender  Age  \\\n16             16            16          16          0  Female   29   \n18             18            18          18          1  Female   29   \n30             30            30          30          2  Female   30   \n31             31            31          31          3  Female   30   \n32             32            32          32          4  Female   31   \n..            ...           ...         ...        ...     ...  ...   \n307           307           307         307        111  Female   52   \n308           308           308         308        112  Female   52   \n309           309           309         309        113  Female   52   \n310           310           310         310        114  Female   52   \n311           311           311         311        115  Female   52   \n\n            Occupation  Sleep Duration  Quality of Sleep  \\\n16   Software Engineer             6.5                 5   \n18   Software Engineer             6.5                 5   \n30   Software Engineer             6.4                 5   \n31   Software Engineer             6.4                 5   \n32   Software Engineer             7.9                 8   \n..                 ...             ...               ...   \n307  Software Engineer             6.5                 7   \n308  Software Engineer             6.6                 7   \n309  Software Engineer             6.6                 7   \n310  Software Engineer             6.6                 7   \n311  Software Engineer             6.6                 7   \n\n     Physical Activity Level  Stress Level   BMI Category Blood Pressure  \\\n16                        40             7  Normal Weight         132/87   \n18                        40             7  Normal Weight         132/87   \n30                        35             7  Normal Weight         130/86   \n31                        35             7  Normal Weight         130/86   \n32                        75             4  Normal Weight         117/76   \n..                       ...           ...            ...            ...   \n307                       45             7     Overweight         130/85   \n308                       45             7     Overweight         130/85   \n309                       45             7     Overweight         130/85   \n310                       45             7     Overweight         130/85   \n311                       45             7     Overweight         130/85   \n\n     Heart Rate  Daily Steps  Sleep Disorder  \n16           80         4000             NaN  \n18           80         4000             NaN  \n30           78         4100             NaN  \n31           78         4100             NaN  \n32           69         6800             NaN  \n..          ...          ...             ...  \n307          72         6000             NaN  \n308          72         6000             NaN  \n309          72         6000             NaN  \n310          72         6000             NaN  \n311          72         6000             NaN  \n\n[116 rows x 16 columns]",
            "text/html": "<div>\n<style scoped>\n    .dataframe tbody tr th:only-of-type {\n        vertical-align: middle;\n    }\n\n    .dataframe tbody tr th {\n        vertical-align: top;\n    }\n\n    .dataframe thead th {\n        text-align: right;\n    }\n</style>\n<table border=\"1\" class=\"dataframe\">\n  <thead>\n    <tr style=\"text-align: right;\">\n      <th></th>\n      <th>Unnamed: 0.2</th>\n      <th>Unnamed: 0.1</th>\n      <th>Unnamed: 0</th>\n      <th>Person ID</th>\n      <th>Gender</th>\n      <th>Age</th>\n      <th>Occupation</th>\n      <th>Sleep Duration</th>\n      <th>Quality of Sleep</th>\n      <th>Physical Activity Level</th>\n      <th>Stress Level</th>\n      <th>BMI Category</th>\n      <th>Blood Pressure</th>\n      <th>Heart Rate</th>\n      <th>Daily Steps</th>\n      <th>Sleep Disorder</th>\n    </tr>\n  </thead>\n  <tbody>\n    <tr>\n      <th>16</th>\n      <td>16</td>\n      <td>16</td>\n      <td>16</td>\n      <td>0</td>\n      <td>Female</td>\n      <td>29</td>\n      <td>Software Engineer</td>\n      <td>6.5</td>\n      <td>5</td>\n      <td>40</td>\n      <td>7</td>\n      <td>Normal Weight</td>\n      <td>132/87</td>\n      <td>80</td>\n      <td>4000</td>\n      <td>NaN</td>\n    </tr>\n    <tr>\n      <th>18</th>\n      <td>18</td>\n      <td>18</td>\n      <td>18</td>\n      <td>1</td>\n      <td>Female</td>\n      <td>29</td>\n      <td>Software Engineer</td>\n      <td>6.5</td>\n      <td>5</td>\n      <td>40</td>\n      <td>7</td>\n      <td>Normal Weight</td>\n      <td>132/87</td>\n      <td>80</td>\n      <td>4000</td>\n      <td>NaN</td>\n    </tr>\n    <tr>\n      <th>30</th>\n      <td>30</td>\n      <td>30</td>\n      <td>30</td>\n      <td>2</td>\n      <td>Female</td>\n      <td>30</td>\n      <td>Software Engineer</td>\n      <td>6.4</td>\n      <td>5</td>\n      <td>35</td>\n      <td>7</td>\n      <td>Normal Weight</td>\n      <td>130/86</td>\n      <td>78</td>\n      <td>4100</td>\n      <td>NaN</td>\n    </tr>\n    <tr>\n      <th>31</th>\n      <td>31</td>\n      <td>31</td>\n      <td>31</td>\n      <td>3</td>\n      <td>Female</td>\n      <td>30</td>\n      <td>Software Engineer</td>\n      <td>6.4</td>\n      <td>5</td>\n      <td>35</td>\n      <td>7</td>\n      <td>Normal Weight</td>\n      <td>130/86</td>\n      <td>78</td>\n      <td>4100</td>\n      <td>NaN</td>\n    </tr>\n    <tr>\n      <th>32</th>\n      <td>32</td>\n      <td>32</td>\n      <td>32</td>\n      <td>4</td>\n      <td>Female</td>\n      <td>31</td>\n      <td>Software Engineer</td>\n      <td>7.9</td>\n      <td>8</td>\n      <td>75</td>\n      <td>4</td>\n      <td>Normal Weight</td>\n      <td>117/76</td>\n      <td>69</td>\n      <td>6800</td>\n      <td>NaN</td>\n    </tr>\n    <tr>\n      <th>...</th>\n      <td>...</td>\n      <td>...</td>\n      <td>...</td>\n      <td>...</td>\n      <td>...</td>\n      <td>...</td>\n      <td>...</td>\n      <td>...</td>\n      <td>...</td>\n      <td>...</td>\n      <td>...</td>\n      <td>...</td>\n      <td>...</td>\n      <td>...</td>\n      <td>...</td>\n      <td>...</td>\n    </tr>\n    <tr>\n      <th>307</th>\n      <td>307</td>\n      <td>307</td>\n      <td>307</td>\n      <td>111</td>\n      <td>Female</td>\n      <td>52</td>\n      <td>Software Engineer</td>\n      <td>6.5</td>\n      <td>7</td>\n      <td>45</td>\n      <td>7</td>\n      <td>Overweight</td>\n      <td>130/85</td>\n      <td>72</td>\n      <td>6000</td>\n      <td>NaN</td>\n    </tr>\n    <tr>\n      <th>308</th>\n      <td>308</td>\n      <td>308</td>\n      <td>308</td>\n      <td>112</td>\n      <td>Female</td>\n      <td>52</td>\n      <td>Software Engineer</td>\n      <td>6.6</td>\n      <td>7</td>\n      <td>45</td>\n      <td>7</td>\n      <td>Overweight</td>\n      <td>130/85</td>\n      <td>72</td>\n      <td>6000</td>\n      <td>NaN</td>\n    </tr>\n    <tr>\n      <th>309</th>\n      <td>309</td>\n      <td>309</td>\n      <td>309</td>\n      <td>113</td>\n      <td>Female</td>\n      <td>52</td>\n      <td>Software Engineer</td>\n      <td>6.6</td>\n      <td>7</td>\n      <td>45</td>\n      <td>7</td>\n      <td>Overweight</td>\n      <td>130/85</td>\n      <td>72</td>\n      <td>6000</td>\n      <td>NaN</td>\n    </tr>\n    <tr>\n      <th>310</th>\n      <td>310</td>\n      <td>310</td>\n      <td>310</td>\n      <td>114</td>\n      <td>Female</td>\n      <td>52</td>\n      <td>Software Engineer</td>\n      <td>6.6</td>\n      <td>7</td>\n      <td>45</td>\n      <td>7</td>\n      <td>Overweight</td>\n      <td>130/85</td>\n      <td>72</td>\n      <td>6000</td>\n      <td>NaN</td>\n    </tr>\n    <tr>\n      <th>311</th>\n      <td>311</td>\n      <td>311</td>\n      <td>311</td>\n      <td>115</td>\n      <td>Female</td>\n      <td>52</td>\n      <td>Software Engineer</td>\n      <td>6.6</td>\n      <td>7</td>\n      <td>45</td>\n      <td>7</td>\n      <td>Overweight</td>\n      <td>130/85</td>\n      <td>72</td>\n      <td>6000</td>\n      <td>NaN</td>\n    </tr>\n  </tbody>\n</table>\n<p>116 rows × 16 columns</p>\n</div>"
          },
          "metadata": {}
        }
      ]
    },
    {
      "cell_type": "markdown",
      "source": "###### creating a new DataFrame called 'sleep_frame' using the dictionary 'data'. The dictionary has two keys, 'Gender' and 'Person ID', and each key corresponds to a list containing data for the respective column.",
      "metadata": {}
    },
    {
      "cell_type": "code",
      "source": "#DataFrames can be constructed many ways. Another way is from a dictionary of␣,→equal length lists\n\ndata = {'Gender':['Male','Female'],\n'Person ID':[2,370]}\nsleep_frame = DataFrame(data)\n#Show\nsleep_frame",
      "metadata": {
        "trusted": true
      },
      "execution_count": 74,
      "outputs": [
        {
          "execution_count": 74,
          "output_type": "execute_result",
          "data": {
            "text/plain": "   Gender  Person ID\n0    Male          2\n1  Female        370",
            "text/html": "<div>\n<style scoped>\n    .dataframe tbody tr th:only-of-type {\n        vertical-align: middle;\n    }\n\n    .dataframe tbody tr th {\n        vertical-align: top;\n    }\n\n    .dataframe thead th {\n        text-align: right;\n    }\n</style>\n<table border=\"1\" class=\"dataframe\">\n  <thead>\n    <tr style=\"text-align: right;\">\n      <th></th>\n      <th>Gender</th>\n      <th>Person ID</th>\n    </tr>\n  </thead>\n  <tbody>\n    <tr>\n      <th>0</th>\n      <td>Male</td>\n      <td>2</td>\n    </tr>\n    <tr>\n      <th>1</th>\n      <td>Female</td>\n      <td>370</td>\n    </tr>\n  </tbody>\n</table>\n</div>"
          },
          "metadata": {}
        }
      ]
    },
    {
      "cell_type": "markdown",
      "source": "###### in Pandas, you can delete a column from a DataFrame using the del keyword. It allows you to remove a specific column from the DataFrame.",
      "metadata": {}
    },
    {
      "cell_type": "code",
      "source": "#We can also delete columns\ndel frame['Blood Pressure']\nframe\n",
      "metadata": {
        "trusted": true
      },
      "execution_count": 75,
      "outputs": [
        {
          "execution_count": 75,
          "output_type": "execute_result",
          "data": {
            "text/plain": "     Unnamed: 0.2  Unnamed: 0.1  Unnamed: 0  Person ID  Gender  Age  \\\n16             16            16          16          0  Female   29   \n18             18            18          18          1  Female   29   \n30             30            30          30          2  Female   30   \n31             31            31          31          3  Female   30   \n32             32            32          32          4  Female   31   \n..            ...           ...         ...        ...     ...  ...   \n307           307           307         307        111  Female   52   \n308           308           308         308        112  Female   52   \n309           309           309         309        113  Female   52   \n310           310           310         310        114  Female   52   \n311           311           311         311        115  Female   52   \n\n            Occupation  Sleep Duration  Quality of Sleep  \\\n16   Software Engineer             6.5                 5   \n18   Software Engineer             6.5                 5   \n30   Software Engineer             6.4                 5   \n31   Software Engineer             6.4                 5   \n32   Software Engineer             7.9                 8   \n..                 ...             ...               ...   \n307  Software Engineer             6.5                 7   \n308  Software Engineer             6.6                 7   \n309  Software Engineer             6.6                 7   \n310  Software Engineer             6.6                 7   \n311  Software Engineer             6.6                 7   \n\n     Physical Activity Level  Stress Level   BMI Category  Heart Rate  \\\n16                        40             7  Normal Weight          80   \n18                        40             7  Normal Weight          80   \n30                        35             7  Normal Weight          78   \n31                        35             7  Normal Weight          78   \n32                        75             4  Normal Weight          69   \n..                       ...           ...            ...         ...   \n307                       45             7     Overweight          72   \n308                       45             7     Overweight          72   \n309                       45             7     Overweight          72   \n310                       45             7     Overweight          72   \n311                       45             7     Overweight          72   \n\n     Daily Steps  Sleep Disorder  \n16          4000             NaN  \n18          4000             NaN  \n30          4100             NaN  \n31          4100             NaN  \n32          6800             NaN  \n..           ...             ...  \n307         6000             NaN  \n308         6000             NaN  \n309         6000             NaN  \n310         6000             NaN  \n311         6000             NaN  \n\n[116 rows x 15 columns]",
            "text/html": "<div>\n<style scoped>\n    .dataframe tbody tr th:only-of-type {\n        vertical-align: middle;\n    }\n\n    .dataframe tbody tr th {\n        vertical-align: top;\n    }\n\n    .dataframe thead th {\n        text-align: right;\n    }\n</style>\n<table border=\"1\" class=\"dataframe\">\n  <thead>\n    <tr style=\"text-align: right;\">\n      <th></th>\n      <th>Unnamed: 0.2</th>\n      <th>Unnamed: 0.1</th>\n      <th>Unnamed: 0</th>\n      <th>Person ID</th>\n      <th>Gender</th>\n      <th>Age</th>\n      <th>Occupation</th>\n      <th>Sleep Duration</th>\n      <th>Quality of Sleep</th>\n      <th>Physical Activity Level</th>\n      <th>Stress Level</th>\n      <th>BMI Category</th>\n      <th>Heart Rate</th>\n      <th>Daily Steps</th>\n      <th>Sleep Disorder</th>\n    </tr>\n  </thead>\n  <tbody>\n    <tr>\n      <th>16</th>\n      <td>16</td>\n      <td>16</td>\n      <td>16</td>\n      <td>0</td>\n      <td>Female</td>\n      <td>29</td>\n      <td>Software Engineer</td>\n      <td>6.5</td>\n      <td>5</td>\n      <td>40</td>\n      <td>7</td>\n      <td>Normal Weight</td>\n      <td>80</td>\n      <td>4000</td>\n      <td>NaN</td>\n    </tr>\n    <tr>\n      <th>18</th>\n      <td>18</td>\n      <td>18</td>\n      <td>18</td>\n      <td>1</td>\n      <td>Female</td>\n      <td>29</td>\n      <td>Software Engineer</td>\n      <td>6.5</td>\n      <td>5</td>\n      <td>40</td>\n      <td>7</td>\n      <td>Normal Weight</td>\n      <td>80</td>\n      <td>4000</td>\n      <td>NaN</td>\n    </tr>\n    <tr>\n      <th>30</th>\n      <td>30</td>\n      <td>30</td>\n      <td>30</td>\n      <td>2</td>\n      <td>Female</td>\n      <td>30</td>\n      <td>Software Engineer</td>\n      <td>6.4</td>\n      <td>5</td>\n      <td>35</td>\n      <td>7</td>\n      <td>Normal Weight</td>\n      <td>78</td>\n      <td>4100</td>\n      <td>NaN</td>\n    </tr>\n    <tr>\n      <th>31</th>\n      <td>31</td>\n      <td>31</td>\n      <td>31</td>\n      <td>3</td>\n      <td>Female</td>\n      <td>30</td>\n      <td>Software Engineer</td>\n      <td>6.4</td>\n      <td>5</td>\n      <td>35</td>\n      <td>7</td>\n      <td>Normal Weight</td>\n      <td>78</td>\n      <td>4100</td>\n      <td>NaN</td>\n    </tr>\n    <tr>\n      <th>32</th>\n      <td>32</td>\n      <td>32</td>\n      <td>32</td>\n      <td>4</td>\n      <td>Female</td>\n      <td>31</td>\n      <td>Software Engineer</td>\n      <td>7.9</td>\n      <td>8</td>\n      <td>75</td>\n      <td>4</td>\n      <td>Normal Weight</td>\n      <td>69</td>\n      <td>6800</td>\n      <td>NaN</td>\n    </tr>\n    <tr>\n      <th>...</th>\n      <td>...</td>\n      <td>...</td>\n      <td>...</td>\n      <td>...</td>\n      <td>...</td>\n      <td>...</td>\n      <td>...</td>\n      <td>...</td>\n      <td>...</td>\n      <td>...</td>\n      <td>...</td>\n      <td>...</td>\n      <td>...</td>\n      <td>...</td>\n      <td>...</td>\n    </tr>\n    <tr>\n      <th>307</th>\n      <td>307</td>\n      <td>307</td>\n      <td>307</td>\n      <td>111</td>\n      <td>Female</td>\n      <td>52</td>\n      <td>Software Engineer</td>\n      <td>6.5</td>\n      <td>7</td>\n      <td>45</td>\n      <td>7</td>\n      <td>Overweight</td>\n      <td>72</td>\n      <td>6000</td>\n      <td>NaN</td>\n    </tr>\n    <tr>\n      <th>308</th>\n      <td>308</td>\n      <td>308</td>\n      <td>308</td>\n      <td>112</td>\n      <td>Female</td>\n      <td>52</td>\n      <td>Software Engineer</td>\n      <td>6.6</td>\n      <td>7</td>\n      <td>45</td>\n      <td>7</td>\n      <td>Overweight</td>\n      <td>72</td>\n      <td>6000</td>\n      <td>NaN</td>\n    </tr>\n    <tr>\n      <th>309</th>\n      <td>309</td>\n      <td>309</td>\n      <td>309</td>\n      <td>113</td>\n      <td>Female</td>\n      <td>52</td>\n      <td>Software Engineer</td>\n      <td>6.6</td>\n      <td>7</td>\n      <td>45</td>\n      <td>7</td>\n      <td>Overweight</td>\n      <td>72</td>\n      <td>6000</td>\n      <td>NaN</td>\n    </tr>\n    <tr>\n      <th>310</th>\n      <td>310</td>\n      <td>310</td>\n      <td>310</td>\n      <td>114</td>\n      <td>Female</td>\n      <td>52</td>\n      <td>Software Engineer</td>\n      <td>6.6</td>\n      <td>7</td>\n      <td>45</td>\n      <td>7</td>\n      <td>Overweight</td>\n      <td>72</td>\n      <td>6000</td>\n      <td>NaN</td>\n    </tr>\n    <tr>\n      <th>311</th>\n      <td>311</td>\n      <td>311</td>\n      <td>311</td>\n      <td>115</td>\n      <td>Female</td>\n      <td>52</td>\n      <td>Software Engineer</td>\n      <td>6.6</td>\n      <td>7</td>\n      <td>45</td>\n      <td>7</td>\n      <td>Overweight</td>\n      <td>72</td>\n      <td>6000</td>\n      <td>NaN</td>\n    </tr>\n  </tbody>\n</table>\n<p>116 rows × 15 columns</p>\n</div>"
          },
          "metadata": {}
        }
      ]
    },
    {
      "cell_type": "markdown",
      "source": "###### adding a new column 'Blood Pressure' to the DataFrame 'frame' by extracting a substring from the 'Gender' column and then creating a new DataFrame 'df' and adding another column 'Blood Pressure' to it using a list of values.",
      "metadata": {}
    },
    {
      "cell_type": "code",
      "source": "#Adding new columns to a DataFrame\n'''frame['Blood Pressure'] = frame['Gender'].str[0:2]'''\nlst=list(range(16))\ndf['Blood Pressure']=lst\ndf",
      "metadata": {
        "trusted": true
      },
      "execution_count": 76,
      "outputs": [
        {
          "name": "stderr",
          "text": "<ipython-input-76-9601ce299e4b>:4: SettingWithCopyWarning: \nA value is trying to be set on a copy of a slice from a DataFrame.\nTry using .loc[row_indexer,col_indexer] = value instead\n\nSee the caveats in the documentation: https://pandas.pydata.org/pandas-docs/stable/user_guide/indexing.html#returning-a-view-versus-a-copy\n  df['Blood Pressure']=lst\n",
          "output_type": "stream"
        },
        {
          "execution_count": 76,
          "output_type": "execute_result",
          "data": {
            "text/plain": "     Unnamed: 0.2  Unnamed: 0.1  Unnamed: 0  Person ID  Gender  Age  \\\n358           358           358         358        358  Female   59   \n359           359           359         359        359  Female   59   \n360           360           360         360        360  Female   59   \n361           361           361         361        361  Female   59   \n362           362           362         362        362  Female   59   \n363           363           363         363        363  Female   59   \n364           364           364         364        364  Female   59   \n365           365           365         365        365  Female   59   \n366           366           366         366        366  Female   59   \n367           367           367         367        367  Female   59   \n368           368           368         368        368  Female   59   \n369           369           369         369        369  Female   59   \n370           370           370         370        370  Female   59   \n371           371           371         371        371  Female   59   \n372           372           372         372        372  Female   59   \n373           373           373         373        373  Female   59   \n\n            Occupation  Sleep Duration  Quality of Sleep  \\\n358  Software Engineer             8.0                 9   \n359  Software Engineer             8.1                 9   \n360  Software Engineer             8.2                 9   \n361  Software Engineer             8.2                 9   \n362  Software Engineer             8.2                 9   \n363  Software Engineer             8.2                 9   \n364  Software Engineer             8.0                 9   \n365  Software Engineer             8.0                 9   \n366  Software Engineer             8.1                 9   \n367  Software Engineer             8.0                 9   \n368  Software Engineer             8.1                 9   \n369  Software Engineer             8.1                 9   \n370  Software Engineer             8.0                 9   \n371  Software Engineer             8.1                 9   \n372  Software Engineer             8.1                 9   \n373  Software Engineer             8.1                 9   \n\n     Physical Activity Level  Stress Level BMI Category  Blood Pressure  \\\n358                       75             3   Overweight               0   \n359                       75             3   Overweight               1   \n360                       75             3   Overweight               2   \n361                       75             3   Overweight               3   \n362                       75             3   Overweight               4   \n363                       75             3   Overweight               5   \n364                       75             3   Overweight               6   \n365                       75             3   Overweight               7   \n366                       75             3   Overweight               8   \n367                       75             3   Overweight               9   \n368                       75             3   Overweight              10   \n369                       75             3   Overweight              11   \n370                       75             3   Overweight              12   \n371                       75             3   Overweight              13   \n372                       75             3   Overweight              14   \n373                       75             3   Overweight              15   \n\n     Heart Rate  Daily Steps  Sleep Disorder  \n358          68         7000             NaN  \n359          68         7000             NaN  \n360          68         7000             NaN  \n361          68         7000             NaN  \n362          68         7000             NaN  \n363          68         7000             NaN  \n364          68         7000             NaN  \n365          68         7000             NaN  \n366          68         7000             NaN  \n367          68         7000             NaN  \n368          68         7000             NaN  \n369          68         7000             NaN  \n370          68         7000             NaN  \n371          68         7000             NaN  \n372          68         7000             NaN  \n373          68         7000             NaN  ",
            "text/html": "<div>\n<style scoped>\n    .dataframe tbody tr th:only-of-type {\n        vertical-align: middle;\n    }\n\n    .dataframe tbody tr th {\n        vertical-align: top;\n    }\n\n    .dataframe thead th {\n        text-align: right;\n    }\n</style>\n<table border=\"1\" class=\"dataframe\">\n  <thead>\n    <tr style=\"text-align: right;\">\n      <th></th>\n      <th>Unnamed: 0.2</th>\n      <th>Unnamed: 0.1</th>\n      <th>Unnamed: 0</th>\n      <th>Person ID</th>\n      <th>Gender</th>\n      <th>Age</th>\n      <th>Occupation</th>\n      <th>Sleep Duration</th>\n      <th>Quality of Sleep</th>\n      <th>Physical Activity Level</th>\n      <th>Stress Level</th>\n      <th>BMI Category</th>\n      <th>Blood Pressure</th>\n      <th>Heart Rate</th>\n      <th>Daily Steps</th>\n      <th>Sleep Disorder</th>\n    </tr>\n  </thead>\n  <tbody>\n    <tr>\n      <th>358</th>\n      <td>358</td>\n      <td>358</td>\n      <td>358</td>\n      <td>358</td>\n      <td>Female</td>\n      <td>59</td>\n      <td>Software Engineer</td>\n      <td>8.0</td>\n      <td>9</td>\n      <td>75</td>\n      <td>3</td>\n      <td>Overweight</td>\n      <td>0</td>\n      <td>68</td>\n      <td>7000</td>\n      <td>NaN</td>\n    </tr>\n    <tr>\n      <th>359</th>\n      <td>359</td>\n      <td>359</td>\n      <td>359</td>\n      <td>359</td>\n      <td>Female</td>\n      <td>59</td>\n      <td>Software Engineer</td>\n      <td>8.1</td>\n      <td>9</td>\n      <td>75</td>\n      <td>3</td>\n      <td>Overweight</td>\n      <td>1</td>\n      <td>68</td>\n      <td>7000</td>\n      <td>NaN</td>\n    </tr>\n    <tr>\n      <th>360</th>\n      <td>360</td>\n      <td>360</td>\n      <td>360</td>\n      <td>360</td>\n      <td>Female</td>\n      <td>59</td>\n      <td>Software Engineer</td>\n      <td>8.2</td>\n      <td>9</td>\n      <td>75</td>\n      <td>3</td>\n      <td>Overweight</td>\n      <td>2</td>\n      <td>68</td>\n      <td>7000</td>\n      <td>NaN</td>\n    </tr>\n    <tr>\n      <th>361</th>\n      <td>361</td>\n      <td>361</td>\n      <td>361</td>\n      <td>361</td>\n      <td>Female</td>\n      <td>59</td>\n      <td>Software Engineer</td>\n      <td>8.2</td>\n      <td>9</td>\n      <td>75</td>\n      <td>3</td>\n      <td>Overweight</td>\n      <td>3</td>\n      <td>68</td>\n      <td>7000</td>\n      <td>NaN</td>\n    </tr>\n    <tr>\n      <th>362</th>\n      <td>362</td>\n      <td>362</td>\n      <td>362</td>\n      <td>362</td>\n      <td>Female</td>\n      <td>59</td>\n      <td>Software Engineer</td>\n      <td>8.2</td>\n      <td>9</td>\n      <td>75</td>\n      <td>3</td>\n      <td>Overweight</td>\n      <td>4</td>\n      <td>68</td>\n      <td>7000</td>\n      <td>NaN</td>\n    </tr>\n    <tr>\n      <th>363</th>\n      <td>363</td>\n      <td>363</td>\n      <td>363</td>\n      <td>363</td>\n      <td>Female</td>\n      <td>59</td>\n      <td>Software Engineer</td>\n      <td>8.2</td>\n      <td>9</td>\n      <td>75</td>\n      <td>3</td>\n      <td>Overweight</td>\n      <td>5</td>\n      <td>68</td>\n      <td>7000</td>\n      <td>NaN</td>\n    </tr>\n    <tr>\n      <th>364</th>\n      <td>364</td>\n      <td>364</td>\n      <td>364</td>\n      <td>364</td>\n      <td>Female</td>\n      <td>59</td>\n      <td>Software Engineer</td>\n      <td>8.0</td>\n      <td>9</td>\n      <td>75</td>\n      <td>3</td>\n      <td>Overweight</td>\n      <td>6</td>\n      <td>68</td>\n      <td>7000</td>\n      <td>NaN</td>\n    </tr>\n    <tr>\n      <th>365</th>\n      <td>365</td>\n      <td>365</td>\n      <td>365</td>\n      <td>365</td>\n      <td>Female</td>\n      <td>59</td>\n      <td>Software Engineer</td>\n      <td>8.0</td>\n      <td>9</td>\n      <td>75</td>\n      <td>3</td>\n      <td>Overweight</td>\n      <td>7</td>\n      <td>68</td>\n      <td>7000</td>\n      <td>NaN</td>\n    </tr>\n    <tr>\n      <th>366</th>\n      <td>366</td>\n      <td>366</td>\n      <td>366</td>\n      <td>366</td>\n      <td>Female</td>\n      <td>59</td>\n      <td>Software Engineer</td>\n      <td>8.1</td>\n      <td>9</td>\n      <td>75</td>\n      <td>3</td>\n      <td>Overweight</td>\n      <td>8</td>\n      <td>68</td>\n      <td>7000</td>\n      <td>NaN</td>\n    </tr>\n    <tr>\n      <th>367</th>\n      <td>367</td>\n      <td>367</td>\n      <td>367</td>\n      <td>367</td>\n      <td>Female</td>\n      <td>59</td>\n      <td>Software Engineer</td>\n      <td>8.0</td>\n      <td>9</td>\n      <td>75</td>\n      <td>3</td>\n      <td>Overweight</td>\n      <td>9</td>\n      <td>68</td>\n      <td>7000</td>\n      <td>NaN</td>\n    </tr>\n    <tr>\n      <th>368</th>\n      <td>368</td>\n      <td>368</td>\n      <td>368</td>\n      <td>368</td>\n      <td>Female</td>\n      <td>59</td>\n      <td>Software Engineer</td>\n      <td>8.1</td>\n      <td>9</td>\n      <td>75</td>\n      <td>3</td>\n      <td>Overweight</td>\n      <td>10</td>\n      <td>68</td>\n      <td>7000</td>\n      <td>NaN</td>\n    </tr>\n    <tr>\n      <th>369</th>\n      <td>369</td>\n      <td>369</td>\n      <td>369</td>\n      <td>369</td>\n      <td>Female</td>\n      <td>59</td>\n      <td>Software Engineer</td>\n      <td>8.1</td>\n      <td>9</td>\n      <td>75</td>\n      <td>3</td>\n      <td>Overweight</td>\n      <td>11</td>\n      <td>68</td>\n      <td>7000</td>\n      <td>NaN</td>\n    </tr>\n    <tr>\n      <th>370</th>\n      <td>370</td>\n      <td>370</td>\n      <td>370</td>\n      <td>370</td>\n      <td>Female</td>\n      <td>59</td>\n      <td>Software Engineer</td>\n      <td>8.0</td>\n      <td>9</td>\n      <td>75</td>\n      <td>3</td>\n      <td>Overweight</td>\n      <td>12</td>\n      <td>68</td>\n      <td>7000</td>\n      <td>NaN</td>\n    </tr>\n    <tr>\n      <th>371</th>\n      <td>371</td>\n      <td>371</td>\n      <td>371</td>\n      <td>371</td>\n      <td>Female</td>\n      <td>59</td>\n      <td>Software Engineer</td>\n      <td>8.1</td>\n      <td>9</td>\n      <td>75</td>\n      <td>3</td>\n      <td>Overweight</td>\n      <td>13</td>\n      <td>68</td>\n      <td>7000</td>\n      <td>NaN</td>\n    </tr>\n    <tr>\n      <th>372</th>\n      <td>372</td>\n      <td>372</td>\n      <td>372</td>\n      <td>372</td>\n      <td>Female</td>\n      <td>59</td>\n      <td>Software Engineer</td>\n      <td>8.1</td>\n      <td>9</td>\n      <td>75</td>\n      <td>3</td>\n      <td>Overweight</td>\n      <td>14</td>\n      <td>68</td>\n      <td>7000</td>\n      <td>NaN</td>\n    </tr>\n    <tr>\n      <th>373</th>\n      <td>373</td>\n      <td>373</td>\n      <td>373</td>\n      <td>373</td>\n      <td>Female</td>\n      <td>59</td>\n      <td>Software Engineer</td>\n      <td>8.1</td>\n      <td>9</td>\n      <td>75</td>\n      <td>3</td>\n      <td>Overweight</td>\n      <td>15</td>\n      <td>68</td>\n      <td>7000</td>\n      <td>NaN</td>\n    </tr>\n  </tbody>\n</table>\n</div>"
          },
          "metadata": {}
        }
      ]
    },
    {
      "cell_type": "markdown",
      "source": "## Joining/Combining DataFrames and Groupby",
      "metadata": {}
    },
    {
      "cell_type": "markdown",
      "source": "##### Merge on columns",
      "metadata": {}
    },
    {
      "cell_type": "code",
      "source": "# get a new data frames:  \nframe2=pd.read_csv(\"2015.csv\")\nframe2",
      "metadata": {
        "trusted": true
      },
      "execution_count": 77,
      "outputs": [
        {
          "execution_count": 77,
          "output_type": "execute_result",
          "data": {
            "text/plain": "         Country                           Region  Happiness Rank  \\\n0    Switzerland                   Western Europe               1   \n1        Iceland                   Western Europe               2   \n2        Denmark                   Western Europe               3   \n3         Norway                   Western Europe               4   \n4         Canada                    North America               5   \n..           ...                              ...             ...   \n153       Rwanda               Sub-Saharan Africa             154   \n154        Benin               Sub-Saharan Africa             155   \n155        Syria  Middle East and Northern Africa             156   \n156      Burundi               Sub-Saharan Africa             157   \n157         Togo               Sub-Saharan Africa             158   \n\n     Happiness Score  Standard Error  Economy (GDP per Capita)   Family  \\\n0              7.587         0.03411                   1.39651  1.34951   \n1              7.561         0.04884                   1.30232  1.40223   \n2              7.527         0.03328                   1.32548  1.36058   \n3              7.522         0.03880                   1.45900  1.33095   \n4              7.427         0.03553                   1.32629  1.32261   \n..               ...             ...                       ...      ...   \n153            3.465         0.03464                   0.22208  0.77370   \n154            3.340         0.03656                   0.28665  0.35386   \n155            3.006         0.05015                   0.66320  0.47489   \n156            2.905         0.08658                   0.01530  0.41587   \n157            2.839         0.06727                   0.20868  0.13995   \n\n     Health (Life Expectancy)  Freedom  Trust (Government Corruption)  \\\n0                     0.94143  0.66557                        0.41978   \n1                     0.94784  0.62877                        0.14145   \n2                     0.87464  0.64938                        0.48357   \n3                     0.88521  0.66973                        0.36503   \n4                     0.90563  0.63297                        0.32957   \n..                        ...      ...                            ...   \n153                   0.42864  0.59201                        0.55191   \n154                   0.31910  0.48450                        0.08010   \n155                   0.72193  0.15684                        0.18906   \n156                   0.22396  0.11850                        0.10062   \n157                   0.28443  0.36453                        0.10731   \n\n     Generosity  Dystopia Residual  \n0       0.29678            2.51738  \n1       0.43630            2.70201  \n2       0.34139            2.49204  \n3       0.34699            2.46531  \n4       0.45811            2.45176  \n..          ...                ...  \n153     0.22628            0.67042  \n154     0.18260            1.63328  \n155     0.47179            0.32858  \n156     0.19727            1.83302  \n157     0.16681            1.56726  \n\n[158 rows x 12 columns]",
            "text/html": "<div>\n<style scoped>\n    .dataframe tbody tr th:only-of-type {\n        vertical-align: middle;\n    }\n\n    .dataframe tbody tr th {\n        vertical-align: top;\n    }\n\n    .dataframe thead th {\n        text-align: right;\n    }\n</style>\n<table border=\"1\" class=\"dataframe\">\n  <thead>\n    <tr style=\"text-align: right;\">\n      <th></th>\n      <th>Country</th>\n      <th>Region</th>\n      <th>Happiness Rank</th>\n      <th>Happiness Score</th>\n      <th>Standard Error</th>\n      <th>Economy (GDP per Capita)</th>\n      <th>Family</th>\n      <th>Health (Life Expectancy)</th>\n      <th>Freedom</th>\n      <th>Trust (Government Corruption)</th>\n      <th>Generosity</th>\n      <th>Dystopia Residual</th>\n    </tr>\n  </thead>\n  <tbody>\n    <tr>\n      <th>0</th>\n      <td>Switzerland</td>\n      <td>Western Europe</td>\n      <td>1</td>\n      <td>7.587</td>\n      <td>0.03411</td>\n      <td>1.39651</td>\n      <td>1.34951</td>\n      <td>0.94143</td>\n      <td>0.66557</td>\n      <td>0.41978</td>\n      <td>0.29678</td>\n      <td>2.51738</td>\n    </tr>\n    <tr>\n      <th>1</th>\n      <td>Iceland</td>\n      <td>Western Europe</td>\n      <td>2</td>\n      <td>7.561</td>\n      <td>0.04884</td>\n      <td>1.30232</td>\n      <td>1.40223</td>\n      <td>0.94784</td>\n      <td>0.62877</td>\n      <td>0.14145</td>\n      <td>0.43630</td>\n      <td>2.70201</td>\n    </tr>\n    <tr>\n      <th>2</th>\n      <td>Denmark</td>\n      <td>Western Europe</td>\n      <td>3</td>\n      <td>7.527</td>\n      <td>0.03328</td>\n      <td>1.32548</td>\n      <td>1.36058</td>\n      <td>0.87464</td>\n      <td>0.64938</td>\n      <td>0.48357</td>\n      <td>0.34139</td>\n      <td>2.49204</td>\n    </tr>\n    <tr>\n      <th>3</th>\n      <td>Norway</td>\n      <td>Western Europe</td>\n      <td>4</td>\n      <td>7.522</td>\n      <td>0.03880</td>\n      <td>1.45900</td>\n      <td>1.33095</td>\n      <td>0.88521</td>\n      <td>0.66973</td>\n      <td>0.36503</td>\n      <td>0.34699</td>\n      <td>2.46531</td>\n    </tr>\n    <tr>\n      <th>4</th>\n      <td>Canada</td>\n      <td>North America</td>\n      <td>5</td>\n      <td>7.427</td>\n      <td>0.03553</td>\n      <td>1.32629</td>\n      <td>1.32261</td>\n      <td>0.90563</td>\n      <td>0.63297</td>\n      <td>0.32957</td>\n      <td>0.45811</td>\n      <td>2.45176</td>\n    </tr>\n    <tr>\n      <th>...</th>\n      <td>...</td>\n      <td>...</td>\n      <td>...</td>\n      <td>...</td>\n      <td>...</td>\n      <td>...</td>\n      <td>...</td>\n      <td>...</td>\n      <td>...</td>\n      <td>...</td>\n      <td>...</td>\n      <td>...</td>\n    </tr>\n    <tr>\n      <th>153</th>\n      <td>Rwanda</td>\n      <td>Sub-Saharan Africa</td>\n      <td>154</td>\n      <td>3.465</td>\n      <td>0.03464</td>\n      <td>0.22208</td>\n      <td>0.77370</td>\n      <td>0.42864</td>\n      <td>0.59201</td>\n      <td>0.55191</td>\n      <td>0.22628</td>\n      <td>0.67042</td>\n    </tr>\n    <tr>\n      <th>154</th>\n      <td>Benin</td>\n      <td>Sub-Saharan Africa</td>\n      <td>155</td>\n      <td>3.340</td>\n      <td>0.03656</td>\n      <td>0.28665</td>\n      <td>0.35386</td>\n      <td>0.31910</td>\n      <td>0.48450</td>\n      <td>0.08010</td>\n      <td>0.18260</td>\n      <td>1.63328</td>\n    </tr>\n    <tr>\n      <th>155</th>\n      <td>Syria</td>\n      <td>Middle East and Northern Africa</td>\n      <td>156</td>\n      <td>3.006</td>\n      <td>0.05015</td>\n      <td>0.66320</td>\n      <td>0.47489</td>\n      <td>0.72193</td>\n      <td>0.15684</td>\n      <td>0.18906</td>\n      <td>0.47179</td>\n      <td>0.32858</td>\n    </tr>\n    <tr>\n      <th>156</th>\n      <td>Burundi</td>\n      <td>Sub-Saharan Africa</td>\n      <td>157</td>\n      <td>2.905</td>\n      <td>0.08658</td>\n      <td>0.01530</td>\n      <td>0.41587</td>\n      <td>0.22396</td>\n      <td>0.11850</td>\n      <td>0.10062</td>\n      <td>0.19727</td>\n      <td>1.83302</td>\n    </tr>\n    <tr>\n      <th>157</th>\n      <td>Togo</td>\n      <td>Sub-Saharan Africa</td>\n      <td>158</td>\n      <td>2.839</td>\n      <td>0.06727</td>\n      <td>0.20868</td>\n      <td>0.13995</td>\n      <td>0.28443</td>\n      <td>0.36453</td>\n      <td>0.10731</td>\n      <td>0.16681</td>\n      <td>1.56726</td>\n    </tr>\n  </tbody>\n</table>\n<p>158 rows × 12 columns</p>\n</div>"
          },
          "metadata": {}
        }
      ]
    },
    {
      "cell_type": "markdown",
      "source": "###### two DataFrames named 'frame1' and 'frame2'. You are concatenating them along the rows using the pd.concat() function, resulting in a new DataFrame called 'merge_frame'. This operation stacks the rows of 'frame2' below the rows of 'frame1'.",
      "metadata": {}
    },
    {
      "cell_type": "code",
      "source": "frames = [frame1,frame2]\nmerge_frame= pd.concat(frames)\nmerge_frame",
      "metadata": {
        "trusted": true
      },
      "execution_count": 78,
      "outputs": [
        {
          "execution_count": 78,
          "output_type": "execute_result",
          "data": {
            "text/plain": "     Unnamed: 0.3  Unnamed: 0.2  Unnamed: 0.1  Unnamed: 0  Person ID Gender  \\\n0             0.0           0.0           0.0         0.0        0.0   Male   \n1             1.0           1.0           1.0         1.0        1.0   Male   \n2             2.0           2.0           2.0         2.0        2.0   Male   \n3             3.0           3.0           3.0         3.0        3.0   Male   \n4             4.0           4.0           4.0         4.0        4.0   Male   \n..            ...           ...           ...         ...        ...    ...   \n153           NaN           NaN           NaN         NaN        NaN    NaN   \n154           NaN           NaN           NaN         NaN        NaN    NaN   \n155           NaN           NaN           NaN         NaN        NaN    NaN   \n156           NaN           NaN           NaN         NaN        NaN    NaN   \n157           NaN           NaN           NaN         NaN        NaN    NaN   \n\n      Age         Occupation  Sleep Duration  Quality of Sleep  ...  \\\n0    27.0  Software Engineer             6.1               6.0  ...   \n1    28.0  Software Engineer             6.2               6.0  ...   \n2    28.0  Software Engineer             6.2               6.0  ...   \n3    28.0  Software Engineer             5.9               4.0  ...   \n4    28.0  Software Engineer             5.9               4.0  ...   \n..    ...                ...             ...               ...  ...   \n153   NaN                NaN             NaN               NaN  ...   \n154   NaN                NaN             NaN               NaN  ...   \n155   NaN                NaN             NaN               NaN  ...   \n156   NaN                NaN             NaN               NaN  ...   \n157   NaN                NaN             NaN               NaN  ...   \n\n     Happiness Rank  Happiness Score Standard Error Economy (GDP per Capita)  \\\n0               NaN              NaN            NaN                      NaN   \n1               NaN              NaN            NaN                      NaN   \n2               NaN              NaN            NaN                      NaN   \n3               NaN              NaN            NaN                      NaN   \n4               NaN              NaN            NaN                      NaN   \n..              ...              ...            ...                      ...   \n153           154.0            3.465        0.03464                  0.22208   \n154           155.0            3.340        0.03656                  0.28665   \n155           156.0            3.006        0.05015                  0.66320   \n156           157.0            2.905        0.08658                  0.01530   \n157           158.0            2.839        0.06727                  0.20868   \n\n      Family  Health (Life Expectancy)  Freedom Trust (Government Corruption)  \\\n0        NaN                       NaN      NaN                           NaN   \n1        NaN                       NaN      NaN                           NaN   \n2        NaN                       NaN      NaN                           NaN   \n3        NaN                       NaN      NaN                           NaN   \n4        NaN                       NaN      NaN                           NaN   \n..       ...                       ...      ...                           ...   \n153  0.77370                   0.42864  0.59201                       0.55191   \n154  0.35386                   0.31910  0.48450                       0.08010   \n155  0.47489                   0.72193  0.15684                       0.18906   \n156  0.41587                   0.22396  0.11850                       0.10062   \n157  0.13995                   0.28443  0.36453                       0.10731   \n\n    Generosity  Dystopia Residual  \n0          NaN                NaN  \n1          NaN                NaN  \n2          NaN                NaN  \n3          NaN                NaN  \n4          NaN                NaN  \n..         ...                ...  \n153    0.22628            0.67042  \n154    0.18260            1.63328  \n155    0.47179            0.32858  \n156    0.19727            1.83302  \n157    0.16681            1.56726  \n\n[533 rows x 29 columns]",
            "text/html": "<div>\n<style scoped>\n    .dataframe tbody tr th:only-of-type {\n        vertical-align: middle;\n    }\n\n    .dataframe tbody tr th {\n        vertical-align: top;\n    }\n\n    .dataframe thead th {\n        text-align: right;\n    }\n</style>\n<table border=\"1\" class=\"dataframe\">\n  <thead>\n    <tr style=\"text-align: right;\">\n      <th></th>\n      <th>Unnamed: 0.3</th>\n      <th>Unnamed: 0.2</th>\n      <th>Unnamed: 0.1</th>\n      <th>Unnamed: 0</th>\n      <th>Person ID</th>\n      <th>Gender</th>\n      <th>Age</th>\n      <th>Occupation</th>\n      <th>Sleep Duration</th>\n      <th>Quality of Sleep</th>\n      <th>...</th>\n      <th>Happiness Rank</th>\n      <th>Happiness Score</th>\n      <th>Standard Error</th>\n      <th>Economy (GDP per Capita)</th>\n      <th>Family</th>\n      <th>Health (Life Expectancy)</th>\n      <th>Freedom</th>\n      <th>Trust (Government Corruption)</th>\n      <th>Generosity</th>\n      <th>Dystopia Residual</th>\n    </tr>\n  </thead>\n  <tbody>\n    <tr>\n      <th>0</th>\n      <td>0.0</td>\n      <td>0.0</td>\n      <td>0.0</td>\n      <td>0.0</td>\n      <td>0.0</td>\n      <td>Male</td>\n      <td>27.0</td>\n      <td>Software Engineer</td>\n      <td>6.1</td>\n      <td>6.0</td>\n      <td>...</td>\n      <td>NaN</td>\n      <td>NaN</td>\n      <td>NaN</td>\n      <td>NaN</td>\n      <td>NaN</td>\n      <td>NaN</td>\n      <td>NaN</td>\n      <td>NaN</td>\n      <td>NaN</td>\n      <td>NaN</td>\n    </tr>\n    <tr>\n      <th>1</th>\n      <td>1.0</td>\n      <td>1.0</td>\n      <td>1.0</td>\n      <td>1.0</td>\n      <td>1.0</td>\n      <td>Male</td>\n      <td>28.0</td>\n      <td>Software Engineer</td>\n      <td>6.2</td>\n      <td>6.0</td>\n      <td>...</td>\n      <td>NaN</td>\n      <td>NaN</td>\n      <td>NaN</td>\n      <td>NaN</td>\n      <td>NaN</td>\n      <td>NaN</td>\n      <td>NaN</td>\n      <td>NaN</td>\n      <td>NaN</td>\n      <td>NaN</td>\n    </tr>\n    <tr>\n      <th>2</th>\n      <td>2.0</td>\n      <td>2.0</td>\n      <td>2.0</td>\n      <td>2.0</td>\n      <td>2.0</td>\n      <td>Male</td>\n      <td>28.0</td>\n      <td>Software Engineer</td>\n      <td>6.2</td>\n      <td>6.0</td>\n      <td>...</td>\n      <td>NaN</td>\n      <td>NaN</td>\n      <td>NaN</td>\n      <td>NaN</td>\n      <td>NaN</td>\n      <td>NaN</td>\n      <td>NaN</td>\n      <td>NaN</td>\n      <td>NaN</td>\n      <td>NaN</td>\n    </tr>\n    <tr>\n      <th>3</th>\n      <td>3.0</td>\n      <td>3.0</td>\n      <td>3.0</td>\n      <td>3.0</td>\n      <td>3.0</td>\n      <td>Male</td>\n      <td>28.0</td>\n      <td>Software Engineer</td>\n      <td>5.9</td>\n      <td>4.0</td>\n      <td>...</td>\n      <td>NaN</td>\n      <td>NaN</td>\n      <td>NaN</td>\n      <td>NaN</td>\n      <td>NaN</td>\n      <td>NaN</td>\n      <td>NaN</td>\n      <td>NaN</td>\n      <td>NaN</td>\n      <td>NaN</td>\n    </tr>\n    <tr>\n      <th>4</th>\n      <td>4.0</td>\n      <td>4.0</td>\n      <td>4.0</td>\n      <td>4.0</td>\n      <td>4.0</td>\n      <td>Male</td>\n      <td>28.0</td>\n      <td>Software Engineer</td>\n      <td>5.9</td>\n      <td>4.0</td>\n      <td>...</td>\n      <td>NaN</td>\n      <td>NaN</td>\n      <td>NaN</td>\n      <td>NaN</td>\n      <td>NaN</td>\n      <td>NaN</td>\n      <td>NaN</td>\n      <td>NaN</td>\n      <td>NaN</td>\n      <td>NaN</td>\n    </tr>\n    <tr>\n      <th>...</th>\n      <td>...</td>\n      <td>...</td>\n      <td>...</td>\n      <td>...</td>\n      <td>...</td>\n      <td>...</td>\n      <td>...</td>\n      <td>...</td>\n      <td>...</td>\n      <td>...</td>\n      <td>...</td>\n      <td>...</td>\n      <td>...</td>\n      <td>...</td>\n      <td>...</td>\n      <td>...</td>\n      <td>...</td>\n      <td>...</td>\n      <td>...</td>\n      <td>...</td>\n      <td>...</td>\n    </tr>\n    <tr>\n      <th>153</th>\n      <td>NaN</td>\n      <td>NaN</td>\n      <td>NaN</td>\n      <td>NaN</td>\n      <td>NaN</td>\n      <td>NaN</td>\n      <td>NaN</td>\n      <td>NaN</td>\n      <td>NaN</td>\n      <td>NaN</td>\n      <td>...</td>\n      <td>154.0</td>\n      <td>3.465</td>\n      <td>0.03464</td>\n      <td>0.22208</td>\n      <td>0.77370</td>\n      <td>0.42864</td>\n      <td>0.59201</td>\n      <td>0.55191</td>\n      <td>0.22628</td>\n      <td>0.67042</td>\n    </tr>\n    <tr>\n      <th>154</th>\n      <td>NaN</td>\n      <td>NaN</td>\n      <td>NaN</td>\n      <td>NaN</td>\n      <td>NaN</td>\n      <td>NaN</td>\n      <td>NaN</td>\n      <td>NaN</td>\n      <td>NaN</td>\n      <td>NaN</td>\n      <td>...</td>\n      <td>155.0</td>\n      <td>3.340</td>\n      <td>0.03656</td>\n      <td>0.28665</td>\n      <td>0.35386</td>\n      <td>0.31910</td>\n      <td>0.48450</td>\n      <td>0.08010</td>\n      <td>0.18260</td>\n      <td>1.63328</td>\n    </tr>\n    <tr>\n      <th>155</th>\n      <td>NaN</td>\n      <td>NaN</td>\n      <td>NaN</td>\n      <td>NaN</td>\n      <td>NaN</td>\n      <td>NaN</td>\n      <td>NaN</td>\n      <td>NaN</td>\n      <td>NaN</td>\n      <td>NaN</td>\n      <td>...</td>\n      <td>156.0</td>\n      <td>3.006</td>\n      <td>0.05015</td>\n      <td>0.66320</td>\n      <td>0.47489</td>\n      <td>0.72193</td>\n      <td>0.15684</td>\n      <td>0.18906</td>\n      <td>0.47179</td>\n      <td>0.32858</td>\n    </tr>\n    <tr>\n      <th>156</th>\n      <td>NaN</td>\n      <td>NaN</td>\n      <td>NaN</td>\n      <td>NaN</td>\n      <td>NaN</td>\n      <td>NaN</td>\n      <td>NaN</td>\n      <td>NaN</td>\n      <td>NaN</td>\n      <td>NaN</td>\n      <td>...</td>\n      <td>157.0</td>\n      <td>2.905</td>\n      <td>0.08658</td>\n      <td>0.01530</td>\n      <td>0.41587</td>\n      <td>0.22396</td>\n      <td>0.11850</td>\n      <td>0.10062</td>\n      <td>0.19727</td>\n      <td>1.83302</td>\n    </tr>\n    <tr>\n      <th>157</th>\n      <td>NaN</td>\n      <td>NaN</td>\n      <td>NaN</td>\n      <td>NaN</td>\n      <td>NaN</td>\n      <td>NaN</td>\n      <td>NaN</td>\n      <td>NaN</td>\n      <td>NaN</td>\n      <td>NaN</td>\n      <td>...</td>\n      <td>158.0</td>\n      <td>2.839</td>\n      <td>0.06727</td>\n      <td>0.20868</td>\n      <td>0.13995</td>\n      <td>0.28443</td>\n      <td>0.36453</td>\n      <td>0.10731</td>\n      <td>0.16681</td>\n      <td>1.56726</td>\n    </tr>\n  </tbody>\n</table>\n<p>533 rows × 29 columns</p>\n</div>"
          },
          "metadata": {}
        }
      ]
    },
    {
      "cell_type": "markdown",
      "source": "##### aggregating function",
      "metadata": {}
    },
    {
      "cell_type": "markdown",
      "source": "###### calculates the sum of the values in the 'Sleep Duration' column of the DataFrame 'frame'.",
      "metadata": {}
    },
    {
      "cell_type": "code",
      "source": "frame['Sleep Duration'].sum()",
      "metadata": {
        "trusted": true
      },
      "execution_count": 79,
      "outputs": [
        {
          "execution_count": 79,
          "output_type": "execute_result",
          "data": {
            "text/plain": "768.4000000000001"
          },
          "metadata": {}
        }
      ]
    },
    {
      "cell_type": "markdown",
      "source": "###### 'frame' is a DataFrame with various columns containing different types of data, calling frame.nunique() will give you a Series where the index represents the column names, and the values represent the number of unique values in each respective column.",
      "metadata": {}
    },
    {
      "cell_type": "code",
      "source": "frame.nunique()",
      "metadata": {
        "trusted": true
      },
      "execution_count": 80,
      "outputs": [
        {
          "execution_count": 80,
          "output_type": "execute_result",
          "data": {
            "text/plain": "Unnamed: 0.2               116\nUnnamed: 0.1               116\nUnnamed: 0                 116\nPerson ID                  116\nGender                       1\nAge                         20\nOccupation                   1\nSleep Duration              16\nQuality of Sleep             5\nPhysical Activity Level     11\nStress Level                 5\nBMI Category                 4\nHeart Rate                  13\nDaily Steps                 13\nSleep Disorder               0\ndtype: int64"
          },
          "metadata": {}
        }
      ]
    },
    {
      "cell_type": "code",
      "source": "frame1.describe()",
      "metadata": {
        "trusted": true
      },
      "execution_count": 81,
      "outputs": [
        {
          "execution_count": 81,
          "output_type": "execute_result",
          "data": {
            "text/plain": "       Unnamed: 0.3  Unnamed: 0.2  Unnamed: 0.1  Unnamed: 0   Person ID  \\\ncount    375.000000    375.000000    375.000000  375.000000  375.000000   \nmean     186.624000    186.994667    186.994667  186.997333  186.922667   \nstd      107.990814    108.388240    108.388240  108.392816  108.273924   \nmin        0.000000      0.000000      0.000000    0.000000    0.000000   \n25%       93.500000     93.500000     93.500000   93.500000   93.500000   \n50%      187.000000    187.000000    187.000000  187.000000  187.000000   \n75%      279.500000    280.500000    280.500000  280.500000  280.500000   \nmax      373.000000    373.000000    373.000000  373.000000  373.000000   \n\n              Age  Sleep Duration  Quality of Sleep  Physical Activity Level  \\\ncount  375.000000      375.000000        375.000000               375.000000   \nmean    42.229333        7.134667          7.317333                59.213333   \nstd      8.704949        0.796163          1.198526                20.818989   \nmin     27.000000        5.800000          4.000000                30.000000   \n25%     35.500000        6.400000          6.000000                45.000000   \n50%     43.000000        7.200000          7.000000                60.000000   \n75%     50.000000        7.800000          8.000000                75.000000   \nmax     59.000000        8.500000          9.000000                90.000000   \n\n       Stress Level  Heart Rate   Daily Steps  \ncount    375.000000  375.000000    375.000000  \nmean       5.378667   70.160000   6817.333333  \nstd        1.776427    4.131657   1615.778925  \nmin        3.000000   65.000000   3000.000000  \n25%        4.000000   68.000000   5600.000000  \n50%        5.000000   70.000000   7000.000000  \n75%        7.000000   72.000000   8000.000000  \nmax        8.000000   86.000000  10000.000000  ",
            "text/html": "<div>\n<style scoped>\n    .dataframe tbody tr th:only-of-type {\n        vertical-align: middle;\n    }\n\n    .dataframe tbody tr th {\n        vertical-align: top;\n    }\n\n    .dataframe thead th {\n        text-align: right;\n    }\n</style>\n<table border=\"1\" class=\"dataframe\">\n  <thead>\n    <tr style=\"text-align: right;\">\n      <th></th>\n      <th>Unnamed: 0.3</th>\n      <th>Unnamed: 0.2</th>\n      <th>Unnamed: 0.1</th>\n      <th>Unnamed: 0</th>\n      <th>Person ID</th>\n      <th>Age</th>\n      <th>Sleep Duration</th>\n      <th>Quality of Sleep</th>\n      <th>Physical Activity Level</th>\n      <th>Stress Level</th>\n      <th>Heart Rate</th>\n      <th>Daily Steps</th>\n    </tr>\n  </thead>\n  <tbody>\n    <tr>\n      <th>count</th>\n      <td>375.000000</td>\n      <td>375.000000</td>\n      <td>375.000000</td>\n      <td>375.000000</td>\n      <td>375.000000</td>\n      <td>375.000000</td>\n      <td>375.000000</td>\n      <td>375.000000</td>\n      <td>375.000000</td>\n      <td>375.000000</td>\n      <td>375.000000</td>\n      <td>375.000000</td>\n    </tr>\n    <tr>\n      <th>mean</th>\n      <td>186.624000</td>\n      <td>186.994667</td>\n      <td>186.994667</td>\n      <td>186.997333</td>\n      <td>186.922667</td>\n      <td>42.229333</td>\n      <td>7.134667</td>\n      <td>7.317333</td>\n      <td>59.213333</td>\n      <td>5.378667</td>\n      <td>70.160000</td>\n      <td>6817.333333</td>\n    </tr>\n    <tr>\n      <th>std</th>\n      <td>107.990814</td>\n      <td>108.388240</td>\n      <td>108.388240</td>\n      <td>108.392816</td>\n      <td>108.273924</td>\n      <td>8.704949</td>\n      <td>0.796163</td>\n      <td>1.198526</td>\n      <td>20.818989</td>\n      <td>1.776427</td>\n      <td>4.131657</td>\n      <td>1615.778925</td>\n    </tr>\n    <tr>\n      <th>min</th>\n      <td>0.000000</td>\n      <td>0.000000</td>\n      <td>0.000000</td>\n      <td>0.000000</td>\n      <td>0.000000</td>\n      <td>27.000000</td>\n      <td>5.800000</td>\n      <td>4.000000</td>\n      <td>30.000000</td>\n      <td>3.000000</td>\n      <td>65.000000</td>\n      <td>3000.000000</td>\n    </tr>\n    <tr>\n      <th>25%</th>\n      <td>93.500000</td>\n      <td>93.500000</td>\n      <td>93.500000</td>\n      <td>93.500000</td>\n      <td>93.500000</td>\n      <td>35.500000</td>\n      <td>6.400000</td>\n      <td>6.000000</td>\n      <td>45.000000</td>\n      <td>4.000000</td>\n      <td>68.000000</td>\n      <td>5600.000000</td>\n    </tr>\n    <tr>\n      <th>50%</th>\n      <td>187.000000</td>\n      <td>187.000000</td>\n      <td>187.000000</td>\n      <td>187.000000</td>\n      <td>187.000000</td>\n      <td>43.000000</td>\n      <td>7.200000</td>\n      <td>7.000000</td>\n      <td>60.000000</td>\n      <td>5.000000</td>\n      <td>70.000000</td>\n      <td>7000.000000</td>\n    </tr>\n    <tr>\n      <th>75%</th>\n      <td>279.500000</td>\n      <td>280.500000</td>\n      <td>280.500000</td>\n      <td>280.500000</td>\n      <td>280.500000</td>\n      <td>50.000000</td>\n      <td>7.800000</td>\n      <td>8.000000</td>\n      <td>75.000000</td>\n      <td>7.000000</td>\n      <td>72.000000</td>\n      <td>8000.000000</td>\n    </tr>\n    <tr>\n      <th>max</th>\n      <td>373.000000</td>\n      <td>373.000000</td>\n      <td>373.000000</td>\n      <td>373.000000</td>\n      <td>373.000000</td>\n      <td>59.000000</td>\n      <td>8.500000</td>\n      <td>9.000000</td>\n      <td>90.000000</td>\n      <td>8.000000</td>\n      <td>86.000000</td>\n      <td>10000.000000</td>\n    </tr>\n  </tbody>\n</table>\n</div>"
          },
          "metadata": {}
        }
      ]
    },
    {
      "cell_type": "markdown",
      "source": "###### mean() calculates the mean (average) of the values in the 'Stress Level' column of the DataFrame 'frame1'.",
      "metadata": {}
    },
    {
      "cell_type": "code",
      "source": "frame1['Stress Level'].mean()",
      "metadata": {
        "trusted": true
      },
      "execution_count": 82,
      "outputs": [
        {
          "execution_count": 82,
          "output_type": "execute_result",
          "data": {
            "text/plain": "5.378666666666667"
          },
          "metadata": {}
        }
      ]
    },
    {
      "cell_type": "markdown",
      "source": "###### std() calculates the standard deviation of the values in the 'Stress Level' column of the DataFrame 'frame1'.",
      "metadata": {}
    },
    {
      "cell_type": "code",
      "source": "frame1['Stress Level'].std()",
      "metadata": {
        "trusted": true
      },
      "execution_count": 83,
      "outputs": [
        {
          "execution_count": 83,
          "output_type": "execute_result",
          "data": {
            "text/plain": "1.7764271458842835"
          },
          "metadata": {}
        }
      ]
    },
    {
      "cell_type": "markdown",
      "source": "###### max() retrieves the maximum value from the 'Age' column in the DataFrame 'frame1'. It calculates and returns the highest age value present in that particular column.",
      "metadata": {}
    },
    {
      "cell_type": "code",
      "source": "frame1['Age'].max()",
      "metadata": {
        "trusted": true
      },
      "execution_count": 84,
      "outputs": [
        {
          "execution_count": 84,
          "output_type": "execute_result",
          "data": {
            "text/plain": "59"
          },
          "metadata": {}
        }
      ]
    },
    {
      "cell_type": "markdown",
      "source": "###### min() retrieves the minimum value from the 'Age' column in the DataFrame 'frame1'. It calculates and returns the lowest age value present in that particular column.",
      "metadata": {}
    },
    {
      "cell_type": "code",
      "source": "frame1['Age'].min()",
      "metadata": {
        "trusted": true
      },
      "execution_count": 85,
      "outputs": [
        {
          "execution_count": 85,
          "output_type": "execute_result",
          "data": {
            "text/plain": "27"
          },
          "metadata": {}
        }
      ]
    }
  ]
}