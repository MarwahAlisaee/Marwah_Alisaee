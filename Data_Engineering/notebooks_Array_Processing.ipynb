{
  "metadata": {
    "language_info": {
      "codemirror_mode": {
        "name": "python",
        "version": 3
      },
      "file_extension": ".py",
      "mimetype": "text/x-python",
      "name": "python",
      "nbconvert_exporter": "python",
      "pygments_lexer": "ipython3",
      "version": "3.8"
    },
    "kernelspec": {
      "name": "python",
      "display_name": "Python (Pyodide)",
      "language": "python"
    }
  },
  "nbformat_minor": 4,
  "nbformat": 4,
  "cells": [
    {
      "cell_type": "code",
      "source": "#1. Create a NumPy array with 10 random integers between 0 and 100\n\nimport numpy as np\nrandom_integers = np.random.randint(0, 101, 10)\nprint(random_integers)\n",
      "metadata": {
        "trusted": true
      },
      "execution_count": 2,
      "outputs": [
        {
          "name": "stdout",
          "text": "[65 85 79 82 75 79 38 53 57 24]\n",
          "output_type": "stream"
        }
      ]
    },
    {
      "cell_type": "code",
      "source": "# 2. Use the np.where() function to create a new array with the same shape as the previous one,\n# where values less than 50 are replaced with -1 and values greater than or equal to 50 are\n# replaced with 1\n\nimport numpy as np\na = np.array([20, 30, 40, 50, 60, 70, 80, 90])\nnew_array = np.where(a < 50, -1, 1)\n\nprint(new_array)\n",
      "metadata": {
        "trusted": true
      },
      "execution_count": 4,
      "outputs": [
        {
          "name": "stdout",
          "text": "[-1 -1 -1  1  1  1  1  1]\n",
          "output_type": "stream"
        }
      ]
    },
    {
      "cell_type": "code",
      "source": "#3. Calculate the mean, median, and standard deviation of the original array.\nnp.mean(random_integers)",
      "metadata": {
        "trusted": true
      },
      "execution_count": 5,
      "outputs": [
        {
          "execution_count": 5,
          "output_type": "execute_result",
          "data": {
            "text/plain": "63.7"
          },
          "metadata": {}
        }
      ]
    },
    {
      "cell_type": "code",
      "source": "np.median(random_integers)",
      "metadata": {
        "trusted": true
      },
      "execution_count": 7,
      "outputs": [
        {
          "execution_count": 7,
          "output_type": "execute_result",
          "data": {
            "text/plain": "70.0"
          },
          "metadata": {}
        }
      ]
    },
    {
      "cell_type": "code",
      "source": "np.std(random_integers)",
      "metadata": {
        "trusted": true
      },
      "execution_count": 8,
      "outputs": [
        {
          "execution_count": 8,
          "output_type": "execute_result",
          "data": {
            "text/plain": "19.44762196259481"
          },
          "metadata": {}
        }
      ]
    },
    {
      "cell_type": "code",
      "source": "# Create a boolean array that is True where the values in the original array are even, and False\n# otherwise.\narr = np.array([1, 2, 3, 4, 5, 6, 7, 8, 9, 10])\nboolean_array = arr % 2 == 0\n\nprint(boolean_array)\n\n",
      "metadata": {
        "trusted": true
      },
      "execution_count": 9,
      "outputs": [
        {
          "name": "stdout",
          "text": "[False  True False  True False  True False  True False  True]\n",
          "output_type": "stream"
        }
      ]
    },
    {
      "cell_type": "code",
      "source": "#5. Sort the original array in ascending order\narr = np.array([1, 2, 3, 4, 5, 6, 7, 8, 9, 10])\narr.sort()\n\nprint(arr)\n",
      "metadata": {
        "trusted": true
      },
      "execution_count": 11,
      "outputs": [
        {
          "name": "stdout",
          "text": "[ 1  2  3  4  5  6  7  8  9 10]\n",
          "output_type": "stream"
        }
      ]
    },
    {
      "cell_type": "code",
      "source": "#6. Find the unique values in the original array.\narr = np.array([1, 2, 3, 4, 5, 6, 7, 8, 9, 10])\nprint(np.unique(arr))",
      "metadata": {
        "trusted": true
      },
      "execution_count": 14,
      "outputs": [
        {
          "name": "stdout",
          "text": "[ 1  2  3  4  5  6  7  8  9 10]\n",
          "output_type": "stream"
        }
      ]
    },
    {
      "cell_type": "code",
      "source": "#7. Use the np.in1d() function to create a boolean array indicating which elements of the original\n# array are also present in a new array with 5 random integers between 0 and 100.\n\narr = np.array([10, 20, 30, 40, 50, 60, 70, 80, 90])\nrandom_array = np.random.randint(0, 100, 5)\nboolean_array = np.in1d(arr, random_array)\nprint(\"Original Array:\", arr)\nprint(\"New Random Array:\", random_array)\nprint(\"Boolean Array:\", boolean_array)\n",
      "metadata": {
        "trusted": true
      },
      "execution_count": 16,
      "outputs": [
        {
          "name": "stdout",
          "text": "Original Array: [10 20 30 40 50 60 70 80 90]\nNew Random Array: [75  1 88 94 57]\nBoolean Array: [False False False False False False False False False]\n",
          "output_type": "stream"
        }
      ]
    },
    {
      "cell_type": "code",
      "source": "#8. Save the original array to a text file named \"my_array.txt\" using the np.savetxt() function.\n\narr = np.array([[1, 2, 3], [4, 5, 6], [7, 8, 9]])\n\nnp.savetxt(\"my_array.txt\", arr)\n",
      "metadata": {
        "trusted": true
      },
      "execution_count": 18,
      "outputs": []
    },
    {
      "cell_type": "code",
      "source": "",
      "metadata": {},
      "execution_count": null,
      "outputs": []
    }
  ]
}