{
  "metadata": {
    "kernelspec": {
      "name": "python",
      "display_name": "Python (Pyodide)",
      "language": "python"
    },
    "language_info": {
      "codemirror_mode": {
        "name": "python",
        "version": 3
      },
      "file_extension": ".py",
      "mimetype": "text/x-python",
      "name": "python",
      "nbconvert_exporter": "python",
      "pygments_lexer": "ipython3",
      "version": "3.8"
    }
  },
  "nbformat_minor": 5,
  "nbformat": 4,
  "cells": [
    {
      "cell_type": "code",
      "source": "import numpy as np\nfrom sklearn.linear_model import LinearRegression\n\n# Sample data\nX = np.array([140, 150, 160, 170, 180]).reshape(-1, 1)  # Height\ny = np.array([7, 8, 9, 10, 11])                        # Shoe size\n\n# Create and fit the linear regression model\nmodel = LinearRegression()\nmodel.fit(X, y)\n\n# Predict shoe size for a given height\nnew_height = np.array([[155], [175]])  # New heights for prediction\npredicted_shoe_sizes = model.predict(new_height)\n\nprint(predicted_shoe_sizes)\n",
      "metadata": {
        "trusted": true
      },
      "execution_count": 6,
      "outputs": [
        {
          "name": "stdout",
          "text": "[ 8.5 10.5]\n",
          "output_type": "stream"
        }
      ],
      "id": "574d2cbd-18fa-403c-9dcf-1e938bfcd520"
    },
    {
      "cell_type": "code",
      "source": "import numpy as np",
      "metadata": {
        "trusted": true
      },
      "execution_count": 1,
      "outputs": [],
      "id": "2259f76e-053f-44f3-92d5-a9819ddfd9fb"
    },
    {
      "cell_type": "code",
      "source": " l1=[1,2,3,4] ",
      "metadata": {
        "trusted": true
      },
      "execution_count": 2,
      "outputs": [],
      "id": "b5a6f412-8c1f-4ef6-987f-1b84a74e5cea"
    },
    {
      "cell_type": "code",
      "source": "l1",
      "metadata": {
        "trusted": true
      },
      "execution_count": 3,
      "outputs": [
        {
          "execution_count": 3,
          "output_type": "execute_result",
          "data": {
            "text/plain": "[1, 2, 3, 4]"
          },
          "metadata": {}
        }
      ],
      "id": "71518f22-c5c6-4211-810a-da5dc2e47689"
    },
    {
      "cell_type": "code",
      "source": "arry1=np.array(l1) ",
      "metadata": {
        "trusted": true
      },
      "execution_count": 5,
      "outputs": [],
      "id": "a4623918-fb05-4d66-9836-0dcc61b97825"
    },
    {
      "cell_type": "code",
      "source": "arry1",
      "metadata": {
        "trusted": true
      },
      "execution_count": 6,
      "outputs": [
        {
          "execution_count": 6,
          "output_type": "execute_result",
          "data": {
            "text/plain": "array([1, 2, 3, 4])"
          },
          "metadata": {}
        }
      ],
      "id": "e663ca7b-a017-4c26-9d5f-5b2ca95335d3"
    },
    {
      "cell_type": "code",
      "source": "l2=[11,22,33,44] #another list\nl2",
      "metadata": {
        "trusted": true
      },
      "execution_count": 7,
      "outputs": [
        {
          "execution_count": 7,
          "output_type": "execute_result",
          "data": {
            "text/plain": "[11, 22, 33, 44]"
          },
          "metadata": {}
        }
      ],
      "id": "c21f0d17-44d5-48f9-a99d-10b686b6a3fc"
    },
    {
      "cell_type": "code",
      "source": "l=[l1,l2] #combining two lists\nl ",
      "metadata": {
        "trusted": true
      },
      "execution_count": 8,
      "outputs": [
        {
          "execution_count": 8,
          "output_type": "execute_result",
          "data": {
            "text/plain": "[[1, 2, 3, 4], [11, 22, 33, 44]]"
          },
          "metadata": {}
        }
      ],
      "id": "1f57fd86-2849-4fd2-852f-6463802b9623"
    },
    {
      "cell_type": "code",
      "source": "array_2D=np.array(l) #2D array",
      "metadata": {
        "trusted": true
      },
      "execution_count": 9,
      "outputs": [],
      "id": "72516f79-7ae4-4574-98ba-6244fb603c18"
    },
    {
      "cell_type": "code",
      "source": "array_2D",
      "metadata": {
        "trusted": true
      },
      "execution_count": 10,
      "outputs": [
        {
          "execution_count": 10,
          "output_type": "execute_result",
          "data": {
            "text/plain": "array([[ 1,  2,  3,  4],\n       [11, 22, 33, 44]])"
          },
          "metadata": {}
        }
      ],
      "id": "78059e96-95dc-47ca-8556-6c0bf1b10968"
    },
    {
      "cell_type": "code",
      "source": "array_2D.shape ",
      "metadata": {
        "trusted": true
      },
      "execution_count": 11,
      "outputs": [
        {
          "execution_count": 11,
          "output_type": "execute_result",
          "data": {
            "text/plain": "(2, 4)"
          },
          "metadata": {}
        }
      ],
      "id": "30760873-50ce-45fa-a764-6b658a69c394"
    },
    {
      "cell_type": "code",
      "source": "array_2D.dtype ",
      "metadata": {
        "trusted": true
      },
      "execution_count": 12,
      "outputs": [
        {
          "execution_count": 12,
          "output_type": "execute_result",
          "data": {
            "text/plain": "dtype('int32')"
          },
          "metadata": {}
        }
      ],
      "id": "d6be6082-186f-4cfa-8c7b-861a0de4955d"
    },
    {
      "cell_type": "code",
      "source": "np.zeros(3,'int') ",
      "metadata": {
        "trusted": true
      },
      "execution_count": 13,
      "outputs": [
        {
          "execution_count": 13,
          "output_type": "execute_result",
          "data": {
            "text/plain": "array([0, 0, 0])"
          },
          "metadata": {}
        }
      ],
      "id": "7c1b94e4-46f6-4753-8761-9e91e385fbf4"
    },
    {
      "cell_type": "code",
      "source": "np.ones(3) ",
      "metadata": {
        "trusted": true
      },
      "execution_count": 14,
      "outputs": [
        {
          "execution_count": 14,
          "output_type": "execute_result",
          "data": {
            "text/plain": "array([1., 1., 1.])"
          },
          "metadata": {}
        }
      ],
      "id": "e6fc383b-812d-4576-919b-0045632f664e"
    },
    {
      "cell_type": "code",
      "source": "np.ones([3,3])",
      "metadata": {
        "trusted": true
      },
      "execution_count": 15,
      "outputs": [
        {
          "execution_count": 15,
          "output_type": "execute_result",
          "data": {
            "text/plain": "array([[1., 1., 1.],\n       [1., 1., 1.],\n       [1., 1., 1.]])"
          },
          "metadata": {}
        }
      ],
      "id": "3e360e3d-256a-446e-8e56-da3db0658404"
    },
    {
      "cell_type": "code",
      "source": "np.zeros(3)\nnp.empty(3)",
      "metadata": {
        "trusted": true
      },
      "execution_count": 16,
      "outputs": [
        {
          "execution_count": 16,
          "output_type": "execute_result",
          "data": {
            "text/plain": "array([0., 0., 0.])"
          },
          "metadata": {}
        }
      ],
      "id": "038d2c41-749e-4097-84ec-ad2a4da335b1"
    },
    {
      "cell_type": "code",
      "source": "np.eye(4)",
      "metadata": {
        "trusted": true
      },
      "execution_count": 17,
      "outputs": [
        {
          "execution_count": 17,
          "output_type": "execute_result",
          "data": {
            "text/plain": "array([[1., 0., 0., 0.],\n       [0., 1., 0., 0.],\n       [0., 0., 1., 0.],\n       [0., 0., 0., 1.]])"
          },
          "metadata": {}
        }
      ],
      "id": "35d045e0-6290-44fd-a5e2-e5e10d8cf340"
    },
    {
      "cell_type": "code",
      "source": "np.arange(10)",
      "metadata": {
        "trusted": true
      },
      "execution_count": 18,
      "outputs": [
        {
          "execution_count": 18,
          "output_type": "execute_result",
          "data": {
            "text/plain": "array([0, 1, 2, 3, 4, 5, 6, 7, 8, 9])"
          },
          "metadata": {}
        }
      ],
      "id": "a4e64ee5-4cd6-49cf-84e1-adf809876573"
    },
    {
      "cell_type": "code",
      "source": "np.arange(0,50,2)",
      "metadata": {
        "trusted": true
      },
      "execution_count": 20,
      "outputs": [
        {
          "execution_count": 20,
          "output_type": "execute_result",
          "data": {
            "text/plain": "array([ 0,  2,  4,  6,  8, 10, 12, 14, 16, 18, 20, 22, 24, 26, 28, 30, 32,\n       34, 36, 38, 40, 42, 44, 46, 48])"
          },
          "metadata": {}
        }
      ],
      "id": "fd086a8d-2558-4384-896c-2aaefd68ae48"
    },
    {
      "cell_type": "code",
      "source": "#qustions1:\n\nl2=[0,1,2,3,4]\nl2",
      "metadata": {
        "trusted": true
      },
      "execution_count": 33,
      "outputs": [
        {
          "execution_count": 33,
          "output_type": "execute_result",
          "data": {
            "text/plain": "[0, 1, 2, 3, 4]"
          },
          "metadata": {}
        }
      ],
      "id": "033e9872-d741-4a2d-aa4f-b9244bfcd774"
    },
    {
      "cell_type": "code",
      "source": "l3=[5,6,7,8,9]\nl3",
      "metadata": {
        "trusted": true
      },
      "execution_count": 34,
      "outputs": [
        {
          "execution_count": 34,
          "output_type": "execute_result",
          "data": {
            "text/plain": "[5, 6, 7, 8, 9]"
          },
          "metadata": {}
        }
      ],
      "id": "062a1ad3-5db8-4147-99a9-b30db35410b5"
    },
    {
      "cell_type": "code",
      "source": "L=[l2,l3]\nL",
      "metadata": {
        "trusted": true
      },
      "execution_count": 35,
      "outputs": [
        {
          "execution_count": 35,
          "output_type": "execute_result",
          "data": {
            "text/plain": "[[0, 1, 2, 3, 4], [5, 6, 7, 8, 9]]"
          },
          "metadata": {}
        }
      ],
      "id": "ca07d96b-1050-4670-a30a-6d495c2ab1fc"
    },
    {
      "cell_type": "code",
      "source": "array_2D=np.array(L) ",
      "metadata": {
        "trusted": true
      },
      "execution_count": 36,
      "outputs": [],
      "id": "995ab309-c7f1-4ca3-b1b0-700a964bd3ba"
    },
    {
      "cell_type": "code",
      "source": "array_2D",
      "metadata": {
        "trusted": true
      },
      "execution_count": 37,
      "outputs": [
        {
          "execution_count": 37,
          "output_type": "execute_result",
          "data": {
            "text/plain": "array([[0, 1, 2, 3, 4],\n       [5, 6, 7, 8, 9]])"
          },
          "metadata": {}
        }
      ],
      "id": "6453f8bc-3adc-4ba7-80e3-e072db8d10ec"
    },
    {
      "cell_type": "code",
      "source": "array_2D.shape ",
      "metadata": {
        "trusted": true
      },
      "execution_count": 38,
      "outputs": [
        {
          "execution_count": 38,
          "output_type": "execute_result",
          "data": {
            "text/plain": "(2, 5)"
          },
          "metadata": {}
        }
      ],
      "id": "43e7ed30-163a-4181-a15f-fb9fed9b747e"
    },
    {
      "cell_type": "code",
      "source": "#Qustion2:\nnp.zeros([3,3])",
      "metadata": {
        "trusted": true
      },
      "execution_count": 39,
      "outputs": [
        {
          "execution_count": 39,
          "output_type": "execute_result",
          "data": {
            "text/plain": "array([[0., 0., 0.],\n       [0., 0., 0.],\n       [0., 0., 0.]])"
          },
          "metadata": {}
        }
      ],
      "id": "12ba99a4-660d-49ec-bef0-0a7558ac7dbd"
    },
    {
      "cell_type": "code",
      "source": "#Qustion_3:\nnp.ones([2,3,4])",
      "metadata": {
        "trusted": true
      },
      "execution_count": 40,
      "outputs": [
        {
          "execution_count": 40,
          "output_type": "execute_result",
          "data": {
            "text/plain": "array([[[1., 1., 1., 1.],\n        [1., 1., 1., 1.],\n        [1., 1., 1., 1.]],\n\n       [[1., 1., 1., 1.],\n        [1., 1., 1., 1.],\n        [1., 1., 1., 1.]]])"
          },
          "metadata": {}
        }
      ],
      "id": "d1885288-3fba-4bef-98ec-a2be44a1dd16"
    },
    {
      "cell_type": "code",
      "source": "#Qustion_4:\nnp.random.randint(0,100,10)",
      "metadata": {
        "trusted": true
      },
      "execution_count": 48,
      "outputs": [
        {
          "execution_count": 48,
          "output_type": "execute_result",
          "data": {
            "text/plain": "array([44, 52, 67,  4, 26, 64, 44, 88, 41, 61])"
          },
          "metadata": {}
        }
      ],
      "id": "21716f47-261b-4295-8483-f558624bfc46"
    },
    {
      "cell_type": "code",
      "source": "np.random.rand(0,1,10)",
      "metadata": {
        "trusted": true
      },
      "execution_count": 50,
      "outputs": [
        {
          "execution_count": 50,
          "output_type": "execute_result",
          "data": {
            "text/plain": "array([], shape=(0, 1, 10), dtype=float64)"
          },
          "metadata": {}
        }
      ],
      "id": "a26cf080-7a28-49f7-8eea-d7e054f89ede"
    },
    {
      "cell_type": "code",
      "source": "#Qustion_5:\nnp.random.rand(10)",
      "metadata": {
        "trusted": true
      },
      "execution_count": 51,
      "outputs": [
        {
          "execution_count": 51,
          "output_type": "execute_result",
          "data": {
            "text/plain": "array([0.48659783, 0.76608879, 0.76926025, 0.80785284, 0.13091529,\n       0.6636418 , 0.83704991, 0.78053101, 0.5380543 , 0.59650306])"
          },
          "metadata": {}
        }
      ],
      "id": "c0719ffa-8011-4cf7-a932-4d121eb6ffa2"
    },
    {
      "cell_type": "code",
      "source": "#Qustion_6:\n# numpay arry 5 equally spaced between 0 and 1\nimport numpy as np\n\narr3 = np.linspace(0, 1, 5)\n",
      "metadata": {
        "trusted": true
      },
      "execution_count": 60,
      "outputs": [],
      "id": "8423b802-b1b3-47a4-b3e6-8bf03b7841ac"
    },
    {
      "cell_type": "code",
      "source": "arr3",
      "metadata": {
        "trusted": true
      },
      "execution_count": 61,
      "outputs": [
        {
          "execution_count": 61,
          "output_type": "execute_result",
          "data": {
            "text/plain": "array([0.  , 0.25, 0.5 , 0.75, 1.  ])"
          },
          "metadata": {}
        }
      ],
      "id": "dbdf66e7-24cc-407f-ac30-501a9855d7d2"
    },
    {
      "cell_type": "code",
      "source": "#Qustion_7:\n# numpay arry 5 equally spaced between 0 and 10\nimport numpy as np\n\narr = np.linspace(0, 10, 5)\n",
      "metadata": {
        "trusted": true
      },
      "execution_count": 59,
      "outputs": [],
      "id": "d103acdb-b051-46b0-8912-3871648d88cf"
    },
    {
      "cell_type": "code",
      "source": "arr",
      "metadata": {
        "trusted": true
      },
      "execution_count": 53,
      "outputs": [
        {
          "execution_count": 53,
          "output_type": "execute_result",
          "data": {
            "text/plain": "array([ 0. ,  2.5,  5. ,  7.5, 10. ])"
          },
          "metadata": {}
        }
      ],
      "id": "7d5a2e38-bff8-4205-bf6a-463f3fe3d977"
    },
    {
      "cell_type": "code",
      "source": "#Qustion_8:\n# numpay arry 5 equally spaced between -1 and 1\nimport numpy as np\narr1 = np.linspace(-1, 1, 5)\n\n",
      "metadata": {
        "trusted": true
      },
      "execution_count": 55,
      "outputs": [],
      "id": "e00bca16-fa68-4a03-ac46-485d596ec9cd"
    },
    {
      "cell_type": "code",
      "source": "arr1",
      "metadata": {
        "trusted": true
      },
      "execution_count": 56,
      "outputs": [
        {
          "execution_count": 56,
          "output_type": "execute_result",
          "data": {
            "text/plain": "array([-1. , -0.5,  0. ,  0.5,  1. ])"
          },
          "metadata": {}
        }
      ],
      "id": "39ef55ad-c05b-401f-baf9-e5f693dcf544"
    },
    {
      "cell_type": "code",
      "source": "#Qustion_9:\n# numpy sine value of angles between 0 and 2 PI\n\nangles = np.linspace(0, 2*np.pi, 100)  # Adjust the number of points (100 in this case)\n\n# Calculate the sine values\nsine_values = np.sin(angles)\n",
      "metadata": {
        "trusted": true
      },
      "execution_count": 67,
      "outputs": [],
      "id": "76b6a87b-55e8-409b-8353-7a01a781d5bb"
    },
    {
      "cell_type": "code",
      "source": "sine_values",
      "metadata": {
        "trusted": true
      },
      "execution_count": 68,
      "outputs": [
        {
          "execution_count": 68,
          "output_type": "execute_result",
          "data": {
            "text/plain": "array([ 0.00000000e+00,  6.34239197e-02,  1.26592454e-01,  1.89251244e-01,\n        2.51147987e-01,  3.12033446e-01,  3.71662456e-01,  4.29794912e-01,\n        4.86196736e-01,  5.40640817e-01,  5.92907929e-01,  6.42787610e-01,\n        6.90079011e-01,  7.34591709e-01,  7.76146464e-01,  8.14575952e-01,\n        8.49725430e-01,  8.81453363e-01,  9.09631995e-01,  9.34147860e-01,\n        9.54902241e-01,  9.71811568e-01,  9.84807753e-01,  9.93838464e-01,\n        9.98867339e-01,  9.99874128e-01,  9.96854776e-01,  9.89821442e-01,\n        9.78802446e-01,  9.63842159e-01,  9.45000819e-01,  9.22354294e-01,\n        8.95993774e-01,  8.66025404e-01,  8.32569855e-01,  7.95761841e-01,\n        7.55749574e-01,  7.12694171e-01,  6.66769001e-01,  6.18158986e-01,\n        5.67059864e-01,  5.13677392e-01,  4.58226522e-01,  4.00930535e-01,\n        3.42020143e-01,  2.81732557e-01,  2.20310533e-01,  1.58001396e-01,\n        9.50560433e-02,  3.17279335e-02, -3.17279335e-02, -9.50560433e-02,\n       -1.58001396e-01, -2.20310533e-01, -2.81732557e-01, -3.42020143e-01,\n       -4.00930535e-01, -4.58226522e-01, -5.13677392e-01, -5.67059864e-01,\n       -6.18158986e-01, -6.66769001e-01, -7.12694171e-01, -7.55749574e-01,\n       -7.95761841e-01, -8.32569855e-01, -8.66025404e-01, -8.95993774e-01,\n       -9.22354294e-01, -9.45000819e-01, -9.63842159e-01, -9.78802446e-01,\n       -9.89821442e-01, -9.96854776e-01, -9.99874128e-01, -9.98867339e-01,\n       -9.93838464e-01, -9.84807753e-01, -9.71811568e-01, -9.54902241e-01,\n       -9.34147860e-01, -9.09631995e-01, -8.81453363e-01, -8.49725430e-01,\n       -8.14575952e-01, -7.76146464e-01, -7.34591709e-01, -6.90079011e-01,\n       -6.42787610e-01, -5.92907929e-01, -5.40640817e-01, -4.86196736e-01,\n       -4.29794912e-01, -3.71662456e-01, -3.12033446e-01, -2.51147987e-01,\n       -1.89251244e-01, -1.26592454e-01, -6.34239197e-02, -2.44929360e-16])"
          },
          "metadata": {}
        }
      ],
      "id": "7079b6f1-041c-433b-b53d-03c0bd288a45"
    },
    {
      "cell_type": "code",
      "source": "#Qustion_10:\n# numpy cosine value of angles between 0 and PI\nimport numpy as np\n\nangles = np.linspace(0, np.pi, 100)\ncosine_values = np.cos(angles)",
      "metadata": {
        "trusted": true
      },
      "execution_count": 69,
      "outputs": [],
      "id": "8ff23d88-eab2-4b6e-9878-9cb0368f7314"
    },
    {
      "cell_type": "code",
      "source": "cosine_values",
      "metadata": {
        "trusted": true
      },
      "execution_count": 70,
      "outputs": [
        {
          "execution_count": 70,
          "output_type": "execute_result",
          "data": {
            "text/plain": "array([ 1.        ,  0.99949654,  0.99798668,  0.99547192,  0.99195481,\n        0.98743889,  0.9819287 ,  0.97542979,  0.9679487 ,  0.95949297,\n        0.95007112,  0.93969262,  0.92836793,  0.91610846,  0.90292654,\n        0.88883545,  0.87384938,  0.85798341,  0.84125353,  0.82367658,\n        0.80527026,  0.78605309,  0.76604444,  0.74526445,  0.72373404,\n        0.70147489,  0.67850941,  0.65486073,  0.63055267,  0.60560969,\n        0.58005691,  0.55392006,  0.52722547,  0.5       ,  0.47227107,\n        0.44406661,  0.41541501,  0.38634513,  0.35688622,  0.32706796,\n        0.29692038,  0.26647381,  0.23575894,  0.20480667,  0.17364818,\n        0.14231484,  0.1108382 ,  0.07924996,  0.04758192,  0.01586596,\n       -0.01586596, -0.04758192, -0.07924996, -0.1108382 , -0.14231484,\n       -0.17364818, -0.20480667, -0.23575894, -0.26647381, -0.29692038,\n       -0.32706796, -0.35688622, -0.38634513, -0.41541501, -0.44406661,\n       -0.47227107, -0.5       , -0.52722547, -0.55392006, -0.58005691,\n       -0.60560969, -0.63055267, -0.65486073, -0.67850941, -0.70147489,\n       -0.72373404, -0.74526445, -0.76604444, -0.78605309, -0.80527026,\n       -0.82367658, -0.84125353, -0.85798341, -0.87384938, -0.88883545,\n       -0.90292654, -0.91610846, -0.92836793, -0.93969262, -0.95007112,\n       -0.95949297, -0.9679487 , -0.97542979, -0.9819287 , -0.98743889,\n       -0.99195481, -0.99547192, -0.99798668, -0.99949654, -1.        ])"
          },
          "metadata": {}
        }
      ],
      "id": "050aba30-3a09-46ff-90a1-8c493537336e"
    },
    {
      "cell_type": "code",
      "source": "# create 2*2 array and multibite by 2 \n\narray2 = np.array([[1, 2], [3, 4]])\n\n# Multiply the array by 2\narr = array2 * 2\n",
      "metadata": {
        "trusted": true
      },
      "execution_count": 75,
      "outputs": [],
      "id": "7a7319a4-c3df-4934-8a8b-25c1edd2c054"
    },
    {
      "cell_type": "code",
      "source": "arr",
      "metadata": {
        "trusted": true
      },
      "execution_count": 76,
      "outputs": [
        {
          "execution_count": 76,
          "output_type": "execute_result",
          "data": {
            "text/plain": "array([[2, 4],\n       [6, 8]])"
          },
          "metadata": {}
        }
      ],
      "id": "1897fdd5-a06a-4f49-ac51-c3e0e4769c1a"
    },
    {
      "cell_type": "code",
      "source": "# create 3*3 and add 5 in each element \n\narray3 = np.array([[1, 2,3], [4,5,6]])\n\n# add the array to 5\narr1 = array3 + 5",
      "metadata": {
        "trusted": true
      },
      "execution_count": 77,
      "outputs": [],
      "id": "c51ef033-12f4-4a9d-9a63-2f89d2350750"
    },
    {
      "cell_type": "code",
      "source": "arr1",
      "metadata": {
        "trusted": true
      },
      "execution_count": 78,
      "outputs": [
        {
          "execution_count": 78,
          "output_type": "execute_result",
          "data": {
            "text/plain": "array([[ 6,  7,  8],\n       [ 9, 10, 11]])"
          },
          "metadata": {}
        }
      ],
      "id": "4b981b83-ab10-4410-89bd-db5f090ce0dc"
    },
    {
      "cell_type": "code",
      "source": "# create 4 *4 and sub by 10\n\narray4 = np.array([[1, 2,3 ,4], [5,6,7,8]])\n\n# sub the array to 10\narr1 = array4 - 10",
      "metadata": {
        "trusted": true
      },
      "execution_count": 79,
      "outputs": [],
      "id": "6cb67500-24e8-48ff-82a7-10a8f1d8521b"
    },
    {
      "cell_type": "code",
      "source": "arr1",
      "metadata": {
        "trusted": true
      },
      "execution_count": 80,
      "outputs": [
        {
          "execution_count": 80,
          "output_type": "execute_result",
          "data": {
            "text/plain": "array([[-9, -8, -7, -6],\n       [-5, -4, -3, -2]])"
          },
          "metadata": {}
        }
      ],
      "id": "52e24860-e17f-401c-80fc-2260fc2c9f4a"
    },
    {
      "cell_type": "code",
      "source": "#create 5 * 5 div by 2\n\narray5 = np.array([[1, 2,3 ,4, 5], [6,7,8, 9 ,10]])\n\n# div the array to 2\narr1 = array5 / 2\n",
      "metadata": {
        "trusted": true
      },
      "execution_count": 81,
      "outputs": [],
      "id": "6835a079-efa2-47ea-a8d6-e68a34bec15f"
    },
    {
      "cell_type": "code",
      "source": "arr1",
      "metadata": {
        "trusted": true
      },
      "execution_count": 82,
      "outputs": [
        {
          "execution_count": 82,
          "output_type": "execute_result",
          "data": {
            "text/plain": "array([[0.5, 1. , 1.5, 2. , 2.5],\n       [3. , 3.5, 4. , 4.5, 5. ]])"
          },
          "metadata": {}
        }
      ],
      "id": "c2482427-9215-4c20-8eb9-58825626dc05"
    },
    {
      "cell_type": "code",
      "source": "# create 6 * 6 and sqr each elements \narray6 = np.array([[1, 2,3 ,4, 5,6], [7,8, 9 ,10,11,12]])\n\n# sqrt the array \narr1 = np.sqrt(array6)",
      "metadata": {
        "trusted": true
      },
      "execution_count": 83,
      "outputs": [],
      "id": "adeef1cd-5b26-46c3-9834-18e16a2ee9cb"
    },
    {
      "cell_type": "code",
      "source": "arr1",
      "metadata": {
        "trusted": true
      },
      "execution_count": 84,
      "outputs": [
        {
          "execution_count": 84,
          "output_type": "execute_result",
          "data": {
            "text/plain": "array([[1.        , 1.41421356, 1.73205081, 2.        , 2.23606798,\n        2.44948974],\n       [2.64575131, 2.82842712, 3.        , 3.16227766, 3.31662479,\n        3.46410162]])"
          },
          "metadata": {}
        }
      ],
      "id": "1bbce264-8b96-4e8f-b113-501a8b4174ec"
    },
    {
      "cell_type": "code",
      "source": "# create 2*2 and calculate np.matmul() function \n\narray7 = np.array([[1, 2],[3, 4]])\narray8 = np.array([[5, 6],[7, 8]])\narr1 = np.matmul(array7,array8)",
      "metadata": {
        "trusted": true
      },
      "execution_count": 88,
      "outputs": [],
      "id": "678febca-34bd-417b-a004-649c874ea515"
    },
    {
      "cell_type": "code",
      "source": "arr1",
      "metadata": {
        "trusted": true
      },
      "execution_count": 89,
      "outputs": [
        {
          "execution_count": 89,
          "output_type": "execute_result",
          "data": {
            "text/plain": "array([[19, 22],\n       [43, 50]])"
          },
          "metadata": {}
        }
      ],
      "id": "20b39d02-a154-4235-8dff-dd16f329c88e"
    },
    {
      "cell_type": "code",
      "source": "# create tow 3*3 np.dot()\narray7 = np.array([[1, 2,3],[4,5,6],[7,8,9]])\narray8 = np.array([[10,11,12],[13,14,15],[16,17,18]])\narr1 = np.dot(array7,array8)",
      "metadata": {
        "trusted": true
      },
      "execution_count": 91,
      "outputs": [],
      "id": "a557cd33-626e-420a-ad01-9326d8d169a2"
    },
    {
      "cell_type": "code",
      "source": "arr1",
      "metadata": {
        "trusted": true
      },
      "execution_count": 92,
      "outputs": [
        {
          "execution_count": 92,
          "output_type": "execute_result",
          "data": {
            "text/plain": "array([[ 84,  90,  96],\n       [201, 216, 231],\n       [318, 342, 366]])"
          },
          "metadata": {}
        }
      ],
      "id": "1664524d-cf66-4d67-b1fc-9cca3b1dcacf"
    },
    {
      "cell_type": "code",
      "source": "# create 2*3 and 3*2 and calculate np.matmul()\narray7 = np.array([[1, 2,5],[3, 4,6]])\narray8 = np.array([[10,11],[13,14],[16,17]])\narr1 = np.matmul(array7,array8)",
      "metadata": {
        "trusted": true
      },
      "execution_count": 93,
      "outputs": [],
      "id": "454b6494-1ba4-4db1-ace7-2d22e1e66b14"
    },
    {
      "cell_type": "code",
      "source": "arr1",
      "metadata": {
        "trusted": true
      },
      "execution_count": 94,
      "outputs": [
        {
          "execution_count": 94,
          "output_type": "execute_result",
          "data": {
            "text/plain": "array([[116, 124],\n       [178, 191]])"
          },
          "metadata": {}
        }
      ],
      "id": "9034edb9-f295-4ccb-a845-9ba9d23069ca"
    },
    {
      "cell_type": "code",
      "source": "# create 2*3 and 3*2 and calculate np.dot()\narray7 = np.array([[1, 2,5],[3, 4,6]])\narray8 = np.array([[10,11],[13,14],[16,17]])\narr1 = np.dot(array7,array8)",
      "metadata": {
        "trusted": true
      },
      "execution_count": 95,
      "outputs": [],
      "id": "cebd10e2-0855-4c8f-b2f4-875b29693096"
    },
    {
      "cell_type": "code",
      "source": "arr1",
      "metadata": {
        "trusted": true
      },
      "execution_count": 96,
      "outputs": [
        {
          "execution_count": 96,
          "output_type": "execute_result",
          "data": {
            "text/plain": "array([[116, 124],\n       [178, 191]])"
          },
          "metadata": {}
        }
      ],
      "id": "787f4c83-6cf0-4f50-9be1-3be2f04db8da"
    },
    {
      "cell_type": "code",
      "source": "# 1. Create a 1D NumPy array with the integers from 0 to 9. Extract the 3rd element from the array.\n\narr = np.arange(10)\n\nthird_element = arr[2]\n",
      "metadata": {
        "trusted": true
      },
      "execution_count": 97,
      "outputs": [],
      "id": "55e39e5d-ac2b-438b-93b7-54b9b7a7a5af"
    },
    {
      "cell_type": "code",
      "source": "third_element",
      "metadata": {
        "trusted": true
      },
      "execution_count": 98,
      "outputs": [
        {
          "execution_count": 98,
          "output_type": "execute_result",
          "data": {
            "text/plain": "2"
          },
          "metadata": {}
        }
      ],
      "id": "54cbc074-d4a7-4004-a54c-42aceefb8c0c"
    },
    {
      "cell_type": "code",
      "source": "#2. Create a 2D NumPy array with shape (3, 3) and fill it with random numbers. Extract the element at row 2, column 1.\n\nrandom_array = np.random.rand(3, 3)\n\nelement1_2 = random_array[1][0]\n",
      "metadata": {
        "trusted": true
      },
      "execution_count": 108,
      "outputs": [],
      "id": "cf050a59-2962-4792-8d2e-19669646823b"
    },
    {
      "cell_type": "code",
      "source": "random_array\n\nelement1_2",
      "metadata": {
        "trusted": true
      },
      "execution_count": 109,
      "outputs": [
        {
          "execution_count": 109,
          "output_type": "execute_result",
          "data": {
            "text/plain": "0.02834905389730691"
          },
          "metadata": {}
        }
      ],
      "id": "266790e3-1b61-4ca0-bd85-fff550a6f9f2"
    },
    {
      "cell_type": "code",
      "source": "# 3.Create a 2D NumPy array with shape (4, 4) and fill it with random numbers. Extract the subarrayconsisting of the first 2 rows and the last 2 columns.\n\nrandom_array = np.random.rand(4, 4)\n\nsub_array = random_array[:2, -2:]\n",
      "metadata": {
        "trusted": true
      },
      "execution_count": 102,
      "outputs": [],
      "id": "0e8df38f-0776-4643-aad9-4e255f1d5aeb"
    },
    {
      "cell_type": "code",
      "source": "random_array\nsub_array\n",
      "metadata": {
        "trusted": true
      },
      "execution_count": 103,
      "outputs": [
        {
          "execution_count": 103,
          "output_type": "execute_result",
          "data": {
            "text/plain": "array([[0.05719945, 0.85200722],\n       [0.9440782 , 0.56098344]])"
          },
          "metadata": {}
        }
      ],
      "id": "54a344f1-8a69-420b-b342-0ab12e2b3e5b"
    },
    {
      "cell_type": "code",
      "source": "#4.Create a 1D NumPy array with the integers from 0 to 9. Copy a slice of the array consisting of the first 3 elements.\n\noriginal_array = np.arange(10)\n\nslice_array = original_array[:3].copy()\n",
      "metadata": {
        "trusted": true
      },
      "execution_count": 111,
      "outputs": [],
      "id": "da8c54f6-58a6-4b61-8b4e-d5128396cdf7"
    },
    {
      "cell_type": "code",
      "source": "original_array\nslice_array",
      "metadata": {
        "trusted": true
      },
      "execution_count": 112,
      "outputs": [
        {
          "execution_count": 112,
          "output_type": "execute_result",
          "data": {
            "text/plain": "array([0, 1, 2])"
          },
          "metadata": {}
        }
      ],
      "id": "957d4f7f-430c-4506-9ab7-22b2d9b4e01b"
    },
    {
      "cell_type": "code",
      "source": "#5. Create a 2D NumPy array with shape (3, 3) and fill it with random numbers. Copy a slice of thearray consisting of the first 2 rows and the first 2 columns.\n\n\narray = np.random.rand(3, 3)\narray\nslice_array = array[:2, :2]\n",
      "metadata": {
        "trusted": true
      },
      "execution_count": 113,
      "outputs": [],
      "id": "135149df-b425-4973-9303-2df120c139d9"
    },
    {
      "cell_type": "code",
      "source": "slice_array",
      "metadata": {
        "trusted": true
      },
      "execution_count": 114,
      "outputs": [
        {
          "execution_count": 114,
          "output_type": "execute_result",
          "data": {
            "text/plain": "array([[0.91843273, 0.1632771 ],\n       [0.69733956, 0.01698354]])"
          },
          "metadata": {}
        }
      ],
      "id": "f96ad501-f0e6-41e2-814a-a949b04f4e24"
    },
    {
      "cell_type": "code",
      "source": "# 6. Create a 1D NumPy array with the integers from 0 to 9. Reshape the array into a 2D array withshape (3, 3).\n\n\narr_1d = np.arange(9)\n\narr_2d = arr_1d.reshape(3, 3)",
      "metadata": {
        "trusted": true
      },
      "execution_count": 122,
      "outputs": [],
      "id": "b3175267-913e-43c0-9810-6c53c21430dd"
    },
    {
      "cell_type": "code",
      "source": "arr_1d",
      "metadata": {
        "trusted": true
      },
      "execution_count": 123,
      "outputs": [
        {
          "execution_count": 123,
          "output_type": "execute_result",
          "data": {
            "text/plain": "array([0, 1, 2, 3, 4, 5, 6, 7, 8])"
          },
          "metadata": {}
        }
      ],
      "id": "a8e63f20-3abd-4e80-8181-e43c219fc920"
    },
    {
      "cell_type": "code",
      "source": "arr_2d",
      "metadata": {
        "trusted": true
      },
      "execution_count": 124,
      "outputs": [
        {
          "execution_count": 124,
          "output_type": "execute_result",
          "data": {
            "text/plain": "array([[0, 1, 2],\n       [3, 4, 5],\n       [6, 7, 8]])"
          },
          "metadata": {}
        }
      ],
      "id": "bad3ec84-6761-4869-8e9f-f6783e99f0f5"
    },
    {
      "cell_type": "code",
      "source": "# 7. Create a 2D NumPy array with shape (4, 4) and fill it with random numbers. Reshape the array into a 1D array.\n\nrandom_2d = np.random.rand(4, 4)\n",
      "metadata": {
        "trusted": true
      },
      "execution_count": 126,
      "outputs": [],
      "id": "852cc244-81ee-4ef1-8c05-354cf44f12f9"
    },
    {
      "cell_type": "code",
      "source": "random_2d",
      "metadata": {
        "trusted": true
      },
      "execution_count": 127,
      "outputs": [
        {
          "execution_count": 127,
          "output_type": "execute_result",
          "data": {
            "text/plain": "array([[0.18367571, 0.27652273, 0.47833594, 0.32396468],\n       [0.35815777, 0.14754626, 0.51623863, 0.82805612],\n       [0.13801651, 0.79418356, 0.96112051, 0.10840496],\n       [0.95717869, 0.83923368, 0.88191707, 0.54676711]])"
          },
          "metadata": {}
        }
      ],
      "id": "6289859e-4da8-437e-a22b-e7057e9704b3"
    },
    {
      "cell_type": "code",
      "source": "reshaped_array = random_2d.flatten()\nreshaped_array",
      "metadata": {
        "trusted": true
      },
      "execution_count": 128,
      "outputs": [
        {
          "execution_count": 128,
          "output_type": "execute_result",
          "data": {
            "text/plain": "array([0.18367571, 0.27652273, 0.47833594, 0.32396468, 0.35815777,\n       0.14754626, 0.51623863, 0.82805612, 0.13801651, 0.79418356,\n       0.96112051, 0.10840496, 0.95717869, 0.83923368, 0.88191707,\n       0.54676711])"
          },
          "metadata": {}
        }
      ],
      "id": "95cd6fb7-7b77-40df-8be4-1fe3d56815e3"
    },
    {
      "cell_type": "code",
      "source": "# 8. Create two 1D NumPy arrays with the integers from 0 to 4. Concatenate the two arrays into asingle 1D array.\n\narray1 = np.array([0, 1, 2, 3, 4])\narray2 = np.array([0, 1, 2, 3, 4])\nresult_array = np.concatenate((array1, array2))",
      "metadata": {
        "trusted": true
      },
      "execution_count": 129,
      "outputs": [],
      "id": "af289c0b-2805-42e2-8f97-5a78eb4ef912"
    },
    {
      "cell_type": "code",
      "source": "array1\narray2\nresult_array",
      "metadata": {
        "trusted": true
      },
      "execution_count": 130,
      "outputs": [
        {
          "execution_count": 130,
          "output_type": "execute_result",
          "data": {
            "text/plain": "array([0, 1, 2, 3, 4, 0, 1, 2, 3, 4])"
          },
          "metadata": {}
        }
      ],
      "id": "bd847d76-6d99-4529-921e-15af37f3555f"
    },
    {
      "cell_type": "code",
      "source": "# 9. Create two 2D NumPy arrays with shapes (2, 2) and (2, 3). Concatenate the two arrayshorizontally\narray1 = np.array([[1, 2],\n                   [3, 4]])\n\narray2 = np.array([[5, 6, 7],\n                   [8, 9, 10]])\nconcatenated_array = np.hstack((array1, array2))",
      "metadata": {
        "trusted": true
      },
      "execution_count": 131,
      "outputs": [],
      "id": "883e9d04-793d-4ba5-a1f9-c7a62e38772f"
    },
    {
      "cell_type": "code",
      "source": "array1\narray2\nconcatenated_array",
      "metadata": {
        "trusted": true
      },
      "execution_count": 132,
      "outputs": [
        {
          "execution_count": 132,
          "output_type": "execute_result",
          "data": {
            "text/plain": "array([[ 1,  2,  5,  6,  7],\n       [ 3,  4,  8,  9, 10]])"
          },
          "metadata": {}
        }
      ],
      "id": "3ce1a0d3-9178-4f1e-ba57-77789f5a400f"
    },
    {
      "cell_type": "code",
      "source": "# 10.Create two 2D NumPy arrays with shapes (2, 2) and (3, 2). Concatenate the two arrays vertically.\n\n\n",
      "metadata": {
        "trusted": true
      },
      "execution_count": 147,
      "outputs": [],
      "id": "b2dddee4-2709-48ed-b098-180524cf16b1"
    },
    {
      "cell_type": "code",
      "source": "array = np.random.rand(5, 5)\narray\n",
      "metadata": {
        "trusted": true
      },
      "execution_count": 148,
      "outputs": [
        {
          "execution_count": 148,
          "output_type": "execute_result",
          "data": {
            "text/plain": "array([[0.45891977, 0.52440436, 0.26840326, 0.84679207, 0.60853488],\n       [0.49861142, 0.88119274, 0.36436357, 0.69414648, 0.97562679],\n       [0.14633553, 0.86457203, 0.06306195, 0.55225585, 0.36823939],\n       [0.5586207 , 0.455567  , 0.20705491, 0.13193747, 0.14841875],\n       [0.86068361, 0.23911354, 0.25928724, 0.9319955 , 0.10455528]])"
          },
          "metadata": {}
        }
      ],
      "id": "c4ac3b56-ddae-4a6e-91e8-b2a590f14c56"
    },
    {
      "cell_type": "code",
      "source": "2+1.5*array",
      "metadata": {
        "trusted": true
      },
      "execution_count": 149,
      "outputs": [
        {
          "execution_count": 149,
          "output_type": "execute_result",
          "data": {
            "text/plain": "array([[2.68837965, 2.78660654, 2.40260489, 3.27018811, 2.91280232],\n       [2.74791714, 3.32178912, 2.54654536, 3.04121972, 3.46344018],\n       [2.21950329, 3.29685805, 2.09459292, 2.82838377, 2.55235908],\n       [2.83793105, 2.6833505 , 2.31058236, 2.1979062 , 2.22262812],\n       [3.29102541, 2.3586703 , 2.38893086, 3.39799324, 2.15683292]])"
          },
          "metadata": {}
        }
      ],
      "id": "4e1ad21c-5d8f-4761-827a-53af3eb34384"
    },
    {
      "cell_type": "code",
      "source": "A=np.array([-2,5,4,-8,0])\nprint(np.sort(A))\nprint(- np.sort(A))\nprint(np.flip(np.sort(A)))",
      "metadata": {
        "trusted": true
      },
      "execution_count": 150,
      "outputs": [
        {
          "name": "stdout",
          "text": "[-8 -2  0  4  5]\n[ 8  2  0 -4 -5]\n[ 5  4  0 -2 -8]\n",
          "output_type": "stream"
        }
      ],
      "id": "bc49e38e-748b-4992-8ce1-48c106a8f011"
    },
    {
      "cell_type": "code",
      "source": "#Lets learn about unique\ncountries = np.array(['France', 'Germany', 'USA','Russia','USA','Mexico','Germany'])\nnp.unique(countries)\n",
      "metadata": {
        "trusted": true
      },
      "execution_count": 153,
      "outputs": [
        {
          "execution_count": 153,
          "output_type": "execute_result",
          "data": {
            "text/plain": "array(['France', 'Germany', 'Mexico', 'Russia', 'USA'], dtype='<U7')"
          },
          "metadata": {}
        }
      ],
      "id": "0b1c9d62-e315-452c-ab7c-bfcbcf21a606"
    },
    {
      "cell_type": "code",
      "source": "#Test for membership\n# in1d test values in one array\nnp.in1d(['France','USA','Sweden'],countries)",
      "metadata": {
        "trusted": true
      },
      "execution_count": 154,
      "outputs": [
        {
          "execution_count": 154,
          "output_type": "execute_result",
          "data": {
            "text/plain": "array([ True,  True, False])"
          },
          "metadata": {}
        }
      ],
      "id": "52d93150-43f2-4ad8-92bf-7e9db6c4ee57"
    },
    {
      "cell_type": "code",
      "source": "",
      "metadata": {},
      "execution_count": null,
      "outputs": [],
      "id": "6c9572aa-df4e-4b5e-8159-cbb2ef20ce3c"
    }
  ]
}