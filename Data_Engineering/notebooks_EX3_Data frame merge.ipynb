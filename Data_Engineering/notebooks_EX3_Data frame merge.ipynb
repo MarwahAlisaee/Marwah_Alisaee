{
  "metadata": {
    "language_info": {
      "codemirror_mode": {
        "name": "python",
        "version": 3
      },
      "file_extension": ".py",
      "mimetype": "text/x-python",
      "name": "python",
      "nbconvert_exporter": "python",
      "pygments_lexer": "ipython3",
      "version": "3.8"
    },
    "kernelspec": {
      "name": "python",
      "display_name": "Python (Pyodide)",
      "language": "python"
    }
  },
  "nbformat_minor": 4,
  "nbformat": 4,
  "cells": [
    {
      "cell_type": "markdown",
      "source": "## (Data frame merge)",
      "metadata": {}
    },
    {
      "cell_type": "markdown",
      "source": "### 1. Create two data frames df1 and df2 as follows:\n### df1 = pd.DataFrame({'A': [1, 2, 3, 4], 'B': ['a', 'b', 'c', 'd']})\n### df2 = pd.DataFrame({'A': [1, 2, 5, 6], 'C': [10, 20, 30, 40]})\n",
      "metadata": {}
    },
    {
      "cell_type": "code",
      "source": "import pandas as pd\ndf1 = pd.DataFrame({'A': [1, 2, 3, 4], 'B': ['a', 'b', 'c', 'd']})\ndf2 = pd.DataFrame({'A': [1, 2, 5, 6], 'C': [10, 20, 30, 40]})\n",
      "metadata": {
        "trusted": true
      },
      "execution_count": 4,
      "outputs": []
    },
    {
      "cell_type": "markdown",
      "source": "### 2. Merge df1 and df2 using the default merge function to get a new data frame containing all the\n### rows from both data frames where the values of column 'A' match.\n",
      "metadata": {}
    },
    {
      "cell_type": "code",
      "source": "merge_inner = pd.merge(df1, df2, on='A')\nprint(merge_inner)\n",
      "metadata": {
        "trusted": true
      },
      "execution_count": 5,
      "outputs": [
        {
          "name": "stdout",
          "text": "   A  B   C\n0  1  a  10\n1  2  b  20\n",
          "output_type": "stream"
        }
      ]
    },
    {
      "cell_type": "markdown",
      "source": "### 3. Merge df1 and df2 using the merge function with the argument how='inner' to get a new data\n### frame containing only the rows where the values of column 'A' match in both data frames.\n",
      "metadata": {}
    },
    {
      "cell_type": "code",
      "source": "merge_e = pd.merge(df1, df2, on='A', how='inner')\nprint(merge_e)\n",
      "metadata": {
        "trusted": true
      },
      "execution_count": 6,
      "outputs": [
        {
          "name": "stdout",
          "text": "   A  B   C\n0  1  a  10\n1  2  b  20\n",
          "output_type": "stream"
        }
      ]
    },
    {
      "cell_type": "markdown",
      "source": "### 4. Merge df1 and df2 using the merge function with the argument how='outer' to get a new data\n### frame containing all the rows from both data frames and filling the missing values with NaN.\n",
      "metadata": {}
    },
    {
      "cell_type": "code",
      "source": "merge_outer = pd.merge(df1, df2, on='A', how='outer')\nprint(merge_outer)\n\n",
      "metadata": {
        "trusted": true
      },
      "execution_count": 7,
      "outputs": [
        {
          "name": "stdout",
          "text": "   A    B     C\n0  1    a  10.0\n1  2    b  20.0\n2  3    c   NaN\n3  4    d   NaN\n4  5  NaN  30.0\n5  6  NaN  40.0\n",
          "output_type": "stream"
        }
      ]
    },
    {
      "cell_type": "markdown",
      "source": "### 5. Merge df1 and df2 using the merge function with the argument how='left' to get a new data\n### frame containing all the rows from df1 and the matching rows from df2.\n",
      "metadata": {}
    },
    {
      "cell_type": "code",
      "source": "merged_left = pd.merge(df1, df2, on='A', how='left')\nprint(merged_left)\n",
      "metadata": {
        "trusted": true
      },
      "execution_count": 8,
      "outputs": [
        {
          "name": "stdout",
          "text": "   A  B     C\n0  1  a  10.0\n1  2  b  20.0\n2  3  c   NaN\n3  4  d   NaN\n",
          "output_type": "stream"
        }
      ]
    },
    {
      "cell_type": "markdown",
      "source": "### 6. Merge df1 and df2 using the merge function with the argument how='right' to get a new data\n### frame containing all the rows from df2 and the matching rows from df1.",
      "metadata": {}
    },
    {
      "cell_type": "code",
      "source": "merged_right = pd.merge(df1, df2, on='A', how='right')\nprint(merged_right)",
      "metadata": {
        "trusted": true
      },
      "execution_count": 9,
      "outputs": [
        {
          "name": "stdout",
          "text": "   A    B   C\n0  1    a  10\n1  2    b  20\n2  5  NaN  30\n3  6  NaN  40\n",
          "output_type": "stream"
        }
      ]
    }
  ]
}