{
  "metadata": {
    "language_info": {
      "codemirror_mode": {
        "name": "python",
        "version": 3
      },
      "file_extension": ".py",
      "mimetype": "text/x-python",
      "name": "python",
      "nbconvert_exporter": "python",
      "pygments_lexer": "ipython3",
      "version": "3.8"
    },
    "kernelspec": {
      "name": "python",
      "display_name": "Python (Pyodide)",
      "language": "python"
    }
  },
  "nbformat_minor": 4,
  "nbformat": 4,
  "cells": [
    {
      "cell_type": "markdown",
      "source": "## Exercise for Series reindexing:\n",
      "metadata": {}
    },
    {
      "cell_type": "code",
      "source": "#1. Create a Series with the following data: data = [10, 20, 30, 40, 50]\nimport pandas as pd\n\ndata = [10, 20, 30, 40, 50]\nseries = pd.Series(data)\nseries",
      "metadata": {
        "trusted": true
      },
      "execution_count": 22,
      "outputs": [
        {
          "execution_count": 22,
          "output_type": "execute_result",
          "data": {
            "text/plain": "0    10\n1    20\n2    30\n3    40\n4    50\ndtype: int64"
          },
          "metadata": {}
        }
      ]
    },
    {
      "cell_type": "code",
      "source": "#2. Assign the following index labels to the Series: index = ['a', 'b', 'c', 'd', 'e']\n\nindex = ['a', 'b', 'c', 'd', 'e']\nseries.index = index\nseries\n",
      "metadata": {
        "trusted": true
      },
      "execution_count": 23,
      "outputs": [
        {
          "execution_count": 23,
          "output_type": "execute_result",
          "data": {
            "text/plain": "a    10\nb    20\nc    30\nd    40\ne    50\ndtype: int64"
          },
          "metadata": {}
        }
      ]
    },
    {
      "cell_type": "code",
      "source": "#3. Get the index of the Series using the index attribute.\n\nc = series.index\nprint(c)\n",
      "metadata": {
        "trusted": true
      },
      "execution_count": 24,
      "outputs": [
        {
          "name": "stdout",
          "text": "Index(['a', 'b', 'c', 'd', 'e'], dtype='object')\n",
          "output_type": "stream"
        }
      ]
    },
    {
      "cell_type": "code",
      "source": "#4. Create a new index for the Series using the following labels: new_index = ['a', 'b', 'c', 'd', 'e', 'f','g']\n\nn = ['a', 'b', 'c', 'd', 'e', 'f', 'g']\nn\n",
      "metadata": {
        "trusted": true
      },
      "execution_count": 25,
      "outputs": [
        {
          "execution_count": 25,
          "output_type": "execute_result",
          "data": {
            "text/plain": "['a', 'b', 'c', 'd', 'e', 'f', 'g']"
          },
          "metadata": {}
        }
      ]
    },
    {
      "cell_type": "code",
      "source": "#5. Call the reindex method on the Series with the new index and observe the output.\n\nr = series.reindex(n)\nprint(\"Series after reindexing:\", r)\n",
      "metadata": {
        "trusted": true
      },
      "execution_count": 26,
      "outputs": [
        {
          "name": "stdout",
          "text": "Series after reindexing: a    10.0\nb    20.0\nc    30.0\nd    40.0\ne    50.0\nf     NaN\ng     NaN\ndtype: float64\n",
          "output_type": "stream"
        }
      ]
    },
    {
      "cell_type": "code",
      "source": "#6. Fill in values for the new indexes using a value of your choice.\n\nr = r.fillna(0)\nprint(r)\n",
      "metadata": {
        "trusted": true
      },
      "execution_count": 27,
      "outputs": [
        {
          "name": "stdout",
          "text": "a    10.0\nb    20.0\nc    30.0\nd    40.0\ne    50.0\nf     0.0\ng     0.0\ndtype: float64\n",
          "output_type": "stream"
        }
      ]
    },
    {
      "cell_type": "code",
      "source": "#7. Use the ffill method to fill the new indexes with the previous values in the Series.\n\na = r.ffill()\nprint(\"Series after forward filling:\", a)",
      "metadata": {
        "trusted": true
      },
      "execution_count": 28,
      "outputs": [
        {
          "name": "stdout",
          "text": "Series after forward filling: a    10.0\nb    20.0\nc    30.0\nd    40.0\ne    50.0\nf     0.0\ng     0.0\ndtype: float64\n",
          "output_type": "stream"
        }
      ]
    },
    {
      "cell_type": "markdown",
      "source": "## Exercise for DataFrame reindexing:",
      "metadata": {}
    },
    {
      "cell_type": "code",
      "source": "#Create a DataFrame with the following random values:\nimport pandas as pd\nimport numpy as np\nnp.random.seed(123)\ndata = {'A': np.random.randint(1, 10, 5), 'B': np.random.randint(1, 10, 5)}\ndf = pd.DataFrame(data)\n",
      "metadata": {
        "trusted": true
      },
      "execution_count": 31,
      "outputs": []
    },
    {
      "cell_type": "code",
      "source": "#1. Get the current index and columns of the DataFrame using the index and columns attributes.\nimport pandas as pd\nimport numpy as np\n\nnp.random.seed(123)\ndata = {'A': np.random.randint(1, 10, 5), 'B': np.random.randint(1, 10, 5)}\ndf = pd.DataFrame(data)\nprint(\"DataFrame:\")\nprint(df)\n",
      "metadata": {
        "trusted": true
      },
      "execution_count": 32,
      "outputs": [
        {
          "name": "stdout",
          "text": "DataFrame:\n   A  B\n0  3  7\n1  3  2\n2  7  1\n3  2  2\n4  4  1\n",
          "output_type": "stream"
        }
      ]
    },
    {
      "cell_type": "code",
      "source": "#2. Create a new index for the DataFrame using the following labels: new_index = ['a', 'b', 'c', 'd', 'e']\nnew_index = ['a', 'b', 'c', 'd', 'e']\n",
      "metadata": {
        "trusted": true
      },
      "execution_count": 33,
      "outputs": []
    },
    {
      "cell_type": "code",
      "source": "#3. Call the reindex method on the DataFrame with the new index and observe the output.\ndf_reindexed = df.reindex(new_index)\nprint(\"\\nDataFrame after reindexing:\")\nprint(df_reindexed)\n",
      "metadata": {
        "trusted": true
      },
      "execution_count": 34,
      "outputs": [
        {
          "name": "stdout",
          "text": "\nDataFrame after reindexing:\n    A   B\na NaN NaN\nb NaN NaN\nc NaN NaN\nd NaN NaN\ne NaN NaN\n",
          "output_type": "stream"
        }
      ]
    },
    {
      "cell_type": "code",
      "source": "#4. Fill in values for the new indexes using a value of your choice.\n# Let's fill the new indexes with a value of 0\ndf_reindexed_filled = df_reindexed.fillna(0)\nprint(\"\\nDataFrame after filling new indexes:\")\nprint(df_reindexed_filled)\n",
      "metadata": {
        "trusted": true
      },
      "execution_count": 35,
      "outputs": [
        {
          "name": "stdout",
          "text": "\nDataFrame after filling new indexes:\n     A    B\na  0.0  0.0\nb  0.0  0.0\nc  0.0  0.0\nd  0.0  0.0\ne  0.0  0.0\n",
          "output_type": "stream"
        }
      ]
    },
    {
      "cell_type": "code",
      "source": "#5. Use the ffill method to fill the new indexes with the previous values in the DataFrame's columns.\ndf_reindexed_ffill = df_reindexed.ffill()\nprint(\"\\nDataFrame after forward filling (ffill) new indexes:\")\nprint(df_reindexed_ffill)\n",
      "metadata": {
        "trusted": true
      },
      "execution_count": 36,
      "outputs": [
        {
          "name": "stdout",
          "text": "\nDataFrame after forward filling (ffill) new indexes:\n    A   B\na NaN NaN\nb NaN NaN\nc NaN NaN\nd NaN NaN\ne NaN NaN\n",
          "output_type": "stream"
        }
      ]
    },
    {
      "cell_type": "code",
      "source": "",
      "metadata": {},
      "execution_count": null,
      "outputs": []
    }
  ]
}