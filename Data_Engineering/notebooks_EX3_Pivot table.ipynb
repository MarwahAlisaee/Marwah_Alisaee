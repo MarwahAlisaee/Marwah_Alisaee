{
  "metadata": {
    "language_info": {
      "codemirror_mode": {
        "name": "python",
        "version": 3
      },
      "file_extension": ".py",
      "mimetype": "text/x-python",
      "name": "python",
      "nbconvert_exporter": "python",
      "pygments_lexer": "ipython3",
      "version": "3.8"
    },
    "kernelspec": {
      "name": "python",
      "display_name": "Python (Pyodide)",
      "language": "python"
    }
  },
  "nbformat_minor": 4,
  "nbformat": 4,
  "cells": [
    {
      "cell_type": "markdown",
      "source": "## (Pivot table)",
      "metadata": {}
    },
    {
      "cell_type": "markdown",
      "source": "### • Read the following table from excel file",
      "metadata": {}
    },
    {
      "cell_type": "code",
      "source": "import pandas as pd\ndf = pd.read_csv('Pivot.csv')\ndf",
      "metadata": {
        "trusted": true
      },
      "execution_count": 6,
      "outputs": [
        {
          "execution_count": 6,
          "output_type": "execute_result",
          "data": {
            "text/plain": "   Region Product Month  Sales\n0    East       A   Jan    100\n1    East       A   Jan    100\n2    East       A   Feb    150\n3    East       B   Jan    300\n4    East       B   Feb    200\n5    West       A   Jan    150\n6    West       A   Feb    225\n7    West       B   Jan    200\n8    West       B   Feb    250\n9   North       A   Jan    175\n10  North       A   Feb    255\n11  North       B   Jan    150",
            "text/html": "<div>\n<style scoped>\n    .dataframe tbody tr th:only-of-type {\n        vertical-align: middle;\n    }\n\n    .dataframe tbody tr th {\n        vertical-align: top;\n    }\n\n    .dataframe thead th {\n        text-align: right;\n    }\n</style>\n<table border=\"1\" class=\"dataframe\">\n  <thead>\n    <tr style=\"text-align: right;\">\n      <th></th>\n      <th>Region</th>\n      <th>Product</th>\n      <th>Month</th>\n      <th>Sales</th>\n    </tr>\n  </thead>\n  <tbody>\n    <tr>\n      <th>0</th>\n      <td>East</td>\n      <td>A</td>\n      <td>Jan</td>\n      <td>100</td>\n    </tr>\n    <tr>\n      <th>1</th>\n      <td>East</td>\n      <td>A</td>\n      <td>Jan</td>\n      <td>100</td>\n    </tr>\n    <tr>\n      <th>2</th>\n      <td>East</td>\n      <td>A</td>\n      <td>Feb</td>\n      <td>150</td>\n    </tr>\n    <tr>\n      <th>3</th>\n      <td>East</td>\n      <td>B</td>\n      <td>Jan</td>\n      <td>300</td>\n    </tr>\n    <tr>\n      <th>4</th>\n      <td>East</td>\n      <td>B</td>\n      <td>Feb</td>\n      <td>200</td>\n    </tr>\n    <tr>\n      <th>5</th>\n      <td>West</td>\n      <td>A</td>\n      <td>Jan</td>\n      <td>150</td>\n    </tr>\n    <tr>\n      <th>6</th>\n      <td>West</td>\n      <td>A</td>\n      <td>Feb</td>\n      <td>225</td>\n    </tr>\n    <tr>\n      <th>7</th>\n      <td>West</td>\n      <td>B</td>\n      <td>Jan</td>\n      <td>200</td>\n    </tr>\n    <tr>\n      <th>8</th>\n      <td>West</td>\n      <td>B</td>\n      <td>Feb</td>\n      <td>250</td>\n    </tr>\n    <tr>\n      <th>9</th>\n      <td>North</td>\n      <td>A</td>\n      <td>Jan</td>\n      <td>175</td>\n    </tr>\n    <tr>\n      <th>10</th>\n      <td>North</td>\n      <td>A</td>\n      <td>Feb</td>\n      <td>255</td>\n    </tr>\n    <tr>\n      <th>11</th>\n      <td>North</td>\n      <td>B</td>\n      <td>Jan</td>\n      <td>150</td>\n    </tr>\n  </tbody>\n</table>\n</div>"
          },
          "metadata": {}
        }
      ]
    },
    {
      "cell_type": "markdown",
      "source": "### 1. Create a pivot table that shows the total sales by region and product.\n",
      "metadata": {}
    },
    {
      "cell_type": "code",
      "source": "pivot_table = df.pivot_table(index=['Region', 'Product'], values='Sales', aggfunc='sum')\nprint(pivot_table)",
      "metadata": {
        "trusted": true
      },
      "execution_count": 8,
      "outputs": [
        {
          "name": "stdout",
          "text": "                Sales\nRegion Product       \nEast   A          350\n       B          500\nNorth  A          430\n       B          150\nWest   A          375\n       B          450\n",
          "output_type": "stream"
        }
      ]
    },
    {
      "cell_type": "markdown",
      "source": "### 2. Create a pivot table that shows the average sales by region and product.\n",
      "metadata": {}
    },
    {
      "cell_type": "code",
      "source": "pivot_table = df.pivot_table(index=['Region', 'Product'], values='Sales', aggfunc='mean')\nprint(pivot_table)",
      "metadata": {
        "trusted": true
      },
      "execution_count": 9,
      "outputs": [
        {
          "name": "stdout",
          "text": "                     Sales\nRegion Product            \nEast   A        116.666667\n       B        250.000000\nNorth  A        215.000000\n       B        150.000000\nWest   A        187.500000\n       B        225.000000\n",
          "output_type": "stream"
        }
      ]
    },
    {
      "cell_type": "markdown",
      "source": "### 3. Create a pivot table that shows the maximum sales by region and product.\n",
      "metadata": {}
    },
    {
      "cell_type": "code",
      "source": "pivot_table = df.pivot_table(index=['Region', 'Product'], values='Sales', aggfunc='max')\nprint(pivot_table)",
      "metadata": {
        "trusted": true
      },
      "execution_count": 10,
      "outputs": [
        {
          "name": "stdout",
          "text": "                Sales\nRegion Product       \nEast   A          150\n       B          300\nNorth  A          255\n       B          150\nWest   A          225\n       B          250\n",
          "output_type": "stream"
        }
      ]
    },
    {
      "cell_type": "markdown",
      "source": "### 4. Create a pivot table that shows the total sales by month and region.\n",
      "metadata": {}
    },
    {
      "cell_type": "code",
      "source": "pivot_table = df.pivot_table(index='Month', columns='Region', values='Sales', aggfunc='sum')\nprint(pivot_table)",
      "metadata": {
        "trusted": true
      },
      "execution_count": 11,
      "outputs": [
        {
          "name": "stdout",
          "text": "Region  East  North  West\nMonth                    \nFeb      350    255   475\nJan      500    325   350\n",
          "output_type": "stream"
        }
      ]
    },
    {
      "cell_type": "markdown",
      "source": "### 5. Create a pivot table that shows the total sales by month and product.\n",
      "metadata": {}
    },
    {
      "cell_type": "code",
      "source": "pivot_table = df.pivot_table(index='Month', columns='Product', values='Sales', aggfunc='sum')\nprint(pivot_table)",
      "metadata": {
        "trusted": true
      },
      "execution_count": 12,
      "outputs": [
        {
          "name": "stdout",
          "text": "Product    A    B\nMonth            \nFeb      630  450\nJan      525  650\n",
          "output_type": "stream"
        }
      ]
    },
    {
      "cell_type": "markdown",
      "source": "### 6. Create a frequency table that shows the number of sales by product.\n",
      "metadata": {}
    },
    {
      "cell_type": "code",
      "source": "frequency_table = df['Product'].value_counts()\nprint(frequency_table)",
      "metadata": {
        "trusted": true
      },
      "execution_count": 13,
      "outputs": [
        {
          "name": "stdout",
          "text": "A    7\nB    5\nName: Product, dtype: int64\n",
          "output_type": "stream"
        }
      ]
    },
    {
      "cell_type": "markdown",
      "source": "### 7. Create a frequency table that shows the number of sales by region.\n",
      "metadata": {}
    },
    {
      "cell_type": "code",
      "source": "frequency_table = df['Region'].value_counts()\nprint(frequency_table)",
      "metadata": {
        "trusted": true
      },
      "execution_count": 14,
      "outputs": [
        {
          "name": "stdout",
          "text": "East     5\nWest     4\nNorth    3\nName: Region, dtype: int64\n",
          "output_type": "stream"
        }
      ]
    },
    {
      "cell_type": "markdown",
      "source": "### 8. Create a frequency table that shows the number of sales by month.\n",
      "metadata": {}
    },
    {
      "cell_type": "code",
      "source": "frequency_table = df['Month'].value_counts()\nprint(frequency_table)",
      "metadata": {
        "trusted": true
      },
      "execution_count": 15,
      "outputs": [
        {
          "name": "stdout",
          "text": "Jan    7\nFeb    5\nName: Month, dtype: int64\n",
          "output_type": "stream"
        }
      ]
    },
    {
      "cell_type": "markdown",
      "source": "### 9. Create a frequency table that shows the number of region and product.\n",
      "metadata": {}
    },
    {
      "cell_type": "code",
      "source": "frequency_table = df.groupby(['Region', 'Product']).size()\nprint(frequency_table)",
      "metadata": {},
      "execution_count": null,
      "outputs": []
    }
  ]
}